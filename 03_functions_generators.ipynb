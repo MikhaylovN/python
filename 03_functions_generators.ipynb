{
  "nbformat": 4,
  "nbformat_minor": 0,
  "metadata": {
    "celltoolbar": "Slideshow",
    "kernelspec": {
      "display_name": "Python 3",
      "language": "python",
      "name": "python3"
    },
    "language_info": {
      "codemirror_mode": {
        "name": "ipython",
        "version": 3
      },
      "file_extension": ".py",
      "mimetype": "text/x-python",
      "name": "python",
      "nbconvert_exporter": "python",
      "pygments_lexer": "ipython3",
      "version": "3.8.5"
    },
    "colab": {
      "provenance": [],
      "collapsed_sections": []
    }
  },
  "cells": [
    {
      "cell_type": "markdown",
      "source": [
        "# Python и инструменты машинного обучения\n",
        "\n",
        "\n",
        "<img src=\"https://www.python.org/static/community_logos/python-logo-master-v3-TM.png\" align=\"right\" style=\"height: 200px;\"/>"
      ],
      "metadata": {
        "id": "2pS8HUFlGHXm"
      }
    },
    {
      "cell_type": "markdown",
      "metadata": {
        "id": "m0fMdvd6HlhA"
      },
      "source": [
        "# Занятие 3. Функции, генераторы, итераторы\n"
      ]
    },
    {
      "cell_type": "markdown",
      "source": [
        "# Функции в Python"
      ],
      "metadata": {
        "id": "zBIi1D8xP1qW"
      }
    },
    {
      "cell_type": "markdown",
      "source": [
        "## Что такое функция?"
      ],
      "metadata": {
        "id": "xrX85HTJGS9g"
      }
    },
    {
      "cell_type": "markdown",
      "source": [
        "**Функция (подпрограмма)** — фрагмент программного кода, к которому можно обратиться из другого места программы.\n",
        "\n",
        "Функции позволяют группировать и обобщать программный код, который может позднее использоваться произвольное число раз. Они являются законченными подпрограммами, поэтому у нее есть свои \"ввод\" и \"вывод\" — параметры (аргументы) и возвращаемое значение."
      ],
      "metadata": {
        "id": "7qN9emF6GVBb"
      }
    },
    {
      "cell_type": "markdown",
      "source": [
        "## Основной синтаксис"
      ],
      "metadata": {
        "id": "G0hozGMFGWVW"
      }
    },
    {
      "cell_type": "markdown",
      "source": [
        "Объявление функции в Python выглядит следующим образом:\n",
        "\n",
        "```python\n",
        "def function_name(args):\n",
        "    something()\n",
        "    return something_else\n",
        "```\n",
        "\n",
        "Разберем отдельные элементы:\n",
        "- `def` - ключевое слово, показывает, что начинается объявление (definition) функции\n",
        "- `function_name` - имя функции, по которому мы сможем ее вызывать\n",
        "- `args` - аргументы, которые принимает наша функция (эти переменные доступны только внутри функции!). В обычном Python не указываются типы принимаемых аргументов (по-умолчанию принимаются все).\n",
        "- `something()` - произвольные команды, выполняемые при вызове нашей функции\n",
        "- `return` - ключевое слово, указывающее что будет возвращать функция. Может отсутствовать, тогда функция ничего не вернет, а точнее вернет ничего - `None`."
      ],
      "metadata": {
        "id": "GYh3y1vHGZEz"
      }
    },
    {
      "cell_type": "markdown",
      "source": [
        "Например, создадим простейшую функцию, которая возвращать сумму двух ее аргументов:"
      ],
      "metadata": {
        "id": "dsFxE1Y5G_ys"
      }
    },
    {
      "cell_type": "code",
      "source": [
        "def sum_of_two_args(a, b):\n",
        "    summ = a + b\n",
        "    print(\"Function received a =\", a, \"b =\", b)\n",
        "    return summ"
      ],
      "metadata": {
        "id": "-XV8_T_TG_Fj"
      },
      "execution_count": null,
      "outputs": []
    },
    {
      "cell_type": "markdown",
      "source": [
        "Чтобы вызвать функцию, нужно указать ее имя, а затем в круглых скобках передать аргументы, с которыми мы хотим ее вызвать. Аргументы в функцию можно передавать двумя способами:"
      ],
      "metadata": {
        "id": "kyoXw5sVKMg0"
      }
    },
    {
      "cell_type": "markdown",
      "source": [
        "- по позиции - просто перечисляем значения аргументов, в таком случае первый указанный при вызове функции аргумент будет соотнесен с первым указанным при объявлении функции аргументов: "
      ],
      "metadata": {
        "id": "fkLywO326F6v"
      }
    },
    {
      "cell_type": "code",
      "source": [
        "sum_of_two_args(10, 19)  # при вызове функции в переменную a запишется 10, в b - 19"
      ],
      "metadata": {
        "colab": {
          "base_uri": "https://localhost:8080/"
        },
        "id": "BnEFc1yi6cfr",
        "outputId": "4762cd67-3ef7-4969-ba7e-55333ba3222b"
      },
      "execution_count": null,
      "outputs": [
        {
          "output_type": "stream",
          "name": "stdout",
          "text": [
            "Function received a = 10 b = 19\n"
          ]
        },
        {
          "output_type": "execute_result",
          "data": {
            "text/plain": [
              "29"
            ]
          },
          "metadata": {},
          "execution_count": 76
        }
      ]
    },
    {
      "cell_type": "markdown",
      "source": [
        "- по ключу - необходимо явно указать какому аргументу мы хотим присвоить значение:"
      ],
      "metadata": {
        "id": "OmWTtJKg6VwZ"
      }
    },
    {
      "cell_type": "code",
      "source": [
        "sum_of_two_args(b=19, a=10)  # необязательно перечислять аргументы в том же порядке"
      ],
      "metadata": {
        "colab": {
          "base_uri": "https://localhost:8080/"
        },
        "id": "sYhq3C4t7DHM",
        "outputId": "aeda9056-52c9-4f0b-94fc-60ac585453d2"
      },
      "execution_count": null,
      "outputs": [
        {
          "output_type": "stream",
          "name": "stdout",
          "text": [
            "Function received a = 10 b = 19\n"
          ]
        },
        {
          "output_type": "execute_result",
          "data": {
            "text/plain": [
              "29"
            ]
          },
          "metadata": {},
          "execution_count": 77
        }
      ]
    },
    {
      "cell_type": "markdown",
      "source": [
        "Можно смешивать способы указания аргументов, например, `a` указать с помощью позиции, а `b` - с помощью ключ:"
      ],
      "metadata": {
        "id": "wvWyHlwB7e2L"
      }
    },
    {
      "cell_type": "code",
      "source": [
        "sum_of_two_args(10, b=19)"
      ],
      "metadata": {
        "colab": {
          "base_uri": "https://localhost:8080/"
        },
        "id": "aFqLEuzf7pOz",
        "outputId": "e49ddd36-e511-4a76-ea2e-88acfac3476e"
      },
      "execution_count": null,
      "outputs": [
        {
          "output_type": "stream",
          "name": "stdout",
          "text": [
            "Function received a = 10 b = 19\n"
          ]
        },
        {
          "output_type": "execute_result",
          "data": {
            "text/plain": [
              "29"
            ]
          },
          "metadata": {},
          "execution_count": 78
        }
      ]
    },
    {
      "cell_type": "markdown",
      "source": [
        "**Но** нужно помнить правило - сначала аргументы по позиции, затем по ключам:"
      ],
      "metadata": {
        "id": "eqi1WUD4_WvW"
      }
    },
    {
      "cell_type": "code",
      "source": [
        "sum_of_two_args(b=19, 10)"
      ],
      "metadata": {
        "colab": {
          "base_uri": "https://localhost:8080/",
          "height": 133
        },
        "id": "60iEn-Ml_yTN",
        "outputId": "34a6e419-eef5-434a-9ac3-b39b02517aaf"
      },
      "execution_count": null,
      "outputs": [
        {
          "output_type": "error",
          "ename": "SyntaxError",
          "evalue": "ignored",
          "traceback": [
            "\u001b[0;36m  File \u001b[0;32m\"<ipython-input-79-421b5307b5f1>\"\u001b[0;36m, line \u001b[0;32m1\u001b[0m\n\u001b[0;31m    sum_of_two_args(b=19, 10)\u001b[0m\n\u001b[0m                         ^\u001b[0m\n\u001b[0;31mSyntaxError\u001b[0m\u001b[0;31m:\u001b[0m positional argument follows keyword argument\n"
          ]
        }
      ]
    },
    {
      "cell_type": "code",
      "source": [
        "sum_of_two_args(19, a=10)"
      ],
      "metadata": {
        "colab": {
          "base_uri": "https://localhost:8080/",
          "height": 168
        },
        "id": "BIgXh-GOAAet",
        "outputId": "f20fdd1c-d06e-4a5c-cfae-b8266dc797e8"
      },
      "execution_count": null,
      "outputs": [
        {
          "output_type": "error",
          "ename": "TypeError",
          "evalue": "ignored",
          "traceback": [
            "\u001b[0;31m---------------------------------------------------------------------------\u001b[0m",
            "\u001b[0;31mTypeError\u001b[0m                                 Traceback (most recent call last)",
            "\u001b[0;32m<ipython-input-80-a375e4782cd1>\u001b[0m in \u001b[0;36m<module>\u001b[0;34m\u001b[0m\n\u001b[0;32m----> 1\u001b[0;31m \u001b[0msum_of_two_args\u001b[0m\u001b[0;34m(\u001b[0m\u001b[0;36m19\u001b[0m\u001b[0;34m,\u001b[0m \u001b[0ma\u001b[0m\u001b[0;34m=\u001b[0m\u001b[0;36m10\u001b[0m\u001b[0;34m)\u001b[0m\u001b[0;34m\u001b[0m\u001b[0;34m\u001b[0m\u001b[0m\n\u001b[0m",
            "\u001b[0;31mTypeError\u001b[0m: sum_of_two_args() got multiple values for argument 'a'"
          ]
        }
      ]
    },
    {
      "cell_type": "code",
      "source": [
        "sum_of_two_args(a=10)"
      ],
      "metadata": {
        "colab": {
          "base_uri": "https://localhost:8080/",
          "height": 168
        },
        "id": "Jwk_SdpJfkpS",
        "outputId": "3578893d-fe51-474b-be3a-a6424b0190d2"
      },
      "execution_count": null,
      "outputs": [
        {
          "output_type": "error",
          "ename": "TypeError",
          "evalue": "ignored",
          "traceback": [
            "\u001b[0;31m---------------------------------------------------------------------------\u001b[0m",
            "\u001b[0;31mTypeError\u001b[0m                                 Traceback (most recent call last)",
            "\u001b[0;32m<ipython-input-81-e6c9cc0e19a7>\u001b[0m in \u001b[0;36m<module>\u001b[0;34m\u001b[0m\n\u001b[0;32m----> 1\u001b[0;31m \u001b[0msum_of_two_args\u001b[0m\u001b[0;34m(\u001b[0m\u001b[0ma\u001b[0m\u001b[0;34m=\u001b[0m\u001b[0;36m10\u001b[0m\u001b[0;34m)\u001b[0m\u001b[0;34m\u001b[0m\u001b[0;34m\u001b[0m\u001b[0m\n\u001b[0m",
            "\u001b[0;31mTypeError\u001b[0m: sum_of_two_args() missing 1 required positional argument: 'b'"
          ]
        }
      ]
    },
    {
      "cell_type": "markdown",
      "source": [
        "Если не указать скобки, но Python будет рассматривать функцию как объект (\"переменную\"):"
      ],
      "metadata": {
        "id": "IEf8RgylMJzq"
      }
    },
    {
      "cell_type": "code",
      "source": [
        "sum_of_two_args"
      ],
      "metadata": {
        "colab": {
          "base_uri": "https://localhost:8080/"
        },
        "id": "IUc2T3EnMRSe",
        "outputId": "042c9d1d-1c3a-4129-8541-45b4898dc4f7"
      },
      "execution_count": null,
      "outputs": [
        {
          "output_type": "execute_result",
          "data": {
            "text/plain": [
              "<function __main__.sum_of_two_args(a, b)>"
            ]
          },
          "metadata": {},
          "execution_count": 82
        }
      ]
    },
    {
      "cell_type": "markdown",
      "metadata": {
        "id": "nvzwXHfSHlhF"
      },
      "source": [
        "## Аргументы по-умолчанию"
      ]
    },
    {
      "cell_type": "markdown",
      "source": [
        "Для аргумента можно задать значение по-умолчанию. Тогда если при вызове функции не было передано значение, оно будет установлено по-умолчанию:"
      ],
      "metadata": {
        "id": "L0FwMyuF59LB"
      }
    },
    {
      "cell_type": "code",
      "source": [
        "def sum_of_two_args_verbose(a: int, b: int, verbose: bool=False):\n",
        "    \"\"\"\n",
        "    This function returns sum of two arguments\n",
        "    \"\"\"\n",
        "    summ = a + b\n",
        "    if verbose:\n",
        "        print(\"Function received a =\", a, \"b =\", b)\n",
        "    return summ"
      ],
      "metadata": {
        "id": "_vd85R0sQSSL"
      },
      "execution_count": null,
      "outputs": []
    },
    {
      "cell_type": "code",
      "source": [
        "sum_of_two_args_verbose(10, 19)"
      ],
      "metadata": {
        "colab": {
          "base_uri": "https://localhost:8080/"
        },
        "id": "ohuDp_2gQgLe",
        "outputId": "ce634647-cd5c-4958-843f-a4ace69e54f1"
      },
      "execution_count": null,
      "outputs": [
        {
          "output_type": "execute_result",
          "data": {
            "text/plain": [
              "29"
            ]
          },
          "metadata": {},
          "execution_count": 97
        }
      ]
    },
    {
      "cell_type": "code",
      "source": [
        "sum_of_two_args_verbose(10, 19, verbose=True)"
      ],
      "metadata": {
        "colab": {
          "base_uri": "https://localhost:8080/"
        },
        "id": "2_LMAgxUQj36",
        "outputId": "aeb731f0-bf26-4eb2-d03f-8d609cdcdb36"
      },
      "execution_count": null,
      "outputs": [
        {
          "output_type": "stream",
          "name": "stdout",
          "text": [
            "Function received a = 10 b = 19\n"
          ]
        },
        {
          "output_type": "execute_result",
          "data": {
            "text/plain": [
              "29"
            ]
          },
          "metadata": {},
          "execution_count": 98
        }
      ]
    },
    {
      "cell_type": "code",
      "source": [
        "sum_of_two_args_verbose(10, 19, True)"
      ],
      "metadata": {
        "colab": {
          "base_uri": "https://localhost:8080/"
        },
        "id": "jWBJGhF_gezT",
        "outputId": "0de072e2-5523-4baa-cbc1-97d980d4736c"
      },
      "execution_count": null,
      "outputs": [
        {
          "output_type": "stream",
          "name": "stdout",
          "text": [
            "Function received a = 10 b = 19\n"
          ]
        },
        {
          "output_type": "execute_result",
          "data": {
            "text/plain": [
              "29"
            ]
          },
          "metadata": {},
          "execution_count": 99
        }
      ]
    },
    {
      "cell_type": "code",
      "source": [
        "sum_of_two_args_verbose(10, 19)"
      ],
      "metadata": {
        "colab": {
          "base_uri": "https://localhost:8080/"
        },
        "id": "Xt1NVCffhmAl",
        "outputId": "7916a3ba-6420-4d01-fc1d-679af474ba29"
      },
      "execution_count": null,
      "outputs": [
        {
          "output_type": "execute_result",
          "data": {
            "text/plain": [
              "29"
            ]
          },
          "metadata": {},
          "execution_count": 102
        }
      ]
    },
    {
      "cell_type": "markdown",
      "source": [
        "Как было сказано ранее, функция по-умолчанию принимает любые типы данных, поэтому можем передать в нашу функцию и `str`:"
      ],
      "metadata": {
        "id": "4H9Kjb5IRNBg"
      }
    },
    {
      "cell_type": "code",
      "source": [
        "sum_of_two_args_verbose('10', \"19\", verbose=False)"
      ],
      "metadata": {
        "colab": {
          "base_uri": "https://localhost:8080/",
          "height": 34
        },
        "id": "aOtoFGZuRUM9",
        "outputId": "6c62bd04-126a-430b-b0cf-993586a8a51d"
      },
      "execution_count": null,
      "outputs": [
        {
          "output_type": "execute_result",
          "data": {
            "text/plain": [
              "'1019'"
            ],
            "application/vnd.google.colaboratory.intrinsic+json": {
              "type": "string"
            }
          },
          "metadata": {},
          "execution_count": 100
        }
      ]
    },
    {
      "cell_type": "code",
      "source": [
        "help(sum_of_two_args_verbose)"
      ],
      "metadata": {
        "colab": {
          "base_uri": "https://localhost:8080/"
        },
        "id": "Nzjo5EW7g4sy",
        "outputId": "80da4a78-e0f5-4eb3-eaef-51c191446dcd"
      },
      "execution_count": null,
      "outputs": [
        {
          "output_type": "stream",
          "name": "stdout",
          "text": [
            "Help on function sum_of_two_args_verbose in module __main__:\n",
            "\n",
            "sum_of_two_args_verbose(a: int, b: int, verbose: bool = False)\n",
            "    This function returns sum of two arguments\n",
            "\n"
          ]
        }
      ]
    },
    {
      "cell_type": "markdown",
      "metadata": {
        "id": "IKDwRA3MTroc"
      },
      "source": [
        "## Возвращаемое значение"
      ]
    },
    {
      "cell_type": "markdown",
      "source": [
        "Как было сказано ранее, функция в Python может ничего не возвращать, если в теле функции отсутствует команда `return`: "
      ],
      "metadata": {
        "id": "dc-p9mPNRIl9"
      }
    },
    {
      "cell_type": "code",
      "metadata": {
        "id": "ZdoyJMAw34yE"
      },
      "source": [
        "def sum_of_two_args_none(a, b):\n",
        "    summ = a + b\n",
        "    print(\"Result:\", summ)"
      ],
      "execution_count": null,
      "outputs": []
    },
    {
      "cell_type": "code",
      "source": [
        "result = sum_of_two_args_none(15, 10)\n",
        "print(result, type(result))"
      ],
      "metadata": {
        "colab": {
          "base_uri": "https://localhost:8080/"
        },
        "id": "VJzlMsr7RmSO",
        "outputId": "b14474f1-7fa2-454e-c7bd-153f8a140504"
      },
      "execution_count": null,
      "outputs": [
        {
          "output_type": "stream",
          "name": "stdout",
          "text": [
            "Result: 25\n",
            "None <class 'NoneType'>\n"
          ]
        }
      ]
    },
    {
      "cell_type": "markdown",
      "source": [
        "В других языках программирования такие функции, которые ничего не возвращают, называют процедурам, но в Python такого разделения нет."
      ],
      "metadata": {
        "id": "w_F0vZHwSIlY"
      }
    },
    {
      "cell_type": "markdown",
      "source": [
        "Функции в Python могут возвращать и несколько значений:"
      ],
      "metadata": {
        "id": "HmjXLxXmSV5v"
      }
    },
    {
      "cell_type": "code",
      "source": [
        "def sum_of_three_args(a, b, c):\n",
        "    return a + b, b + c, a + c\n",
        "    #return (a + b, b + c, a + c)"
      ],
      "metadata": {
        "id": "QfR6o41-SeGT"
      },
      "execution_count": null,
      "outputs": []
    },
    {
      "cell_type": "code",
      "metadata": {
        "colab": {
          "base_uri": "https://localhost:8080/"
        },
        "id": "I-5KEP6a6kJI",
        "outputId": "5c625af8-f694-4127-a22d-314faa3ed5ed"
      },
      "source": [
        "result1, result2, result3 = sum_of_three_args(10, 20, 30)\n",
        "print(result1, result2, result3)"
      ],
      "execution_count": null,
      "outputs": [
        {
          "output_type": "stream",
          "name": "stdout",
          "text": [
            "30 50 40\n"
          ]
        }
      ]
    },
    {
      "cell_type": "markdown",
      "source": [
        "По сути такая функция возвращает кортеж из нескольких элементов, а затем мы выполняем операцию множественного присовения. Проверим:"
      ],
      "metadata": {
        "id": "Ck2GJPY0Sv_B"
      }
    },
    {
      "cell_type": "code",
      "source": [
        "result = sum_of_three_args(10, 20, 30)\n",
        "print(result, type(result))"
      ],
      "metadata": {
        "colab": {
          "base_uri": "https://localhost:8080/"
        },
        "id": "duKq-YIkS7Lf",
        "outputId": "ae86fa5c-7a3a-4b88-d55c-5a7218a472b7"
      },
      "execution_count": null,
      "outputs": [
        {
          "output_type": "stream",
          "name": "stdout",
          "text": [
            "(30, 50, 40) <class 'tuple'>\n"
          ]
        }
      ]
    },
    {
      "cell_type": "markdown",
      "source": [
        "Может быть только один `return`:"
      ],
      "metadata": {
        "id": "JiDgOWCgin7B"
      }
    },
    {
      "cell_type": "code",
      "source": [
        "def sum_of_three_args_multi_return(a, b, c):\n",
        "    print(\"Before 1st return\")\n",
        "    return a + b, b + c, a + c\n",
        "    print(\"Before 2nd return\")\n",
        "    return 2*(a + b), 2*(b + c), 2*(a + c)"
      ],
      "metadata": {
        "id": "gAGjXoKkirj5"
      },
      "execution_count": null,
      "outputs": []
    },
    {
      "cell_type": "code",
      "source": [
        "sum_of_three_args_multi_return(1, 2, 3)"
      ],
      "metadata": {
        "colab": {
          "base_uri": "https://localhost:8080/"
        },
        "id": "imCaKzbXi4SP",
        "outputId": "8fdeec7d-2a5c-4102-8b8e-5e84c3c43659"
      },
      "execution_count": null,
      "outputs": [
        {
          "output_type": "stream",
          "name": "stdout",
          "text": [
            "Before 1st return\n"
          ]
        },
        {
          "output_type": "execute_result",
          "data": {
            "text/plain": [
              "(3, 5, 4)"
            ]
          },
          "metadata": {},
          "execution_count": 111
        }
      ]
    },
    {
      "cell_type": "code",
      "source": [
        "def sum_of_three_args_condition(a, b, c):\n",
        "    if a > b:\n",
        "        print(\"Before 1st return\")\n",
        "        return a + b, b + c, a + c\n",
        "    else:\n",
        "        print(\"Before 2nd return\")\n",
        "        return 2*(a + b), 2*(b + c), 2*(a + c)"
      ],
      "metadata": {
        "id": "B1aDIxUyjDxG"
      },
      "execution_count": null,
      "outputs": []
    },
    {
      "cell_type": "code",
      "source": [
        "sum_of_three_args_condition(3, 2, 3)"
      ],
      "metadata": {
        "colab": {
          "base_uri": "https://localhost:8080/"
        },
        "id": "mncX6dUCjMU_",
        "outputId": "f7418f24-918d-4971-de1d-8a42403c387e"
      },
      "execution_count": null,
      "outputs": [
        {
          "output_type": "stream",
          "name": "stdout",
          "text": [
            "Before 1st return\n"
          ]
        },
        {
          "output_type": "execute_result",
          "data": {
            "text/plain": [
              "(5, 5, 6)"
            ]
          },
          "metadata": {},
          "execution_count": 114
        }
      ]
    },
    {
      "cell_type": "code",
      "source": [
        "def sum_of_three_args_condition_alter(a, b, c):\n",
        "    if a > b:\n",
        "        print(\"Before 1st return\")\n",
        "        return [a + b, b + c, a + c]\n",
        "    print(\"Before 2nd return\")\n",
        "    return 2*(a + b), 2*(b + c), 2*(a + c)"
      ],
      "metadata": {
        "id": "9raoGc8_jXke"
      },
      "execution_count": null,
      "outputs": []
    },
    {
      "cell_type": "code",
      "source": [
        "a, b, c = sum_of_three_args_condition_alter(3, 2, 3)"
      ],
      "metadata": {
        "colab": {
          "base_uri": "https://localhost:8080/"
        },
        "id": "4rv34-GGjdzL",
        "outputId": "3030488f-6b9a-48aa-bbf1-1d9822b9a2dc"
      },
      "execution_count": null,
      "outputs": [
        {
          "output_type": "stream",
          "name": "stdout",
          "text": [
            "Before 1st return\n"
          ]
        }
      ]
    },
    {
      "cell_type": "code",
      "source": [
        "print(a, b, c)"
      ],
      "metadata": {
        "colab": {
          "base_uri": "https://localhost:8080/"
        },
        "id": "NiY6IhiGkUax",
        "outputId": "ff316a59-2bc5-4d4d-fc3d-b464d4fdd4ce"
      },
      "execution_count": null,
      "outputs": [
        {
          "output_type": "stream",
          "name": "stdout",
          "text": [
            "5 5 6\n"
          ]
        }
      ]
    },
    {
      "cell_type": "markdown",
      "metadata": {
        "id": "42LAwYf1HlhG"
      },
      "source": [
        "## Передача аргументов при вызове функции"
      ]
    },
    {
      "cell_type": "markdown",
      "source": [
        "**Вопрос** - при вызове функции аргументы передаются в нее по ссылке (работаем с тем же объектом в памяти) или по значению (копируем объект)?"
      ],
      "metadata": {
        "id": "SOpu2DM4TCdL"
      }
    },
    {
      "cell_type": "code",
      "source": [
        "a = [1]\n",
        "b = [2, 3]"
      ],
      "metadata": {
        "id": "78VXL1Nakkew"
      },
      "execution_count": null,
      "outputs": []
    },
    {
      "cell_type": "code",
      "source": [
        "sum_of_two_args(a, b)"
      ],
      "metadata": {
        "colab": {
          "base_uri": "https://localhost:8080/"
        },
        "id": "41wXLzBbkmAE",
        "outputId": "c34d5af2-189f-4022-adf9-423eb1dfe625"
      },
      "execution_count": null,
      "outputs": [
        {
          "output_type": "stream",
          "name": "stdout",
          "text": [
            "Function received a = [1] b = [2, 3]\n"
          ]
        },
        {
          "output_type": "execute_result",
          "data": {
            "text/plain": [
              "[1, 2, 3]"
            ]
          },
          "metadata": {},
          "execution_count": 123
        }
      ]
    },
    {
      "cell_type": "markdown",
      "source": [
        "**Ответ** - изменяемые аргументы передаются по ссылке, неизменяемые передаются по значению."
      ],
      "metadata": {
        "id": "QShh9LZGTNw9"
      }
    },
    {
      "cell_type": "markdown",
      "source": [
        "Рассмотрим пример. Создадим функцию, которая принимает 2 аргумента (число и словарь) и меняет их внутри себя:"
      ],
      "metadata": {
        "id": "aNGN3y0fTToh"
      }
    },
    {
      "cell_type": "code",
      "metadata": {
        "id": "xTDPuPGioWtb"
      },
      "source": [
        "def get_my_hero_team(team, number):\n",
        "    number = 10\n",
        "    team['Chuck'] = 'Norris'\n",
        "    team['Sylvester'] = 'Stallone'"
      ],
      "execution_count": null,
      "outputs": []
    },
    {
      "cell_type": "markdown",
      "source": [
        "Проверим работу такой функции:"
      ],
      "metadata": {
        "id": "STrC9c0hTfCs"
      }
    },
    {
      "cell_type": "code",
      "metadata": {
        "id": "FVx4yf4iHlhG"
      },
      "source": [
        "number = 5  # immutable == неизменяемый\n",
        "hero_team = {'Bruce': 'Willis', 'Chuck': 'Lorre'}  # mutable == изменяемый\n",
        "\n",
        "get_my_hero_team(hero_team, number)"
      ],
      "execution_count": null,
      "outputs": []
    },
    {
      "cell_type": "markdown",
      "source": [
        "Посмотрим как поменялись значения наших переменных `number_value` и `hero_team`:"
      ],
      "metadata": {
        "id": "9xFg8AHZTrBf"
      }
    },
    {
      "cell_type": "code",
      "source": [
        "number"
      ],
      "metadata": {
        "colab": {
          "base_uri": "https://localhost:8080/"
        },
        "id": "Vizb84uqTxZr",
        "outputId": "40c3e5fb-ec12-44ee-dca6-89e8d3237d9f"
      },
      "execution_count": null,
      "outputs": [
        {
          "output_type": "execute_result",
          "data": {
            "text/plain": [
              "5"
            ]
          },
          "metadata": {},
          "execution_count": 138
        }
      ]
    },
    {
      "cell_type": "code",
      "source": [
        "hero_team"
      ],
      "metadata": {
        "colab": {
          "base_uri": "https://localhost:8080/"
        },
        "id": "-gFpxynJT04y",
        "outputId": "de54145b-8029-4645-abe6-7cade40bcc89"
      },
      "execution_count": null,
      "outputs": [
        {
          "output_type": "execute_result",
          "data": {
            "text/plain": [
              "{'Bruce': 'Willis', 'Chuck': 'Norris', 'Sylvester': 'Stallone'}"
            ]
          },
          "metadata": {},
          "execution_count": 139
        }
      ]
    },
    {
      "cell_type": "markdown",
      "source": [
        "Как видим, `number_value` не изменился (значит передался по значению), а `hero_team` изменился (передался по ссылке)."
      ],
      "metadata": {
        "id": "SKh-6Uf9T4-4"
      }
    },
    {
      "cell_type": "markdown",
      "metadata": {
        "id": "BB5SjGcMHlhH"
      },
      "source": [
        "## Переменное число аргументов"
      ]
    },
    {
      "cell_type": "markdown",
      "source": [
        "Функции в Python могут принимать при вызове не только фиксированное, но и переменное число элементов."
      ],
      "metadata": {
        "id": "l0u068keUMIS"
      }
    },
    {
      "cell_type": "markdown",
      "source": [
        "Для этого используется **операторы распаковки** `*` и `**`, которые распаковывают список / кортеж и словарь. Продемонстрируем это на примере:"
      ],
      "metadata": {
        "id": "nCNrvzGmUY8g"
      }
    },
    {
      "cell_type": "code",
      "source": [
        "test_list = ['1', 1, False, [3], -5+1j]\n",
        "\n",
        "print(test_list)\n",
        "\n",
        "print(*test_list)\n",
        "print(test_list[0], test_list[1], test_list[2], test_list[3], test_list[4])"
      ],
      "metadata": {
        "colab": {
          "base_uri": "https://localhost:8080/"
        },
        "id": "Ooa01u8_UtZB",
        "outputId": "b2698988-8a1f-4af8-f4e7-0bf741ec5aa6"
      },
      "execution_count": null,
      "outputs": [
        {
          "output_type": "stream",
          "name": "stdout",
          "text": [
            "['1', 1, False, [3], (-5+1j)]\n",
            "1 1 False [3] (-5+1j)\n",
            "1 1 False [3] (-5+1j)\n"
          ]
        }
      ]
    },
    {
      "cell_type": "markdown",
      "source": [
        "Т.е. оператор распаковки `*` преобразует список / кортеж в набор позиционных аргументов.\n",
        "\n",
        "Оператор распаковки `**` действует аналогично для словаря, но преобразует его в набор ключевых аргументов."
      ],
      "metadata": {
        "id": "tMs2hmBIVAq-"
      }
    },
    {
      "cell_type": "code",
      "source": [
        "test_dict = {\"sep\": \"\\n\", 'end': 'END OF PRINT'}\n",
        "\n",
        "print(\"Hello, world!\", \"This is my first program!\", **test_dict)\n",
        "\n",
        "print()\n",
        "print(\"Hello, world!\", \"This is my first program!\", sep=\"\\n\", end='END OF PRINT')"
      ],
      "metadata": {
        "colab": {
          "base_uri": "https://localhost:8080/"
        },
        "id": "hny0sj2UVXJe",
        "outputId": "a68f63e9-3c18-4a2c-e363-2259fcc85909"
      },
      "execution_count": null,
      "outputs": [
        {
          "output_type": "stream",
          "name": "stdout",
          "text": [
            "Hello, world!\n",
            "This is my first program!END OF PRINT\n",
            "Hello, world!\n",
            "This is my first program!END OF PRINT"
          ]
        }
      ]
    },
    {
      "cell_type": "markdown",
      "source": [
        "Оператор распаковки также применяют, когда количество возвращаемых переменных функцией неизвестно или переменно:"
      ],
      "metadata": {
        "id": "DpdpAJX6V1Hj"
      }
    },
    {
      "cell_type": "code",
      "source": [
        "def echo(input_list):\n",
        "    return input_list"
      ],
      "metadata": {
        "id": "QNQ-s75VV9JB"
      },
      "execution_count": null,
      "outputs": []
    },
    {
      "cell_type": "code",
      "source": [
        "test_list = [1, 1, 2, 3, 5, 8, 13]\n",
        "print(echo(test_list))"
      ],
      "metadata": {
        "colab": {
          "base_uri": "https://localhost:8080/"
        },
        "id": "yN7UW8fsWCEY",
        "outputId": "a047c2b1-747b-4bb7-c82b-fe022c92a86e"
      },
      "execution_count": null,
      "outputs": [
        {
          "output_type": "stream",
          "name": "stdout",
          "text": [
            "[1, 1, 2, 3, 5, 8, 13]\n"
          ]
        }
      ]
    },
    {
      "cell_type": "code",
      "source": [
        "result_first, result_second, *result_other = echo(test_list)\n",
        "print(result_first, result_second, result_other)"
      ],
      "metadata": {
        "colab": {
          "base_uri": "https://localhost:8080/"
        },
        "id": "_drFhCZ1WKtE",
        "outputId": "0977d4cb-baf0-402c-9828-8329849a9593"
      },
      "execution_count": null,
      "outputs": [
        {
          "output_type": "stream",
          "name": "stdout",
          "text": [
            "1 1 [2, 3, 5, 8, 13]\n"
          ]
        }
      ]
    },
    {
      "cell_type": "markdown",
      "source": [
        "В `result_other` может попасть и 0 переменных:"
      ],
      "metadata": {
        "id": "SppmeK5YWXfY"
      }
    },
    {
      "cell_type": "code",
      "source": [
        "test_list_shorter = test_list[:2]\n",
        "\n",
        "result_first, *result_other = echo(test_list_shorter)\n",
        "print(result_first, result_other)"
      ],
      "metadata": {
        "colab": {
          "base_uri": "https://localhost:8080/"
        },
        "id": "T65D10ZOWcek",
        "outputId": "9cceb496-de0d-4fd4-a571-de1d8e591f15"
      },
      "execution_count": null,
      "outputs": [
        {
          "output_type": "stream",
          "name": "stdout",
          "text": [
            "1 [1]\n"
          ]
        }
      ]
    },
    {
      "cell_type": "markdown",
      "source": [
        "Однако, остальные переменные обязательно должны быть заполнены:"
      ],
      "metadata": {
        "id": "YpePbrmuWnW8"
      }
    },
    {
      "cell_type": "code",
      "source": [
        "test_list_shortest = test_list[:1]\n",
        "\n",
        "result_first, result_second, *result_other = echo(test_list_shortest)\n",
        "print(result_first, result_second, result_other)"
      ],
      "metadata": {
        "colab": {
          "base_uri": "https://localhost:8080/",
          "height": 220
        },
        "id": "q5XnzoKaWlx6",
        "outputId": "6a2e3b39-4ee7-4f95-dcda-3c1cfc3b5416"
      },
      "execution_count": null,
      "outputs": [
        {
          "output_type": "error",
          "ename": "ValueError",
          "evalue": "ignored",
          "traceback": [
            "\u001b[0;31m---------------------------------------------------------------------------\u001b[0m",
            "\u001b[0;31mValueError\u001b[0m                                Traceback (most recent call last)",
            "\u001b[0;32m<ipython-input-153-065d6ea47d63>\u001b[0m in \u001b[0;36m<module>\u001b[0;34m\u001b[0m\n\u001b[1;32m      1\u001b[0m \u001b[0mtest_list_shortest\u001b[0m \u001b[0;34m=\u001b[0m \u001b[0mtest_list\u001b[0m\u001b[0;34m[\u001b[0m\u001b[0;34m:\u001b[0m\u001b[0;36m1\u001b[0m\u001b[0;34m]\u001b[0m\u001b[0;34m\u001b[0m\u001b[0;34m\u001b[0m\u001b[0m\n\u001b[1;32m      2\u001b[0m \u001b[0;34m\u001b[0m\u001b[0m\n\u001b[0;32m----> 3\u001b[0;31m \u001b[0mresult_first\u001b[0m\u001b[0;34m,\u001b[0m \u001b[0mresult_second\u001b[0m\u001b[0;34m,\u001b[0m \u001b[0;34m*\u001b[0m\u001b[0mresult_other\u001b[0m \u001b[0;34m=\u001b[0m \u001b[0mecho\u001b[0m\u001b[0;34m(\u001b[0m\u001b[0mtest_list_shortest\u001b[0m\u001b[0;34m)\u001b[0m\u001b[0;34m\u001b[0m\u001b[0;34m\u001b[0m\u001b[0m\n\u001b[0m\u001b[1;32m      4\u001b[0m \u001b[0mprint\u001b[0m\u001b[0;34m(\u001b[0m\u001b[0mresult_first\u001b[0m\u001b[0;34m,\u001b[0m \u001b[0mresult_second\u001b[0m\u001b[0;34m,\u001b[0m \u001b[0mresult_other\u001b[0m\u001b[0;34m)\u001b[0m\u001b[0;34m\u001b[0m\u001b[0;34m\u001b[0m\u001b[0m\n",
            "\u001b[0;31mValueError\u001b[0m: not enough values to unpack (expected at least 2, got 1)"
          ]
        }
      ]
    },
    {
      "cell_type": "markdown",
      "source": [
        "Операторы распаковки можно использовать и при объявлении функции, чтобы она могла принимать произвольное количество аргументов\n",
        "\n",
        "Рассмотрим пример оператора `*` и позиционных аргументов:"
      ],
      "metadata": {
        "id": "yhEetvlaVrNR"
      }
    },
    {
      "cell_type": "code",
      "metadata": {
        "id": "bUcVxKYfql4m"
      },
      "source": [
        "def sum_many(*custom):\n",
        "    print(\"Input elements:\", custom, type(custom))\n",
        "    if len(custom) > 0:\n",
        "        print(\"First element:\", custom[0])\n",
        "    return sum(custom)"
      ],
      "execution_count": null,
      "outputs": []
    },
    {
      "cell_type": "code",
      "metadata": {
        "id": "Wv8mwOP9HlhJ",
        "colab": {
          "base_uri": "https://localhost:8080/"
        },
        "outputId": "d446b4c3-b55f-4994-9c92-214d2a593e8a"
      },
      "source": [
        "sum_many(1, 2, 3)"
      ],
      "execution_count": null,
      "outputs": [
        {
          "output_type": "stream",
          "name": "stdout",
          "text": [
            "Input elements: (1, 2, 3) <class 'tuple'>\n",
            "First element: 1\n"
          ]
        },
        {
          "output_type": "execute_result",
          "data": {
            "text/plain": [
              "6"
            ]
          },
          "metadata": {},
          "execution_count": 162
        }
      ]
    },
    {
      "cell_type": "code",
      "source": [
        "sum_many(1, 2, 3, 4, 5, 6, 7, 8)"
      ],
      "metadata": {
        "colab": {
          "base_uri": "https://localhost:8080/"
        },
        "id": "2TIVR9o5XB9W",
        "outputId": "1a8d907c-6e9a-4957-ba60-0f031beb39f6"
      },
      "execution_count": null,
      "outputs": [
        {
          "output_type": "stream",
          "name": "stdout",
          "text": [
            "Input elements: (1, 2, 3, 4, 5, 6, 7, 8) <class 'tuple'>\n",
            "First element: 1\n"
          ]
        },
        {
          "output_type": "execute_result",
          "data": {
            "text/plain": [
              "36"
            ]
          },
          "metadata": {},
          "execution_count": 163
        }
      ]
    },
    {
      "cell_type": "code",
      "source": [
        "sum_many()"
      ],
      "metadata": {
        "colab": {
          "base_uri": "https://localhost:8080/"
        },
        "id": "c-BxVt1TXEcZ",
        "outputId": "494fd5d9-925a-4399-9f89-1d26dcdd58ad"
      },
      "execution_count": null,
      "outputs": [
        {
          "output_type": "stream",
          "name": "stdout",
          "text": [
            "Input elements: () <class 'tuple'>\n"
          ]
        },
        {
          "output_type": "execute_result",
          "data": {
            "text/plain": [
              "0"
            ]
          },
          "metadata": {},
          "execution_count": 164
        }
      ]
    },
    {
      "cell_type": "markdown",
      "source": [
        "Аналогично и для оператора `**` и ключевых аргументов:"
      ],
      "metadata": {
        "id": "VtNSc8JHXQLn"
      }
    },
    {
      "cell_type": "code",
      "source": [
        "def print_keyword_args(**kwargs):\n",
        "    print(\"Input kwargs:\", kwargs)\n",
        "    print(\"Answer:\", kwargs.get(\"answer\", \"Not Found\"))"
      ],
      "metadata": {
        "id": "YHgrjI4BXWBL"
      },
      "execution_count": null,
      "outputs": []
    },
    {
      "cell_type": "code",
      "source": [
        "print_keyword_args(a=1, b=[2], answer=42)"
      ],
      "metadata": {
        "colab": {
          "base_uri": "https://localhost:8080/"
        },
        "id": "mvN_-NRRXoG4",
        "outputId": "c09bfb3b-6ad6-42d0-c856-0938de16988a"
      },
      "execution_count": null,
      "outputs": [
        {
          "output_type": "stream",
          "name": "stdout",
          "text": [
            "Input kwargs: {'a': 1, 'b': [2], 'answer': 42}\n",
            "Answer: 42\n"
          ]
        }
      ]
    },
    {
      "cell_type": "code",
      "source": [
        "print_keyword_args(a=1, b=2)"
      ],
      "metadata": {
        "colab": {
          "base_uri": "https://localhost:8080/"
        },
        "id": "ac8zKuRIX-xg",
        "outputId": "22b66637-5324-4968-daf0-5e202f9f0ffd"
      },
      "execution_count": null,
      "outputs": [
        {
          "output_type": "stream",
          "name": "stdout",
          "text": [
            "Input kwargs: {'a': 1, 'b': 2}\n",
            "Answer: Not Found\n"
          ]
        }
      ]
    },
    {
      "cell_type": "markdown",
      "source": [
        "Таким образом, можем объявить функцию, которая принимает любое количество любых аргументов:"
      ],
      "metadata": {
        "id": "8vs1AHt2YG23"
      }
    },
    {
      "cell_type": "code",
      "metadata": {
        "id": "Sh8RHFC1HlhK"
      },
      "source": [
        "def uberfunc(*args, **kwargs):\n",
        "    print('args =', args, 'kwargs =', kwargs)"
      ],
      "execution_count": null,
      "outputs": []
    },
    {
      "cell_type": "code",
      "source": [
        "uberfunc()"
      ],
      "metadata": {
        "colab": {
          "base_uri": "https://localhost:8080/"
        },
        "id": "X-re2qxKYPhf",
        "outputId": "540488ee-b06b-40b1-e5cf-4cfe6208eefb"
      },
      "execution_count": null,
      "outputs": [
        {
          "output_type": "stream",
          "name": "stdout",
          "text": [
            "args = () kwargs = {}\n"
          ]
        }
      ]
    },
    {
      "cell_type": "code",
      "source": [
        "uberfunc(1, 2, 3, a=4)"
      ],
      "metadata": {
        "colab": {
          "base_uri": "https://localhost:8080/"
        },
        "id": "ZfTIUH0cYW17",
        "outputId": "060c6aa4-51a2-4f96-8854-42c9bb8d31c3"
      },
      "execution_count": null,
      "outputs": [
        {
          "output_type": "stream",
          "name": "stdout",
          "text": [
            "args = (1, 2, 3) kwargs = {'a': 4}\n"
          ]
        }
      ]
    },
    {
      "cell_type": "code",
      "source": [
        "uberfunc(answer=42)"
      ],
      "metadata": {
        "colab": {
          "base_uri": "https://localhost:8080/"
        },
        "id": "Pri1Yo8qYagl",
        "outputId": "54b22e33-d4d9-4527-c98a-aebd47c5a1e9"
      },
      "execution_count": null,
      "outputs": [
        {
          "output_type": "stream",
          "name": "stdout",
          "text": [
            "args = () kwargs = {'answer': 42}\n"
          ]
        }
      ]
    },
    {
      "cell_type": "markdown",
      "source": [
        "Таким образом, порядок объявления аргументов при создании функции выглядит следующим образом:"
      ],
      "metadata": {
        "id": "R0ALY6BOYhxv"
      }
    },
    {
      "cell_type": "markdown",
      "source": [
        "`def foo([positional_args, [positional_args_with_default, [*pos_args_name, [keyword_only_args, [**kw_args_name]]]]])`"
      ],
      "metadata": {
        "id": "HG3FbzykYzYL"
      }
    },
    {
      "cell_type": "code",
      "metadata": {
        "id": "mP7VvRHLZ02U"
      },
      "source": [
        "def foo(a, b=10, *args, c, d=10, **kwargs):\n",
        "    print(args)\n",
        "    print(sum(kwargs.values()))\n",
        "    return a + b + sum(args) + c + d + sum(kwargs.values())"
      ],
      "execution_count": null,
      "outputs": []
    },
    {
      "cell_type": "code",
      "metadata": {
        "id": "5JUWnDLvvQSJ"
      },
      "source": [
        "arg1, arg2 = 10, 10"
      ],
      "execution_count": null,
      "outputs": []
    },
    {
      "cell_type": "code",
      "metadata": {
        "id": "4jfuHUCkxkzc",
        "colab": {
          "base_uri": "https://localhost:8080/"
        },
        "outputId": "86e31ff9-c103-4e2a-cd2a-fd1cd00cdd52"
      },
      "source": [
        "result = foo(10, 20, arg1, arg2, c=10, arg3=10, arg4=10)\n",
        "print(f'result = {result}')"
      ],
      "execution_count": null,
      "outputs": [
        {
          "output_type": "stream",
          "name": "stdout",
          "text": [
            "(10, 10)\n",
            "20\n",
            "result = 90\n"
          ]
        }
      ]
    },
    {
      "cell_type": "code",
      "metadata": {
        "id": "eF0GjFKnmdUY",
        "colab": {
          "base_uri": "https://localhost:8080/"
        },
        "outputId": "b426805c-a7f3-4752-b205-edf9ae8a7278"
      },
      "source": [
        "result = foo(10, arg1, arg2, c=10, arg3=10, arg4=10)\n",
        "print(f'result = {result}')"
      ],
      "execution_count": null,
      "outputs": [
        {
          "output_type": "stream",
          "name": "stdout",
          "text": [
            "(10,)\n",
            "20\n",
            "result = 70\n"
          ]
        }
      ]
    },
    {
      "cell_type": "code",
      "source": [
        "result = foo(10, c=10, arg3=10, arg4=10)\n",
        "print(f'result = {result}')"
      ],
      "metadata": {
        "colab": {
          "base_uri": "https://localhost:8080/"
        },
        "id": "BCsTe2flsPIQ",
        "outputId": "1ea8dbd8-dbd5-4019-84c0-82df02a7d110"
      },
      "execution_count": null,
      "outputs": [
        {
          "output_type": "stream",
          "name": "stdout",
          "text": [
            "()\n",
            "20\n",
            "result = 60\n"
          ]
        }
      ]
    },
    {
      "cell_type": "code",
      "metadata": {
        "id": "UXunX0qEvxWI",
        "colab": {
          "base_uri": "https://localhost:8080/"
        },
        "outputId": "419877f1-f1b5-490e-9404-3baba9156459"
      },
      "source": [
        "sample_dct = {'arg3': 25, 'arg4': 25, 'd': 25}\n",
        "sample_dct"
      ],
      "execution_count": null,
      "outputs": [
        {
          "output_type": "execute_result",
          "data": {
            "text/plain": [
              "{'arg3': 25, 'arg4': 25, 'd': 25}"
            ]
          },
          "metadata": {},
          "execution_count": 190
        }
      ]
    },
    {
      "cell_type": "code",
      "source": [
        "result = foo(10, arg1, arg2, c=10, **sample_dct)\n",
        "print(f'result = {result}')"
      ],
      "metadata": {
        "colab": {
          "base_uri": "https://localhost:8080/"
        },
        "id": "MdVY0QiyslUG",
        "outputId": "ed85d2d9-29ec-42a5-c6c7-8fd617ec91dd"
      },
      "execution_count": null,
      "outputs": [
        {
          "output_type": "stream",
          "name": "stdout",
          "text": [
            "(10,)\n",
            "50\n",
            "result = 115\n"
          ]
        }
      ]
    },
    {
      "cell_type": "code",
      "metadata": {
        "id": "F3NnOsCZ0X7a",
        "colab": {
          "base_uri": "https://localhost:8080/"
        },
        "outputId": "f5d1ba4e-67b8-403e-b19d-a12d887c123e"
      },
      "source": [
        "def foo1(a, b=10, *name_for_pos_args, c, d=10, **name_for_kwargs):\n",
        "    print(name_for_pos_args)\n",
        "    print(sum(name_for_kwargs.values()))\n",
        "    print(\"d =\", d)\n",
        "    return a + b + sum(name_for_pos_args) + c + d + sum(name_for_kwargs.values())\n",
        "\n",
        "foo1(10, 10, arg1, arg2, c=10, **sample_dct)"
      ],
      "execution_count": null,
      "outputs": [
        {
          "output_type": "stream",
          "name": "stdout",
          "text": [
            "(10, 10)\n",
            "50\n",
            "d = 25\n"
          ]
        },
        {
          "output_type": "execute_result",
          "data": {
            "text/plain": [
              "125"
            ]
          },
          "metadata": {},
          "execution_count": 191
        }
      ]
    },
    {
      "cell_type": "code",
      "metadata": {
        "id": "0BKlgiepBGhr",
        "colab": {
          "base_uri": "https://localhost:8080/"
        },
        "outputId": "352c73ad-c103-4692-e376-5be511a60894"
      },
      "source": [
        "sample_dct = {'arg3': 25, 'arg4': 25, 'd': 25, 'c': 25}\n",
        "sample_dct"
      ],
      "execution_count": null,
      "outputs": [
        {
          "output_type": "execute_result",
          "data": {
            "text/plain": [
              "{'arg3': 25, 'arg4': 25, 'd': 25, 'c': 25}"
            ]
          },
          "metadata": {},
          "execution_count": 192
        }
      ]
    },
    {
      "cell_type": "code",
      "metadata": {
        "id": "GQcDJ6GnBLMl",
        "colab": {
          "base_uri": "https://localhost:8080/",
          "height": 168
        },
        "outputId": "bb08da7f-bfc5-423e-edf8-cb102eef00d7"
      },
      "source": [
        "foo1(10, 10, arg1, arg2, c=10, **sample_dct)"
      ],
      "execution_count": null,
      "outputs": [
        {
          "output_type": "error",
          "ename": "TypeError",
          "evalue": "ignored",
          "traceback": [
            "\u001b[0;31m---------------------------------------------------------------------------\u001b[0m",
            "\u001b[0;31mTypeError\u001b[0m                                 Traceback (most recent call last)",
            "\u001b[0;32m<ipython-input-193-ae812d5356e9>\u001b[0m in \u001b[0;36m<module>\u001b[0;34m\u001b[0m\n\u001b[0;32m----> 1\u001b[0;31m \u001b[0mfoo1\u001b[0m\u001b[0;34m(\u001b[0m\u001b[0;36m10\u001b[0m\u001b[0;34m,\u001b[0m \u001b[0;36m10\u001b[0m\u001b[0;34m,\u001b[0m \u001b[0marg1\u001b[0m\u001b[0;34m,\u001b[0m \u001b[0marg2\u001b[0m\u001b[0;34m,\u001b[0m \u001b[0mc\u001b[0m\u001b[0;34m=\u001b[0m\u001b[0;36m10\u001b[0m\u001b[0;34m,\u001b[0m \u001b[0;34m**\u001b[0m\u001b[0msample_dct\u001b[0m\u001b[0;34m)\u001b[0m\u001b[0;34m\u001b[0m\u001b[0;34m\u001b[0m\u001b[0m\n\u001b[0m",
            "\u001b[0;31mTypeError\u001b[0m: foo1() got multiple values for keyword argument 'c'"
          ]
        }
      ]
    },
    {
      "cell_type": "markdown",
      "metadata": {
        "id": "oB8vpUQ0tKK7"
      },
      "source": [
        "[Звездочки в питоне - как они используются](https://tproger.ru/translations/asterisks-in-python-what-they-are-and-how-to-use-them/)"
      ]
    },
    {
      "cell_type": "markdown",
      "metadata": {
        "id": "W0OZoJknHlhK"
      },
      "source": [
        "## Рекурсия"
      ]
    },
    {
      "cell_type": "markdown",
      "source": [
        "Функция называется **рекурсивной**, если в ходе своего исполнения она вызывает саму себя."
      ],
      "metadata": {
        "id": "OP1ftt4YZlmU"
      }
    },
    {
      "cell_type": "markdown",
      "source": [
        "`n! = 1 * 2 * 3 * ... * n`"
      ],
      "metadata": {
        "id": "IH_yBCWixFjC"
      }
    },
    {
      "cell_type": "markdown",
      "source": [
        "`factorial(n) = n * factorial(n-1)`"
      ],
      "metadata": {
        "id": "JSXct6qbxYia"
      }
    },
    {
      "cell_type": "markdown",
      "source": [
        "Рассмотрим рекурсию на примере одного из простейших алгоритмов сортировки.\n",
        "\n",
        "Общая идея алгоритма:\n",
        "1. Текущий список = входной список\n",
        "2. Найти минимальный элемент в текущем списке\n",
        "3. Удалить минимальный элемент из текущего списка, получим новый список\n",
        "4. Повторить п. 2-3 для нового списка, тогда `sorted_input_list = [min_elem] + sorted_current_list`"
      ],
      "metadata": {
        "id": "DG0N1qRcaKn8"
      }
    },
    {
      "cell_type": "code",
      "metadata": {
        "id": "JAuR_ofnHlhK"
      },
      "source": [
        "def easy_sort(x):\n",
        "    if len(x) == 1:\n",
        "        return x  # при вызове return функция возвращает значение и ее выполнение завершается\n",
        "    first = min(x)\n",
        "    x.remove(first)\n",
        "    print(\"Min:\", first, \"rest:\", x)\n",
        "    result = [first] + easy_sort(x)\n",
        "    print(\"Result:\", result)\n",
        "    return result"
      ],
      "execution_count": null,
      "outputs": []
    },
    {
      "cell_type": "markdown",
      "source": [
        "Проверим его работу:"
      ],
      "metadata": {
        "id": "DxP7aSdlvQvh"
      }
    },
    {
      "cell_type": "code",
      "source": [
        "easy_sort([4, 2, 3, 1, 7, 5])"
      ],
      "metadata": {
        "colab": {
          "base_uri": "https://localhost:8080/"
        },
        "id": "hS5rD7LUvYt2",
        "outputId": "f54bed22-b276-4bcf-de7a-1dfbb821b44e"
      },
      "execution_count": null,
      "outputs": [
        {
          "output_type": "stream",
          "name": "stdout",
          "text": [
            "Min: 1 rest: [4, 2, 3, 7, 5]\n",
            "Min: 2 rest: [4, 3, 7, 5]\n",
            "Min: 3 rest: [4, 7, 5]\n",
            "Min: 4 rest: [7, 5]\n",
            "Min: 5 rest: [7]\n",
            "Result: [5, 7]\n",
            "Result: [4, 5, 7]\n",
            "Result: [3, 4, 5, 7]\n",
            "Result: [2, 3, 4, 5, 7]\n",
            "Result: [1, 2, 3, 4, 5, 7]\n"
          ]
        },
        {
          "output_type": "execute_result",
          "data": {
            "text/plain": [
              "[1, 2, 3, 4, 5, 7]"
            ]
          },
          "metadata": {},
          "execution_count": 204
        }
      ]
    },
    {
      "cell_type": "markdown",
      "source": [
        "Важным моментом любой рекурсивной функции является условие остановки - иначе функция будет бесконечно вызывать саму себя."
      ],
      "metadata": {
        "id": "GnTm_ZncZ9bu"
      }
    },
    {
      "cell_type": "markdown",
      "source": [
        "На практике - перед новым вызовом функции Python запоминает текущее состояние предыдущего (родительского) вызова и помещает его в стек вызовов в память компьютера.\n",
        "\n",
        "В этом и заключается опасность рекурсии - память ограничена, поэтому и глубина рекурсии (сколько функций внутри функций внутри функций... можно вызвать).\n",
        "\n",
        "В Python имеется жесткий лимит на глубину рекурсии во избежании заполнения памяти:"
      ],
      "metadata": {
        "id": "Rj8d6dznvs8s"
      }
    },
    {
      "cell_type": "code",
      "metadata": {
        "id": "52zFvrR8uUDD",
        "colab": {
          "base_uri": "https://localhost:8080/"
        },
        "outputId": "2e4edcdf-7703-4479-dc50-1f8eeb95a425"
      },
      "source": [
        "import sys\n",
        "sys.getrecursionlimit()"
      ],
      "execution_count": null,
      "outputs": [
        {
          "output_type": "execute_result",
          "data": {
            "text/plain": [
              "1000"
            ]
          },
          "metadata": {},
          "execution_count": 205
        }
      ]
    },
    {
      "cell_type": "markdown",
      "source": [],
      "metadata": {
        "id": "jzi25oWazvVM"
      }
    },
    {
      "cell_type": "code",
      "source": [
        "def easy_sort_nonrec(x):\n",
        "    result = []\n",
        "    while len(x) > 0:\n",
        "        first = min(x)\n",
        "        result.append(first)\n",
        "        x.remove(first)\n",
        "    \n",
        "    return result"
      ],
      "metadata": {
        "id": "OU0Cra8Rzunp"
      },
      "execution_count": null,
      "outputs": []
    },
    {
      "cell_type": "code",
      "source": [
        "easy_sort_nonrec([4, 2, 3, 1, 7, 5])"
      ],
      "metadata": {
        "colab": {
          "base_uri": "https://localhost:8080/"
        },
        "id": "308EyzjW0Pvv",
        "outputId": "c7d78be2-846d-4ef1-a9e4-900c7bc1bbfa"
      },
      "execution_count": null,
      "outputs": [
        {
          "output_type": "execute_result",
          "data": {
            "text/plain": [
              "[1, 2, 3, 4, 5, 7]"
            ]
          },
          "metadata": {},
          "execution_count": 211
        }
      ]
    },
    {
      "cell_type": "code",
      "source": [
        "def easy_sort_nonrec(x):\n",
        "    def summ(a, b):\n",
        "        return a, b \n",
        "    result = []\n",
        "    while len(x) > 0:\n",
        "        first = min(x)\n",
        "        result.append(first)\n",
        "        x.remove(first)\n",
        "    \n",
        "    return result"
      ],
      "metadata": {
        "id": "PZUYCSgF1hcu"
      },
      "execution_count": null,
      "outputs": []
    },
    {
      "cell_type": "markdown",
      "metadata": {
        "id": "6D2GpOT7wONF"
      },
      "source": [
        "Еще один интересный пример рекурсивной функции - [функция Акермана](https://ru.wikipedia.org/wiki/%D0%A4%D1%83%D0%BD%D0%BA%D1%86%D0%B8%D1%8F_%D0%90%D0%BA%D0%BA%D0%B5%D1%80%D0%BC%D0%B0%D0%BD%D0%B0). Рекомендую ознакомиться с ней самостоятельно:"
      ]
    },
    {
      "cell_type": "code",
      "metadata": {
        "id": "t2AMNLLzHlhL"
      },
      "source": [
        "def ackermann(m, n):\n",
        "    if m == 0:\n",
        "        return n + 1\n",
        "    if n == 0:\n",
        "        return ackermann(m - 1, 1)\n",
        "    return ackermann(m - 1, ackermann(m, n - 1))"
      ],
      "execution_count": null,
      "outputs": []
    },
    {
      "cell_type": "code",
      "metadata": {
        "id": "2q2kAxb-HlhL"
      },
      "source": [
        "print(ackermann(1, 3))\n",
        "print(ackermann(2, 3))\n",
        "print(ackermann(3, 4))"
      ],
      "execution_count": null,
      "outputs": []
    },
    {
      "cell_type": "markdown",
      "metadata": {
        "id": "4EnFZjOqHlhR"
      },
      "source": [
        "## Анонимные функции"
      ]
    },
    {
      "cell_type": "markdown",
      "source": [
        "**Анонимная функция** - особый вид функций, которые объявляются в месте использования и не получают уникального идентификатора (имени) для доступа к ним. \n",
        "\n",
        "Реализована в Python как **лямбда-функция**. Лямбда-функция может принимать любое кол-во аргументов, но имеет только одно выражение, которое и возвращает при вызове."
      ],
      "metadata": {
        "id": "Urx5cHDFx-HI"
      }
    },
    {
      "cell_type": "markdown",
      "source": [
        "Основной синтаксис лямбда-функции выглядит следующим образом:\n",
        "\n",
        "```python\n",
        "lambda x: command()\n",
        "```"
      ],
      "metadata": {
        "id": "3_jWYIsMzbjo"
      }
    },
    {
      "cell_type": "markdown",
      "source": [
        "Помимо отсутствия имени, отличительной чертой лямбда-функции является то, что она содержит в себе только одно выражение, которое и будет возвращать при вызове."
      ],
      "metadata": {
        "id": "mZTtdYc3Ep2t"
      }
    },
    {
      "cell_type": "markdown",
      "source": [
        "Создадим анонимную функцию и запишем ее в переменную:"
      ],
      "metadata": {
        "id": "L1d4BUVtqsqe"
      }
    },
    {
      "cell_type": "code",
      "source": [
        "f_lambda = lambda x: print(x, end='EOL')"
      ],
      "metadata": {
        "id": "YjPCJ0MHq6Ip"
      },
      "execution_count": null,
      "outputs": []
    },
    {
      "cell_type": "markdown",
      "source": [
        "Проверим, что мы действительно создали функцию:"
      ],
      "metadata": {
        "id": "2Pc2WMgkrNVc"
      }
    },
    {
      "cell_type": "code",
      "source": [
        "type(f_lambda)"
      ],
      "metadata": {
        "colab": {
          "base_uri": "https://localhost:8080/"
        },
        "id": "NEP033u1rM4m",
        "outputId": "5ae038bf-8cc9-418e-9789-029e8294a747"
      },
      "execution_count": null,
      "outputs": [
        {
          "output_type": "execute_result",
          "data": {
            "text/plain": [
              "function"
            ]
          },
          "metadata": {},
          "execution_count": 11
        }
      ]
    },
    {
      "cell_type": "markdown",
      "source": [
        "Проверим как работает наша лямбда-функция:"
      ],
      "metadata": {
        "id": "N3L3-WbGrZJy"
      }
    },
    {
      "cell_type": "code",
      "source": [
        "f_lambda(\"Hello!\")"
      ],
      "metadata": {
        "colab": {
          "base_uri": "https://localhost:8080/"
        },
        "id": "_0PM4aserdwT",
        "outputId": "dd9ef9a9-0cc5-4a3b-9acb-61fb32832f17"
      },
      "execution_count": null,
      "outputs": [
        {
          "output_type": "stream",
          "name": "stdout",
          "text": [
            "Hello!EOL"
          ]
        }
      ]
    },
    {
      "cell_type": "markdown",
      "source": [
        "Записав нашу лямбда-функцию в переменную мы ей как бы дали имя, на практике так не делают - это лишь демонстрация."
      ],
      "metadata": {
        "id": "dFsPcHppq6bZ"
      }
    },
    {
      "cell_type": "markdown",
      "source": [
        "Созданная нами функция полностью эквивалентна следующей обычной (именованной) функции:"
      ],
      "metadata": {
        "id": "qKjc-KEIrEDa"
      }
    },
    {
      "cell_type": "code",
      "metadata": {
        "id": "INpcKkYgHlhR"
      },
      "source": [
        "def f(x):\n",
        "    return print(x, end='EOL')"
      ],
      "execution_count": null,
      "outputs": []
    },
    {
      "cell_type": "code",
      "source": [
        "f(\"Hello!\")"
      ],
      "metadata": {
        "colab": {
          "base_uri": "https://localhost:8080/"
        },
        "id": "apvpv1ERrzpe",
        "outputId": "423b3420-193b-4068-981e-7a6335e169f9"
      },
      "execution_count": null,
      "outputs": [
        {
          "output_type": "stream",
          "name": "stdout",
          "text": [
            "Hello!EOL"
          ]
        }
      ]
    },
    {
      "cell_type": "markdown",
      "source": [
        "Как и обычная функция, лямбда-функция может принимать на вход несколько аргументов, указывать значения по-умолчанию:"
      ],
      "metadata": {
        "id": "BpLetvDvsJ4g"
      }
    },
    {
      "cell_type": "code",
      "source": [
        "(lambda x, y=4: x + y)(10, 13000)"
      ],
      "metadata": {
        "colab": {
          "base_uri": "https://localhost:8080/"
        },
        "id": "O0CR6LbjsTyv",
        "outputId": "e859159c-7777-44ff-f931-6eff22036780"
      },
      "execution_count": null,
      "outputs": [
        {
          "output_type": "execute_result",
          "data": {
            "text/plain": [
              "13010"
            ]
          },
          "metadata": {},
          "execution_count": 18
        }
      ]
    },
    {
      "cell_type": "code",
      "source": [
        "(lambda x, y=4: x + y)(10)"
      ],
      "metadata": {
        "colab": {
          "base_uri": "https://localhost:8080/"
        },
        "id": "2mQXsid1wyz0",
        "outputId": "c2a22326-b5e3-4923-adf5-f3e0981c8f88"
      },
      "execution_count": null,
      "outputs": [
        {
          "output_type": "execute_result",
          "data": {
            "text/plain": [
              "14"
            ]
          },
          "metadata": {},
          "execution_count": 19
        }
      ]
    },
    {
      "cell_type": "code",
      "source": [
        "(lambda x, y=4, *args: x + y + sum(args))(10, 13000, 4, 100)"
      ],
      "metadata": {
        "colab": {
          "base_uri": "https://localhost:8080/"
        },
        "id": "kmJiqSlQw0xt",
        "outputId": "e44a6e12-a864-46fc-c705-792e098a406a"
      },
      "execution_count": null,
      "outputs": [
        {
          "output_type": "execute_result",
          "data": {
            "text/plain": [
              "13114"
            ]
          },
          "metadata": {},
          "execution_count": 20
        }
      ]
    },
    {
      "cell_type": "markdown",
      "source": [
        "В примерах выше мы сразу создали и вызвали лямбда-функцию."
      ],
      "metadata": {
        "id": "HzS9lE34sTOr"
      }
    },
    {
      "cell_type": "markdown",
      "source": [
        "### Применения лямбда-функций"
      ],
      "metadata": {
        "id": "LY-n6bMWxrlt"
      }
    },
    {
      "cell_type": "markdown",
      "source": [
        "**Зачем нужны лямбда-функции?** Некоторые функции принимают в качестве аргумента не обычную переменную, например, числовую или строку, а другую функцию. Эта переданная функция-аргумент используется для каких-либо вычислений внутри и обычно является достаточно простой."
      ],
      "metadata": {
        "id": "vHSJFdnvxvEF"
      }
    },
    {
      "cell_type": "markdown",
      "source": [
        "Ярким примером такой функции является функция `sorted`. Она используется для сортировки контейнеров по возрастанию и по умолчанию для этого она сравнивает элементы контейнера между собой."
      ],
      "metadata": {
        "id": "0p69m9zWypeW"
      }
    },
    {
      "cell_type": "code",
      "source": [
        "test_list = [3, 14, 15, 2, 73]"
      ],
      "metadata": {
        "id": "1qpp_q82Bk4q"
      },
      "execution_count": null,
      "outputs": []
    },
    {
      "cell_type": "code",
      "source": [
        "sorted(test_list)"
      ],
      "metadata": {
        "colab": {
          "base_uri": "https://localhost:8080/"
        },
        "id": "9r3cJ3osBttC",
        "outputId": "8615dd41-9422-4efb-ff14-40a923329716"
      },
      "execution_count": null,
      "outputs": [
        {
          "output_type": "execute_result",
          "data": {
            "text/plain": [
              "[2, 3, 14, 15, 73]"
            ]
          },
          "metadata": {},
          "execution_count": 302
        }
      ]
    },
    {
      "cell_type": "markdown",
      "source": [
        "Иногда в качестве элементов нашего сортируемого контейнера используются других контейнеры, например, кортежи и списки. Часто в таких случаях мы хотим выполнить нестандартную лексикографическую сортировку, а, например, сортировку по какому-либо конкретному индексу контейнера-элемента."
      ],
      "metadata": {
        "id": "rTp4TnH0y6gv"
      }
    },
    {
      "cell_type": "markdown",
      "source": [
        "Разберем это на примере. Пусть имеем список `customer_data`, который содержит пары элементов (кортеж из двух элементов) \"имя клиента\", \"полученный доход\"."
      ],
      "metadata": {
        "id": "fntXa5bNzS73"
      }
    },
    {
      "cell_type": "code",
      "source": [
        "customer_data = [(\"ivan\", 2), (\"george\", 4), (\"carl\", 1), (\"liz\", 20), (\"vlad\", 10)]"
      ],
      "metadata": {
        "id": "GKj7ZLRTB4DA"
      },
      "execution_count": null,
      "outputs": []
    },
    {
      "cell_type": "markdown",
      "source": [
        "Попробуем отсортировать этот список стандартным способом:"
      ],
      "metadata": {
        "id": "8Iht36M6zwkR"
      }
    },
    {
      "cell_type": "code",
      "source": [
        "sorted(customer_data)"
      ],
      "metadata": {
        "colab": {
          "base_uri": "https://localhost:8080/"
        },
        "id": "8Er2X9TGCQ9h",
        "outputId": "436e63e2-fc65-4acb-dbcd-636db52fa4ac"
      },
      "execution_count": null,
      "outputs": [
        {
          "output_type": "execute_result",
          "data": {
            "text/plain": [
              "[('carl', 1), ('george', 4), ('ivan', 2), ('liz', 20), ('vlad', 10)]"
            ]
          },
          "metadata": {},
          "execution_count": 23
        }
      ]
    },
    {
      "cell_type": "markdown",
      "source": [
        "Сортировка выполнилась в первую очередь по первому полю (как и полагается лексикографически). Но нам бы хотелось отсортировать список по доходу с клиентов. \n",
        "\n",
        "Здесь нам поможет один из необязательных аргументов функции `sorted` - `key`. Он принимает на вход функцию (не путать со значением/результатом функции), которая принимает один аргумент - элемент списка, и возвращает одно значение, по которому и будет выполняться сортировка."
      ],
      "metadata": {
        "id": "XHZ9z-Fw1HPy"
      }
    },
    {
      "cell_type": "markdown",
      "source": [
        "В таких случаях, когда функция используется лишь один раз для небольшой работы, и применяют лямбда-функции. Выполним сортировку с использованием аргумента `key`:"
      ],
      "metadata": {
        "id": "TFiWP0Yk1zIX"
      }
    },
    {
      "cell_type": "code",
      "source": [
        "sorted(customer_data, key=lambda x: x[1])  # сортируем по элементу с индексом 1"
      ],
      "metadata": {
        "colab": {
          "base_uri": "https://localhost:8080/"
        },
        "id": "x8sJL0PoCh0k",
        "outputId": "6c05a9d5-d5a5-4c69-9386-9df0a725f70f"
      },
      "execution_count": null,
      "outputs": [
        {
          "output_type": "execute_result",
          "data": {
            "text/plain": [
              "[('carl', 1), ('ivan', 2), ('george', 4), ('vlad', 10), ('liz', 20)]"
            ]
          },
          "metadata": {},
          "execution_count": 24
        }
      ]
    },
    {
      "cell_type": "markdown",
      "source": [
        "Это эквивалентно созданию именованной функции и ее указания в аргументах:"
      ],
      "metadata": {
        "id": "leRxR5B439A0"
      }
    },
    {
      "cell_type": "code",
      "source": [
        "def lambda_f(x):\n",
        "    return x[1]"
      ],
      "metadata": {
        "id": "VWOFRRm34FXI"
      },
      "execution_count": null,
      "outputs": []
    },
    {
      "cell_type": "code",
      "source": [
        "sorted(customer_data, key=lambda_f)  # указываем имя функции, не вызывая ее"
      ],
      "metadata": {
        "colab": {
          "base_uri": "https://localhost:8080/"
        },
        "id": "pjtJpsb74RaH",
        "outputId": "d6f52e07-3608-49fd-9d25-80a746ddda26"
      },
      "execution_count": null,
      "outputs": [
        {
          "output_type": "execute_result",
          "data": {
            "text/plain": [
              "[('carl', 1), ('ivan', 2), ('george', 4), ('vlad', 10), ('liz', 20)]"
            ]
          },
          "metadata": {},
          "execution_count": 30
        }
      ]
    },
    {
      "cell_type": "markdown",
      "source": [
        "Как видим, получили сортировку по элементу с индексом 1, но хотелось бы иметь сортировку по убыванию. Здесь нам может помочь другой аргумент - `reverse`, который позволяет выполнить сортировку по убыванию (в обратном порядке)."
      ],
      "metadata": {
        "id": "P7Y8GYWK2eF6"
      }
    },
    {
      "cell_type": "code",
      "source": [
        "sorted(customer_data, key=lambda x: x[1], reverse=True)"
      ],
      "metadata": {
        "colab": {
          "base_uri": "https://localhost:8080/"
        },
        "id": "e9N4g3tiC7RG",
        "outputId": "83b4e5ff-ab77-4f6d-c640-b479686768bf"
      },
      "execution_count": null,
      "outputs": [
        {
          "output_type": "execute_result",
          "data": {
            "text/plain": [
              "[('liz', 20), ('vlad', 10), ('george', 4), ('ivan', 2), ('carl', 1)]"
            ]
          },
          "metadata": {},
          "execution_count": 26
        }
      ]
    },
    {
      "cell_type": "markdown",
      "source": [
        "Еще один способ выполнить сортировку по полю 1 по убыванию - изменить нашу лямбда-фукнцию:"
      ],
      "metadata": {
        "id": "A3wByLc83vg6"
      }
    },
    {
      "cell_type": "code",
      "source": [
        "sorted(customer_data, key=lambda x: -x[1])"
      ],
      "metadata": {
        "colab": {
          "base_uri": "https://localhost:8080/"
        },
        "id": "LUv-_iQ_DDV1",
        "outputId": "891b558c-829e-4e75-dd18-0ed041983710"
      },
      "execution_count": null,
      "outputs": [
        {
          "output_type": "execute_result",
          "data": {
            "text/plain": [
              "[('liz', 20), ('vlad', 10), ('george', 4), ('ivan', 2), ('carl', 1)]"
            ]
          },
          "metadata": {},
          "execution_count": 27
        }
      ]
    },
    {
      "cell_type": "markdown",
      "source": [
        "Аналогично можно использовать и встроенные функции. Например, если хотим отсортировать список кортежей по минимальному элементу каждого кортежа:"
      ],
      "metadata": {
        "id": "ybkeOPZ94c-X"
      }
    },
    {
      "cell_type": "code",
      "source": [
        "list_of_tuples = [(10, 2), (100, 4), (-13, -1), (42, 20)]"
      ],
      "metadata": {
        "id": "bswka_yoF8UW"
      },
      "execution_count": null,
      "outputs": []
    },
    {
      "cell_type": "code",
      "source": [
        "sorted(list_of_tuples, key=min)"
      ],
      "metadata": {
        "colab": {
          "base_uri": "https://localhost:8080/"
        },
        "id": "t_Hdoe7yGBvA",
        "outputId": "9fc5c7c1-4db1-4b15-9390-68b2a47a2930"
      },
      "execution_count": null,
      "outputs": [
        {
          "output_type": "execute_result",
          "data": {
            "text/plain": [
              "[(-13, -1), (10, 2), (100, 4), (42, 20)]"
            ]
          },
          "metadata": {},
          "execution_count": 32
        }
      ]
    },
    {
      "cell_type": "markdown",
      "source": [
        "Еще одним примером встроенной функции, которая в качестве аргументов принимает другую функцию, является функция `map`."
      ],
      "metadata": {
        "id": "31Uf03XS5Sbs"
      }
    },
    {
      "cell_type": "markdown",
      "source": [
        "Функция `map` позволяет применить одну функцию ко всем элементам контейнера:"
      ],
      "metadata": {
        "id": "F7Bm_yJ-Dh-c"
      }
    },
    {
      "cell_type": "code",
      "metadata": {
        "id": "98y1K-7RHlhR",
        "colab": {
          "base_uri": "https://localhost:8080/"
        },
        "outputId": "956874bd-3b86-49ed-da6f-5715abc1726e"
      },
      "source": [
        "list(map(lambda x: x ** 2, [1,2,3]))"
      ],
      "execution_count": null,
      "outputs": [
        {
          "output_type": "execute_result",
          "data": {
            "text/plain": [
              "[1, 4, 9]"
            ]
          },
          "metadata": {},
          "execution_count": 33
        }
      ]
    },
    {
      "cell_type": "markdown",
      "source": [
        "Функция `map` возвращает результат в специальном служебном типе данных, поэтому преобразуем его в список."
      ],
      "metadata": {
        "id": "2n3POXtN8wd3"
      }
    },
    {
      "cell_type": "markdown",
      "source": [
        "Один из частых сценариев применения функции `map` - считывание набора чисел, вводимых из строки."
      ],
      "metadata": {
        "id": "56i-cMjj9b-5"
      }
    },
    {
      "cell_type": "markdown",
      "source": [
        "Предположим, мы считали строку в переменную `input_str`:"
      ],
      "metadata": {
        "id": "vxmGaW7wAI9J"
      }
    },
    {
      "cell_type": "code",
      "source": [
        "input_str = \"123 456 123778 8898\""
      ],
      "metadata": {
        "id": "IvnoKIRgBJ84"
      },
      "execution_count": null,
      "outputs": []
    },
    {
      "cell_type": "markdown",
      "source": [
        "Затем можем разбить строку эту строку на отдельные элементы по пробелу:"
      ],
      "metadata": {
        "id": "79lk7aUZBKVh"
      }
    },
    {
      "cell_type": "code",
      "source": [
        "input_str_list = input_str.split(' ')\n",
        "input_str_list"
      ],
      "metadata": {
        "colab": {
          "base_uri": "https://localhost:8080/"
        },
        "id": "d6Ax6jCpD7Wk",
        "outputId": "38a01103-a990-472a-9c2e-82f9a790a62b"
      },
      "execution_count": null,
      "outputs": [
        {
          "output_type": "execute_result",
          "data": {
            "text/plain": [
              "['123', '456', '123778', '8898']"
            ]
          },
          "metadata": {},
          "execution_count": 35
        }
      ]
    },
    {
      "cell_type": "markdown",
      "source": [
        "Остается лишь преобразовать элементы из строкового типа в целочисленный:"
      ],
      "metadata": {
        "id": "uVr5Bt1RBV2F"
      }
    },
    {
      "cell_type": "code",
      "source": [
        "list(map(int, input_str_list))"
      ],
      "metadata": {
        "id": "Jkv3QiKVFcke",
        "colab": {
          "base_uri": "https://localhost:8080/"
        },
        "outputId": "83460697-1ef7-4a6d-9917-8d6078b3bec4"
      },
      "execution_count": null,
      "outputs": [
        {
          "output_type": "execute_result",
          "data": {
            "text/plain": [
              "[123, 456, 123778, 8898]"
            ]
          },
          "metadata": {},
          "execution_count": 36
        }
      ]
    },
    {
      "cell_type": "markdown",
      "source": [
        "Эта операция эквивалентна:"
      ],
      "metadata": {
        "id": "Bg_D-R_NBdbm"
      }
    },
    {
      "cell_type": "code",
      "source": [
        "result = []\n",
        "for item in input_str_list:\n",
        "    result.append(int(item))\n",
        "result"
      ],
      "metadata": {
        "colab": {
          "base_uri": "https://localhost:8080/"
        },
        "id": "9spCcDcYEP39",
        "outputId": "6e01fcd6-09cf-4a36-830e-4057f0289d5d"
      },
      "execution_count": null,
      "outputs": [
        {
          "output_type": "execute_result",
          "data": {
            "text/plain": [
              "[123, 456, 123778, 8898]"
            ]
          },
          "metadata": {},
          "execution_count": 37
        }
      ]
    },
    {
      "cell_type": "markdown",
      "source": [
        "# Генераторы"
      ],
      "metadata": {
        "id": "8JCGSIaxD-F8"
      }
    },
    {
      "cell_type": "markdown",
      "source": [
        "Циклы позволяют удобно проходить по контейнерам и обрабатывать нужным нам образом их элементы, которые хранятся в оперативной. \n",
        "\n",
        "Но, к сожалению, это не всегда возможно. Какие могут быть причины:\n",
        "- очень большой размер файла (десятки гигабайт) - мы хотим как-либо обработать его строки и проанализировать их содержимое, но не получится загрузить в оперативную память\n",
        "- не можем сразу получить необходимые данные - данные могут передаваться непрерывным потоком, и нам необходимо этот поток данных как-либо преобразовать и выделить его полезные свойства\n",
        "\n",
        "В таких случаях нам на помощь приходит *генератор*.\n",
        "\n"
      ],
      "metadata": {
        "id": "2_Ci_rk0PL_w"
      }
    },
    {
      "cell_type": "markdown",
      "source": [
        "**Генератор** — это объект (\"тип данных\"), который сразу при создании не вычисляет значения всех своих элементов. Он хранит в памяти только последний вычисленный элемент, правило перехода к следующему и условие, при котором получение новых элементов прерывается.\n",
        "\n",
        "Вычисление следующего значения происходит лишь с помощью функции `next()`, т.е. лишь по необходимости. Предыдущее значение при этом теряется. Поэтому вычисления с помощью генераторов называются ленивыми."
      ],
      "metadata": {
        "id": "hSzSYdF6R4e6"
      }
    },
    {
      "cell_type": "markdown",
      "source": [
        "В этом и заключается отличие от привычных нам контейнеров (списков, кортежей) - они хранят в памяти все свои элементы, и удалить их можно только программно."
      ],
      "metadata": {
        "id": "1BN22q0RUNQV"
      }
    },
    {
      "cell_type": "markdown",
      "source": [
        "Генераторы можно создавать несколькими способами:\n",
        "- генераторные выражения\n",
        "- генераторные функции\n",
        "- генераторные объекты"
      ],
      "metadata": {
        "id": "ZPzMPS4MVQa7"
      }
    },
    {
      "cell_type": "markdown",
      "source": [
        "## Генераторные выражения"
      ],
      "metadata": {
        "id": "9_ZtY_DvVhtr"
      }
    },
    {
      "cell_type": "markdown",
      "source": [
        "Самый простой способ создания генераторов - **генераторное выражение**. Оно требует контейнера, из элементов которых будут высчитываться. По синтаксису, генераторное выражение очень похоже на list comprehension, только окружено не квадратными, а круглыми скобками:"
      ],
      "metadata": {
        "id": "_MGBeCDAWy-S"
      }
    },
    {
      "cell_type": "markdown",
      "source": [
        "```python\n",
        "(<expression> for <item_variable> in <container>)\n",
        "```"
      ],
      "metadata": {
        "id": "jb_NcaoHXOou"
      }
    },
    {
      "cell_type": "markdown",
      "source": [
        "Познакомимся с ними поближе на примере генератора квадратов:"
      ],
      "metadata": {
        "id": "fciIJgClX55a"
      }
    },
    {
      "cell_type": "code",
      "source": [
        "genexpr = (i**2 for i in range(1, 5))"
      ],
      "metadata": {
        "id": "JSK5yUO1W_RI"
      },
      "execution_count": null,
      "outputs": []
    },
    {
      "cell_type": "code",
      "source": [
        "type(genexpr)"
      ],
      "metadata": {
        "colab": {
          "base_uri": "https://localhost:8080/"
        },
        "id": "E5cvHm2uZbDH",
        "outputId": "d6f98f8f-49da-4ac8-928a-f579b540ef85"
      },
      "execution_count": null,
      "outputs": [
        {
          "output_type": "execute_result",
          "data": {
            "text/plain": [
              "generator"
            ]
          },
          "metadata": {},
          "execution_count": 44
        }
      ]
    },
    {
      "cell_type": "markdown",
      "source": [
        "Для получения элементов из него воспользуемся функцией `next`:"
      ],
      "metadata": {
        "id": "t6NxeWpQYApj"
      }
    },
    {
      "cell_type": "code",
      "source": [
        "next(genexpr)"
      ],
      "metadata": {
        "colab": {
          "base_uri": "https://localhost:8080/"
        },
        "id": "lCmH63P1YAPy",
        "outputId": "c4458147-2022-42e3-d6b6-1849b146563b"
      },
      "execution_count": null,
      "outputs": [
        {
          "output_type": "execute_result",
          "data": {
            "text/plain": [
              "1"
            ]
          },
          "metadata": {},
          "execution_count": 39
        }
      ]
    },
    {
      "cell_type": "markdown",
      "source": [
        "Попробуем снова получить элемент:"
      ],
      "metadata": {
        "id": "eF6cwIcEYgZq"
      }
    },
    {
      "cell_type": "code",
      "source": [
        "next(genexpr)"
      ],
      "metadata": {
        "colab": {
          "base_uri": "https://localhost:8080/"
        },
        "id": "zabB71GEYi0M",
        "outputId": "e58a14c9-724c-43b7-ff70-b5d5e91b5b47"
      },
      "execution_count": null,
      "outputs": [
        {
          "output_type": "execute_result",
          "data": {
            "text/plain": [
              "4"
            ]
          },
          "metadata": {},
          "execution_count": 40
        }
      ]
    },
    {
      "cell_type": "markdown",
      "source": [
        "Получили следующий элемент. Попробуем и дальше получать элементы:"
      ],
      "metadata": {
        "id": "nOTwUK8gYsjk"
      }
    },
    {
      "cell_type": "code",
      "source": [
        "next(genexpr)"
      ],
      "metadata": {
        "colab": {
          "base_uri": "https://localhost:8080/"
        },
        "id": "wiWpDPw3YxCE",
        "outputId": "9492023b-fe1a-459c-e7fd-6937e001cb8f"
      },
      "execution_count": null,
      "outputs": [
        {
          "output_type": "execute_result",
          "data": {
            "text/plain": [
              "9"
            ]
          },
          "metadata": {},
          "execution_count": 41
        }
      ]
    },
    {
      "cell_type": "code",
      "source": [
        "next(genexpr)"
      ],
      "metadata": {
        "colab": {
          "base_uri": "https://localhost:8080/"
        },
        "id": "9MF2yTHVYydO",
        "outputId": "cd92afd5-99af-4014-c89f-f02f9c9a8af6"
      },
      "execution_count": null,
      "outputs": [
        {
          "output_type": "execute_result",
          "data": {
            "text/plain": [
              "16"
            ]
          },
          "metadata": {},
          "execution_count": 42
        }
      ]
    },
    {
      "cell_type": "code",
      "source": [
        "next(genexpr)"
      ],
      "metadata": {
        "colab": {
          "base_uri": "https://localhost:8080/",
          "height": 168
        },
        "id": "N7jt7mPAYzRF",
        "outputId": "7a41711f-f6ab-4521-be12-df1dcb9bbe2c"
      },
      "execution_count": null,
      "outputs": [
        {
          "output_type": "error",
          "ename": "StopIteration",
          "evalue": "ignored",
          "traceback": [
            "\u001b[0;31m---------------------------------------------------------------------------\u001b[0m",
            "\u001b[0;31mStopIteration\u001b[0m                             Traceback (most recent call last)",
            "\u001b[0;32m<ipython-input-43-b44198bbd1d7>\u001b[0m in \u001b[0;36m<module>\u001b[0;34m\u001b[0m\n\u001b[0;32m----> 1\u001b[0;31m \u001b[0mnext\u001b[0m\u001b[0;34m(\u001b[0m\u001b[0mgenexpr\u001b[0m\u001b[0;34m)\u001b[0m\u001b[0;34m\u001b[0m\u001b[0;34m\u001b[0m\u001b[0m\n\u001b[0m",
            "\u001b[0;31mStopIteration\u001b[0m: "
          ]
        }
      ]
    },
    {
      "cell_type": "markdown",
      "source": [
        "Получили ошибку `StopIteration`. Эта ошибка является служебной, используется в цикле `for` для остановки его работы. Теперь посмотрим как генератор работает с циклом `for`:"
      ],
      "metadata": {
        "id": "CF8mL_Q7Y1Dp"
      }
    },
    {
      "cell_type": "code",
      "source": [
        "for item in (i**2 for i in range(1, 5)):\n",
        "    print(item)"
      ],
      "metadata": {
        "colab": {
          "base_uri": "https://localhost:8080/"
        },
        "id": "1CteRjNua6bN",
        "outputId": "5d21f114-630f-401d-8ebd-42cab9604eae"
      },
      "execution_count": null,
      "outputs": [
        {
          "output_type": "stream",
          "name": "stdout",
          "text": [
            "1\n",
            "4\n",
            "9\n",
            "16\n"
          ]
        }
      ]
    },
    {
      "cell_type": "markdown",
      "source": [
        "Сравним память, используемую list comprehension и генераторным выражением. Для этого нам пригодится функция `getsizeof` из модуля системных функций `sys`:"
      ],
      "metadata": {
        "id": "OSJNTtWDiYB5"
      }
    },
    {
      "cell_type": "code",
      "source": [
        "from sys import getsizeof\n",
        "\n",
        "help(getsizeof)"
      ],
      "metadata": {
        "colab": {
          "base_uri": "https://localhost:8080/"
        },
        "id": "K3bfPoZ8ij5k",
        "outputId": "b0e3d20c-3f47-4355-e720-53d8dd8411bd"
      },
      "execution_count": null,
      "outputs": [
        {
          "output_type": "stream",
          "name": "stdout",
          "text": [
            "Help on built-in function getsizeof in module sys:\n",
            "\n",
            "getsizeof(...)\n",
            "    getsizeof(object, default) -> int\n",
            "    \n",
            "    Return the size of object in bytes.\n",
            "\n"
          ]
        }
      ]
    },
    {
      "cell_type": "markdown",
      "source": [
        "Память, используемая list comprehension квадратов чисел до 1 000 000:"
      ],
      "metadata": {
        "id": "LJDnH6PHiykZ"
      }
    },
    {
      "cell_type": "code",
      "source": [
        "getsizeof([item ** 2 for item in range(1_000_000)])"
      ],
      "metadata": {
        "colab": {
          "base_uri": "https://localhost:8080/"
        },
        "id": "8U17QK3Ri4yI",
        "outputId": "96ae7b33-539e-4cef-e072-8e4e5899b242"
      },
      "execution_count": null,
      "outputs": [
        {
          "output_type": "execute_result",
          "data": {
            "text/plain": [
              "8697472"
            ]
          },
          "metadata": {},
          "execution_count": 60
        }
      ]
    },
    {
      "cell_type": "markdown",
      "source": [
        "Память, используемая генераторным выражением для аналогичной задачи:"
      ],
      "metadata": {
        "id": "lZImepmWjA5_"
      }
    },
    {
      "cell_type": "code",
      "source": [
        "getsizeof((item ** 2 for item in range(1_000_000)))"
      ],
      "metadata": {
        "colab": {
          "base_uri": "https://localhost:8080/"
        },
        "id": "vYcX-_XWigIZ",
        "outputId": "2471007f-e5be-468b-b609-e09e67d56d06"
      },
      "execution_count": null,
      "outputs": [
        {
          "output_type": "execute_result",
          "data": {
            "text/plain": [
              "128"
            ]
          },
          "metadata": {},
          "execution_count": 61
        }
      ]
    },
    {
      "cell_type": "markdown",
      "source": [
        "Как видим, экономия памяти очевидна."
      ],
      "metadata": {
        "id": "8TCVG44OjUiU"
      }
    },
    {
      "cell_type": "markdown",
      "source": [
        "## Генераторные функции"
      ],
      "metadata": {
        "id": "XoN5RJl0a5tD"
      }
    },
    {
      "cell_type": "markdown",
      "source": [
        "Генераторные выражения - упрощенный способ создания **генераторных функций**.\n",
        "\n",
        "Генераторная функция отличается от обычной функции тем, что вместо команды `return` для возврата значения в ней используется `yield` - `return` завершает работу функции, а `yield` лишь приостанавливает её до следующего вызова генераторной функции.\n",
        "\n",
        "При первом вызове метода `next()` выполняется код функции с первой команды до `yield`. При втором `next()` и последующих до конца генератора — код со следующей после `yield` команды и до тех пор, пока `yield` не встретится снова."
      ],
      "metadata": {
        "id": "dWw09g0tcae2"
      }
    },
    {
      "cell_type": "markdown",
      "source": [
        "Рассмотрим работу функции-генератора на примере. Создадим функцию-генератор для создания квадратов чисел со смещением:"
      ],
      "metadata": {
        "id": "weFFC0aVd8N4"
      }
    },
    {
      "cell_type": "code",
      "source": [
        "def gen_fn(n):\n",
        "    shift = 0\n",
        "    for i in range(n):\n",
        "        yield i ** 2 + shift\n",
        "        shift += 1"
      ],
      "metadata": {
        "id": "I9BpKxdqfvsQ"
      },
      "execution_count": null,
      "outputs": []
    },
    {
      "cell_type": "markdown",
      "source": [
        "Проверим тип созданной функции:"
      ],
      "metadata": {
        "id": "fk71Rnuag-p-"
      }
    },
    {
      "cell_type": "code",
      "source": [
        "type(gen_fn)"
      ],
      "metadata": {
        "colab": {
          "base_uri": "https://localhost:8080/"
        },
        "id": "6KuLq3Fif91G",
        "outputId": "74575d67-7c11-4840-cf3a-3ed786fae238"
      },
      "execution_count": null,
      "outputs": [
        {
          "output_type": "execute_result",
          "data": {
            "text/plain": [
              "function"
            ]
          },
          "metadata": {},
          "execution_count": 53
        }
      ]
    },
    {
      "cell_type": "markdown",
      "source": [
        "Сама по себе генераторная функция не является генератором,  но может создавать их при вызове:"
      ],
      "metadata": {
        "id": "1eGUPoaMg2-c"
      }
    },
    {
      "cell_type": "code",
      "source": [
        "gen = gen_fn(5)\n",
        "type(gen)"
      ],
      "metadata": {
        "colab": {
          "base_uri": "https://localhost:8080/"
        },
        "id": "RK1eVqmPgEX0",
        "outputId": "5d7bb5d0-a15d-432d-bc25-6bb25b831e19"
      },
      "execution_count": null,
      "outputs": [
        {
          "output_type": "execute_result",
          "data": {
            "text/plain": [
              "generator"
            ]
          },
          "metadata": {},
          "execution_count": 54
        }
      ]
    },
    {
      "cell_type": "markdown",
      "source": [
        "Проверим как работает с нашим новым генератором цикл `for`:"
      ],
      "metadata": {
        "id": "4hhQWcyrhCtI"
      }
    },
    {
      "cell_type": "code",
      "source": [
        "for i in gen:\n",
        "    print(i)"
      ],
      "metadata": {
        "colab": {
          "base_uri": "https://localhost:8080/"
        },
        "id": "m8W4wHCKgsuU",
        "outputId": "e5660ba6-34d6-41a2-ddee-563abc27239c"
      },
      "execution_count": null,
      "outputs": [
        {
          "output_type": "stream",
          "name": "stdout",
          "text": [
            "0\n",
            "2\n",
            "6\n",
            "12\n",
            "20\n"
          ]
        }
      ]
    },
    {
      "cell_type": "markdown",
      "source": [
        "С помощью генераторных функций можно создавать бесконечные генераторы, которые могут порождать новые элементы без остановки.\n",
        "\n",
        "Создадим генератор, который возвращает кубы натуральных чисел:"
      ],
      "metadata": {
        "id": "UhyU9XFVhyJ1"
      }
    },
    {
      "cell_type": "code",
      "source": [
        "def cubes():\n",
        "    i = 0\n",
        "    while True:\n",
        "        yield i ** 3\n",
        "        i += 1"
      ],
      "metadata": {
        "id": "34yB4QMEgsWJ"
      },
      "execution_count": null,
      "outputs": []
    },
    {
      "cell_type": "markdown",
      "source": [
        "Можем проверить его работу, запустив в цикле, но предварительно добавить счетчик для ручной остановки цикла:"
      ],
      "metadata": {
        "id": "Wg8lRLtnkL18"
      }
    },
    {
      "cell_type": "code",
      "source": [
        "counter = 0\n",
        "for item in cubes():\n",
        "    print(item, end=' ')\n",
        "    counter += 1\n",
        "    if counter == 15:\n",
        "        break"
      ],
      "metadata": {
        "colab": {
          "base_uri": "https://localhost:8080/"
        },
        "id": "QoMEU7UlkUYP",
        "outputId": "d1aae220-a041-4681-c3c3-56005bbca3a2"
      },
      "execution_count": null,
      "outputs": [
        {
          "output_type": "stream",
          "name": "stdout",
          "text": [
            "0 1 8 27 64 125 216 343 512 729 1000 1331 1728 2197 2744 "
          ]
        }
      ]
    },
    {
      "cell_type": "markdown",
      "source": [
        "# Итераторы"
      ],
      "metadata": {
        "id": "XhfmkqIKPNDr"
      }
    },
    {
      "cell_type": "markdown",
      "source": [
        "Минутка формальных определений в Python."
      ],
      "metadata": {
        "id": "cjC51QWOMh3U"
      }
    },
    {
      "cell_type": "markdown",
      "source": [
        "**Итерируемый (iterable)** объект (переменная) - объект (переменная), от которого встроенная функция `iter()` может получить *итератор*.\n",
        "\n",
        "**Итератор** - объект (переменная), который позволяет получить элемент с помощью функции `next()`."
      ],
      "metadata": {
        "id": "TjNVl3XsMOf_"
      }
    },
    {
      "cell_type": "markdown",
      "source": [
        "Их взаимосвязь можно описать схематично:\n",
        "\n",
        "![iters](https://pythonist.ru/wp-content/uploads/2020/10/1513840561502_6-1024x318.png)"
      ],
      "metadata": {
        "id": "FZDamd-zv4at"
      }
    },
    {
      "cell_type": "markdown",
      "source": [
        "Сами того не осознавая, мы сталкивались с ними повсеместно, например, при работе со списком в цикле"
      ],
      "metadata": {
        "id": "OoiutoUBpXTd"
      }
    },
    {
      "cell_type": "code",
      "source": [
        "test_list = ['Hello', 'world!']"
      ],
      "metadata": {
        "id": "Hev_uFbL35dC"
      },
      "execution_count": null,
      "outputs": []
    },
    {
      "cell_type": "code",
      "source": [
        "test_list_iterator = test_list.__iter__()\n",
        "print(test_list_iterator)"
      ],
      "metadata": {
        "colab": {
          "base_uri": "https://localhost:8080/"
        },
        "id": "__Syg29J4avI",
        "outputId": "f9d2b0bf-50fc-4639-90eb-07f93406c932"
      },
      "execution_count": null,
      "outputs": [
        {
          "output_type": "stream",
          "name": "stdout",
          "text": [
            "<list_iterator object at 0x7fd47d90eed0>\n"
          ]
        }
      ]
    },
    {
      "cell_type": "code",
      "source": [
        "test_list_iterator.__next__()"
      ],
      "metadata": {
        "colab": {
          "base_uri": "https://localhost:8080/",
          "height": 34
        },
        "id": "aLMrpV364OeN",
        "outputId": "07cdca8f-247c-4d67-f46b-7799e4aed86d"
      },
      "execution_count": null,
      "outputs": [
        {
          "output_type": "execute_result",
          "data": {
            "text/plain": [
              "'Hello'"
            ],
            "application/vnd.google.colaboratory.intrinsic+json": {
              "type": "string"
            }
          },
          "metadata": {},
          "execution_count": 69
        }
      ]
    },
    {
      "cell_type": "code",
      "source": [
        "test_list_iterator.__next__()"
      ],
      "metadata": {
        "colab": {
          "base_uri": "https://localhost:8080/",
          "height": 34
        },
        "id": "Pkhe6CVG4mux",
        "outputId": "8e4689c6-5876-4a09-f544-3d71f5dcd6cb"
      },
      "execution_count": null,
      "outputs": [
        {
          "output_type": "execute_result",
          "data": {
            "text/plain": [
              "'world!'"
            ],
            "application/vnd.google.colaboratory.intrinsic+json": {
              "type": "string"
            }
          },
          "metadata": {},
          "execution_count": 70
        }
      ]
    },
    {
      "cell_type": "code",
      "source": [
        "test_list_iterator.__next__()"
      ],
      "metadata": {
        "colab": {
          "base_uri": "https://localhost:8080/",
          "height": 168
        },
        "id": "vHS_wpLk4npt",
        "outputId": "18da79cd-15af-421e-9db1-58f9836e3916"
      },
      "execution_count": null,
      "outputs": [
        {
          "output_type": "error",
          "ename": "StopIteration",
          "evalue": "ignored",
          "traceback": [
            "\u001b[0;31m---------------------------------------------------------------------------\u001b[0m",
            "\u001b[0;31mStopIteration\u001b[0m                             Traceback (most recent call last)",
            "\u001b[0;32m<ipython-input-71-766f2a1f3052>\u001b[0m in \u001b[0;36m<module>\u001b[0;34m\u001b[0m\n\u001b[0;32m----> 1\u001b[0;31m \u001b[0mtest_list_iterator\u001b[0m\u001b[0;34m.\u001b[0m\u001b[0m__next__\u001b[0m\u001b[0;34m(\u001b[0m\u001b[0;34m)\u001b[0m\u001b[0;34m\u001b[0m\u001b[0;34m\u001b[0m\u001b[0m\n\u001b[0m",
            "\u001b[0;31mStopIteration\u001b[0m: "
          ]
        }
      ]
    },
    {
      "cell_type": "markdown",
      "source": [
        "Итоговая картина взаимосвязей этих сущностей указана на картинке:\n",
        "\n",
        "![iters_schema](https://baikov.dev/iterators-and-generators-python/img/iterator-generator.png)"
      ],
      "metadata": {
        "id": "Da1NTYSZwJvU"
      }
    },
    {
      "cell_type": "markdown",
      "source": [
        "`from collections.abc import Iterable, Iterator`"
      ],
      "metadata": {
        "id": "2u0gaVt_5bEJ"
      }
    },
    {
      "cell_type": "code",
      "metadata": {
        "id": "Y7wV9EPhHlhN"
      },
      "source": [
        "from collections.abc import Iterable, Iterator\n",
        "\n",
        "list_example = ['Alice', 'Bob', 'Charlie']\n",
        "iterator1 = iter(list_example)  # iterable.__iter__()\n",
        "iterator2 = iter(list_example)"
      ],
      "execution_count": null,
      "outputs": []
    },
    {
      "cell_type": "code",
      "source": [
        "print(list_example)  # ['Alice', 'Bob', 'Charlie']\n",
        "print(isinstance(list_example, Iterable)) # True"
      ],
      "metadata": {
        "colab": {
          "base_uri": "https://localhost:8080/"
        },
        "id": "-RJtJFud5x6m",
        "outputId": "b6f9cc78-71c2-45b3-f94d-1aa71502d58a"
      },
      "execution_count": null,
      "outputs": [
        {
          "output_type": "stream",
          "name": "stdout",
          "text": [
            "['Alice', 'Bob', 'Charlie']\n",
            "True\n",
            "<list_iterator object at 0x7ff2a0ca5550>\n",
            "True\n"
          ]
        }
      ]
    },
    {
      "cell_type": "code",
      "source": [
        "print(iterator1)\n",
        "print(isinstance(iterator1, Iterator)) # True"
      ],
      "metadata": {
        "id": "P4vy--AnBYxB"
      },
      "execution_count": null,
      "outputs": []
    },
    {
      "cell_type": "markdown",
      "source": [
        "# Здесь начинается следующая тема"
      ],
      "metadata": {
        "id": "g9k2tGAnqn9v"
      }
    },
    {
      "cell_type": "markdown",
      "metadata": {
        "id": "FwTXe6qzHlhR"
      },
      "source": [
        "# Аттрибуты"
      ]
    },
    {
      "cell_type": "code",
      "metadata": {
        "id": "16VCk26lIKPt"
      },
      "source": [
        "print?"
      ],
      "execution_count": null,
      "outputs": []
    },
    {
      "cell_type": "code",
      "metadata": {
        "id": "nOm73CoMIBTe"
      },
      "source": [
        "print(print.__doc__)\n",
        "print(type(print.__doc__))"
      ],
      "execution_count": null,
      "outputs": []
    },
    {
      "cell_type": "code",
      "metadata": {
        "id": "FwRIKhKx5Ss4"
      },
      "source": [
        "dir(foo)"
      ],
      "execution_count": null,
      "outputs": []
    },
    {
      "cell_type": "code",
      "metadata": {
        "id": "9Bqy3qN7HlhS"
      },
      "source": [
        "def foo(*args, **kwargs):\n",
        "    'Function which prints arguments.'\n",
        "    print('args =', args, 'kwargs =', kwargs)\n",
        "\n",
        "print(*dir(foo), sep=' ')\n",
        "print(foo.__name__)\n",
        "print(foo.__doc__) # documentation\n",
        "print(foo.__module__)"
      ],
      "execution_count": null,
      "outputs": []
    },
    {
      "cell_type": "markdown",
      "metadata": {
        "id": "_Gth1Y8WHlhS"
      },
      "source": [
        "#### Аттрибуты как статические переменные"
      ]
    },
    {
      "cell_type": "code",
      "metadata": {
        "id": "ZX8levfJHlhS"
      },
      "source": [
        "def get_next_id():\n",
        "    if not hasattr(get_next_id, 'value'):\n",
        "        get_next_id.value = 0\n",
        "    \n",
        "    get_next_id.value += 1\n",
        "    return get_next_id.value\n",
        "\n",
        "print(get_next_id())\n",
        "print(get_next_id())\n",
        "print(get_next_id())\n",
        "print('get_next_id.value =', get_next_id.value)"
      ],
      "execution_count": null,
      "outputs": []
    },
    {
      "cell_type": "markdown",
      "metadata": {
        "id": "bpjVucOcHlhT"
      },
      "source": [
        "#### Где хранятся аргументы по умолчанию?"
      ]
    },
    {
      "cell_type": "code",
      "metadata": {
        "id": "A-VzbnrrHlhT"
      },
      "source": [
        "def foo(a = 'Hello', b = 1):\n",
        "    print(a, b)\n",
        "\n",
        "print('Defaults: ', foo.__defaults__)\n",
        "foo()\n",
        "\n",
        "foo.__defaults__ = ('Hello', 'world!')\n",
        "print('Defaults: ', foo.__defaults__)\n",
        "foo()"
      ],
      "execution_count": null,
      "outputs": []
    },
    {
      "cell_type": "markdown",
      "metadata": {
        "id": "xQYjlZeKHlhV"
      },
      "source": [
        "#### Почему не стоит использовать mutable аргументы по умолчанию"
      ]
    },
    {
      "cell_type": "code",
      "metadata": {
        "id": "dLFcKVzeHlhV"
      },
      "source": [
        "def foo(a, b=[]):\n",
        "    b.append(a)\n",
        "    print(*b)\n",
        "    \n",
        "foo('Hello')\n",
        "foo('the')\n",
        "foo('wonderful')\n",
        "foo('world!')"
      ],
      "execution_count": null,
      "outputs": []
    },
    {
      "cell_type": "code",
      "metadata": {
        "id": "Bf1bhPiKVUYV"
      },
      "source": [
        "def foo(a):\n",
        "    b=[]\n",
        "    b.append(a)\n",
        "    print(*b)\n",
        "    \n",
        "foo('Hello')\n",
        "foo('the')\n",
        "foo('wonderful')\n",
        "foo('world!')"
      ],
      "execution_count": null,
      "outputs": []
    },
    {
      "cell_type": "markdown",
      "source": [
        "## Полезные инструменты"
      ],
      "metadata": {
        "id": "41xUIstdaIhv"
      }
    },
    {
      "cell_type": "code",
      "metadata": {
        "id": "pF6x9CHvfmw3"
      },
      "source": [
        "del range"
      ],
      "execution_count": null,
      "outputs": []
    },
    {
      "cell_type": "code",
      "metadata": {
        "id": "ycGzDpQZHlhg"
      },
      "source": [
        "# Функция filter - возвращает фильтр-объект (генератор)\n",
        "res = [y for y in filter(lambda x: x > 0, range(-5, 6))]\n",
        "\n",
        "print(res)"
      ],
      "execution_count": null,
      "outputs": []
    },
    {
      "cell_type": "code",
      "metadata": {
        "id": "mVPNmtDyHlhg"
      },
      "source": [
        "import functools\n",
        "\n",
        "#help(functools.reduce) # == Apply a function of two arguments cumulatively to the items of a sequence\n",
        "\n",
        "print(functools.reduce(lambda x,y: x*y, res))"
      ],
      "execution_count": null,
      "outputs": []
    },
    {
      "cell_type": "code",
      "metadata": {
        "id": "IJX6Tu-ld4Bc"
      },
      "source": [
        "print(functools.reduce(lambda x,y: x*y, range(1, 6)))"
      ],
      "execution_count": null,
      "outputs": []
    },
    {
      "cell_type": "code",
      "metadata": {
        "id": "WKjE5nuTeJdB"
      },
      "source": [
        "value = 1\n",
        "\n",
        "def f_0():\n",
        "    value = 2\n",
        "\n",
        "    def f_1():\n",
        "        value = 3\n",
        "\n",
        "        def f_2():\n",
        "            nonlocal value\n",
        "            print(value)\n",
        "        \n",
        "        f_2()\n",
        "\n",
        "    f_1()\n",
        "\n",
        "f_0()\n",
        "# print(value)"
      ],
      "execution_count": null,
      "outputs": []
    }
  ]
}