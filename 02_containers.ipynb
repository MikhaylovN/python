{
  "nbformat": 4,
  "nbformat_minor": 0,
  "metadata": {
    "colab": {
      "provenance": [],
      "collapsed_sections": []
    },
    "kernelspec": {
      "name": "python3",
      "display_name": "Python 3"
    }
  },
  "cells": [
    {
      "cell_type": "markdown",
      "metadata": {
        "id": "e53GY3al7d-i"
      },
      "source": [
        "# Занятие 2. Базовые контейнеры и встроенные функции"
      ]
    },
    {
      "cell_type": "markdown",
      "source": [
        "**Контейнеры** - типы данных, экземпляры (т.е. переменные этих типов данных) которых содержат в себе один или несколько других элементов.\n",
        "\n",
        "- `list` - список\n",
        "- `tuple` - кортеж\n",
        "- `dict` - словарь\n",
        "- `set` - множество"
      ],
      "metadata": {
        "id": "f8kGpDiBPW6Q"
      }
    },
    {
      "cell_type": "markdown",
      "metadata": {
        "id": "sAjK_o5P7g3y"
      },
      "source": [
        "# list"
      ]
    },
    {
      "cell_type": "markdown",
      "source": [
        "**list** (cписок, массив, лист) - контейнер, в котором доступ к его элементам предоставляется по индексу (порядковому номеру). Можно добавлять, удалять и изменять элемента. Аналогичен `vector` из C++, но может содержать элементы разных типов (в том числе может содержать контейнеры).\n",
        "\n",
        "Чтобы создать пустой список, можно использовать либо пустые квадратные скобки `[]`, либо использовать функцию `list()`:"
      ],
      "metadata": {
        "id": "ebtJifoUtZLi"
      }
    },
    {
      "cell_type": "code",
      "metadata": {
        "id": "KAiiJAqh7dS7",
        "colab": {
          "base_uri": "https://localhost:8080/"
        },
        "outputId": "a0145f84-b67a-4bb3-de1f-29454b731761"
      },
      "source": [
        "a = []\n",
        "b = list()\n",
        "\n",
        "# убедимся, что два варианта создания пустого массива эквивалентны:\n",
        "print(a == b)"
      ],
      "execution_count": null,
      "outputs": [
        {
          "output_type": "stream",
          "name": "stdout",
          "text": [
            "True\n"
          ]
        }
      ]
    },
    {
      "cell_type": "markdown",
      "source": [
        "Чтобы создать список с элементами, необходимо в квадратные скобки поместить элементы, разделяя их запятой:"
      ],
      "metadata": {
        "id": "DjENTNbJzKW8"
      }
    },
    {
      "cell_type": "code",
      "metadata": {
        "colab": {
          "base_uri": "https://localhost:8080/"
        },
        "id": "9hAfVNriKJxu",
        "outputId": "becb1d73-0516-4cb1-b758-e0de1e255f54"
      },
      "source": [
        "list_example1 = [1, 0, 2.0, '3', [4]]\n",
        "\n",
        "# Напечатаем наш список\n",
        "print(list_example1)\n",
        "print(type(list_example1))"
      ],
      "execution_count": null,
      "outputs": [
        {
          "output_type": "stream",
          "name": "stdout",
          "text": [
            "[1, 0, 2.0, '3', [4]]\n",
            "<class 'list'>\n"
          ]
        },
        {
          "output_type": "execute_result",
          "data": {
            "text/plain": [
              "list"
            ]
          },
          "metadata": {},
          "execution_count": 3
        }
      ]
    },
    {
      "cell_type": "markdown",
      "source": [
        "## Оператор `in`"
      ],
      "metadata": {
        "id": "Sz-wHbDwYycR"
      }
    },
    {
      "cell_type": "markdown",
      "source": [
        "**Оператор `in`**  используем чтобы проверить, присутствует ли в списке какой-либо элемент"
      ],
      "metadata": {
        "id": "rl0IUz6cHYc4"
      }
    },
    {
      "cell_type": "code",
      "source": [
        "print(list_example1)"
      ],
      "metadata": {
        "colab": {
          "base_uri": "https://localhost:8080/"
        },
        "id": "hMteQ6BHHhw2",
        "outputId": "35e539c3-2cff-42a5-f68f-42d692597225"
      },
      "execution_count": null,
      "outputs": [
        {
          "output_type": "stream",
          "name": "stdout",
          "text": [
            "[1, 0, 2.0, '3', [4]]\n"
          ]
        }
      ]
    },
    {
      "cell_type": "code",
      "source": [
        "1.0 in list_example1"
      ],
      "metadata": {
        "id": "XTm-fp2dV5wv",
        "colab": {
          "base_uri": "https://localhost:8080/"
        },
        "outputId": "9580df69-c530-4861-ebc0-26edcd3d65e2"
      },
      "execution_count": null,
      "outputs": [
        {
          "output_type": "execute_result",
          "data": {
            "text/plain": [
              "True"
            ]
          },
          "metadata": {},
          "execution_count": 6
        }
      ]
    },
    {
      "cell_type": "code",
      "source": [
        "-1 in list_example1"
      ],
      "metadata": {
        "id": "4P1MW0S1V7FF",
        "colab": {
          "base_uri": "https://localhost:8080/"
        },
        "outputId": "ee651635-b2f4-462f-8667-5e51326cd0ec"
      },
      "execution_count": null,
      "outputs": [
        {
          "output_type": "execute_result",
          "data": {
            "text/plain": [
              "False"
            ]
          },
          "metadata": {},
          "execution_count": 7
        }
      ]
    },
    {
      "cell_type": "code",
      "source": [
        "3 in list_example1"
      ],
      "metadata": {
        "id": "kJZwlgZKV80Q",
        "colab": {
          "base_uri": "https://localhost:8080/"
        },
        "outputId": "95364bc3-0cfe-40d9-b0d6-c06f0266ee4c"
      },
      "execution_count": null,
      "outputs": [
        {
          "output_type": "execute_result",
          "data": {
            "text/plain": [
              "False"
            ]
          },
          "metadata": {},
          "execution_count": 8
        }
      ]
    },
    {
      "cell_type": "markdown",
      "source": [
        "Для проверки отсутствия элемента в списке удобно использовать оператор `not in`:"
      ],
      "metadata": {
        "id": "mcTZ0p8PZfvQ"
      }
    },
    {
      "cell_type": "code",
      "source": [
        "5 not in list_example1"
      ],
      "metadata": {
        "id": "H5dJrUO3Z2uD",
        "colab": {
          "base_uri": "https://localhost:8080/"
        },
        "outputId": "7fc6d005-719e-4c4c-edf3-4d522d35506a"
      },
      "execution_count": null,
      "outputs": [
        {
          "output_type": "execute_result",
          "data": {
            "text/plain": [
              "True"
            ]
          },
          "metadata": {},
          "execution_count": 9
        }
      ]
    },
    {
      "cell_type": "code",
      "source": [
        "\"3\" not in list_example1"
      ],
      "metadata": {
        "id": "2OqjmndWayDj",
        "colab": {
          "base_uri": "https://localhost:8080/"
        },
        "outputId": "6462b056-f1e9-46d8-9ad3-949547c8ba60"
      },
      "execution_count": null,
      "outputs": [
        {
          "output_type": "execute_result",
          "data": {
            "text/plain": [
              "False"
            ]
          },
          "metadata": {},
          "execution_count": 10
        }
      ]
    },
    {
      "cell_type": "markdown",
      "source": [
        "Рассмотрим еще один пример:"
      ],
      "metadata": {
        "id": "TXAeKFSFaTMB"
      }
    },
    {
      "cell_type": "code",
      "source": [
        "2 in list_example1"
      ],
      "metadata": {
        "colab": {
          "base_uri": "https://localhost:8080/"
        },
        "id": "JJBgj0zWaYmr",
        "outputId": "91aa9830-cbeb-4d24-e449-43050af6bc44"
      },
      "execution_count": null,
      "outputs": [
        {
          "output_type": "execute_result",
          "data": {
            "text/plain": [
              "True"
            ]
          },
          "metadata": {},
          "execution_count": 11
        }
      ]
    },
    {
      "cell_type": "markdown",
      "source": [
        "**Замечание** - мы проверили ести ли элемент `2` (типа `int`) в нашем списке и получили `True`, но в списке есть только `2.0` (типа `float`). Python способен сравнивать числовые типы данных, например, `float` и `int`, и находить числовые элементы, игнорируя их тип. Аналогичное происходит с типом `bool`:"
      ],
      "metadata": {
        "id": "tNowCtArH-AY"
      }
    },
    {
      "cell_type": "code",
      "source": [
        "list_example1"
      ],
      "metadata": {
        "colab": {
          "base_uri": "https://localhost:8080/"
        },
        "id": "3Q8gtXN4JF-a",
        "outputId": "f8458d02-96d4-464c-a0c4-ebc05f98cb9e"
      },
      "execution_count": null,
      "outputs": [
        {
          "output_type": "execute_result",
          "data": {
            "text/plain": [
              "[1, 0, 2.0, '3', [4]]"
            ]
          },
          "metadata": {},
          "execution_count": 12
        }
      ]
    },
    {
      "cell_type": "code",
      "source": [
        "True in list_example1"
      ],
      "metadata": {
        "id": "_xUGGuIlWKv1",
        "colab": {
          "base_uri": "https://localhost:8080/"
        },
        "outputId": "0e06e301-82af-4f51-e6d3-e773bf012b15"
      },
      "execution_count": null,
      "outputs": [
        {
          "output_type": "execute_result",
          "data": {
            "text/plain": [
              "True"
            ]
          },
          "metadata": {},
          "execution_count": 13
        }
      ]
    },
    {
      "cell_type": "code",
      "source": [
        "False in list_example1"
      ],
      "metadata": {
        "id": "Zzaf-PVGWLy2",
        "colab": {
          "base_uri": "https://localhost:8080/"
        },
        "outputId": "28048ceb-ac92-4013-a3f7-200cad1a1ebf"
      },
      "execution_count": null,
      "outputs": [
        {
          "output_type": "execute_result",
          "data": {
            "text/plain": [
              "True"
            ]
          },
          "metadata": {},
          "execution_count": 14
        }
      ]
    },
    {
      "cell_type": "markdown",
      "source": [
        "Еще пример:"
      ],
      "metadata": {
        "id": "MvnPqXYyYp5I"
      }
    },
    {
      "cell_type": "code",
      "source": [
        "list_example2 = [True, False]"
      ],
      "metadata": {
        "id": "c_d4lJttJa29"
      },
      "execution_count": null,
      "outputs": []
    },
    {
      "cell_type": "code",
      "source": [
        "1 in list_example2"
      ],
      "metadata": {
        "id": "-YN4XF5KWPSL",
        "colab": {
          "base_uri": "https://localhost:8080/"
        },
        "outputId": "008e1b4a-dc4f-4469-8133-29cedf26dabc"
      },
      "execution_count": null,
      "outputs": [
        {
          "output_type": "execute_result",
          "data": {
            "text/plain": [
              "True"
            ]
          },
          "metadata": {},
          "execution_count": 16
        }
      ]
    },
    {
      "cell_type": "code",
      "source": [
        "0 in list_example2"
      ],
      "metadata": {
        "id": "Yrc-WFOlWQF7",
        "colab": {
          "base_uri": "https://localhost:8080/"
        },
        "outputId": "d5df429a-a1e3-418b-e834-3f03ed7dea3e"
      },
      "execution_count": null,
      "outputs": [
        {
          "output_type": "execute_result",
          "data": {
            "text/plain": [
              "True"
            ]
          },
          "metadata": {},
          "execution_count": 17
        }
      ]
    },
    {
      "cell_type": "code",
      "source": [
        "2 in list_example2"
      ],
      "metadata": {
        "id": "wF9R5w7lWRi9",
        "colab": {
          "base_uri": "https://localhost:8080/"
        },
        "outputId": "d554f4aa-13ed-4c77-f8ff-fa974c586773"
      },
      "execution_count": null,
      "outputs": [
        {
          "output_type": "execute_result",
          "data": {
            "text/plain": [
              "False"
            ]
          },
          "metadata": {},
          "execution_count": 18
        }
      ]
    },
    {
      "cell_type": "markdown",
      "source": [
        "## Функция `len`"
      ],
      "metadata": {
        "id": "zBsbkbpEcrEx"
      }
    },
    {
      "cell_type": "markdown",
      "source": [
        "Функция `len` - узнать количество элементов в контейнере (в том числе и в списке).\n",
        "\n",
        "Можем прочитать элемент списка по его порядковому номеру в этом списке (индекс). Для доступа к элементы нужно после переменной списка в квадратных скобках указать индекс.\n",
        "\n",
        "```\n",
        "list_example1\n",
        "[1, 0, 2.0, '3', [4]]\n",
        "\n",
        "list_example1[0] # 1\n",
        "```\n",
        "В качестве индексов можно (и очень часто нужно) использовать переменные. Главное - чтобы они были типа int.\n",
        "\n",
        "```\n",
        "i = 0\n",
        "list_example1[i]   # 1\n",
        "```\n",
        "Внутри квадратных скобок также можно использовать арифметические операции и вызывать функции:\n",
        "\n",
        "\n",
        "\n",
        "```\n",
        "list_example1[2 * i + int(1.0)]   # 0\n",
        "```\n",
        "\n",
        "\n",
        "\n",
        "\n",
        "\n"
      ],
      "metadata": {
        "id": "LMsTBcgBcvlg"
      }
    },
    {
      "cell_type": "markdown",
      "source": [
        "Аналогично, можем изменять отдельные элементы списка:"
      ],
      "metadata": {
        "id": "hVmANw2r06Rn"
      }
    },
    {
      "cell_type": "code",
      "metadata": {
        "id": "eXuvMS0H7jnS",
        "colab": {
          "base_uri": "https://localhost:8080/"
        },
        "outputId": "bafe9b31-3906-4c53-d233-c1442697195d"
      },
      "source": [
        " # Здесь и далее сепаратор '\\t\\t' и '\\t' добавляется исключительно для красоты\n",
        "\n",
        "print(\"До изменения:\", list_example1, sep='\\t\\t')\n",
        "\n",
        "list_example1[1] = -1\n",
        "print(\"После изменения:\", list_example1, sep='\\t')"
      ],
      "execution_count": null,
      "outputs": [
        {
          "output_type": "stream",
          "name": "stdout",
          "text": [
            "До изменения:\t\t[1, 0, 2.0, '3', [4]]\n",
            "После изменения:\t[1, -1, 2.0, '3', [4]]\n"
          ]
        }
      ]
    },
    {
      "cell_type": "markdown",
      "source": [
        "Индексы в Python могут быть и отрицательными! С помощью отрицательных индексов можно удобно получать доступ к элементам с конца списка. \n",
        "\n",
        "Например, чтобы получить последний и предпоследний элементы списка, можем использовать индексы `-1` и `-2`, соответственно:"
      ],
      "metadata": {
        "id": "Z03Xtm-s6HhL"
      }
    },
    {
      "cell_type": "code",
      "source": [
        "print(list_example1)\n",
        "print(\"Последний:\", list_example1[-1], list_example1[len(list_example1) - 1], sep='\\t')\n",
        "print(\"Предпоследний:\", list_example1[-2], list_example1[len(list_example1) - 2], sep='\\t')"
      ],
      "metadata": {
        "colab": {
          "base_uri": "https://localhost:8080/"
        },
        "id": "PTtoHBM_6iLC",
        "outputId": "ca709165-8788-4e9a-cbc0-ca793d1d1a92"
      },
      "execution_count": null,
      "outputs": [
        {
          "output_type": "stream",
          "name": "stdout",
          "text": [
            "[1, -1, 2.0, '3', [4]]\n",
            "Последний:\t[4]\t[4]\n",
            "Предпоследний:\t3\t3\n"
          ]
        }
      ]
    },
    {
      "cell_type": "markdown",
      "source": [
        "## Срезы"
      ],
      "metadata": {
        "id": "obYsHhwbhEGt"
      }
    },
    {
      "cell_type": "markdown",
      "source": [
        "Списки так же поддерживают получение нескольких элементов с помощью **срезов** (slices) - способа получения элементов из определенного диапазона индексов с фиксированным шагом.\n",
        "\n",
        "**Общий формат среза:** `variable[индекс_начала:индекс_конца_не_включая:шаг]`"
      ],
      "metadata": {
        "id": "zPR_U_B854B6"
      }
    },
    {
      "cell_type": "code",
      "source": [
        "list_example1"
      ],
      "metadata": {
        "colab": {
          "base_uri": "https://localhost:8080/"
        },
        "id": "e4KKv8XviVZ9",
        "outputId": "014298f8-ee17-4b12-ce7c-8133422df975"
      },
      "execution_count": null,
      "outputs": [
        {
          "output_type": "execute_result",
          "data": {
            "text/plain": [
              "[1, -1, 2.0, '3', [4]]"
            ]
          },
          "metadata": {},
          "execution_count": 26
        }
      ]
    },
    {
      "cell_type": "code",
      "source": [
        "list_example1[1:4:2]"
      ],
      "metadata": {
        "colab": {
          "base_uri": "https://localhost:8080/"
        },
        "id": "KtpUjLAbiqXW",
        "outputId": "9b2a2f68-2cce-4a26-8ca9-6508a5d03687"
      },
      "execution_count": null,
      "outputs": [
        {
          "output_type": "execute_result",
          "data": {
            "text/plain": [
              "[-1, '3']"
            ]
          },
          "metadata": {},
          "execution_count": 27
        }
      ]
    },
    {
      "cell_type": "markdown",
      "source": [
        "Значение шага по умолчанию - `1`. Если не хотим его менять, можем его не указывать (включая последнюю `:`):"
      ],
      "metadata": {
        "id": "TquvWNbhixNG"
      }
    },
    {
      "cell_type": "code",
      "source": [
        "list_example1[1:4]"
      ],
      "metadata": {
        "colab": {
          "base_uri": "https://localhost:8080/"
        },
        "id": "e9iHNAIdisdG",
        "outputId": "40c99baf-b809-4f58-f50e-d6d6e747256b"
      },
      "execution_count": null,
      "outputs": [
        {
          "output_type": "execute_result",
          "data": {
            "text/plain": [
              "[0, 2.0, '3']"
            ]
          },
          "metadata": {},
          "execution_count": 4
        }
      ]
    },
    {
      "cell_type": "markdown",
      "source": [
        "Значение начала по умолчанию - `0`:"
      ],
      "metadata": {
        "id": "HF0ESYx7jGsf"
      }
    },
    {
      "cell_type": "code",
      "source": [
        "list_example1[:4]"
      ],
      "metadata": {
        "colab": {
          "base_uri": "https://localhost:8080/"
        },
        "id": "wLfr6-__kCOx",
        "outputId": "4032cec7-f28b-4ded-dbcf-147acf233438"
      },
      "execution_count": null,
      "outputs": [
        {
          "output_type": "execute_result",
          "data": {
            "text/plain": [
              "[1, -1, 2.0, '3']"
            ]
          },
          "metadata": {},
          "execution_count": 30
        }
      ]
    },
    {
      "cell_type": "markdown",
      "source": [
        "Значения конца по умолчанию - последний индекс:"
      ],
      "metadata": {
        "id": "pW4HZOPEkIv_"
      }
    },
    {
      "cell_type": "code",
      "source": [
        "list_example1[1:]"
      ],
      "metadata": {
        "colab": {
          "base_uri": "https://localhost:8080/"
        },
        "id": "0yOFZePI9aID",
        "outputId": "2dd9ee58-56c7-4842-c416-0c865252a700"
      },
      "execution_count": null,
      "outputs": [
        {
          "output_type": "execute_result",
          "data": {
            "text/plain": [
              "[0, 2.0, '3', [4]]"
            ]
          },
          "metadata": {},
          "execution_count": 5
        }
      ]
    },
    {
      "cell_type": "markdown",
      "source": [
        "Одно из интересных применений срезов - разворот списка:"
      ],
      "metadata": {
        "id": "bWxwdpTDKRfP"
      }
    },
    {
      "cell_type": "code",
      "source": [
        "list_example1"
      ],
      "metadata": {
        "colab": {
          "base_uri": "https://localhost:8080/"
        },
        "id": "dBVhpV_7KRw8",
        "outputId": "4e90f359-61e4-4b19-8d35-0f7634d970d3"
      },
      "execution_count": null,
      "outputs": [
        {
          "output_type": "execute_result",
          "data": {
            "text/plain": [
              "[1, -1, 2.0, '3', [4]]"
            ]
          },
          "metadata": {},
          "execution_count": 53
        }
      ]
    },
    {
      "cell_type": "code",
      "source": [
        "list_example1[::-1]"
      ],
      "metadata": {
        "colab": {
          "base_uri": "https://localhost:8080/"
        },
        "id": "hZ5C6lX3mPPW",
        "outputId": "eab38797-c505-48f5-940c-07efe1da63c8"
      },
      "execution_count": null,
      "outputs": [
        {
          "output_type": "execute_result",
          "data": {
            "text/plain": [
              "[[4], '3', 2.0, -1, 1]"
            ]
          },
          "metadata": {},
          "execution_count": 54
        }
      ]
    },
    {
      "cell_type": "markdown",
      "source": [
        "Срезы можно использовать не только для списков, но и для строк:"
      ],
      "metadata": {
        "id": "UXLadWXr-03l"
      }
    },
    {
      "cell_type": "code",
      "source": [
        "string = \"Very long string with lots of words\""
      ],
      "metadata": {
        "id": "TS4bx7Ip-0Kb"
      },
      "execution_count": null,
      "outputs": []
    },
    {
      "cell_type": "code",
      "source": [
        "string[0::2]"
      ],
      "metadata": {
        "colab": {
          "base_uri": "https://localhost:8080/",
          "height": 35
        },
        "id": "K2fp-0GEsrrP",
        "outputId": "a2806907-0ae0-4b20-9fd2-0e3d935b149a"
      },
      "execution_count": null,
      "outputs": [
        {
          "output_type": "execute_result",
          "data": {
            "text/plain": [
              "'Vr ogsrn ihlt fwrs'"
            ],
            "application/vnd.google.colaboratory.intrinsic+json": {
              "type": "string"
            }
          },
          "metadata": {},
          "execution_count": 60
        }
      ]
    },
    {
      "cell_type": "markdown",
      "source": [
        "Срезы можно использовать и для изменения нескольких элементов списка:"
      ],
      "metadata": {
        "id": "YV4_j0qOXpk2"
      }
    },
    {
      "cell_type": "code",
      "source": [
        "list_example1"
      ],
      "metadata": {
        "colab": {
          "base_uri": "https://localhost:8080/"
        },
        "id": "UaXmIwZ7syMW",
        "outputId": "4dc0799a-2286-47d0-b50a-1fc8c0abfe5a"
      },
      "execution_count": null,
      "outputs": [
        {
          "output_type": "execute_result",
          "data": {
            "text/plain": [
              "[1, 0, 2.0, '3', [4]]"
            ]
          },
          "metadata": {},
          "execution_count": 6
        }
      ]
    },
    {
      "cell_type": "code",
      "source": [
        "list_example1[0:3:2]"
      ],
      "metadata": {
        "colab": {
          "base_uri": "https://localhost:8080/"
        },
        "id": "pdcQIBJ1s3U0",
        "outputId": "0e8a99bd-1650-4f38-a9b1-c268face52fb"
      },
      "execution_count": null,
      "outputs": [
        {
          "output_type": "execute_result",
          "data": {
            "text/plain": [
              "[1, 2]"
            ]
          },
          "metadata": {},
          "execution_count": 40
        }
      ]
    },
    {
      "cell_type": "code",
      "source": [
        "list_example1[0:3:2] = [1, 2]"
      ],
      "metadata": {
        "id": "BXS8lLP1sy4n"
      },
      "execution_count": null,
      "outputs": []
    },
    {
      "cell_type": "code",
      "source": [
        "list_example1"
      ],
      "metadata": {
        "colab": {
          "base_uri": "https://localhost:8080/"
        },
        "id": "-JYfT-WJs66A",
        "outputId": "0acbc70a-a11a-4a02-b9b3-09400a405155"
      },
      "execution_count": null,
      "outputs": [
        {
          "output_type": "execute_result",
          "data": {
            "text/plain": [
              "[1, 1, 2, 3, '3', [4]]"
            ]
          },
          "metadata": {},
          "execution_count": 43
        }
      ]
    },
    {
      "cell_type": "markdown",
      "source": [
        "Заметьте, что мы заменили два подряд идущих элемента (с индексами 1 и 2) тремя новыми элементами. В Python это тоже возможно!"
      ],
      "metadata": {
        "id": "29QfFjeHX8gY"
      }
    },
    {
      "cell_type": "markdown",
      "source": [
        "Списки можно складывать. Результатом сложения двух списков будет новый список, в котором сначала будут записаны элементы первого списка, затем - второго:"
      ],
      "metadata": {
        "id": "QLTkbd5HMkZd"
      }
    },
    {
      "cell_type": "code",
      "source": [
        "a = [1, 2, 3]\n",
        "b = [4, 5, 6]"
      ],
      "metadata": {
        "id": "uuyrk1lCMw_a"
      },
      "execution_count": null,
      "outputs": []
    },
    {
      "cell_type": "code",
      "source": [
        "a + b"
      ],
      "metadata": {
        "colab": {
          "base_uri": "https://localhost:8080/"
        },
        "id": "aTUfz5lttFWP",
        "outputId": "df553ffd-aa6b-4001-ff7e-722c7357dbcf"
      },
      "execution_count": null,
      "outputs": [
        {
          "output_type": "execute_result",
          "data": {
            "text/plain": [
              "[1, 2, 3, 4, 5, 6]"
            ]
          },
          "metadata": {},
          "execution_count": 45
        }
      ]
    },
    {
      "cell_type": "code",
      "source": [
        "b + a"
      ],
      "metadata": {
        "colab": {
          "base_uri": "https://localhost:8080/"
        },
        "id": "Tdn0eOv0zBqP",
        "outputId": "e056c8e9-6d17-41fd-d4c2-f0a0bfc4d64b"
      },
      "execution_count": null,
      "outputs": [
        {
          "output_type": "execute_result",
          "data": {
            "text/plain": [
              "[4, 5, 6, 1, 2, 3]"
            ]
          },
          "metadata": {},
          "execution_count": 47
        }
      ]
    },
    {
      "cell_type": "markdown",
      "source": [
        "А вот вычитать нельзя:"
      ],
      "metadata": {
        "id": "9ww0LNGYNPdd"
      }
    },
    {
      "cell_type": "code",
      "source": [
        "a - b"
      ],
      "metadata": {
        "colab": {
          "base_uri": "https://localhost:8080/",
          "height": 168
        },
        "id": "C9aTz0a-NQ_p",
        "outputId": "20aae57c-1600-4a17-d95f-d4be71e6ba24"
      },
      "execution_count": null,
      "outputs": [
        {
          "output_type": "error",
          "ename": "TypeError",
          "evalue": "ignored",
          "traceback": [
            "\u001b[0;31m---------------------------------------------------------------------------\u001b[0m",
            "\u001b[0;31mTypeError\u001b[0m                                 Traceback (most recent call last)",
            "\u001b[0;32m<ipython-input-46-09bd029d0285>\u001b[0m in \u001b[0;36m<module>\u001b[0;34m\u001b[0m\n\u001b[0;32m----> 1\u001b[0;31m \u001b[0ma\u001b[0m \u001b[0;34m-\u001b[0m \u001b[0mb\u001b[0m\u001b[0;34m\u001b[0m\u001b[0;34m\u001b[0m\u001b[0m\n\u001b[0m",
            "\u001b[0;31mTypeError\u001b[0m: unsupported operand type(s) for -: 'list' and 'list'"
          ]
        }
      ]
    },
    {
      "cell_type": "markdown",
      "metadata": {
        "id": "qMqkCfG97rX7"
      },
      "source": [
        "Многие действия с `list` выполняются с помощью методов. С некоторыми из них мы познакомимся сегодня. Более подробную информацию о методах списка можете найти здесь:\n",
        "- [официальная документация](https://docs.python.org/3/tutorial/datastructures.html#more-on-lists) (англ)\n",
        "- [краткий справочник](https://pythonworld.ru/tipy-dannyx-v-python/spiski-list-funkcii-i-metody-spiskov.html) (рус)\n",
        "\n",
        "Чтобы добавить новый элемент в конец существующего списка, воспользуемся методом `append`:"
      ]
    },
    {
      "cell_type": "code",
      "source": [
        "list_example1"
      ],
      "metadata": {
        "colab": {
          "base_uri": "https://localhost:8080/"
        },
        "id": "AR-S97fmtOvw",
        "outputId": "0f6f1534-a88b-490f-f950-3218c97d120b"
      },
      "execution_count": null,
      "outputs": [
        {
          "output_type": "execute_result",
          "data": {
            "text/plain": [
              "[1, 0, 2.0, '3', [4]]"
            ]
          },
          "metadata": {},
          "execution_count": 8
        }
      ]
    },
    {
      "cell_type": "code",
      "source": [
        "list_example1.append(\"new_element\")\n",
        "list_example1"
      ],
      "metadata": {
        "colab": {
          "base_uri": "https://localhost:8080/"
        },
        "id": "jQX2Y_d1tPYd",
        "outputId": "ac07d3e2-8b53-4918-b2b3-a8c63712d955"
      },
      "execution_count": null,
      "outputs": [
        {
          "output_type": "execute_result",
          "data": {
            "text/plain": [
              "[1, 0, 2.0, '3', [4], 'new_element']"
            ]
          },
          "metadata": {},
          "execution_count": 13
        }
      ]
    },
    {
      "cell_type": "markdown",
      "metadata": {
        "id": "6iki5eSy7w-H"
      },
      "source": [
        "Удалить и получить элемент с конца массива можно с помощью `pop`:"
      ]
    },
    {
      "cell_type": "code",
      "source": [
        "list_example1"
      ],
      "metadata": {
        "colab": {
          "base_uri": "https://localhost:8080/"
        },
        "id": "l-RqYsBYtUaI",
        "outputId": "4827e013-b635-4326-acb4-feef8059ee41"
      },
      "execution_count": null,
      "outputs": [
        {
          "output_type": "execute_result",
          "data": {
            "text/plain": [
              "[1, 0, 2.0, '3', [4], 'new_element']"
            ]
          },
          "metadata": {},
          "execution_count": 10
        }
      ]
    },
    {
      "cell_type": "code",
      "source": [
        "element = list_example1.pop()\n",
        "element"
      ],
      "metadata": {
        "colab": {
          "base_uri": "https://localhost:8080/",
          "height": 36
        },
        "id": "EbjMzBfxtXnq",
        "outputId": "eddd773e-0b86-48ad-d6c7-a5c3378d3efc"
      },
      "execution_count": null,
      "outputs": [
        {
          "output_type": "execute_result",
          "data": {
            "text/plain": [
              "'new_element'"
            ],
            "application/vnd.google.colaboratory.intrinsic+json": {
              "type": "string"
            }
          },
          "metadata": {},
          "execution_count": 11
        }
      ]
    },
    {
      "cell_type": "code",
      "source": [
        "list_example1"
      ],
      "metadata": {
        "colab": {
          "base_uri": "https://localhost:8080/"
        },
        "id": "HCm1P-KMtfLG",
        "outputId": "82647594-a614-4d59-96b2-28d106e919b0"
      },
      "execution_count": null,
      "outputs": [
        {
          "output_type": "execute_result",
          "data": {
            "text/plain": [
              "[1, 0, 2.0, '3', [4], 'new_element']"
            ]
          },
          "metadata": {},
          "execution_count": 14
        }
      ]
    },
    {
      "cell_type": "markdown",
      "source": [
        "Можем не только по индексу получать элемент, но и наоборот - по значению найти где в списке такой элемент есть. Для этого использут метод `index`.\n",
        "\n",
        "`L.index(element)` - возвращает индекс элемента `element` в списке `L`, если он там присутствует, иначе выдаст ошибку:"
      ],
      "metadata": {
        "id": "7oTCnPtgDSXt"
      }
    },
    {
      "cell_type": "code",
      "source": [
        "list_example1"
      ],
      "metadata": {
        "colab": {
          "base_uri": "https://localhost:8080/"
        },
        "id": "EsundRwiwFf4",
        "outputId": "e408d7a4-7861-4f8e-dbaf-f81c8e9c5db3"
      },
      "execution_count": null,
      "outputs": [
        {
          "output_type": "execute_result",
          "data": {
            "text/plain": [
              "[1, 1, 2, 3, '3', [4]]"
            ]
          },
          "metadata": {},
          "execution_count": 53
        }
      ]
    },
    {
      "cell_type": "code",
      "source": [
        "list_example1.index('3')"
      ],
      "metadata": {
        "colab": {
          "base_uri": "https://localhost:8080/"
        },
        "id": "pHFqQF0nwGgG",
        "outputId": "2cc12abb-f8c8-499e-ea04-c30ae385d4d5"
      },
      "execution_count": null,
      "outputs": [
        {
          "output_type": "execute_result",
          "data": {
            "text/plain": [
              "4"
            ]
          },
          "metadata": {},
          "execution_count": 56
        }
      ]
    },
    {
      "cell_type": "markdown",
      "source": [
        "Отсортировать массив можем двумя способами:"
      ],
      "metadata": {
        "id": "AAgyafC4PfoE"
      }
    },
    {
      "cell_type": "markdown",
      "source": [
        "- с помощью функции `sorted`"
      ],
      "metadata": {
        "id": "EAq1o1P7xN8B"
      }
    },
    {
      "cell_type": "code",
      "source": [
        "list_example3 = [0, 1, True, 70.1, 90, 7, 8, 9, 1, 2, 3]"
      ],
      "metadata": {
        "id": "kTyzlE3JP0Mm"
      },
      "execution_count": null,
      "outputs": []
    },
    {
      "cell_type": "code",
      "source": [
        "list_example3_sorted = sorted(list_example3)\n",
        "list_example3_sorted"
      ],
      "metadata": {
        "colab": {
          "base_uri": "https://localhost:8080/"
        },
        "id": "bO-XZ5FvxCjF",
        "outputId": "e775eb87-eb7d-4dff-a608-7bcb42cadeb3"
      },
      "execution_count": null,
      "outputs": [
        {
          "output_type": "execute_result",
          "data": {
            "text/plain": [
              "[90, 70.1, 9, 8, 7, 3, 2, 1, True, 1, 0]"
            ]
          },
          "metadata": {},
          "execution_count": 62
        }
      ]
    },
    {
      "cell_type": "code",
      "source": [
        "list_example3"
      ],
      "metadata": {
        "colab": {
          "base_uri": "https://localhost:8080/"
        },
        "id": "uHJCTYkfxLG4",
        "outputId": "9bcf885b-9aae-4741-85b7-8ece0e2b4600"
      },
      "execution_count": null,
      "outputs": [
        {
          "output_type": "execute_result",
          "data": {
            "text/plain": [
              "[0, 1, True, 70.1, 90, 7, 8, 9, 1, 2, 3]"
            ]
          },
          "metadata": {},
          "execution_count": 19
        }
      ]
    },
    {
      "cell_type": "markdown",
      "source": [
        "- с помощью метода `sort`"
      ],
      "metadata": {
        "id": "-v96MVHExVWX"
      }
    },
    {
      "cell_type": "code",
      "source": [
        "sort_return = list_example3.sort()  # метод sort изменяет сам список, а не возвращает копию:\n",
        "sort_return"
      ],
      "metadata": {
        "id": "94v3TJOiPoFW"
      },
      "execution_count": null,
      "outputs": []
    },
    {
      "cell_type": "code",
      "source": [
        "list_example3"
      ],
      "metadata": {
        "colab": {
          "base_uri": "https://localhost:8080/"
        },
        "id": "U_7EdjcaxhCS",
        "outputId": "82bb0c75-b56f-43b6-f42e-621c6553cd48"
      },
      "execution_count": null,
      "outputs": [
        {
          "output_type": "execute_result",
          "data": {
            "text/plain": [
              "[0, 1, True, 1, 2, 3, 7, 8, 9, 70.1, 90]"
            ]
          },
          "metadata": {},
          "execution_count": 80
        }
      ]
    },
    {
      "cell_type": "markdown",
      "source": [
        "Сортировать можно не только списки, состоящие из чисел:"
      ],
      "metadata": {
        "id": "8Xu1S4eJQ3g3"
      }
    },
    {
      "cell_type": "code",
      "source": [
        "list_example4 = ['11', '9', '4', '42', '8', 'a', 'bb', 'bac', 'символы']\n",
        "sorted(list_example4)"
      ],
      "metadata": {
        "colab": {
          "base_uri": "https://localhost:8080/"
        },
        "id": "KxI9KMGcP2y6",
        "outputId": "a44d882e-be55-48e4-f047-85d2426a6085"
      },
      "execution_count": null,
      "outputs": [
        {
          "output_type": "execute_result",
          "data": {
            "text/plain": [
              "['11', '4', '42', '8', '9', 'a', 'bac', 'bb', 'символы']"
            ]
          },
          "metadata": {},
          "execution_count": 22
        }
      ]
    },
    {
      "cell_type": "markdown",
      "source": [
        "Сортировка списка строк выполняется по лексикографическому порядку.\n",
        "\n",
        "А что насчет сортировки списка, состоящего из элементов разных типов? Увы, такая операция в общем случае не поддерживается:"
      ],
      "metadata": {
        "id": "xzZJfTosSeEJ"
      }
    },
    {
      "cell_type": "code",
      "source": [
        "list_example5 = [[1, 2], 1, 2]\n",
        "sorted(list_example5)"
      ],
      "metadata": {
        "colab": {
          "base_uri": "https://localhost:8080/",
          "height": 185
        },
        "id": "5eKiX3UHQZo7",
        "outputId": "036b9f19-81c5-487a-964a-c0c01ad20db2"
      },
      "execution_count": null,
      "outputs": [
        {
          "output_type": "error",
          "ename": "TypeError",
          "evalue": "ignored",
          "traceback": [
            "\u001b[0;31m---------------------------------------------------------------------------\u001b[0m",
            "\u001b[0;31mTypeError\u001b[0m                                 Traceback (most recent call last)",
            "\u001b[0;32m<ipython-input-64-50f5a12e6a6e>\u001b[0m in \u001b[0;36m<module>\u001b[0;34m\u001b[0m\n\u001b[1;32m      1\u001b[0m \u001b[0mlist_example5\u001b[0m \u001b[0;34m=\u001b[0m \u001b[0;34m[\u001b[0m\u001b[0;34m[\u001b[0m\u001b[0;36m1\u001b[0m\u001b[0;34m,\u001b[0m \u001b[0;36m2\u001b[0m\u001b[0;34m]\u001b[0m\u001b[0;34m,\u001b[0m \u001b[0;36m1\u001b[0m\u001b[0;34m,\u001b[0m \u001b[0;36m2\u001b[0m\u001b[0;34m]\u001b[0m\u001b[0;34m\u001b[0m\u001b[0;34m\u001b[0m\u001b[0m\n\u001b[0;32m----> 2\u001b[0;31m \u001b[0msorted\u001b[0m\u001b[0;34m(\u001b[0m\u001b[0mlist_example5\u001b[0m\u001b[0;34m)\u001b[0m\u001b[0;34m\u001b[0m\u001b[0;34m\u001b[0m\u001b[0m\n\u001b[0m",
            "\u001b[0;31mTypeError\u001b[0m: '<' not supported between instances of 'int' and 'list'"
          ]
        }
      ]
    },
    {
      "cell_type": "markdown",
      "metadata": {
        "id": "3BQ_uNJakcMR"
      },
      "source": [
        "**Внимание!**\n",
        "\n",
        "Если вы создаете новую переменную, равную другой изменяемой переменной, то обе переменные будут ссылаться на ту же область оперативной памяти. В результате изменение одной переменной повлечет за собой изменение и другой переменной.\n",
        "\n",
        "Пример:"
      ]
    },
    {
      "cell_type": "code",
      "metadata": {
        "id": "hPwhOpe0kb2O",
        "colab": {
          "base_uri": "https://localhost:8080/"
        },
        "outputId": "27c5812a-7d4f-43e9-ade3-b2ae20a531cb"
      },
      "source": [
        "x = [1, 2, 3]\n",
        "y = x\n",
        "print(\"x:\", x, sep='\\t')\n",
        "print(\"y:\", y, sep='\\t')"
      ],
      "execution_count": null,
      "outputs": [
        {
          "output_type": "stream",
          "name": "stdout",
          "text": [
            "x:\t[1, 2, 3]\n",
            "y:\t[1, 2, 3]\n"
          ]
        }
      ]
    },
    {
      "cell_type": "code",
      "metadata": {
        "id": "u8DMMHakSD05",
        "colab": {
          "base_uri": "https://localhost:8080/"
        },
        "outputId": "77a6cccc-2539-4ac3-c7e9-886651605f37"
      },
      "source": [
        "x.append(4.0)\n",
        "print(\"x:\", x, sep='\\t')\n",
        "print(\"y:\", y, sep='\\t')"
      ],
      "execution_count": null,
      "outputs": [
        {
          "output_type": "stream",
          "name": "stdout",
          "text": [
            "x:\t[1, 2, 3, 4.0]\n",
            "y:\t[1, 2, 3, 4.0]\n"
          ]
        }
      ]
    },
    {
      "cell_type": "markdown",
      "source": [
        "Для проверки ссылаются ли переменные на одну и ту же область памяти удобно использовать функцию `id`:"
      ],
      "metadata": {
        "id": "2QhTCMHM_lzm"
      }
    },
    {
      "cell_type": "code",
      "source": [
        "id(x) == id(y)"
      ],
      "metadata": {
        "colab": {
          "base_uri": "https://localhost:8080/"
        },
        "id": "Nys1Br8U_k7z",
        "outputId": "e86e1fff-24c9-413f-a90a-3a80d70201ed"
      },
      "execution_count": null,
      "outputs": [
        {
          "output_type": "execute_result",
          "data": {
            "text/plain": [
              "True"
            ]
          },
          "metadata": {},
          "execution_count": 69
        }
      ]
    },
    {
      "cell_type": "markdown",
      "source": [
        "или оператор `is`:"
      ],
      "metadata": {
        "id": "Reuig46x1lfk"
      }
    },
    {
      "cell_type": "code",
      "source": [
        "x is y"
      ],
      "metadata": {
        "colab": {
          "base_uri": "https://localhost:8080/"
        },
        "id": "u3ZtYznK1jVc",
        "outputId": "d7e3ac73-ecf4-49a5-86a2-660c71a63b7a"
      },
      "execution_count": null,
      "outputs": [
        {
          "output_type": "execute_result",
          "data": {
            "text/plain": [
              "True"
            ]
          },
          "metadata": {},
          "execution_count": 70
        }
      ]
    },
    {
      "cell_type": "markdown",
      "source": [
        "Если необходимо скопировать список, существует два основных способа:"
      ],
      "metadata": {
        "id": "tZAGJDg8_55d"
      }
    },
    {
      "cell_type": "markdown",
      "source": [
        "- использовать срезы - это быстро и удобно, но копирование получится неглубоким:"
      ],
      "metadata": {
        "id": "PCg1kgNs2NxI"
      }
    },
    {
      "cell_type": "code",
      "source": [
        "y = x[:]\n",
        "y"
      ],
      "metadata": {
        "colab": {
          "base_uri": "https://localhost:8080/"
        },
        "id": "k1kGPPaKAE3a",
        "outputId": "cf8cc5fd-e26e-470a-e3ad-62d2b11c0e37"
      },
      "execution_count": null,
      "outputs": [
        {
          "output_type": "execute_result",
          "data": {
            "text/plain": [
              "[1, 2, 3, 4.0]"
            ]
          },
          "metadata": {},
          "execution_count": 71
        }
      ]
    },
    {
      "cell_type": "code",
      "source": [
        "id(x) == id(y)"
      ],
      "metadata": {
        "colab": {
          "base_uri": "https://localhost:8080/"
        },
        "id": "ruCeV9vW2YIE",
        "outputId": "364f3852-99ad-4ecc-8578-bc461577fe9f"
      },
      "execution_count": null,
      "outputs": [
        {
          "output_type": "execute_result",
          "data": {
            "text/plain": [
              "False"
            ]
          },
          "metadata": {},
          "execution_count": 72
        }
      ]
    },
    {
      "cell_type": "markdown",
      "source": [
        "Однако, это не сработает, если контейнер содержит другие контейнеры:"
      ],
      "metadata": {
        "id": "XeqP6Hjv3sdE"
      }
    },
    {
      "cell_type": "code",
      "source": [
        "x = [1, 2, [3, 4]]\n",
        "y = x[:]\n",
        "y"
      ],
      "metadata": {
        "colab": {
          "base_uri": "https://localhost:8080/"
        },
        "id": "6e-QaaNi3VJ6",
        "outputId": "f16cab3d-45a6-461e-c3a7-e3c31561eeb5"
      },
      "execution_count": null,
      "outputs": [
        {
          "output_type": "execute_result",
          "data": {
            "text/plain": [
              "[1, 2, [3, 4]]"
            ]
          },
          "metadata": {},
          "execution_count": 73
        }
      ]
    },
    {
      "cell_type": "code",
      "source": [
        "id(x) == id(y)"
      ],
      "metadata": {
        "colab": {
          "base_uri": "https://localhost:8080/"
        },
        "id": "DK00tU633kOP",
        "outputId": "2c87e056-b2b0-4f69-e77e-bc20fccfd871"
      },
      "execution_count": null,
      "outputs": [
        {
          "output_type": "execute_result",
          "data": {
            "text/plain": [
              "False"
            ]
          },
          "metadata": {},
          "execution_count": 74
        }
      ]
    },
    {
      "cell_type": "code",
      "source": [
        "id(x[2]) == id(y[2])"
      ],
      "metadata": {
        "colab": {
          "base_uri": "https://localhost:8080/"
        },
        "id": "EZbhH1XA3mxd",
        "outputId": "131b076a-fd93-4231-8b6b-99cfdc87ca69"
      },
      "execution_count": null,
      "outputs": [
        {
          "output_type": "execute_result",
          "data": {
            "text/plain": [
              "True"
            ]
          },
          "metadata": {},
          "execution_count": 91
        }
      ]
    },
    {
      "cell_type": "code",
      "source": [
        "x[2].append(\"extra\")\n",
        "y[2]"
      ],
      "metadata": {
        "colab": {
          "base_uri": "https://localhost:8080/"
        },
        "id": "mgpE-Spg3rFo",
        "outputId": "65c6ec8b-bbf7-48bd-a57e-7e092ac60ddf"
      },
      "execution_count": null,
      "outputs": [
        {
          "output_type": "execute_result",
          "data": {
            "text/plain": [
              "[3, 4, 'extra']"
            ]
          },
          "metadata": {},
          "execution_count": 92
        }
      ]
    },
    {
      "cell_type": "markdown",
      "source": [
        "- использовать встроенный модуль `copy` (это информация на будущее, модули разберем позже):"
      ],
      "metadata": {
        "id": "bX-TLuOf4G8n"
      }
    },
    {
      "cell_type": "code",
      "source": [
        "import copy\n",
        "\n",
        "y = copy.deepcopy(x)\n",
        "x[2] is y[2]"
      ],
      "metadata": {
        "colab": {
          "base_uri": "https://localhost:8080/"
        },
        "id": "Q_3kzpog4OMx",
        "outputId": "4ef62c0e-3681-4b15-dc7c-215ccd985753"
      },
      "execution_count": null,
      "outputs": [
        {
          "output_type": "execute_result",
          "data": {
            "text/plain": [
              "False"
            ]
          },
          "metadata": {},
          "execution_count": 94
        }
      ]
    },
    {
      "cell_type": "code",
      "source": [
        "x[2].append(\"something_new\")\n",
        "y[2]"
      ],
      "metadata": {
        "colab": {
          "base_uri": "https://localhost:8080/"
        },
        "id": "nv92aDAG4ruQ",
        "outputId": "e3734904-901c-4ddd-fcf4-6bc5d609d4ac"
      },
      "execution_count": null,
      "outputs": [
        {
          "output_type": "execute_result",
          "data": {
            "text/plain": [
              "[3, 4, 'extra']"
            ]
          },
          "metadata": {},
          "execution_count": 95
        }
      ]
    },
    {
      "cell_type": "markdown",
      "source": [
        "При изменении списка его `id` не меняется, т.е. он остается в той же области памяти:"
      ],
      "metadata": {
        "id": "yYHIon4pCAK0"
      }
    },
    {
      "cell_type": "code",
      "source": [
        "print(id(x))\n",
        "x.append(\"new_el\")\n",
        "print(id(x))"
      ],
      "metadata": {
        "colab": {
          "base_uri": "https://localhost:8080/"
        },
        "id": "Bj27syiJCR7T",
        "outputId": "af67842f-179f-4e0a-c318-497f22d2ff3d"
      },
      "execution_count": null,
      "outputs": [
        {
          "output_type": "stream",
          "name": "stdout",
          "text": [
            "139736816893136\n",
            "139736816893136\n"
          ]
        }
      ]
    },
    {
      "cell_type": "markdown",
      "metadata": {
        "id": "rVWqOI8j8net"
      },
      "source": [
        "# tuple"
      ]
    },
    {
      "cell_type": "markdown",
      "source": [
        "**Tuple** (кортеж) - тип данных, который по сути является неизменяемым списком.\n",
        "\n",
        "Создать кортеж можно с помощью круглых скобок:"
      ],
      "metadata": {
        "id": "FNayj9XntqQe"
      }
    },
    {
      "cell_type": "code",
      "source": [
        "tuple_example1 = (1, 2.0, '3', (4,))\n",
        "print(tuple_example1)\n",
        "print(type(tuple_example1))"
      ],
      "metadata": {
        "colab": {
          "base_uri": "https://localhost:8080/"
        },
        "id": "Zyl3nDUJZlds",
        "outputId": "9618bed8-87c1-483e-8c34-4a2f505b5e45"
      },
      "execution_count": null,
      "outputs": [
        {
          "output_type": "stream",
          "name": "stdout",
          "text": [
            "(1, 2.0, '3', (4,))\n",
            "<class 'tuple'>\n"
          ]
        }
      ]
    },
    {
      "cell_type": "markdown",
      "source": [
        "**Замечание** - чтобы создать кортеж из одного элемента, необходимо после него поставить запятую:"
      ],
      "metadata": {
        "id": "XY0GDp70Zxec"
      }
    },
    {
      "cell_type": "code",
      "source": [
        "tuple1 = (4)\n",
        "tuple2 = (4,)\n",
        "\n",
        "print(type(tuple1))\n",
        "print(type(tuple2))"
      ],
      "metadata": {
        "colab": {
          "base_uri": "https://localhost:8080/"
        },
        "id": "tVj1tjAmZuBO",
        "outputId": "e13b8a4c-702d-436c-b8bf-bf811e45211e"
      },
      "execution_count": null,
      "outputs": [
        {
          "output_type": "stream",
          "name": "stdout",
          "text": [
            "<class 'int'>\n",
            "<class 'tuple'>\n"
          ]
        }
      ]
    },
    {
      "cell_type": "markdown",
      "source": [
        "Возможно создать кортеж и без круглых скобок по бокам (по сути - будет присвоение \"один ко многим\"), но это порой ухудшает читаемость кода:"
      ],
      "metadata": {
        "id": "ziRGM3kRa-py"
      }
    },
    {
      "cell_type": "code",
      "metadata": {
        "id": "ozpvJBWD8la3",
        "colab": {
          "base_uri": "https://localhost:8080/"
        },
        "outputId": "4217a41d-cd42-4f8c-edc9-89c3d04738bb"
      },
      "source": [
        "tuple_example2 = 'a', 5, 12.345, (2, 'b')\n",
        "print(tuple_example2)\n",
        "print(type(tuple_example2))"
      ],
      "execution_count": null,
      "outputs": [
        {
          "output_type": "stream",
          "name": "stdout",
          "text": [
            "('a', 5, 12.345, (2, 'b'))\n",
            "<class 'tuple'>\n"
          ]
        }
      ]
    },
    {
      "cell_type": "markdown",
      "source": [
        "В Python возможно множественное присваивание:"
      ],
      "metadata": {
        "id": "uWq3KOdxD1zq"
      }
    },
    {
      "cell_type": "code",
      "metadata": {
        "id": "ahySzokfaRWT",
        "colab": {
          "base_uri": "https://localhost:8080/"
        },
        "outputId": "3732fa00-065c-4071-bcce-6d66377cd99b"
      },
      "source": [
        "a, b = 1, 2\n",
        "a, b"
      ],
      "execution_count": null,
      "outputs": [
        {
          "output_type": "execute_result",
          "data": {
            "text/plain": [
              "(1, 2)"
            ]
          },
          "metadata": {},
          "execution_count": 101
        }
      ]
    },
    {
      "cell_type": "markdown",
      "source": [
        "По сути, это эквивалентно:"
      ],
      "metadata": {
        "id": "mM2mwASXbw6X"
      }
    },
    {
      "cell_type": "code",
      "metadata": {
        "id": "pfJ5yUiP2P5T",
        "colab": {
          "base_uri": "https://localhost:8080/"
        },
        "outputId": "1b20c7e5-56f6-4e1f-a24f-50cf449180cd"
      },
      "source": [
        "(a, b) = (1, 2)\n",
        "a, b"
      ],
      "execution_count": null,
      "outputs": [
        {
          "output_type": "execute_result",
          "data": {
            "text/plain": [
              "(1, 2)"
            ]
          },
          "metadata": {},
          "execution_count": 102
        }
      ]
    },
    {
      "cell_type": "markdown",
      "metadata": {
        "id": "pNp-uu_b8rpY"
      },
      "source": [
        "Кортеж нельзя изменять. Давайте в этом убедимся:"
      ]
    },
    {
      "cell_type": "code",
      "source": [
        "tuple_example1"
      ],
      "metadata": {
        "colab": {
          "base_uri": "https://localhost:8080/"
        },
        "id": "Xmx6gUUI6NiP",
        "outputId": "9c516921-30c3-4300-f6a9-113569da21c2"
      },
      "execution_count": null,
      "outputs": [
        {
          "output_type": "execute_result",
          "data": {
            "text/plain": [
              "(1, 2.0, '3', (4,))"
            ]
          },
          "metadata": {},
          "execution_count": 78
        }
      ]
    },
    {
      "cell_type": "code",
      "metadata": {
        "id": "k2FmUtIYUGOG",
        "colab": {
          "base_uri": "https://localhost:8080/",
          "height": 168
        },
        "outputId": "ce8543f1-06df-411e-a793-fb5707d913c3"
      },
      "source": [
        "tuple_example1.append(5)"
      ],
      "execution_count": null,
      "outputs": [
        {
          "output_type": "error",
          "ename": "AttributeError",
          "evalue": "ignored",
          "traceback": [
            "\u001b[0;31m---------------------------------------------------------------------------\u001b[0m",
            "\u001b[0;31mAttributeError\u001b[0m                            Traceback (most recent call last)",
            "\u001b[0;32m<ipython-input-79-d992027f0dbf>\u001b[0m in \u001b[0;36m<module>\u001b[0;34m\u001b[0m\n\u001b[0;32m----> 1\u001b[0;31m \u001b[0mtuple_example1\u001b[0m\u001b[0;34m.\u001b[0m\u001b[0mappend\u001b[0m\u001b[0;34m(\u001b[0m\u001b[0;36m5\u001b[0m\u001b[0;34m)\u001b[0m\u001b[0;34m\u001b[0m\u001b[0;34m\u001b[0m\u001b[0m\n\u001b[0m",
            "\u001b[0;31mAttributeError\u001b[0m: 'tuple' object has no attribute 'append'"
          ]
        }
      ]
    },
    {
      "cell_type": "code",
      "metadata": {
        "id": "4UzHGykf8tIm",
        "colab": {
          "base_uri": "https://localhost:8080/",
          "height": 168
        },
        "outputId": "15503b0f-9c95-4c8b-dbbc-8a12ca1d8851"
      },
      "source": [
        "tuple_example1[0] = 9"
      ],
      "execution_count": null,
      "outputs": [
        {
          "output_type": "error",
          "ename": "TypeError",
          "evalue": "ignored",
          "traceback": [
            "\u001b[0;31m---------------------------------------------------------------------------\u001b[0m",
            "\u001b[0;31mTypeError\u001b[0m                                 Traceback (most recent call last)",
            "\u001b[0;32m<ipython-input-80-dcec6cc55e39>\u001b[0m in \u001b[0;36m<module>\u001b[0;34m\u001b[0m\n\u001b[0;32m----> 1\u001b[0;31m \u001b[0mtuple_example1\u001b[0m\u001b[0;34m[\u001b[0m\u001b[0;36m0\u001b[0m\u001b[0;34m]\u001b[0m \u001b[0;34m=\u001b[0m \u001b[0;36m9\u001b[0m\u001b[0;34m\u001b[0m\u001b[0;34m\u001b[0m\u001b[0m\n\u001b[0m",
            "\u001b[0;31mTypeError\u001b[0m: 'tuple' object does not support item assignment"
          ]
        }
      ]
    },
    {
      "cell_type": "markdown",
      "metadata": {
        "id": "X8fWO93b8vOE"
      },
      "source": [
        "Но получать элементы по индексу и срезам, конечно, можно (кортеж тоже является `iterable`):"
      ]
    },
    {
      "cell_type": "code",
      "source": [
        "tuple_example1"
      ],
      "metadata": {
        "colab": {
          "base_uri": "https://localhost:8080/"
        },
        "id": "303xmOuL6ug6",
        "outputId": "b2a11f19-0faa-4a22-cf59-dac546f99159"
      },
      "execution_count": null,
      "outputs": [
        {
          "output_type": "execute_result",
          "data": {
            "text/plain": [
              "(1, 2.0, '3', (4,))"
            ]
          },
          "metadata": {},
          "execution_count": 81
        }
      ]
    },
    {
      "cell_type": "code",
      "source": [
        "tuple_example1[2]"
      ],
      "metadata": {
        "colab": {
          "base_uri": "https://localhost:8080/",
          "height": 35
        },
        "id": "azfErga46vlG",
        "outputId": "a12b0c03-4bc3-4b56-ef01-9063a27d1305"
      },
      "execution_count": null,
      "outputs": [
        {
          "output_type": "execute_result",
          "data": {
            "text/plain": [
              "'3'"
            ],
            "application/vnd.google.colaboratory.intrinsic+json": {
              "type": "string"
            }
          },
          "metadata": {},
          "execution_count": 82
        }
      ]
    },
    {
      "cell_type": "code",
      "source": [
        "tuple_example1.index('3')"
      ],
      "metadata": {
        "colab": {
          "base_uri": "https://localhost:8080/"
        },
        "id": "SydRoJR16xgE",
        "outputId": "7bf47aff-3bc1-4116-ec59-e0df3ab01037"
      },
      "execution_count": null,
      "outputs": [
        {
          "output_type": "execute_result",
          "data": {
            "text/plain": [
              "2"
            ]
          },
          "metadata": {},
          "execution_count": 83
        }
      ]
    },
    {
      "cell_type": "code",
      "source": [
        "tuple_example1[2:]"
      ],
      "metadata": {
        "colab": {
          "base_uri": "https://localhost:8080/"
        },
        "id": "29HflpwK61Qe",
        "outputId": "2bac8ccb-c8d7-4d07-d1c8-1b6b274492ca"
      },
      "execution_count": null,
      "outputs": [
        {
          "output_type": "execute_result",
          "data": {
            "text/plain": [
              "('3', (4,))"
            ]
          },
          "metadata": {},
          "execution_count": 84
        }
      ]
    },
    {
      "cell_type": "markdown",
      "metadata": {
        "id": "PA3nqEPe8xsW"
      },
      "source": [
        "Как и list, кортежи можно складывать: "
      ]
    },
    {
      "cell_type": "code",
      "metadata": {
        "id": "rymxg6rCVA3Q",
        "colab": {
          "base_uri": "https://localhost:8080/"
        },
        "outputId": "f907822e-49f6-4de3-8a80-c3738a966da8"
      },
      "source": [
        "tuple_example1 + tuple_example2"
      ],
      "execution_count": null,
      "outputs": [
        {
          "output_type": "execute_result",
          "data": {
            "text/plain": [
              "(1, 2.0, '3', (4,), 'a', 5, 12.345, (2, 'b'))"
            ]
          },
          "metadata": {},
          "execution_count": 87
        }
      ]
    },
    {
      "cell_type": "markdown",
      "source": [
        "С кортежами можно делать все, что можно делать со списками, если это не изменяет кортеж:"
      ],
      "metadata": {
        "id": "HAVyHAl6cWUQ"
      }
    },
    {
      "cell_type": "code",
      "source": [
        "len(tuple_example1)"
      ],
      "metadata": {
        "colab": {
          "base_uri": "https://localhost:8080/"
        },
        "id": "rwAsGbHU7BME",
        "outputId": "8c1e4536-a5f3-4b58-e1e9-a06aff50fc0a"
      },
      "execution_count": null,
      "outputs": [
        {
          "output_type": "execute_result",
          "data": {
            "text/plain": [
              "4"
            ]
          },
          "metadata": {},
          "execution_count": 88
        }
      ]
    },
    {
      "cell_type": "code",
      "source": [
        "1 in tuple_example1"
      ],
      "metadata": {
        "colab": {
          "base_uri": "https://localhost:8080/"
        },
        "id": "f9H2hLcg7DQM",
        "outputId": "5bb45931-b784-4ae7-b733-ad493f333dbd"
      },
      "execution_count": null,
      "outputs": [
        {
          "output_type": "execute_result",
          "data": {
            "text/plain": [
              "True"
            ]
          },
          "metadata": {},
          "execution_count": 89
        }
      ]
    },
    {
      "cell_type": "markdown",
      "source": [
        "**Вопрос** - зачем нужен tuple, если есть более удобный в использовании list?\n",
        "\n",
        "**Преимущества кортежа:**\n",
        "\n",
        "1. **Кортежи работают быстрее списков.** Если нужен константный массив, то лучше использовать кортежи.\n",
        "2. **Защита данных от записи.** Кортежи позволяют явно защитить данные от изменений.\n",
        "3. **Могут быть использованы как ключи для словарей.** Некоторые кортежи являются хэшируемыми, и поэтому могут использоваться в качестве ключей для словарей."
      ],
      "metadata": {
        "id": "yht4_LCgo0kY"
      }
    },
    {
      "cell_type": "markdown",
      "source": [
        "# Хеш-функция"
      ],
      "metadata": {
        "id": "R6bmGvyMpJxg"
      }
    },
    {
      "cell_type": "markdown",
      "source": [
        "**Хеш-функция** (англ. *hash function* от *hash* — \"превращать в фарш\", \"мешанина\") — специальная функция, осуществляющая преобразование массива входных данных **произвольной** длины в выходную битовую строку установленной длины, выполняемое определённым алгоритмом.\n",
        "\n",
        "**Применение:**\n",
        "\n",
        "- построение ассоциативных массивов (словари в Python)\n",
        "- поиск дубликатов в наборах данных\n",
        "- построение уникальных идентификаторов\n",
        "- вычисление контрольных сумм от данных (сигнала) для обнаружения в них ошибок\n",
        "- сохранение паролей"
      ],
      "metadata": {
        "id": "Xg92kNTe7qFC"
      }
    },
    {
      "cell_type": "markdown",
      "source": [
        "**Пример** - хеш-функция SHA-3:\n",
        "\n",
        "![sha_3_example](https://habrastorage.org/r/w1560/getpro/habr/upload_files/834/ef2/809/834ef28098d1348e704e748a558fef67.jpeg)\n",
        "\n",
        "Источник: [Хабр](https://habr.com/ru/post/534596/)\n",
        "\n"
      ],
      "metadata": {
        "id": "oOVNAdAD9jt3"
      }
    },
    {
      "cell_type": "code",
      "source": [
        "2 ** 256"
      ],
      "metadata": {
        "colab": {
          "base_uri": "https://localhost:8080/"
        },
        "id": "vCmUcPZv9G5w",
        "outputId": "2f0c8602-8047-4006-f455-1a12fa4a70dc"
      },
      "execution_count": null,
      "outputs": [
        {
          "output_type": "execute_result",
          "data": {
            "text/plain": [
              "115792089237316195423570985008687907853269984665640564039457584007913129639936"
            ]
          },
          "metadata": {},
          "execution_count": 93
        }
      ]
    },
    {
      "cell_type": "markdown",
      "source": [
        "## Коллизии\n",
        "\n",
        "В общем случае нет однозначного соответствия между хеш-кодом и исходными данными. Возвращаемые хеш-функцией значения менее разнообразны, чем значения входного массива.\n",
        "\n",
        "**Коллизия** - случай, при котором хеш-функция преобразует более чем один массив входных данных в одинаковые хеш-коды.\n",
        "\n",
        "\"Хорошая\" хеш-функция должна удовлетворять двум свойствам:\n",
        "\n",
        "- быстрое вычисление\n",
        "- минимальное количество коллизий"
      ],
      "metadata": {
        "id": "lUIvBXL__R3r"
      }
    },
    {
      "cell_type": "markdown",
      "source": [
        "## Разрешение коллизий\n",
        "\n",
        "В некоторых специальных случаях удаётся избежать коллизий вообще, например, если все ключи элементов известны заранее, то для них можно найти некоторую совершенную хеш-функцию, которая распределит их по ячейкам хеш-таблицы без коллизий.\n",
        "\n",
        "Однако, коллизии в хеш-таблицах не так уж и редки. Поэтому механизм разрешения коллизий — важная составляющая любой хеш-таблицы.\n",
        "\n",
        "Подробнее про хеш-функции можно почитать [здесь](https://habr.com/ru/post/534596/)."
      ],
      "metadata": {
        "id": "PCwYA2Qerqgg"
      }
    },
    {
      "cell_type": "markdown",
      "source": [
        "# dict"
      ],
      "metadata": {
        "id": "Ktd5AZ2X7iHT"
      }
    },
    {
      "cell_type": "markdown",
      "source": [
        "**Dict** (словарь, ассоциативный массив, хеш-таблица) - *key-value* хранилище, т.е. способен хранить пары объектов \"ключ-значение\" и получать значение объекта по его ключу. В качестве ключа может использоваться любой хэшируемый объект.\n",
        "\n",
        "Аналогичен `map` из C++, но может работать с несколькими типами данных в рамках одного словаря.\n",
        "\n",
        "Основные операции со словарем:\n",
        "- добавить новую пару\n",
        "- получить пару по ключу\n",
        "- удалить пару по ключу\n",
        "\n",
        "Выполнение операции в хеш-таблице начинается с вычисления хеш-функции от ключа. Получающееся хеш-значение $i=hash(key)$ - индекс в массиве $H$."
      ],
      "metadata": {
        "id": "7eTw6cTYCSCd"
      }
    },
    {
      "cell_type": "markdown",
      "source": [
        "Создать словарь в Python можно либо с помощью фигурных скобок, либо с помощью функции `dict`:"
      ],
      "metadata": {
        "id": "UnVKodNEvkXJ"
      }
    },
    {
      "cell_type": "code",
      "source": [
        "dict_example = {'ivan': 100, 'peter': 200, -10: 'new', (1, -10): True}\n",
        "print(dict_example)\n",
        "print(type(dict_example))"
      ],
      "metadata": {
        "colab": {
          "base_uri": "https://localhost:8080/"
        },
        "id": "i84OKMxWwExM",
        "outputId": "18eab9d5-bd48-4341-fecf-9bef17a83211"
      },
      "execution_count": null,
      "outputs": [
        {
          "output_type": "stream",
          "name": "stdout",
          "text": [
            "{'ivan': 100, 'peter': 200, -10: 'new', (1, -10): True}\n",
            "<class 'dict'>\n"
          ]
        }
      ]
    },
    {
      "cell_type": "code",
      "source": [
        "dict_example = dict([\n",
        "     ('ivan', 100),\n",
        "     ('peter', 200),\n",
        "     (-10, 'new'),\n",
        "     ((1, -10), True)\n",
        "])\n",
        "print(dict_example)\n",
        "print(type(dict_example))"
      ],
      "metadata": {
        "colab": {
          "base_uri": "https://localhost:8080/"
        },
        "id": "Qaj7vTzzwzhM",
        "outputId": "983dfb39-1525-4f1b-c384-5b8283fdd670"
      },
      "execution_count": null,
      "outputs": [
        {
          "output_type": "stream",
          "name": "stdout",
          "text": [
            "{'ivan': 100, 'peter': 200, -10: 'new', (1, -10): True}\n",
            "<class 'dict'>\n"
          ]
        }
      ]
    },
    {
      "cell_type": "code",
      "source": [
        "dict_example = dict(\n",
        "    ivan=100,\n",
        "    peter=200,\n",
        "    key='new'\n",
        ")\n",
        "print(dict_example)\n",
        "print(type(dict_example))"
      ],
      "metadata": {
        "colab": {
          "base_uri": "https://localhost:8080/"
        },
        "id": "KEMyjTYoEt5C",
        "outputId": "1e2f6054-cad1-4313-d362-8f7d783a983b"
      },
      "execution_count": null,
      "outputs": [
        {
          "output_type": "stream",
          "name": "stdout",
          "text": [
            "{'ivan': 100, 'peter': 200, 'key': 'new'}\n",
            "<class 'dict'>\n"
          ]
        }
      ]
    },
    {
      "cell_type": "code",
      "source": [
        "dict_example = dict(\n",
        "    ivan=100,\n",
        "    peter=200,\n",
        "    peter parker='new'\n",
        ")\n",
        "print(dict_example)\n",
        "print(type(dict_example))"
      ],
      "metadata": {
        "colab": {
          "base_uri": "https://localhost:8080/",
          "height": 133
        },
        "id": "9Sm0r1HD_CsE",
        "outputId": "399ea25c-21d4-41e5-a4d9-bb715b4af78c"
      },
      "execution_count": null,
      "outputs": [
        {
          "output_type": "error",
          "ename": "SyntaxError",
          "evalue": "ignored",
          "traceback": [
            "\u001b[0;36m  File \u001b[0;32m\"<ipython-input-96-3efadcf56bc8>\"\u001b[0;36m, line \u001b[0;32m4\u001b[0m\n\u001b[0;31m    peter parker='new'\u001b[0m\n\u001b[0m               ^\u001b[0m\n\u001b[0;31mSyntaxError\u001b[0m\u001b[0;31m:\u001b[0m invalid syntax\n"
          ]
        }
      ]
    },
    {
      "cell_type": "markdown",
      "source": [
        "Самым удобным способом создать словарь из двух списков (список ключей и список значений) является использование функции `zip`:"
      ],
      "metadata": {
        "id": "sBydXSNfFG5x"
      }
    },
    {
      "cell_type": "code",
      "source": [
        "keys = ['ivan', 'peter', -10, (1, -10)]\n",
        "values = [100, 200, 'new', True]\n",
        "\n",
        "dict_example = dict(zip(keys, values))\n",
        "print(dict_example)"
      ],
      "metadata": {
        "colab": {
          "base_uri": "https://localhost:8080/"
        },
        "id": "78vRpbMZFQpR",
        "outputId": "0375d761-a9f0-44bf-eb83-0ffe58921ccd"
      },
      "execution_count": null,
      "outputs": [
        {
          "output_type": "stream",
          "name": "stdout",
          "text": [
            "{'ivan': 100, 'peter': 200, -10: 'new', (1, -10): True}\n"
          ]
        }
      ]
    },
    {
      "cell_type": "markdown",
      "source": [
        "Ключом словаря может быть любой хешируемый (`hashable`) объект. Определение hashable из документации Python ([ссылка](https://docs.python.org/3/glossary.html#term-hashable)):\n",
        "\n",
        ">Объект является хэшируемым, если у него имеется хеш-значение, которое **не меняется за все его время существования** (необходим метод **\\_\\_hash\\_\\_()**), и **может быть сравним с другими объектами** (необходим метод **\\_\\_eq\\_\\_()**). Хэшируемые объекты, которые являются равными, должны иметь одинаковое хеш-значение.\n",
        "\n"
      ],
      "metadata": {
        "id": "suyCdm11wRZq"
      }
    },
    {
      "cell_type": "markdown",
      "source": [
        "Посмотреть хеш-значение в Python можно с помощью функции `hash`. Примеры хеш-значений для разных типов:"
      ],
      "metadata": {
        "id": "9wCDYb9XyLfx"
      }
    },
    {
      "cell_type": "code",
      "source": [
        "hash(343)"
      ],
      "metadata": {
        "colab": {
          "base_uri": "https://localhost:8080/"
        },
        "id": "kud7WDJ5D2Ju",
        "outputId": "8b943a4c-2b5c-4246-f4f9-705b71775a5e"
      },
      "execution_count": null,
      "outputs": [
        {
          "output_type": "execute_result",
          "data": {
            "text/plain": [
              "343"
            ]
          },
          "metadata": {},
          "execution_count": 97
        }
      ]
    },
    {
      "cell_type": "code",
      "source": [
        "hash(-343)"
      ],
      "metadata": {
        "colab": {
          "base_uri": "https://localhost:8080/"
        },
        "id": "RjuGXSK1D3zF",
        "outputId": "af0c3821-bf7c-4224-8e9c-005c30f88ac3"
      },
      "execution_count": null,
      "outputs": [
        {
          "output_type": "execute_result",
          "data": {
            "text/plain": [
              "-343"
            ]
          },
          "metadata": {},
          "execution_count": 98
        }
      ]
    },
    {
      "cell_type": "code",
      "source": [
        "hash(True)"
      ],
      "metadata": {
        "colab": {
          "base_uri": "https://localhost:8080/"
        },
        "id": "wO07HUZdD5YT",
        "outputId": "e4df86ad-cce5-431c-8557-3e18818e43f9"
      },
      "execution_count": null,
      "outputs": [
        {
          "output_type": "execute_result",
          "data": {
            "text/plain": [
              "1"
            ]
          },
          "metadata": {},
          "execution_count": 99
        }
      ]
    },
    {
      "cell_type": "code",
      "source": [
        "hash('hello')"
      ],
      "metadata": {
        "colab": {
          "base_uri": "https://localhost:8080/"
        },
        "id": "cRVxmcqpD7BH",
        "outputId": "06ecd1cb-2c30-44f3-d650-434a3b667fdb"
      },
      "execution_count": null,
      "outputs": [
        {
          "output_type": "execute_result",
          "data": {
            "text/plain": [
              "-1487066856015913251"
            ]
          },
          "metadata": {},
          "execution_count": 1
        }
      ]
    },
    {
      "cell_type": "code",
      "source": [
        "hash((1, 2, 3))"
      ],
      "metadata": {
        "colab": {
          "base_uri": "https://localhost:8080/"
        },
        "id": "d4Egi6MTD7wA",
        "outputId": "a1ee740e-4001-4e8c-ea09-28f4a07febf5"
      },
      "execution_count": null,
      "outputs": [
        {
          "output_type": "execute_result",
          "data": {
            "text/plain": [
              "2528502973977326415"
            ]
          },
          "metadata": {},
          "execution_count": 101
        }
      ]
    },
    {
      "cell_type": "markdown",
      "source": [
        "**Внимание** - не все кортежи хешируемы! Необходимо еще услКортеж хешируем, если все его элементы тоже хешируемы:"
      ],
      "metadata": {
        "id": "KI0Hx95JzMxQ"
      }
    },
    {
      "cell_type": "code",
      "source": [
        "hash((1, 2, (3, 4)))"
      ],
      "metadata": {
        "colab": {
          "base_uri": "https://localhost:8080/"
        },
        "id": "2bfAIDx3EXaS",
        "outputId": "f6d222d1-c137-44f9-e254-251b8585baf2"
      },
      "execution_count": null,
      "outputs": [
        {
          "output_type": "execute_result",
          "data": {
            "text/plain": [
              "-2725224101759650258"
            ]
          },
          "metadata": {},
          "execution_count": 102
        }
      ]
    },
    {
      "cell_type": "code",
      "source": [
        "hash((1, 2, [3, 4]))"
      ],
      "metadata": {
        "colab": {
          "base_uri": "https://localhost:8080/",
          "height": 168
        },
        "id": "EE-wBOHnEYa5",
        "outputId": "ffb713b9-4a7c-437b-ae7f-bf7f097f95b2"
      },
      "execution_count": null,
      "outputs": [
        {
          "output_type": "error",
          "ename": "TypeError",
          "evalue": "ignored",
          "traceback": [
            "\u001b[0;31m---------------------------------------------------------------------------\u001b[0m",
            "\u001b[0;31mTypeError\u001b[0m                                 Traceback (most recent call last)",
            "\u001b[0;32m<ipython-input-103-1d101f826a35>\u001b[0m in \u001b[0;36m<module>\u001b[0;34m\u001b[0m\n\u001b[0;32m----> 1\u001b[0;31m \u001b[0mhash\u001b[0m\u001b[0;34m(\u001b[0m\u001b[0;34m(\u001b[0m\u001b[0;36m1\u001b[0m\u001b[0;34m,\u001b[0m \u001b[0;36m2\u001b[0m\u001b[0;34m,\u001b[0m \u001b[0;34m[\u001b[0m\u001b[0;36m3\u001b[0m\u001b[0;34m,\u001b[0m \u001b[0;36m4\u001b[0m\u001b[0;34m]\u001b[0m\u001b[0;34m)\u001b[0m\u001b[0;34m)\u001b[0m\u001b[0;34m\u001b[0m\u001b[0;34m\u001b[0m\u001b[0m\n\u001b[0m",
            "\u001b[0;31mTypeError\u001b[0m: unhashable type: 'list'"
          ]
        }
      ]
    },
    {
      "cell_type": "markdown",
      "source": [
        "**Внимание** - нужно быть очень аккуратным с хэшированием float и лучше их вообще не хэшировать:"
      ],
      "metadata": {
        "id": "hE8df_NQzwyR"
      }
    },
    {
      "cell_type": "code",
      "source": [
        "hash(6.5)"
      ],
      "metadata": {
        "colab": {
          "base_uri": "https://localhost:8080/"
        },
        "id": "xbgFStbSEcWT",
        "outputId": "e0afb5e2-a9e9-43a8-da5b-c76f52d211a0"
      },
      "execution_count": null,
      "outputs": [
        {
          "output_type": "execute_result",
          "data": {
            "text/plain": [
              "1152921504606846982"
            ]
          },
          "metadata": {},
          "execution_count": 104
        }
      ]
    },
    {
      "cell_type": "code",
      "source": [
        "hash(6.500000000000001)"
      ],
      "metadata": {
        "colab": {
          "base_uri": "https://localhost:8080/"
        },
        "id": "wfkwcn8TEdbD",
        "outputId": "f7680d24-c827-4746-950d-3349dc0748c0"
      },
      "execution_count": null,
      "outputs": [
        {
          "output_type": "execute_result",
          "data": {
            "text/plain": [
              "1152921504606849030"
            ]
          },
          "metadata": {},
          "execution_count": 105
        }
      ]
    },
    {
      "cell_type": "code",
      "source": [
        "hash(6.5000000000000001)"
      ],
      "metadata": {
        "colab": {
          "base_uri": "https://localhost:8080/"
        },
        "id": "m8iEDc5uEe2-",
        "outputId": "451875cc-16ad-4a7b-b911-482832a67da2"
      },
      "execution_count": null,
      "outputs": [
        {
          "output_type": "execute_result",
          "data": {
            "text/plain": [
              "1152921504606846982"
            ]
          },
          "metadata": {},
          "execution_count": 125
        }
      ]
    },
    {
      "cell_type": "code",
      "source": [
        "6.5 == 6.5000000000000001"
      ],
      "metadata": {
        "colab": {
          "base_uri": "https://localhost:8080/"
        },
        "id": "BBwRInElBbib",
        "outputId": "c78d31f4-92e4-4d86-dba5-4396c8ce1d49"
      },
      "execution_count": null,
      "outputs": [
        {
          "output_type": "execute_result",
          "data": {
            "text/plain": [
              "True"
            ]
          },
          "metadata": {},
          "execution_count": 106
        }
      ]
    },
    {
      "cell_type": "code",
      "source": [
        "hash(round(6.50443, 2))"
      ],
      "metadata": {
        "colab": {
          "base_uri": "https://localhost:8080/"
        },
        "id": "CNb1E5wtEf1z",
        "outputId": "d6be60af-0a13-4b66-9e88-3f5f4f1caafc"
      },
      "execution_count": null,
      "outputs": [
        {
          "output_type": "execute_result",
          "data": {
            "text/plain": [
              "1152921504606846982"
            ]
          },
          "metadata": {},
          "execution_count": 107
        }
      ]
    },
    {
      "cell_type": "markdown",
      "source": [
        "**Замечание** - после перезапуска интерпретатора у сложных объектов (например, строк) будет уже другое значение хеш-функции."
      ],
      "metadata": {
        "id": "FSGUnbkq0c5n"
      }
    },
    {
      "cell_type": "code",
      "source": [
        "password = \"qwerty\"\n",
        "hash_password = hash(password)\n",
        "\n",
        "test_password = \"qserty\"\n",
        "\n",
        "if hash(test_password) == hash_password:"
      ],
      "metadata": {
        "id": "6dEE8jdcB2a7"
      },
      "execution_count": null,
      "outputs": []
    },
    {
      "cell_type": "markdown",
      "source": [
        "Для доступа к элементам словаря нужно передать ключ в квадратных скобках:"
      ],
      "metadata": {
        "id": "SwNBGhqi086-"
      }
    },
    {
      "cell_type": "code",
      "source": [
        "dict_example"
      ],
      "metadata": {
        "colab": {
          "base_uri": "https://localhost:8080/"
        },
        "id": "HQPmryTtE7Ss",
        "outputId": "8f44582f-a99b-478b-a4a7-4c2143d3881d"
      },
      "execution_count": null,
      "outputs": [
        {
          "output_type": "execute_result",
          "data": {
            "text/plain": [
              "{'ivan': 100, 'peter': 200, -10: 'new', (1, -10): True}"
            ]
          },
          "metadata": {},
          "execution_count": 3
        }
      ]
    },
    {
      "cell_type": "code",
      "source": [
        "dict_example['ivan']"
      ],
      "metadata": {
        "colab": {
          "base_uri": "https://localhost:8080/"
        },
        "id": "7uUZih4kE-SO",
        "outputId": "9813b68e-04f0-4807-d488-5774cb8915e0"
      },
      "execution_count": null,
      "outputs": [
        {
          "output_type": "execute_result",
          "data": {
            "text/plain": [
              "100"
            ]
          },
          "metadata": {},
          "execution_count": 4
        }
      ]
    },
    {
      "cell_type": "markdown",
      "source": [
        "Изменение, добавление и удаление элементов так же происходит по ключам:"
      ],
      "metadata": {
        "id": "r6WJcTbJ1Opj"
      }
    },
    {
      "cell_type": "code",
      "source": [
        "dict_example['ivan'] = 200\n",
        "dict_example"
      ],
      "metadata": {
        "colab": {
          "base_uri": "https://localhost:8080/"
        },
        "id": "2mE3kXvzFCGW",
        "outputId": "eb38fa6b-d0f8-47da-9df8-877bc9f81169"
      },
      "execution_count": null,
      "outputs": [
        {
          "output_type": "execute_result",
          "data": {
            "text/plain": [
              "{'ivan': 200, 'peter': 200, -10: 'new', (1, -10): True}"
            ]
          },
          "metadata": {},
          "execution_count": 5
        }
      ]
    },
    {
      "cell_type": "code",
      "source": [
        "dict_example['ivan_the_great'] = 300\n",
        "dict_example"
      ],
      "metadata": {
        "colab": {
          "base_uri": "https://localhost:8080/"
        },
        "id": "2N6VYNoMFGIv",
        "outputId": "ed6d23ce-cd7c-40cb-86f9-0fc960bbe518"
      },
      "execution_count": null,
      "outputs": [
        {
          "output_type": "execute_result",
          "data": {
            "text/plain": [
              "{'ivan': 200, 'peter': 200, -10: 'new', (1, -10): True, 'ivan_the_great': 300}"
            ]
          },
          "metadata": {},
          "execution_count": 6
        }
      ]
    },
    {
      "cell_type": "code",
      "source": [
        "del dict_example['ivan']\n",
        "dict_example"
      ],
      "metadata": {
        "colab": {
          "base_uri": "https://localhost:8080/"
        },
        "id": "EtJdr7A-FT9D",
        "outputId": "18470470-8b2e-43e9-c6ad-17cee69faeed"
      },
      "execution_count": null,
      "outputs": [
        {
          "output_type": "execute_result",
          "data": {
            "text/plain": [
              "{'peter': 200, -10: 'new', (1, -10): True, 'ivan_the_great': 300}"
            ]
          },
          "metadata": {},
          "execution_count": 7
        }
      ]
    },
    {
      "cell_type": "code",
      "source": [
        "dict_example['ivan_the_greatest']"
      ],
      "metadata": {
        "colab": {
          "base_uri": "https://localhost:8080/",
          "height": 168
        },
        "id": "VdF6PpMZ1N4q",
        "outputId": "77120b59-57e5-4aed-d9f4-422f72499f49"
      },
      "execution_count": null,
      "outputs": [
        {
          "output_type": "error",
          "ename": "KeyError",
          "evalue": "ignored",
          "traceback": [
            "\u001b[0;31m---------------------------------------------------------------------------\u001b[0m",
            "\u001b[0;31mKeyError\u001b[0m                                  Traceback (most recent call last)",
            "\u001b[0;32m<ipython-input-8-b3855fab5d89>\u001b[0m in \u001b[0;36m<module>\u001b[0;34m\u001b[0m\n\u001b[0;32m----> 1\u001b[0;31m \u001b[0mdict_example\u001b[0m\u001b[0;34m[\u001b[0m\u001b[0;34m'ivan_the_greatest'\u001b[0m\u001b[0;34m]\u001b[0m\u001b[0;34m\u001b[0m\u001b[0;34m\u001b[0m\u001b[0m\n\u001b[0m",
            "\u001b[0;31mKeyError\u001b[0m: 'ivan_the_greatest'"
          ]
        }
      ]
    },
    {
      "cell_type": "markdown",
      "source": [
        "Рассмотрим некоторые полезные методы словарей, полный список методов с описанием - [ссылка](https://python-reference.readthedocs.io/en/latest/docs/dict/).\n",
        "\n",
        "Для безопасного получения значения из словаря используем методы `get` и `setdefault`:"
      ],
      "metadata": {
        "id": "IMrHPoTj1wk5"
      }
    },
    {
      "cell_type": "code",
      "source": [
        "dict_example"
      ],
      "metadata": {
        "colab": {
          "base_uri": "https://localhost:8080/"
        },
        "id": "l9K-wXzkFblZ",
        "outputId": "2ddb7661-6941-4874-a6ce-191bcf650643"
      },
      "execution_count": null,
      "outputs": [
        {
          "output_type": "execute_result",
          "data": {
            "text/plain": [
              "{'peter': 200, -10: 'new', (1, -10): True, 'ivan_the_great': 300}"
            ]
          },
          "metadata": {},
          "execution_count": 9
        }
      ]
    },
    {
      "cell_type": "code",
      "source": [
        "key = 'basil'\n",
        "res = dict_example.get(key, \"default_value\")\n",
        "res"
      ],
      "metadata": {
        "colab": {
          "base_uri": "https://localhost:8080/",
          "height": 35
        },
        "id": "h1oyqjZLFfD1",
        "outputId": "65a12bb2-2d7b-441d-8faf-cdda94f4109d"
      },
      "execution_count": null,
      "outputs": [
        {
          "output_type": "execute_result",
          "data": {
            "text/plain": [
              "'default_value'"
            ],
            "application/vnd.google.colaboratory.intrinsic+json": {
              "type": "string"
            }
          },
          "metadata": {},
          "execution_count": 13
        }
      ]
    },
    {
      "cell_type": "code",
      "source": [
        "dict_example"
      ],
      "metadata": {
        "colab": {
          "base_uri": "https://localhost:8080/"
        },
        "id": "3U2Xj-vbFl2t",
        "outputId": "d857374e-0646-4c74-8bb6-989b63be7f42"
      },
      "execution_count": null,
      "outputs": [
        {
          "output_type": "execute_result",
          "data": {
            "text/plain": [
              "{'peter': 200, -10: 'new', (1, -10): True, 'ivan_the_great': 300}"
            ]
          },
          "metadata": {},
          "execution_count": 14
        }
      ]
    },
    {
      "cell_type": "code",
      "source": [
        "key = 'oleg'\n",
        "res = dict_example.setdefault(key, \"default_value\")\n",
        "res"
      ],
      "metadata": {
        "colab": {
          "base_uri": "https://localhost:8080/",
          "height": 35
        },
        "id": "l3fQsix6FnnM",
        "outputId": "b6965e44-c59d-4f18-e443-3402a78a4660"
      },
      "execution_count": null,
      "outputs": [
        {
          "output_type": "execute_result",
          "data": {
            "text/plain": [
              "'default_value'"
            ],
            "application/vnd.google.colaboratory.intrinsic+json": {
              "type": "string"
            }
          },
          "metadata": {},
          "execution_count": 15
        }
      ]
    },
    {
      "cell_type": "code",
      "source": [
        "dict_example"
      ],
      "metadata": {
        "colab": {
          "base_uri": "https://localhost:8080/"
        },
        "id": "SgGiicuyFtJ3",
        "outputId": "61407a5f-2229-4db0-8258-55256b48a6e5"
      },
      "execution_count": null,
      "outputs": [
        {
          "output_type": "execute_result",
          "data": {
            "text/plain": [
              "{'peter': 200,\n",
              " -10: 'new',\n",
              " (1, -10): True,\n",
              " 'ivan_the_great': 300,\n",
              " 'oleg': 'default_value'}"
            ]
          },
          "metadata": {},
          "execution_count": 16
        }
      ]
    },
    {
      "cell_type": "markdown",
      "source": [
        "Можем получить все ключи и значения из словаря с помощью методов `keys`, `values` и `items`:"
      ],
      "metadata": {
        "id": "mjpsgNGo8PTf"
      }
    },
    {
      "cell_type": "code",
      "source": [
        "dict_example"
      ],
      "metadata": {
        "colab": {
          "base_uri": "https://localhost:8080/"
        },
        "id": "9xjW9ECpFyRI",
        "outputId": "77ebc9d8-eb08-4c92-9516-606ca655f226"
      },
      "execution_count": null,
      "outputs": [
        {
          "output_type": "execute_result",
          "data": {
            "text/plain": [
              "{'peter': 200,\n",
              " -10: 'new',\n",
              " (1, -10): True,\n",
              " 'ivan_the_great': 300,\n",
              " 'oleg': 'default_value'}"
            ]
          },
          "metadata": {},
          "execution_count": 17
        }
      ]
    },
    {
      "cell_type": "code",
      "source": [
        "dict_example.keys()"
      ],
      "metadata": {
        "colab": {
          "base_uri": "https://localhost:8080/"
        },
        "id": "XvUEPzhiF0Iz",
        "outputId": "d298c920-a43a-4fbb-c6c9-d059d9c2fe9d"
      },
      "execution_count": null,
      "outputs": [
        {
          "output_type": "execute_result",
          "data": {
            "text/plain": [
              "dict_keys(['peter', -10, (1, -10), 'ivan_the_great', 'oleg'])"
            ]
          },
          "metadata": {},
          "execution_count": 22
        }
      ]
    },
    {
      "cell_type": "code",
      "source": [
        "dict_example.values()"
      ],
      "metadata": {
        "colab": {
          "base_uri": "https://localhost:8080/"
        },
        "id": "qz5-JVsVF_F_",
        "outputId": "d7a4bb0f-09fa-4078-c77d-1d8bd23e4381"
      },
      "execution_count": null,
      "outputs": [
        {
          "output_type": "execute_result",
          "data": {
            "text/plain": [
              "dict_values([200, 'new', True, 300, 'default_value'])"
            ]
          },
          "metadata": {},
          "execution_count": 19
        }
      ]
    },
    {
      "cell_type": "code",
      "source": [
        "dict_example.items()"
      ],
      "metadata": {
        "colab": {
          "base_uri": "https://localhost:8080/"
        },
        "id": "TOYSGonPGDdR",
        "outputId": "3d464bd5-4fc5-4bd6-f9ae-32d44973be0f"
      },
      "execution_count": null,
      "outputs": [
        {
          "output_type": "execute_result",
          "data": {
            "text/plain": [
              "dict_items([('peter', 200), (-10, 'new'), ((1, -10), True), ('ivan_the_great', 300), ('oleg', 'default_value')])"
            ]
          },
          "metadata": {},
          "execution_count": 20
        }
      ]
    },
    {
      "cell_type": "markdown",
      "source": [
        "**Примечание** - ключи, значения и их пары возвращаются не в виде списка, а в виде служебных типов данных."
      ],
      "metadata": {
        "id": "c1TuWHLQGF4j"
      }
    },
    {
      "cell_type": "markdown",
      "source": [
        "Можем объединить два словаря в один с помощью метода `update`:"
      ],
      "metadata": {
        "id": "8mhOeq0m8sEW"
      }
    },
    {
      "cell_type": "code",
      "source": [
        "dict_example2 = {1: 2, 2: 3, 3: 4}\n",
        "dict_example3 = {3: 5, 4: 6, 5: 7}"
      ],
      "metadata": {
        "id": "nuAGkTq18rQG"
      },
      "execution_count": null,
      "outputs": []
    },
    {
      "cell_type": "code",
      "source": [
        "dict_example2.update(dict_example3)\n",
        "dict_example2"
      ],
      "metadata": {
        "colab": {
          "base_uri": "https://localhost:8080/"
        },
        "id": "J4GXuoNoK0o9",
        "outputId": "2ebfb132-bb08-4475-a96a-3f0469116c2f"
      },
      "execution_count": null,
      "outputs": [
        {
          "output_type": "execute_result",
          "data": {
            "text/plain": [
              "{1: 2, 2: 3, 3: 5, 4: 6, 5: 7}"
            ]
          },
          "metadata": {},
          "execution_count": 24
        }
      ]
    },
    {
      "cell_type": "markdown",
      "source": [
        "# set"
      ],
      "metadata": {
        "id": "VCRhtYMfGcp-"
      }
    },
    {
      "cell_type": "markdown",
      "source": [
        "**Set** (множество) - набор уникальных объектов, аналогичен `ordered_set` из C++, но может содержать объекты разных типов. Можем добавлять и удалять элементы из множества, а также проверять наличие элемента в множестве. Принцип работы также основан на хеш-таблице.\n",
        "\n",
        "Где удобно использовать множества:\n",
        "- подсчет уникальных элементов в списке\n",
        "- быстрая проверка элемента на вхождение"
      ],
      "metadata": {
        "id": "hC7pewOoGf9M"
      }
    },
    {
      "cell_type": "markdown",
      "source": [
        "Для создания множества используются фигурные скобки и функция `set`:"
      ],
      "metadata": {
        "id": "ONtRtr81G0hf"
      }
    },
    {
      "cell_type": "code",
      "source": [
        "set_example = {1, 2, 3}\n",
        "print(set_example)\n",
        "print(type(set_example))"
      ],
      "metadata": {
        "colab": {
          "base_uri": "https://localhost:8080/"
        },
        "id": "_r2rZ83mG9Pv",
        "outputId": "6f024d8c-6ca7-49b1-ac3e-7bd841dbb2c0"
      },
      "execution_count": null,
      "outputs": [
        {
          "output_type": "stream",
          "name": "stdout",
          "text": [
            "{1, 2, 3}\n",
            "<class 'set'>\n"
          ]
        }
      ]
    },
    {
      "cell_type": "code",
      "source": [
        "set_example = set([2, 3, 4, 4])\n",
        "print(set_example)\n",
        "print(type(set_example))"
      ],
      "metadata": {
        "colab": {
          "base_uri": "https://localhost:8080/"
        },
        "id": "TdJIgANKHFHG",
        "outputId": "069be982-e932-442b-c0eb-de2ccdc7c60b"
      },
      "execution_count": null,
      "outputs": [
        {
          "output_type": "stream",
          "name": "stdout",
          "text": [
            "{2, 3, 4}\n",
            "<class 'set'>\n"
          ]
        }
      ]
    },
    {
      "cell_type": "markdown",
      "source": [
        "**Замечание** - пустое множество создается только как `set()`, в случае `{}` создастся пустой словарь."
      ],
      "metadata": {
        "id": "UVWFdeJfHRwl"
      }
    },
    {
      "cell_type": "code",
      "source": [
        "x = {}\n",
        "print(type(x))"
      ],
      "metadata": {
        "colab": {
          "base_uri": "https://localhost:8080/"
        },
        "id": "bTq9n4BrHTRJ",
        "outputId": "d5dbe504-5d7e-4423-8d27-bbf331319367"
      },
      "execution_count": null,
      "outputs": [
        {
          "output_type": "stream",
          "name": "stdout",
          "text": [
            "<class 'dict'>\n"
          ]
        }
      ]
    },
    {
      "cell_type": "markdown",
      "source": [
        "Для добавления, удаления и проверки наличия элемента в множестве существуют методы `add` и `remove` и оператор `in`:"
      ],
      "metadata": {
        "id": "nsh8DSMEHYiE"
      }
    },
    {
      "cell_type": "code",
      "source": [
        "set_example = {1, '2', 3.0, 'four'}\n",
        "set_example"
      ],
      "metadata": {
        "colab": {
          "base_uri": "https://localhost:8080/"
        },
        "id": "36sVwe5PHdhG",
        "outputId": "051e9838-359f-4b89-dbae-58ba669dbb4f"
      },
      "execution_count": null,
      "outputs": [
        {
          "output_type": "execute_result",
          "data": {
            "text/plain": [
              "{1, '2', 3.0, 'four'}"
            ]
          },
          "metadata": {},
          "execution_count": 28
        }
      ]
    },
    {
      "cell_type": "code",
      "source": [
        "set_example.add(5)\n",
        "set_example"
      ],
      "metadata": {
        "colab": {
          "base_uri": "https://localhost:8080/"
        },
        "id": "8QQaySqsH1Sz",
        "outputId": "ebe35cf0-84ff-46aa-f2f4-fa7559a39b6d"
      },
      "execution_count": null,
      "outputs": [
        {
          "output_type": "execute_result",
          "data": {
            "text/plain": [
              "{1, '2', 3.0, 5, 'four'}"
            ]
          },
          "metadata": {},
          "execution_count": 29
        }
      ]
    },
    {
      "cell_type": "code",
      "source": [
        "set_example.remove(1)\n",
        "print(set_example)"
      ],
      "metadata": {
        "colab": {
          "base_uri": "https://localhost:8080/"
        },
        "id": "dodPnxEvH2_K",
        "outputId": "94d32c2d-4e1d-4a60-f56f-3b62c60eb755"
      },
      "execution_count": null,
      "outputs": [
        {
          "output_type": "stream",
          "name": "stdout",
          "text": [
            "{3.0, 5, 'four', '2'}\n"
          ]
        }
      ]
    },
    {
      "cell_type": "code",
      "source": [
        "'2' in set_example"
      ],
      "metadata": {
        "colab": {
          "base_uri": "https://localhost:8080/"
        },
        "id": "jtshcj9vNF1F",
        "outputId": "92059592-0247-4ca1-a1de-1b879921e398"
      },
      "execution_count": null,
      "outputs": [
        {
          "output_type": "execute_result",
          "data": {
            "text/plain": [
              "True"
            ]
          },
          "metadata": {},
          "execution_count": 31
        }
      ]
    },
    {
      "cell_type": "code",
      "source": [
        "1 in set_example"
      ],
      "metadata": {
        "colab": {
          "base_uri": "https://localhost:8080/"
        },
        "id": "HkBqm9SqH4V0",
        "outputId": "01ce8bf6-c3c5-4c59-b2ca-138cd9c61453"
      },
      "execution_count": null,
      "outputs": [
        {
          "output_type": "execute_result",
          "data": {
            "text/plain": [
              "False"
            ]
          },
          "metadata": {},
          "execution_count": 32
        }
      ]
    },
    {
      "cell_type": "markdown",
      "source": [
        "Поскольку множество содержит лишь **уникальные** элементы, то добавление одинаковых элементов не меняет множество:"
      ],
      "metadata": {
        "id": "O3uAQoIvH8EU"
      }
    },
    {
      "cell_type": "code",
      "source": [
        "set_example"
      ],
      "metadata": {
        "colab": {
          "base_uri": "https://localhost:8080/"
        },
        "id": "ibGY7R9wNvlT",
        "outputId": "7139d28c-4773-4afa-90d4-ffe1c0e6fccc"
      },
      "execution_count": null,
      "outputs": [
        {
          "output_type": "execute_result",
          "data": {
            "text/plain": [
              "{'2', 3.0, 5, 'four'}"
            ]
          },
          "metadata": {},
          "execution_count": 33
        }
      ]
    },
    {
      "cell_type": "code",
      "source": [
        "set_example.add(1)\n",
        "set_example"
      ],
      "metadata": {
        "colab": {
          "base_uri": "https://localhost:8080/"
        },
        "id": "n-8lZgRJNwFH",
        "outputId": "1771ebe0-1b4d-4104-a67a-32b17e03a5bd"
      },
      "execution_count": null,
      "outputs": [
        {
          "output_type": "execute_result",
          "data": {
            "text/plain": [
              "{1, '2', 3.0, 5, 'four'}"
            ]
          },
          "metadata": {},
          "execution_count": 34
        }
      ]
    },
    {
      "cell_type": "code",
      "source": [
        "set_example.add(1)\n",
        "set_example"
      ],
      "metadata": {
        "colab": {
          "base_uri": "https://localhost:8080/"
        },
        "id": "pXcFrfVKNy6A",
        "outputId": "6512a23a-4267-4c2a-d087-cb264b0affef"
      },
      "execution_count": null,
      "outputs": [
        {
          "output_type": "execute_result",
          "data": {
            "text/plain": [
              "{1, '2', 3.0, 5, 'four'}"
            ]
          },
          "metadata": {},
          "execution_count": 35
        }
      ]
    },
    {
      "cell_type": "code",
      "source": [
        "set_example.add(1)\n",
        "set_example.add(1)\n",
        "set_example"
      ],
      "metadata": {
        "colab": {
          "base_uri": "https://localhost:8080/"
        },
        "id": "USDdwPONN9DI",
        "outputId": "516d3c5d-cc6c-4ae0-f62c-d91a9a464410"
      },
      "execution_count": null,
      "outputs": [
        {
          "output_type": "execute_result",
          "data": {
            "text/plain": [
              "{1, '2', 3.0, 5, 'four'}"
            ]
          },
          "metadata": {},
          "execution_count": 36
        }
      ]
    },
    {
      "cell_type": "markdown",
      "source": [
        "## Задачка\n",
        "\n",
        "Имеем множество:"
      ],
      "metadata": {
        "id": "IHM92AODILt5"
      }
    },
    {
      "cell_type": "code",
      "source": [
        "s = {0, 1, 2}\n",
        "s"
      ],
      "metadata": {
        "colab": {
          "base_uri": "https://localhost:8080/"
        },
        "id": "3RtFNv3OIMXu",
        "outputId": "69b7dacb-aa2e-4213-a1c0-e0952c90d2d5"
      },
      "execution_count": null,
      "outputs": [
        {
          "output_type": "execute_result",
          "data": {
            "text/plain": [
              "{0, 1, 2}"
            ]
          },
          "metadata": {},
          "execution_count": 168
        }
      ]
    },
    {
      "cell_type": "markdown",
      "source": [
        "Хотим добавить к нему `True`, `False` и `2.0`:"
      ],
      "metadata": {
        "id": "tSVdtQc6Icrh"
      }
    },
    {
      "cell_type": "code",
      "source": [
        "s.add(True)\n",
        "s.add(False)\n",
        "s.add(2.0)\n",
        "s"
      ],
      "metadata": {
        "colab": {
          "base_uri": "https://localhost:8080/"
        },
        "id": "yorDPfvOIYmQ",
        "outputId": "0151da8f-b0b9-4093-9602-7df1c53a7433"
      },
      "execution_count": null,
      "outputs": [
        {
          "output_type": "execute_result",
          "data": {
            "text/plain": [
              "{0, 1, 2}"
            ]
          },
          "metadata": {},
          "execution_count": 169
        }
      ]
    },
    {
      "cell_type": "markdown",
      "source": [
        "Ожидаем увидеть множество: `{0, 1, 2, True, False, 2.0}`, но получили снова `{0, 1, 2}`.\n",
        "\n",
        "**Вопрос** - почему множество не поменялось?"
      ],
      "metadata": {
        "id": "DzpqshV8Is52"
      }
    },
    {
      "cell_type": "markdown",
      "source": [
        "## Методы множеств"
      ],
      "metadata": {
        "id": "9xNz2qP4PnwD"
      }
    },
    {
      "cell_type": "markdown",
      "source": [
        "Рассмотрим основные методы множеств. С помощью метода `update` можем объединить два множества: "
      ],
      "metadata": {
        "id": "-J2QArLWI0KK"
      }
    },
    {
      "cell_type": "code",
      "source": [
        "a = {1, 2, 3}\n",
        "b = set([2, 3, 4])"
      ],
      "metadata": {
        "id": "IiNlppdGI95S"
      },
      "execution_count": null,
      "outputs": []
    },
    {
      "cell_type": "code",
      "source": [
        "b.update(a) # объединить множество с другим множеством\n",
        "print(a, b)"
      ],
      "metadata": {
        "colab": {
          "base_uri": "https://localhost:8080/"
        },
        "id": "G0udCZi2PvGG",
        "outputId": "12b47992-1333-485c-b34c-662ee7ff1083"
      },
      "execution_count": null,
      "outputs": [
        {
          "output_type": "stream",
          "name": "stdout",
          "text": [
            "{1, 2, 3} {1, 2, 3, 4}\n"
          ]
        }
      ]
    },
    {
      "cell_type": "markdown",
      "source": [
        "Помимо проверки на вхождение элемента в множество (`in`), имеются проверки на вхождения одного множества в другое:"
      ],
      "metadata": {
        "id": "YEi_bOpBJLQ8"
      }
    },
    {
      "cell_type": "code",
      "source": [
        "b.issubset(a)    # является ли b подмножеством a"
      ],
      "metadata": {
        "colab": {
          "base_uri": "https://localhost:8080/"
        },
        "id": "FpZkenY3P_U6",
        "outputId": "e6bdbcce-4bce-4a45-9da3-fc9e732a390e"
      },
      "execution_count": null,
      "outputs": [
        {
          "output_type": "execute_result",
          "data": {
            "text/plain": [
              "False"
            ]
          },
          "metadata": {},
          "execution_count": 172
        }
      ]
    },
    {
      "cell_type": "code",
      "source": [
        "b.issuperset(a)  # является ли b надмножеством a"
      ],
      "metadata": {
        "colab": {
          "base_uri": "https://localhost:8080/"
        },
        "id": "S2d0QRoOQCqH",
        "outputId": "ddf35785-297a-4e58-9799-2828d67c6824"
      },
      "execution_count": null,
      "outputs": [
        {
          "output_type": "execute_result",
          "data": {
            "text/plain": [
              "True"
            ]
          },
          "metadata": {},
          "execution_count": 173
        }
      ]
    },
    {
      "cell_type": "code",
      "source": [
        "b.isdisjoint(a)  # являются ли непересекающимися"
      ],
      "metadata": {
        "colab": {
          "base_uri": "https://localhost:8080/"
        },
        "id": "K7PyWSzTQIYs",
        "outputId": "119b725d-0a5e-43e9-ab42-1bae49cccaec"
      },
      "execution_count": null,
      "outputs": [
        {
          "output_type": "execute_result",
          "data": {
            "text/plain": [
              "False"
            ]
          },
          "metadata": {},
          "execution_count": 174
        }
      ]
    },
    {
      "cell_type": "markdown",
      "source": [
        "## Операции над множествами"
      ],
      "metadata": {
        "id": "ttO6FyBSKIGr"
      }
    },
    {
      "cell_type": "code",
      "source": [
        "a = {1, 2, 3, 5}\n",
        "b = set([2, 3, 4, 5, 6])\n",
        "\n",
        "print(a, b)"
      ],
      "metadata": {
        "colab": {
          "base_uri": "https://localhost:8080/"
        },
        "id": "ZlR6OnchQRCN",
        "outputId": "4d00e9b8-ac81-4a12-a74d-da69bc3f89e2"
      },
      "execution_count": null,
      "outputs": [
        {
          "output_type": "stream",
          "name": "stdout",
          "text": [
            "{1, 2, 3, 5} {2, 3, 4, 5, 6}\n"
          ]
        }
      ]
    },
    {
      "cell_type": "code",
      "source": [
        "a - b  # все элементы a, которых нет в b"
      ],
      "metadata": {
        "colab": {
          "base_uri": "https://localhost:8080/"
        },
        "id": "NPKFX776QUYR",
        "outputId": "e6c8596c-c79e-4ee5-f8e4-f50819b9002b"
      },
      "execution_count": null,
      "outputs": [
        {
          "output_type": "execute_result",
          "data": {
            "text/plain": [
              "{1}"
            ]
          },
          "metadata": {},
          "execution_count": 40
        }
      ]
    },
    {
      "cell_type": "code",
      "source": [
        "b - a  # все элементы b, которых нет в a"
      ],
      "metadata": {
        "colab": {
          "base_uri": "https://localhost:8080/"
        },
        "id": "P4oi4tTXQWr9",
        "outputId": "58164bdd-e9aa-4d1b-89bf-0641bdb43be9"
      },
      "execution_count": null,
      "outputs": [
        {
          "output_type": "execute_result",
          "data": {
            "text/plain": [
              "{4, 6}"
            ]
          },
          "metadata": {},
          "execution_count": 41
        }
      ]
    },
    {
      "cell_type": "code",
      "source": [
        "a | b  # объединение множеств"
      ],
      "metadata": {
        "colab": {
          "base_uri": "https://localhost:8080/"
        },
        "id": "QbdX2Gb7QZWi",
        "outputId": "85cb52f6-d739-4554-9952-3ae4773200a0"
      },
      "execution_count": null,
      "outputs": [
        {
          "output_type": "execute_result",
          "data": {
            "text/plain": [
              "{1, 2, 3, 4, 5, 6}"
            ]
          },
          "metadata": {},
          "execution_count": 42
        }
      ]
    },
    {
      "cell_type": "code",
      "source": [
        "a & b  # пересечение"
      ],
      "metadata": {
        "colab": {
          "base_uri": "https://localhost:8080/"
        },
        "id": "D2--L9JlQb_4",
        "outputId": "b728a677-8325-40f8-9158-36c78ef4c882"
      },
      "execution_count": null,
      "outputs": [
        {
          "output_type": "execute_result",
          "data": {
            "text/plain": [
              "{2, 3, 5}"
            ]
          },
          "metadata": {},
          "execution_count": 43
        }
      ]
    },
    {
      "cell_type": "code",
      "source": [
        "a ^ b  # все элементы, которые есть только в одном из двух множеств"
      ],
      "metadata": {
        "colab": {
          "base_uri": "https://localhost:8080/"
        },
        "id": "lJmzP9FfQeBo",
        "outputId": "5ddc087a-4034-4945-a700-cc0d79ff9459"
      },
      "execution_count": null,
      "outputs": [
        {
          "output_type": "execute_result",
          "data": {
            "text/plain": [
              "{1, 4, 6}"
            ]
          },
          "metadata": {},
          "execution_count": 180
        }
      ]
    },
    {
      "cell_type": "markdown",
      "source": [
        "Эти же операции можно использовать как методы объектов:"
      ],
      "metadata": {
        "id": "eNWkhTPgLhno"
      }
    },
    {
      "cell_type": "code",
      "source": [
        "a.difference(b)             # a - b"
      ],
      "metadata": {
        "colab": {
          "base_uri": "https://localhost:8080/"
        },
        "id": "U6U75cpnQjlp",
        "outputId": "66f94bf4-0828-47b1-e1f6-be59ded92f3f"
      },
      "execution_count": null,
      "outputs": [
        {
          "output_type": "execute_result",
          "data": {
            "text/plain": [
              "{1}"
            ]
          },
          "metadata": {},
          "execution_count": 181
        }
      ]
    },
    {
      "cell_type": "code",
      "source": [
        "a.union(b)                  # a | b"
      ],
      "metadata": {
        "colab": {
          "base_uri": "https://localhost:8080/"
        },
        "id": "-gDbQ1DlQlOl",
        "outputId": "858332a4-bbdc-4837-f871-c91364b2adc1"
      },
      "execution_count": null,
      "outputs": [
        {
          "output_type": "execute_result",
          "data": {
            "text/plain": [
              "{1, 2, 3, 4, 5, 6}"
            ]
          },
          "metadata": {},
          "execution_count": 182
        }
      ]
    },
    {
      "cell_type": "code",
      "source": [
        "a.intersection(b)           # a & b"
      ],
      "metadata": {
        "colab": {
          "base_uri": "https://localhost:8080/"
        },
        "id": "WNhpI243QnNE",
        "outputId": "b3e9f4e2-e1bf-45a9-9fc1-21b523fa524e"
      },
      "execution_count": null,
      "outputs": [
        {
          "output_type": "execute_result",
          "data": {
            "text/plain": [
              "{2, 3, 5}"
            ]
          },
          "metadata": {},
          "execution_count": 183
        }
      ]
    },
    {
      "cell_type": "code",
      "source": [
        "a.symmetric_difference(b)   # a ^ b"
      ],
      "metadata": {
        "colab": {
          "base_uri": "https://localhost:8080/"
        },
        "id": "7eEikRQUQulN",
        "outputId": "00b067a7-3036-453d-bc17-1f8745cbf087"
      },
      "execution_count": null,
      "outputs": [
        {
          "output_type": "execute_result",
          "data": {
            "text/plain": [
              "{1, 4, 6}"
            ]
          },
          "metadata": {},
          "execution_count": 184
        }
      ]
    },
    {
      "cell_type": "code",
      "source": [
        "a.difference_update(b)            # a -= b\n",
        "a"
      ],
      "metadata": {
        "colab": {
          "base_uri": "https://localhost:8080/"
        },
        "id": "1mkWDTchQzA6",
        "outputId": "96d751eb-5f9f-4157-9610-2c429ac11b14"
      },
      "execution_count": null,
      "outputs": [
        {
          "output_type": "execute_result",
          "data": {
            "text/plain": [
              "{1}"
            ]
          },
          "metadata": {},
          "execution_count": 185
        }
      ]
    },
    {
      "cell_type": "code",
      "source": [
        "a.update(b)                       # a |= b\n",
        "a"
      ],
      "metadata": {
        "colab": {
          "base_uri": "https://localhost:8080/"
        },
        "id": "grEzqQzrQ3iz",
        "outputId": "ecafb9c9-a187-4364-917f-f4d6c3f33f47"
      },
      "execution_count": null,
      "outputs": [
        {
          "output_type": "execute_result",
          "data": {
            "text/plain": [
              "{1, 2, 3, 4, 5, 6}"
            ]
          },
          "metadata": {},
          "execution_count": 186
        }
      ]
    },
    {
      "cell_type": "code",
      "source": [
        "a.intersection_update(b)          # a &= b\n",
        "a"
      ],
      "metadata": {
        "colab": {
          "base_uri": "https://localhost:8080/"
        },
        "id": "0zi-UaJ2Q9hz",
        "outputId": "567527f6-bf12-458e-c3c1-a1d13a423d65"
      },
      "execution_count": null,
      "outputs": [
        {
          "output_type": "execute_result",
          "data": {
            "text/plain": [
              "{2, 3, 4, 5, 6}"
            ]
          },
          "metadata": {},
          "execution_count": 187
        }
      ]
    },
    {
      "cell_type": "code",
      "source": [
        "a.symmetric_difference_update(b)  # a ^= b\n",
        "a"
      ],
      "metadata": {
        "colab": {
          "base_uri": "https://localhost:8080/"
        },
        "id": "jH-9vgErRBSz",
        "outputId": "c75f7763-dd53-4db2-9c3f-d091d4a7b5b5"
      },
      "execution_count": null,
      "outputs": [
        {
          "output_type": "execute_result",
          "data": {
            "text/plain": [
              "{2, 3, 4, 5, 6}"
            ]
          },
          "metadata": {},
          "execution_count": 189
        }
      ]
    },
    {
      "cell_type": "markdown",
      "source": [
        "Удаление элементов из множества осуществляется с помощью методов `remove` и `discard`:"
      ],
      "metadata": {
        "id": "x5kA5nm-L4Bi"
      }
    },
    {
      "cell_type": "code",
      "source": [
        "a = {1, 2, 3}\n",
        "a"
      ],
      "metadata": {
        "colab": {
          "base_uri": "https://localhost:8080/"
        },
        "id": "Mh7lrBiCRGsq",
        "outputId": "d9c68581-93bf-461a-b510-ba4aa5ab02b2"
      },
      "execution_count": null,
      "outputs": [
        {
          "output_type": "execute_result",
          "data": {
            "text/plain": [
              "{1, 2, 3}"
            ]
          },
          "metadata": {},
          "execution_count": 44
        }
      ]
    },
    {
      "cell_type": "code",
      "source": [
        "a.remove(3)\n",
        "a"
      ],
      "metadata": {
        "colab": {
          "base_uri": "https://localhost:8080/"
        },
        "id": "k8OUVb4dRJB3",
        "outputId": "5f2c5e03-5437-4ec1-e735-e88a809d04b9"
      },
      "execution_count": null,
      "outputs": [
        {
          "output_type": "execute_result",
          "data": {
            "text/plain": [
              "{1, 2}"
            ]
          },
          "metadata": {},
          "execution_count": 45
        }
      ]
    },
    {
      "cell_type": "code",
      "source": [
        "a.remove(3)\n",
        "a"
      ],
      "metadata": {
        "colab": {
          "base_uri": "https://localhost:8080/",
          "height": 185
        },
        "id": "PVyt3nRrL60Y",
        "outputId": "c8bd8b46-c76d-40bc-edc6-fe38635b2278"
      },
      "execution_count": null,
      "outputs": [
        {
          "output_type": "error",
          "ename": "KeyError",
          "evalue": "ignored",
          "traceback": [
            "\u001b[0;31m---------------------------------------------------------------------------\u001b[0m",
            "\u001b[0;31mKeyError\u001b[0m                                  Traceback (most recent call last)",
            "\u001b[0;32m<ipython-input-46-057a2709e981>\u001b[0m in \u001b[0;36m<module>\u001b[0;34m\u001b[0m\n\u001b[0;32m----> 1\u001b[0;31m \u001b[0ma\u001b[0m\u001b[0;34m.\u001b[0m\u001b[0mremove\u001b[0m\u001b[0;34m(\u001b[0m\u001b[0;36m3\u001b[0m\u001b[0;34m)\u001b[0m\u001b[0;34m\u001b[0m\u001b[0;34m\u001b[0m\u001b[0m\n\u001b[0m\u001b[1;32m      2\u001b[0m \u001b[0ma\u001b[0m\u001b[0;34m\u001b[0m\u001b[0;34m\u001b[0m\u001b[0m\n",
            "\u001b[0;31mKeyError\u001b[0m: 3"
          ]
        }
      ]
    },
    {
      "cell_type": "code",
      "source": [
        "a = {1,2,3}\n",
        "a"
      ],
      "metadata": {
        "colab": {
          "base_uri": "https://localhost:8080/"
        },
        "id": "WbY2uZdjL-Id",
        "outputId": "eafa893d-03cd-4f3c-bcf1-208da9aa28b3"
      },
      "execution_count": null,
      "outputs": [
        {
          "output_type": "execute_result",
          "data": {
            "text/plain": [
              "{1, 2, 3}"
            ]
          },
          "metadata": {},
          "execution_count": 47
        }
      ]
    },
    {
      "cell_type": "code",
      "source": [
        "a.discard(3)\n",
        "a"
      ],
      "metadata": {
        "colab": {
          "base_uri": "https://localhost:8080/"
        },
        "id": "NrkSGl-vRO56",
        "outputId": "5f409943-d04d-40e6-f9bb-b0dcde59c06f"
      },
      "execution_count": null,
      "outputs": [
        {
          "output_type": "execute_result",
          "data": {
            "text/plain": [
              "{1, 2}"
            ]
          },
          "metadata": {},
          "execution_count": 48
        }
      ]
    },
    {
      "cell_type": "code",
      "source": [
        "a.discard(3)\n",
        "a"
      ],
      "metadata": {
        "colab": {
          "base_uri": "https://localhost:8080/"
        },
        "id": "KL0U3_eZRQOM",
        "outputId": "ce67ad4a-c0c4-4059-f431-f35cc65bcb57"
      },
      "execution_count": null,
      "outputs": [
        {
          "output_type": "execute_result",
          "data": {
            "text/plain": [
              "{1, 2}"
            ]
          },
          "metadata": {},
          "execution_count": 49
        }
      ]
    },
    {
      "cell_type": "markdown",
      "source": [
        "Поскольку множество - изменяемый тип данных, его нельзя использовать в качестве ключа. Однако, у него есть свой аналог кортежа - **frozenset**, отличающееся лишь тем, что является неизменяемым:"
      ],
      "metadata": {
        "id": "_s7UqpLiMib4"
      }
    },
    {
      "cell_type": "code",
      "source": [
        "s = {1, 2, 3}\n",
        "fs = frozenset(s)\n",
        "\n",
        "print(type(fs), fs)\n",
        "print(type(s), s)"
      ],
      "metadata": {
        "colab": {
          "base_uri": "https://localhost:8080/"
        },
        "id": "BzQ5waUAMwf2",
        "outputId": "064646fb-096b-44a5-9f76-36b704156df4"
      },
      "execution_count": null,
      "outputs": [
        {
          "output_type": "stream",
          "name": "stdout",
          "text": [
            "<class 'frozenset'> frozenset({1, 2, 3})\n",
            "<class 'set'> {1, 2, 3}\n"
          ]
        }
      ]
    },
    {
      "cell_type": "code",
      "source": [
        "d = {}\n",
        "d[fs] = True\n",
        "print(d[fs])\n",
        "\n",
        "d[s] = False\n",
        "print(d[s])"
      ],
      "metadata": {
        "colab": {
          "base_uri": "https://localhost:8080/",
          "height": 237
        },
        "id": "Tb5U5THeM-S1",
        "outputId": "2d929d4e-9665-46c9-da63-f5e013619345"
      },
      "execution_count": null,
      "outputs": [
        {
          "output_type": "stream",
          "name": "stdout",
          "text": [
            "True\n"
          ]
        },
        {
          "output_type": "error",
          "ename": "TypeError",
          "evalue": "ignored",
          "traceback": [
            "\u001b[0;31m---------------------------------------------------------------------------\u001b[0m",
            "\u001b[0;31mTypeError\u001b[0m                                 Traceback (most recent call last)",
            "\u001b[0;32m<ipython-input-51-a4734ffa82af>\u001b[0m in \u001b[0;36m<module>\u001b[0;34m\u001b[0m\n\u001b[1;32m      3\u001b[0m \u001b[0mprint\u001b[0m\u001b[0;34m(\u001b[0m\u001b[0md\u001b[0m\u001b[0;34m[\u001b[0m\u001b[0mfs\u001b[0m\u001b[0;34m]\u001b[0m\u001b[0;34m)\u001b[0m\u001b[0;34m\u001b[0m\u001b[0;34m\u001b[0m\u001b[0m\n\u001b[1;32m      4\u001b[0m \u001b[0;34m\u001b[0m\u001b[0m\n\u001b[0;32m----> 5\u001b[0;31m \u001b[0md\u001b[0m\u001b[0;34m[\u001b[0m\u001b[0ms\u001b[0m\u001b[0;34m]\u001b[0m \u001b[0;34m=\u001b[0m \u001b[0;32mFalse\u001b[0m\u001b[0;34m\u001b[0m\u001b[0;34m\u001b[0m\u001b[0m\n\u001b[0m\u001b[1;32m      6\u001b[0m \u001b[0mprint\u001b[0m\u001b[0;34m(\u001b[0m\u001b[0md\u001b[0m\u001b[0;34m[\u001b[0m\u001b[0ms\u001b[0m\u001b[0;34m]\u001b[0m\u001b[0;34m)\u001b[0m\u001b[0;34m\u001b[0m\u001b[0;34m\u001b[0m\u001b[0m\n",
            "\u001b[0;31mTypeError\u001b[0m: unhashable type: 'set'"
          ]
        }
      ]
    },
    {
      "cell_type": "code",
      "source": [
        "d"
      ],
      "metadata": {
        "colab": {
          "base_uri": "https://localhost:8080/"
        },
        "id": "pIU42DrRIQEC",
        "outputId": "d1d58bde-96db-4008-9848-282e57b03bda"
      },
      "execution_count": null,
      "outputs": [
        {
          "output_type": "execute_result",
          "data": {
            "text/plain": [
              "{frozenset({1, 2, 3}): True}"
            ]
          },
          "metadata": {},
          "execution_count": 52
        }
      ]
    },
    {
      "cell_type": "markdown",
      "source": [
        "# Дополнительные контейнеры"
      ],
      "metadata": {
        "id": "j0Cki1TnKB9d"
      }
    },
    {
      "cell_type": "markdown",
      "source": [
        "В Python имеется модуль `collections`, в котором содержится множество полезных, но редко используемых структур данных.\n",
        "\n",
        "Хороший краткий обзор модуля collections можно почитать [здесь](https://pythonworld.ru/moduli/modul-collections.html) "
      ],
      "metadata": {
        "id": "Z2yp5lp1K-G7"
      }
    },
    {
      "cell_type": "markdown",
      "source": [
        "## defaultdict"
      ],
      "metadata": {
        "id": "bLf6ZwVyK3a5"
      }
    },
    {
      "cell_type": "markdown",
      "source": [
        "Модификация словаря, которая позволяет автоматические создавать значения для отсутствующих ключей. Для этого необходимо передать в `defaultdict` имя функции, которая может принимать 0 аргументов:"
      ],
      "metadata": {
        "id": "BIIx3TdVZlRe"
      }
    },
    {
      "cell_type": "code",
      "source": [
        "from collections import defaultdict\n",
        "\n",
        "dct = defaultdict(int)\n",
        "dct"
      ],
      "metadata": {
        "colab": {
          "base_uri": "https://localhost:8080/"
        },
        "id": "FijN2DcHLMJw",
        "outputId": "dd844893-9aed-4c96-c625-7d90bae207e3"
      },
      "execution_count": null,
      "outputs": [
        {
          "output_type": "execute_result",
          "data": {
            "text/plain": [
              "defaultdict(int, {})"
            ]
          },
          "metadata": {},
          "execution_count": 53
        }
      ]
    },
    {
      "cell_type": "code",
      "source": [
        "dct[2], dct"
      ],
      "metadata": {
        "colab": {
          "base_uri": "https://localhost:8080/"
        },
        "id": "mG_icO-mR_aL",
        "outputId": "d350d16e-3f8e-493b-bae3-249c0c5d621f"
      },
      "execution_count": null,
      "outputs": [
        {
          "output_type": "execute_result",
          "data": {
            "text/plain": [
              "(0, defaultdict(int, {2: 0}))"
            ]
          },
          "metadata": {},
          "execution_count": 56
        }
      ]
    },
    {
      "cell_type": "markdown",
      "source": [
        "Вместо `int`, можно указывать и остальные функции, связанные с типами данных, например, `bool`, `list`, `float`: "
      ],
      "metadata": {
        "id": "SpRPQbi4yQjP"
      }
    },
    {
      "cell_type": "code",
      "source": [
        "dct = defaultdict(list)\n",
        "dct"
      ],
      "metadata": {
        "colab": {
          "base_uri": "https://localhost:8080/"
        },
        "id": "adIE09FUycpJ",
        "outputId": "b49c8b8f-e529-4fd2-9322-736563d4391a"
      },
      "execution_count": null,
      "outputs": [
        {
          "output_type": "execute_result",
          "data": {
            "text/plain": [
              "defaultdict(list, {})"
            ]
          },
          "metadata": {},
          "execution_count": 57
        }
      ]
    },
    {
      "cell_type": "code",
      "source": [
        "dct[\"random\"]"
      ],
      "metadata": {
        "colab": {
          "base_uri": "https://localhost:8080/"
        },
        "id": "4oJFVbfFyfoI",
        "outputId": "1c0f6177-f75c-4390-8027-c61aa3ad6fa5"
      },
      "execution_count": null,
      "outputs": [
        {
          "output_type": "execute_result",
          "data": {
            "text/plain": [
              "[]"
            ]
          },
          "metadata": {},
          "execution_count": 58
        }
      ]
    },
    {
      "cell_type": "code",
      "source": [
        "dct"
      ],
      "metadata": {
        "colab": {
          "base_uri": "https://localhost:8080/"
        },
        "id": "9tWYQr8DMA8H",
        "outputId": "819ec040-dde4-49b7-fc31-3c7251f4da7c"
      },
      "execution_count": null,
      "outputs": [
        {
          "output_type": "execute_result",
          "data": {
            "text/plain": [
              "defaultdict(list, {'random': []})"
            ]
          },
          "metadata": {},
          "execution_count": 59
        }
      ]
    },
    {
      "cell_type": "markdown",
      "source": [
        "Забегая вперед, в качестве аргумента `defaultdict` удобно использовать лямбда-функции (анонимные функции):"
      ],
      "metadata": {
        "id": "P57rFBLbymHb"
      }
    },
    {
      "cell_type": "code",
      "source": [
        "dct = defaultdict(set)\n",
        "dct[\"answer\"]"
      ],
      "metadata": {
        "colab": {
          "base_uri": "https://localhost:8080/"
        },
        "id": "i1oEuIKUyyxg",
        "outputId": "6f59dac8-5490-482c-9a02-510dead3ca3e"
      },
      "execution_count": null,
      "outputs": [
        {
          "output_type": "execute_result",
          "data": {
            "text/plain": [
              "set()"
            ]
          },
          "metadata": {},
          "execution_count": 62
        }
      ]
    },
    {
      "cell_type": "markdown",
      "source": [
        "Подробнее мы познакомимся с функциями на следующем занятии."
      ],
      "metadata": {
        "id": "6clQgXsnzA-4"
      }
    },
    {
      "cell_type": "markdown",
      "source": [
        "## OrderedDict"
      ],
      "metadata": {
        "id": "09zHVL_hLdQw"
      }
    },
    {
      "cell_type": "markdown",
      "source": [
        "C версии Python 3.7 сохранение порядка гарантируется и для `dict`, но операция сравнения для обычных диктов всё ещё не учитывает порядок в отличие от `OrderedDict`.\n",
        "\n",
        "Кроме того, у `OrderedDict` есть метод `move_to_end` (подвинуть существующий элемент в конец), которого нет в обычном словаре."
      ],
      "metadata": {
        "id": "Su4ctLDASmBK"
      }
    },
    {
      "cell_type": "code",
      "source": [
        "from collections import OrderedDict\n",
        "\n",
        "data1 = [(1, 'a'), (3, 'c'), (2, 'b')]\n",
        "data2 = [(1, 'a'), (2, 'b'), (3, 'c')]\n",
        "\n",
        "normal_dict1 = dict(data1)\n",
        "ordered_dict1 = OrderedDict(data1)\n",
        "\n",
        "normal_dict2 = dict(data2)\n",
        "ordered_dict2 = OrderedDict(data2)"
      ],
      "metadata": {
        "id": "RiyX8oA5Lh6C"
      },
      "execution_count": null,
      "outputs": []
    },
    {
      "cell_type": "code",
      "source": [
        "normal_dict1"
      ],
      "metadata": {
        "colab": {
          "base_uri": "https://localhost:8080/"
        },
        "id": "l-tCUcfSzdoi",
        "outputId": "23810a40-ffa1-47bc-f5bf-e9c0683942fc"
      },
      "execution_count": null,
      "outputs": [
        {
          "output_type": "execute_result",
          "data": {
            "text/plain": [
              "{1: 'a', 3: 'c', 2: 'b'}"
            ]
          },
          "metadata": {},
          "execution_count": 64
        }
      ]
    },
    {
      "cell_type": "code",
      "source": [
        "normal_dict2"
      ],
      "metadata": {
        "colab": {
          "base_uri": "https://localhost:8080/"
        },
        "id": "W_AaysKBzhFY",
        "outputId": "ea996c92-a553-4979-d8fe-c8bf0b3d1e49"
      },
      "execution_count": null,
      "outputs": [
        {
          "output_type": "execute_result",
          "data": {
            "text/plain": [
              "{1: 'a', 2: 'b', 3: 'c'}"
            ]
          },
          "metadata": {},
          "execution_count": 65
        }
      ]
    },
    {
      "cell_type": "code",
      "source": [
        "normal_dict1 == normal_dict2"
      ],
      "metadata": {
        "colab": {
          "base_uri": "https://localhost:8080/"
        },
        "id": "GJcVlFA3zi62",
        "outputId": "1cac4a73-068b-4cb0-d43c-d0d6ab3d85b5"
      },
      "execution_count": null,
      "outputs": [
        {
          "output_type": "execute_result",
          "data": {
            "text/plain": [
              "True"
            ]
          },
          "metadata": {},
          "execution_count": 66
        }
      ]
    },
    {
      "cell_type": "code",
      "source": [
        "ordered_dict1"
      ],
      "metadata": {
        "colab": {
          "base_uri": "https://localhost:8080/"
        },
        "id": "EqGDy8_QzlkE",
        "outputId": "fe920875-78c0-413b-ce6d-a0c36559cfcc"
      },
      "execution_count": null,
      "outputs": [
        {
          "output_type": "execute_result",
          "data": {
            "text/plain": [
              "OrderedDict([(1, 'a'), (3, 'c'), (2, 'b')])"
            ]
          },
          "metadata": {},
          "execution_count": 67
        }
      ]
    },
    {
      "cell_type": "code",
      "source": [
        "ordered_dict2"
      ],
      "metadata": {
        "colab": {
          "base_uri": "https://localhost:8080/"
        },
        "id": "67o6XIuxzoge",
        "outputId": "0dd924cc-84d9-49bb-dc8b-ab939e1dfac7"
      },
      "execution_count": null,
      "outputs": [
        {
          "output_type": "execute_result",
          "data": {
            "text/plain": [
              "OrderedDict([(1, 'a'), (2, 'b'), (3, 'c')])"
            ]
          },
          "metadata": {},
          "execution_count": 68
        }
      ]
    },
    {
      "cell_type": "code",
      "source": [
        "ordered_dict1 == ordered_dict2"
      ],
      "metadata": {
        "colab": {
          "base_uri": "https://localhost:8080/"
        },
        "id": "81ECZ2ITzptq",
        "outputId": "1d5a07d6-351d-4653-cc49-c0e9fc7ce9f4"
      },
      "execution_count": null,
      "outputs": [
        {
          "output_type": "execute_result",
          "data": {
            "text/plain": [
              "False"
            ]
          },
          "metadata": {},
          "execution_count": 69
        }
      ]
    },
    {
      "cell_type": "code",
      "source": [
        "ordered_dict1.move_to_end(3)\n",
        "ordered_dict1"
      ],
      "metadata": {
        "colab": {
          "base_uri": "https://localhost:8080/"
        },
        "id": "DATADA7B2Y4W",
        "outputId": "44a01bc1-cf2c-403b-e914-96a397a4ab8d"
      },
      "execution_count": null,
      "outputs": [
        {
          "output_type": "execute_result",
          "data": {
            "text/plain": [
              "OrderedDict([(1, 'a'), (2, 'b'), (3, 'c')])"
            ]
          },
          "metadata": {},
          "execution_count": 70
        }
      ]
    },
    {
      "cell_type": "code",
      "source": [
        "ordered_dict1 == ordered_dict2"
      ],
      "metadata": {
        "colab": {
          "base_uri": "https://localhost:8080/"
        },
        "id": "K5j088f62e-T",
        "outputId": "fd1de0a4-f269-4285-d53d-8a0b8644a198"
      },
      "execution_count": null,
      "outputs": [
        {
          "output_type": "execute_result",
          "data": {
            "text/plain": [
              "True"
            ]
          },
          "metadata": {},
          "execution_count": 71
        }
      ]
    },
    {
      "cell_type": "markdown",
      "source": [
        "## deque"
      ],
      "metadata": {
        "id": "XvOarJ_rLn9t"
      }
    },
    {
      "cell_type": "markdown",
      "source": [
        "**deque** - сокращение от double ended queue (двухсторонняя очередь). Модификация списка, которая позволяет быстро добавлять в начало и конец или удалять их. Рассмотрим пример:"
      ],
      "metadata": {
        "id": "f5sLiyu21VdR"
      }
    },
    {
      "cell_type": "code",
      "source": [
        "from collections import deque\n",
        "\n",
        "dq = deque([1, 2, 3, 4, 5, 6])"
      ],
      "metadata": {
        "id": "QbHv4ZgIMDFq"
      },
      "execution_count": null,
      "outputs": []
    },
    {
      "cell_type": "code",
      "source": [
        "dq.append('to_the_end')\n",
        "dq"
      ],
      "metadata": {
        "colab": {
          "base_uri": "https://localhost:8080/"
        },
        "id": "d1N06Poj2G3O",
        "outputId": "5cff288d-fa58-4b2e-9e35-2d53c4be043a"
      },
      "execution_count": null,
      "outputs": [
        {
          "output_type": "execute_result",
          "data": {
            "text/plain": [
              "deque([1, 2, 3, 4, 5, 6, 'to_the_end'])"
            ]
          },
          "metadata": {},
          "execution_count": 23
        }
      ]
    },
    {
      "cell_type": "code",
      "source": [
        "dq.appendleft('to_the_front')\n",
        "dq"
      ],
      "metadata": {
        "colab": {
          "base_uri": "https://localhost:8080/"
        },
        "id": "5f2wYNLM2LV-",
        "outputId": "c89c1902-c48b-44e6-d86c-f84325c6078d"
      },
      "execution_count": null,
      "outputs": [
        {
          "output_type": "execute_result",
          "data": {
            "text/plain": [
              "deque(['to_the_front', 1, 2, 3, 4, 5, 6, 'to_the_end'])"
            ]
          },
          "metadata": {},
          "execution_count": 24
        }
      ]
    },
    {
      "cell_type": "code",
      "source": [
        "result = dq.pop()\n",
        "result, dq"
      ],
      "metadata": {
        "colab": {
          "base_uri": "https://localhost:8080/"
        },
        "id": "iAmBJwRq2Ox4",
        "outputId": "77bf7727-0bfd-4266-fbe4-fde4d7f04ef0"
      },
      "execution_count": null,
      "outputs": [
        {
          "output_type": "execute_result",
          "data": {
            "text/plain": [
              "('to_the_end', deque(['to_the_front', 1, 2, 3, 4, 5, 6]))"
            ]
          },
          "metadata": {},
          "execution_count": 25
        }
      ]
    },
    {
      "cell_type": "code",
      "source": [
        "result = dq.popleft()\n",
        "result, dq"
      ],
      "metadata": {
        "colab": {
          "base_uri": "https://localhost:8080/"
        },
        "id": "uckaCjY_2U5W",
        "outputId": "d6d17ed5-07fd-45eb-b8e3-d872fb94ad6c"
      },
      "execution_count": null,
      "outputs": [
        {
          "output_type": "execute_result",
          "data": {
            "text/plain": [
              "('to_the_front', deque([1, 2, 3, 4, 5, 6]))"
            ]
          },
          "metadata": {},
          "execution_count": 30
        }
      ]
    },
    {
      "cell_type": "code",
      "source": [
        "dq[2]"
      ],
      "metadata": {
        "colab": {
          "base_uri": "https://localhost:8080/"
        },
        "id": "AI8HHJBJO9TW",
        "outputId": "5645e772-b651-4296-c6c5-30f6b95a1738"
      },
      "execution_count": null,
      "outputs": [
        {
          "output_type": "execute_result",
          "data": {
            "text/plain": [
              "3"
            ]
          },
          "metadata": {},
          "execution_count": 74
        }
      ]
    },
    {
      "cell_type": "code",
      "source": [
        "lst = list(dq)\n",
        "lst"
      ],
      "metadata": {
        "colab": {
          "base_uri": "https://localhost:8080/"
        },
        "id": "6hIsBFJpO3w7",
        "outputId": "8df14f3f-1b58-496b-bace-801bd1e1cc5d"
      },
      "execution_count": null,
      "outputs": [
        {
          "output_type": "execute_result",
          "data": {
            "text/plain": [
              "[1, 2, 3, 4, 5, 6]"
            ]
          },
          "metadata": {},
          "execution_count": 73
        }
      ]
    },
    {
      "cell_type": "markdown",
      "source": [
        "## Counter"
      ],
      "metadata": {
        "id": "q7y85-KCMJx4"
      }
    },
    {
      "cell_type": "markdown",
      "source": [
        "Оставляю на разбор вам :) Ссылка на [документацию](https://docs.python.org/3/library/collections.html#collections.Counter)."
      ],
      "metadata": {
        "id": "-QQr-brPMWQv"
      }
    },
    {
      "cell_type": "markdown",
      "metadata": {
        "id": "uBL_ZW1W6ODJ"
      },
      "source": [
        "# Условный оператор"
      ]
    },
    {
      "cell_type": "markdown",
      "source": [
        "В коде часто приходится проверять выполнимость или невыполнимость каких-то условий. Для этого используется условный оператор:\n",
        "\n",
        "```python\n",
        "if <условие1 (булевское выражение)> :\n",
        "    <код, который выполнится, если условие верно>\n",
        "elif <условие2 (булевское выражение)>:\n",
        "    <код, который выполнится, если условие1 было неверно, а условие2 верно>\n",
        "else:\n",
        "    <код, который выполнится, если условие1 и условие2 были неверны>\n",
        "```\n",
        "\n",
        "Обратите внимание, что код, который должен выполняться внутри каждого условия, записывается с отступом в 4 пробела от уровня if, elif и else: в питоне области видимости переменных обозначаются отступами.\n",
        "\n",
        "*То есть, отступы позволяют понять, где начинается код, который должен выполняться при выполнении условия в if, и где заканчивается*\n",
        "\n",
        "Вместо условия (булевского выражения) можно подставить любой объект, который может быть приведен к типу `bool`."
      ],
      "metadata": {
        "id": "mUQP22CQs_pr"
      }
    },
    {
      "cell_type": "markdown",
      "source": [
        "**Пример:**\n",
        "\n",
        "Пусть в нашем коде есть переменная `x`. Пусть мы хотим вывести на экран сообщение \"x отрицателен\", если x<0, \"x равен нулю\", если x=0 и \"x положителен\", если x>0. \n",
        "\n",
        "Код будет следующий:"
      ],
      "metadata": {
        "id": "JqAPaj1nOa-S"
      }
    },
    {
      "cell_type": "code",
      "metadata": {
        "id": "klx-cmQL6KCR",
        "colab": {
          "base_uri": "https://localhost:8080/"
        },
        "outputId": "d65b62e5-021c-4485-9482-98aa57d8db68"
      },
      "source": [
        "x = -10\n",
        "\n",
        "if x < 0:\n",
        "    print(\"x отрицателен\")\n",
        "elif x == 0:\n",
        "    print(\"x равен нулю\")\n",
        "elif x > 0:\n",
        "    print(\"x положителен\")\n",
        "else:\n",
        "    print(\"Что-то пошло не так...\")\n",
        "    \n",
        "# этот код уже не \"внутри\" else, потому что записан без отступа в 4 пробела. Поэтому он выполнится \n",
        "# в любом случае после отработки if-elif-else\n",
        "print(\"Done\")"
      ],
      "execution_count": null,
      "outputs": [
        {
          "output_type": "stream",
          "name": "stdout",
          "text": [
            "x отрицателен\n",
            "Done\n"
          ]
        }
      ]
    },
    {
      "cell_type": "markdown",
      "metadata": {
        "id": "IHrlrcoG6UJo"
      },
      "source": [
        "В качестве условия можно подставлять и более сложные булевские выражения:"
      ]
    },
    {
      "cell_type": "code",
      "metadata": {
        "id": "5b5TPNYV6SJJ",
        "colab": {
          "base_uri": "https://localhost:8080/"
        },
        "outputId": "829a4429-b9e1-4d57-f920-2e263cc3583f"
      },
      "source": [
        "age = 17\n",
        "\n",
        "if age > 14 and age < 21:\n",
        "    print(age)\n",
        "    # тоже выполнится при выполнения условия после if, так как этот код тоже записан с отступом в 4 пробела\n",
        "    print(\"you are a teenager\")\n",
        "elif age > 0 and age <= 14:\n",
        "    print(age, \"you are a kid\")\n",
        "else:\n",
        "    print(\"you are an adult\")"
      ],
      "execution_count": null,
      "outputs": [
        {
          "output_type": "stream",
          "name": "stdout",
          "text": [
            "17\n",
            "you are a teenager\n"
          ]
        }
      ]
    },
    {
      "cell_type": "code",
      "source": [
        "age = 10\n",
        "\n",
        "if 14 < age < 21:\n",
        "    print(age)\n",
        "    # тоже выполнится при выполнения условия после if, так как этот код тоже записан с отступом в 4 пробела\n",
        "    print(\"you are a teenager\")\n",
        "elif 0 < age <= 14:\n",
        "    print(age, \"you are a kid\")\n",
        "else:\n",
        "    print(\"you are an adult\")"
      ],
      "metadata": {
        "colab": {
          "base_uri": "https://localhost:8080/"
        },
        "id": "BCXfrX-s5uzk",
        "outputId": "aa328d27-a813-4e0b-b021-8b76b146b57a"
      },
      "execution_count": null,
      "outputs": [
        {
          "output_type": "stream",
          "name": "stdout",
          "text": [
            "10 you are a kid\n"
          ]
        }
      ]
    },
    {
      "cell_type": "markdown",
      "source": [
        "Внутрь `if` можно помещать и другой `if`:"
      ],
      "metadata": {
        "id": "Rkj0mJJSPIIn"
      }
    },
    {
      "cell_type": "code",
      "metadata": {
        "id": "qqdjB-kC6VeB",
        "colab": {
          "base_uri": "https://localhost:8080/"
        },
        "outputId": "4f641d6b-6baf-44c0-bd84-f5563fce5cd9"
      },
      "source": [
        "x = 3\n",
        "y = 5\n",
        "if x == 3:\n",
        "    if y > 6:\n",
        "        # отступ в 4 пробела от внутреннего if\n",
        "        print(\"y greater than 6\")\n",
        "    else:\n",
        "        print(\"y not grater than 6\")\n",
        "        \n",
        "    # отступ в 4 пробела от внешнего if, поэтому код выполнится если x==3 и при любом значении y\n",
        "    print(\"x is equal to 3\")"
      ],
      "execution_count": null,
      "outputs": [
        {
          "output_type": "stream",
          "name": "stdout",
          "text": [
            "y not grater than 6\n",
            "x is equal to 3\n"
          ]
        }
      ]
    },
    {
      "cell_type": "markdown",
      "source": [
        "## Тернарный оператор"
      ],
      "metadata": {
        "id": "YDUnnzFBPbND"
      }
    },
    {
      "cell_type": "markdown",
      "source": [
        "Если вы хотите использовать условный оператор лишь для получения одного значения, то удобно пользоваться тернарным оператором:\n",
        "\n",
        "```python\n",
        "[if_true] if [expression] else [if_false]\n",
        "```"
      ],
      "metadata": {
        "id": "xXMHFGdGPdxk"
      }
    },
    {
      "cell_type": "markdown",
      "source": [
        "Рассмотрим это на примере проверки возраста:"
      ],
      "metadata": {
        "id": "4bSIMk7p7v5H"
      }
    },
    {
      "cell_type": "code",
      "source": [
        "age = 10"
      ],
      "metadata": {
        "id": "XuHBTKMx77EZ"
      },
      "execution_count": null,
      "outputs": []
    },
    {
      "cell_type": "code",
      "source": [
        "if age >= 18:\n",
        "    result = \"adult\"\n",
        "else:\n",
        "    result = \"child\"\n",
        "print(result)"
      ],
      "metadata": {
        "colab": {
          "base_uri": "https://localhost:8080/"
        },
        "id": "JKxo5BUz7vPO",
        "outputId": "1bd806c3-60a3-417c-8ff0-fd4a149709d1"
      },
      "execution_count": null,
      "outputs": [
        {
          "output_type": "stream",
          "name": "stdout",
          "text": [
            "child\n"
          ]
        }
      ]
    },
    {
      "cell_type": "code",
      "source": [
        "result = 'adult' if age >= 18 else 'child'\n",
        "print(result)"
      ],
      "metadata": {
        "colab": {
          "base_uri": "https://localhost:8080/"
        },
        "id": "HQL50kxPPsN9",
        "outputId": "5036a02d-2ef0-46d6-c258-ae813aa39d91"
      },
      "execution_count": null,
      "outputs": [
        {
          "output_type": "stream",
          "name": "stdout",
          "text": [
            "child\n"
          ]
        }
      ]
    },
    {
      "cell_type": "markdown",
      "source": [
        "При использовании тернарных операторов в выражениях нужно быть аккуратным с порядком:"
      ],
      "metadata": {
        "id": "L7ur0lYGPk4P"
      }
    },
    {
      "cell_type": "code",
      "source": [
        "x, y = 3, 5\n",
        "\n",
        "z = 3 + x if x > y else y\n",
        "print(z)\n",
        "\n",
        "z = 3 + (x if x > y else y) # Внимательнее с порядком вычислений\n",
        "print(z)"
      ],
      "metadata": {
        "colab": {
          "base_uri": "https://localhost:8080/"
        },
        "id": "ArHR0sBEP4bE",
        "outputId": "4e0efc04-fc3a-4850-89ec-1812309ae4f8"
      },
      "execution_count": null,
      "outputs": [
        {
          "output_type": "stream",
          "name": "stdout",
          "text": [
            "5\n",
            "8\n"
          ]
        }
      ]
    },
    {
      "cell_type": "markdown",
      "source": [
        "Условия можно использовать подряд в тернарных операторах (но лучше не надо - ухудшает читаемость кода):"
      ],
      "metadata": {
        "id": "dcbwYg8tQMBL"
      }
    },
    {
      "cell_type": "code",
      "source": [
        "age = 15\n",
        "'kid' if age < 13 else 'teenager' if age < 18 else 'adult'"
      ],
      "metadata": {
        "colab": {
          "base_uri": "https://localhost:8080/",
          "height": 35
        },
        "id": "PqAz-_fLQNSU",
        "outputId": "431593ed-706d-4575-bbfc-427ed23ff2d7"
      },
      "execution_count": null,
      "outputs": [
        {
          "output_type": "execute_result",
          "data": {
            "text/plain": [
              "'teenager'"
            ],
            "application/vnd.google.colaboratory.intrinsic+json": {
              "type": "string"
            }
          },
          "metadata": {},
          "execution_count": 78
        }
      ]
    },
    {
      "cell_type": "markdown",
      "source": [
        "Тернарный оператор можно представить в виде эквивалентного выражения:"
      ],
      "metadata": {
        "id": "Y_FVD6aFQZrO"
      }
    },
    {
      "cell_type": "code",
      "source": [
        "nice = True\n",
        "\n",
        "personality = \"nice\" if nice else \"mean\"\n",
        "print(\"The cat is:\", personality)\n",
        "\n",
        "personality = (\"mean\", \"nice\")[nice]\n",
        "print(\"The cat is:\", personality)"
      ],
      "metadata": {
        "colab": {
          "base_uri": "https://localhost:8080/"
        },
        "id": "5WM9-hs7QY1S",
        "outputId": "4feba389-dd06-4646-a56c-1f7c441ac664"
      },
      "execution_count": null,
      "outputs": [
        {
          "output_type": "stream",
          "name": "stdout",
          "text": [
            "The cat is: nice\n",
            "The cat is: nice\n"
          ]
        }
      ]
    },
    {
      "cell_type": "markdown",
      "source": [
        "# Циклы"
      ],
      "metadata": {
        "id": "G7lV7CBKNL2j"
      }
    },
    {
      "cell_type": "markdown",
      "source": [
        "Циклы в программирования позволяют выполнить набор команд некоторое (часто заранее неопределенное) количество раз.\n",
        "\n",
        "В Python для этого есть два типа циклов."
      ],
      "metadata": {
        "id": "hMbIX2Z3JEFk"
      }
    },
    {
      "cell_type": "markdown",
      "source": [
        "## Цикл while"
      ],
      "metadata": {
        "id": "tEo3rIoAQfYx"
      }
    },
    {
      "cell_type": "markdown",
      "source": [
        "Часто необходимо продолжать выполнять какие-либо действия до тех пор, пока условие верно. Для этого пригождается циклы `while`. Его синтаксис выглядит следующим образом:\n",
        "\n",
        "```python\n",
        "while condition:\n",
        "    do_something()\n",
        "```"
      ],
      "metadata": {
        "id": "HjlUaKbSQiS3"
      }
    },
    {
      "cell_type": "code",
      "source": [
        "greetings = 0\n",
        "\n",
        "while greetings < 3:\n",
        "    print(greetings, 'Hello!')\n",
        "    greetings = greetings + 1"
      ],
      "metadata": {
        "colab": {
          "base_uri": "https://localhost:8080/"
        },
        "id": "32yvOvdbRAoC",
        "outputId": "9bb7c09b-7ab1-42bd-c2d9-7970dc86f22e"
      },
      "execution_count": null,
      "outputs": [
        {
          "output_type": "stream",
          "name": "stdout",
          "text": [
            "0 Hello!\n",
            "1 Hello!\n",
            "2 Hello!\n"
          ]
        }
      ]
    },
    {
      "cell_type": "markdown",
      "source": [
        "Для форсированного выхода (до достижения условия) из цикла используется оператор `break`:"
      ],
      "metadata": {
        "id": "6t0pgwfQRFEs"
      }
    },
    {
      "cell_type": "code",
      "source": [
        "i = 0\n",
        "summ = 0\n",
        "\n",
        "# Сумма первых 100 чисел\n",
        "while True:\n",
        "    i += 1\n",
        "    summ += i\n",
        "    if not i < 100:\n",
        "        break\n",
        "\n",
        "print(summ)"
      ],
      "metadata": {
        "colab": {
          "base_uri": "https://localhost:8080/"
        },
        "id": "snCRuqExRaPW",
        "outputId": "d5cf9fa8-14f7-419b-f4f6-3ef8281353ab"
      },
      "execution_count": null,
      "outputs": [
        {
          "output_type": "stream",
          "name": "stdout",
          "text": [
            "5050\n"
          ]
        }
      ]
    },
    {
      "cell_type": "code",
      "source": [
        "help(sum)"
      ],
      "metadata": {
        "colab": {
          "base_uri": "https://localhost:8080/"
        },
        "id": "zwSKZoqlUn2A",
        "outputId": "2984bac0-b24f-45ac-b074-d147a7da4e6d"
      },
      "execution_count": null,
      "outputs": [
        {
          "output_type": "stream",
          "name": "stdout",
          "text": [
            "Help on built-in function sum in module builtins:\n",
            "\n",
            "sum(iterable, start=0, /)\n",
            "    Return the sum of a 'start' value (default: 0) plus an iterable of numbers\n",
            "    \n",
            "    When the iterable is empty, return the start value.\n",
            "    This function is intended specifically for use with numeric values and may\n",
            "    reject non-numeric types.\n",
            "\n"
          ]
        }
      ]
    },
    {
      "cell_type": "markdown",
      "source": [
        "**Замечания:**\n",
        "1. хотелось бы назвать переменную для суммы как `sum`, но это имя стандартной функции, технически можно переопределить `sum` как переменную, но так крайне не рекомендуется делать\n",
        "2. можно написать условие и действие на одной строке, если оно одно - это допустимо стилистически"
      ],
      "metadata": {
        "id": "_Cp8ozmuR1fp"
      }
    },
    {
      "cell_type": "markdown",
      "source": [
        "Для форсированного перехода к следующей итерации цикла используется оператор `continue`:"
      ],
      "metadata": {
        "id": "IJt1D9feSMXX"
      }
    },
    {
      "cell_type": "code",
      "source": [
        "i = 0\n",
        "k = 5\n",
        "\n",
        "summ = 0 # Сумма первых 100 чисел не кратных k  \n",
        "\n",
        "while i < 100:\n",
        "    i += 1\n",
        "    if not i % k: continue  # not i % k эквивалентно i % k == 0\n",
        "    \n",
        "    summ += i\n",
        "\n",
        "print(summ)"
      ],
      "metadata": {
        "colab": {
          "base_uri": "https://localhost:8080/"
        },
        "id": "iB-m7Of6SPPb",
        "outputId": "6d1faab0-a0fe-4237-e05c-d8169de901c7"
      },
      "execution_count": null,
      "outputs": [
        {
          "output_type": "stream",
          "name": "stdout",
          "text": [
            "4000\n"
          ]
        }
      ]
    },
    {
      "cell_type": "markdown",
      "source": [
        "В Python имеется конструкция `while-else`, которая проверяет был ли выход из цикла с помощью `break`:"
      ],
      "metadata": {
        "id": "Ks66T0kFSX4g"
      }
    },
    {
      "cell_type": "code",
      "source": [
        "numbers = [1, 3, 7, 8, 10, 6]\n",
        "i = 0\n",
        "\n",
        "while i < len(numbers):\n",
        "    if numbers[i] == 5:\n",
        "        print('Нашли пятёрку')\n",
        "        break\n",
        "    i += 1\n",
        "else: # если break не сработал \n",
        "    print('Не нашли пятёрку')"
      ],
      "metadata": {
        "colab": {
          "base_uri": "https://localhost:8080/"
        },
        "id": "iBDAzu0PSZT0",
        "outputId": "1bdc264f-4441-4331-b1c6-9b9d3ecf7ca5"
      },
      "execution_count": null,
      "outputs": [
        {
          "output_type": "stream",
          "name": "stdout",
          "text": [
            "Не нашли пятёрку\n"
          ]
        }
      ]
    },
    {
      "cell_type": "markdown",
      "source": [
        "## Цикл for"
      ],
      "metadata": {
        "id": "Yoiwt0_8Sjii"
      }
    },
    {
      "cell_type": "markdown",
      "source": [
        "В Python `for`-цикл устроен следующим образом:\n",
        "\n",
        "```python\n",
        "for variable in iterable_var:\n",
        "    commands(varible)\n",
        "```\n",
        "\n",
        "`iterable_var` - переменная, являющаяся `iterable`. Это такой тип объектов, у которых можно запросить следующий их элемент с помощью метода `__next__` или функции `next()`.\n",
        "\n",
        "Среди `iterable`-объектов выделяют **последовательности** (sequences), которые помимо получения следующего элемента могут выдавать элементы и по индексу.\n",
        "\n",
        "**Примеры последовательностей:** \n",
        "- списки\n",
        "- кортежи\n",
        "- строки\n",
        "\n",
        "**Примеры не-последовательностей:**\n",
        "- множества\n",
        "- словари\n",
        "- генераторы\n"
      ],
      "metadata": {
        "id": "1ggIOjGESoZ5"
      }
    },
    {
      "cell_type": "markdown",
      "source": [
        "Примеры `for`-циклов по спискам, кортежам, строкам:"
      ],
      "metadata": {
        "id": "u3at3SJuUbwG"
      }
    },
    {
      "cell_type": "code",
      "source": [
        "l = ['list', 1, 2, 3, 4, 5]\n",
        "\n",
        "for item in l:\n",
        "    print(item, end=' ')"
      ],
      "metadata": {
        "colab": {
          "base_uri": "https://localhost:8080/"
        },
        "id": "lIuUCCvUUfRx",
        "outputId": "8e1d7824-173a-4277-89e4-134a9ec59a03"
      },
      "execution_count": null,
      "outputs": [
        {
          "output_type": "stream",
          "name": "stdout",
          "text": [
            "list 1 2 3 4 5 "
          ]
        }
      ]
    },
    {
      "cell_type": "code",
      "source": [
        "t = ('tuple', 1, 2, 3, 4, 5)\n",
        "for item in t:\n",
        "    print(item, end=' ')"
      ],
      "metadata": {
        "colab": {
          "base_uri": "https://localhost:8080/"
        },
        "id": "f4B_4WVZNjNM",
        "outputId": "e1174f8f-f833-4aa7-a2d9-a32631e7b3b1"
      },
      "execution_count": null,
      "outputs": [
        {
          "output_type": "stream",
          "name": "stdout",
          "text": [
            "tuple 1 2 3 4 5 "
          ]
        }
      ]
    },
    {
      "cell_type": "code",
      "source": [
        "s = \"string12345\"\n",
        "\n",
        "for item in s:\n",
        "    print(item, end=' ')"
      ],
      "metadata": {
        "colab": {
          "base_uri": "https://localhost:8080/"
        },
        "id": "J9vjUtzcNlaB",
        "outputId": "67b7a010-9e1a-40bb-d140-fec0393e0fd5"
      },
      "execution_count": null,
      "outputs": [
        {
          "output_type": "stream",
          "name": "stdout",
          "text": [
            "s t r i n g 1 2 3 4 5 "
          ]
        }
      ]
    },
    {
      "cell_type": "markdown",
      "source": [
        "Примеры `for`-циклов по множествам, словарям:"
      ],
      "metadata": {
        "id": "NRFQESX5UmAw"
      }
    },
    {
      "cell_type": "code",
      "source": [
        "set_obj = {'set', 1, 2, 3, 4, 5}\n",
        "\n",
        "for item in set_obj:\n",
        "    print(item, end=' ')"
      ],
      "metadata": {
        "colab": {
          "base_uri": "https://localhost:8080/"
        },
        "id": "_sRc09bEUmbQ",
        "outputId": "09f98305-4dd0-4ecf-b972-3bce9e8f9923"
      },
      "execution_count": null,
      "outputs": [
        {
          "output_type": "stream",
          "name": "stdout",
          "text": [
            "(0, 1) (1, 2) (2, 3) (3, 4) (4, 5) (5, 'set') "
          ]
        }
      ]
    },
    {
      "cell_type": "code",
      "source": [
        "set_obj[0]"
      ],
      "metadata": {
        "colab": {
          "base_uri": "https://localhost:8080/",
          "height": 168
        },
        "id": "GvgkGKPWYBqJ",
        "outputId": "852b306f-d9c9-4837-e4ef-4cbc6ec1d4f6"
      },
      "execution_count": null,
      "outputs": [
        {
          "output_type": "error",
          "ename": "TypeError",
          "evalue": "ignored",
          "traceback": [
            "\u001b[0;31m---------------------------------------------------------------------------\u001b[0m",
            "\u001b[0;31mTypeError\u001b[0m                                 Traceback (most recent call last)",
            "\u001b[0;32m<ipython-input-89-6c483948c65e>\u001b[0m in \u001b[0;36m<module>\u001b[0;34m\u001b[0m\n\u001b[0;32m----> 1\u001b[0;31m \u001b[0mset_obj\u001b[0m\u001b[0;34m[\u001b[0m\u001b[0;36m0\u001b[0m\u001b[0;34m]\u001b[0m\u001b[0;34m\u001b[0m\u001b[0;34m\u001b[0m\u001b[0m\n\u001b[0m",
            "\u001b[0;31mTypeError\u001b[0m: 'set' object is not subscriptable"
          ]
        }
      ]
    },
    {
      "cell_type": "code",
      "source": [
        "d = {'dict': \"value0\", 1: \"value1\", 2: \"value2\", 3: \"value3\", 4: \"value4\", 5: \"value5\"}\n",
        "\n",
        "for item in d.items():\n",
        "    print(item, end=' ')"
      ],
      "metadata": {
        "colab": {
          "base_uri": "https://localhost:8080/"
        },
        "id": "9fmzNNlKNstF",
        "outputId": "ab5c7dae-ea1e-4dfc-cd9e-2fea9bea5ed4"
      },
      "execution_count": null,
      "outputs": [
        {
          "output_type": "stream",
          "name": "stdout",
          "text": [
            "('dict', 'value0') (1, 'value1') (2, 'value2') (3, 'value3') (4, 'value4') (5, 'value5') "
          ]
        }
      ]
    },
    {
      "cell_type": "markdown",
      "source": [
        "**Примечание** - for-цикл для словаря выдаст ключи словаря, не значения."
      ],
      "metadata": {
        "id": "4g7IJIWIUssf"
      }
    },
    {
      "cell_type": "markdown",
      "source": [
        "Аналогично конструкции `while-else`, существует и конструкция `for-else`:"
      ],
      "metadata": {
        "id": "I6hXKApuVcQp"
      }
    },
    {
      "cell_type": "code",
      "source": [
        "numbers = [1, 3, 7, 8, 5]\n",
        "\n",
        "for n in numbers:\n",
        "    if n == 5:\n",
        "        print('Нашли пятёрку')\n",
        "        break\n",
        "        \n",
        "else: # если break не сработал\n",
        "    print('Не нашли пятёрку')"
      ],
      "metadata": {
        "colab": {
          "base_uri": "https://localhost:8080/"
        },
        "id": "1nmawubtVh2s",
        "outputId": "b4da2103-f6e8-44c9-f67e-742961d63418"
      },
      "execution_count": null,
      "outputs": [
        {
          "output_type": "stream",
          "name": "stdout",
          "text": [
            "Нашли пятёрку\n"
          ]
        }
      ]
    },
    {
      "cell_type": "markdown",
      "source": [
        "# range"
      ],
      "metadata": {
        "id": "kvDeTnszVmsT"
      }
    },
    {
      "cell_type": "markdown",
      "source": [
        "Что делать, если просто хотим пройти по числам в диапазоне?\n",
        "\n",
        "`range([start,] stop[, step])` возвращает неизменяемую последовательность чисел. \n",
        "\n",
        "По умолчанию `start=0`, `step=1`, и получаем `[0, stop)`. Помимо итерирования по `range`, можно проверять входит ли число в него:"
      ],
      "metadata": {
        "id": "Tdq8E4EyU5oE"
      }
    },
    {
      "cell_type": "code",
      "source": [
        "for i in range(10, 1, -1):\n",
        "    print(i)"
      ],
      "metadata": {
        "colab": {
          "base_uri": "https://localhost:8080/"
        },
        "id": "Z2vlStTdBrFy",
        "outputId": "6862db35-9295-4cd1-af88-d84c4c8b15c1"
      },
      "execution_count": null,
      "outputs": [
        {
          "output_type": "stream",
          "name": "stdout",
          "text": [
            "10\n"
          ]
        }
      ]
    },
    {
      "cell_type": "code",
      "source": [
        "r = range(1, 10, 2)\n",
        "print(type(r), r)\n",
        "print(list(r))\n",
        "print(5 in r)"
      ],
      "metadata": {
        "colab": {
          "base_uri": "https://localhost:8080/"
        },
        "id": "x3-RhkbjVCdd",
        "outputId": "70cd1a4c-a5fc-4961-c60c-f050a6e091b6"
      },
      "execution_count": null,
      "outputs": [
        {
          "output_type": "stream",
          "name": "stdout",
          "text": [
            "<class 'range'> range(1, 10, 2)\n",
            "[1, 3, 5, 7, 9]\n",
            "True\n"
          ]
        }
      ]
    },
    {
      "cell_type": "markdown",
      "source": [
        "В результате пользоваться `for`-циклом можно пользоваться такими вариантами:"
      ],
      "metadata": {
        "id": "0D4i-lKqVImg"
      }
    },
    {
      "cell_type": "code",
      "source": [
        "name_list = ['Alice', 'Bob', 'Charley']\n",
        "for name in name_list:  # Перебираем элементы списка\n",
        "    print('Hello, ' + name)"
      ],
      "metadata": {
        "colab": {
          "base_uri": "https://localhost:8080/"
        },
        "id": "lCdt706cCLIK",
        "outputId": "c6f9066f-8602-462f-c127-f77d7ddd0160"
      },
      "execution_count": null,
      "outputs": [
        {
          "output_type": "stream",
          "name": "stdout",
          "text": [
            "Hello, Alice\n",
            "Hello, Bob\n",
            "Hello, Charley\n"
          ]
        }
      ]
    },
    {
      "cell_type": "code",
      "source": [
        "for i in range(len(name_list)):  # Перебираем индексы от 0 до L-1\n",
        "    print('Hello, ' + name_list[i])"
      ],
      "metadata": {
        "colab": {
          "base_uri": "https://localhost:8080/"
        },
        "id": "3KDofwsSCa-E",
        "outputId": "b962005b-f8da-433a-e04f-917fdf502d2d"
      },
      "execution_count": null,
      "outputs": [
        {
          "output_type": "stream",
          "name": "stdout",
          "text": [
            "Hello, Alice\n",
            "Hello, Bob\n",
            "Hello, Charley\n"
          ]
        }
      ]
    },
    {
      "cell_type": "code",
      "source": [
        "for pair in enumerate(name_list): # Перебираем пары индекс-элемент\n",
        "    i, name = pair\n",
        "    print(pair, i, name)"
      ],
      "metadata": {
        "colab": {
          "base_uri": "https://localhost:8080/"
        },
        "id": "l6vIqElJC9VY",
        "outputId": "fb4f8670-7945-4c67-984d-4498e3f4aeff"
      },
      "execution_count": null,
      "outputs": [
        {
          "output_type": "stream",
          "name": "stdout",
          "text": [
            "(0, 'Alice') 0 Alice\n",
            "(1, 'Bob') 1 Bob\n",
            "(2, 'Charley') 2 Charley\n"
          ]
        }
      ]
    },
    {
      "cell_type": "code",
      "source": [
        "for i, name in enumerate(name_list): # Перебираем пары индекс-элемент\n",
        "    print('Hello, ' + name_list[i] + \"\\t\" + name)"
      ],
      "metadata": {
        "colab": {
          "base_uri": "https://localhost:8080/"
        },
        "id": "tvqikS3HVLNg",
        "outputId": "d3e90c20-139b-49c4-9889-0887e1ea08f3"
      },
      "execution_count": null,
      "outputs": [
        {
          "output_type": "stream",
          "name": "stdout",
          "text": [
            "Hello, Alice\tAlice\n",
            "Hello, Bob\tBob\n",
            "Hello, Charley\tCharley\n"
          ]
        }
      ]
    },
    {
      "cell_type": "code",
      "source": [
        "i = 0\n",
        "while i < len(name_list):\n",
        "    print(\"Hello\", name_list[i])\n",
        "    i += 2\n"
      ],
      "metadata": {
        "colab": {
          "base_uri": "https://localhost:8080/"
        },
        "id": "GdkaZkkjDrey",
        "outputId": "96d4f6cd-2dc1-4a45-d8de-c9790cbc7858"
      },
      "execution_count": null,
      "outputs": [
        {
          "output_type": "stream",
          "name": "stdout",
          "text": [
            "Hello Alice\n",
            "Hello Charley\n"
          ]
        }
      ]
    },
    {
      "cell_type": "markdown",
      "source": [
        "# list comprehensions"
      ],
      "metadata": {
        "id": "cfPBOP8TVyN5"
      }
    },
    {
      "cell_type": "markdown",
      "source": [
        "В Python есть очень удобная штука под названием list comprehension, выглядит она вот так:\n",
        "\n",
        "```python\n",
        "[выражение for var in iterable_var if condition]\n",
        "```\n",
        "\n",
        "Пример создания списка квадратов чётных чисел меньше 10:"
      ],
      "metadata": {
        "id": "0RZXvo0sV04_"
      }
    },
    {
      "cell_type": "code",
      "source": [
        "result = [x ** 2 for x in range(10) if x % 2 == 0] # вот так можно создать список квадратов чётных чисел меньше 10\n",
        "print(result, type(result))"
      ],
      "metadata": {
        "id": "ah4iewI9V90V",
        "colab": {
          "base_uri": "https://localhost:8080/"
        },
        "outputId": "31b8cc3c-5736-4ef5-91c7-499156808282"
      },
      "execution_count": null,
      "outputs": [
        {
          "output_type": "stream",
          "name": "stdout",
          "text": [
            "[0, 1, 4, 9, 16, 25, 36, 49, 64, 81] <class 'list'>\n"
          ]
        }
      ]
    },
    {
      "cell_type": "code",
      "source": [
        "result = []\n",
        "for x in range(10):\n",
        "    if x % 2 == 0:\n",
        "        result.append(x ** 2)\n",
        "print(result)"
      ],
      "metadata": {
        "colab": {
          "base_uri": "https://localhost:8080/"
        },
        "id": "DZBjR5e0FBnq",
        "outputId": "fdd46baa-1829-487b-9e82-d073cc1c1bc7"
      },
      "execution_count": null,
      "outputs": [
        {
          "output_type": "stream",
          "name": "stdout",
          "text": [
            "[0, 4, 16, 36, 64]\n"
          ]
        }
      ]
    },
    {
      "cell_type": "markdown",
      "source": [
        "Можно делать и вложенные list comprehension, но это ухудшает читаемость:"
      ],
      "metadata": {
        "id": "Hw4e7gqocDlv"
      }
    },
    {
      "cell_type": "code",
      "source": [
        "[(y, x) for x in range(2, 10) for y in range(x+1, 10) if y%x == 0]"
      ],
      "metadata": {
        "colab": {
          "base_uri": "https://localhost:8080/"
        },
        "id": "WJQa8RwMb1lW",
        "outputId": "4d6e1367-3958-44f0-9dec-02a9b399f32b"
      },
      "execution_count": null,
      "outputs": [
        {
          "output_type": "execute_result",
          "data": {
            "text/plain": [
              "[(4, 2), (6, 2), (8, 2), (6, 3), (9, 3), (8, 4)]"
            ]
          },
          "metadata": {},
          "execution_count": 185
        }
      ]
    },
    {
      "cell_type": "markdown",
      "source": [
        "Аналогично существуют dict comprehension и set comprehension:"
      ],
      "metadata": {
        "id": "uN1PbcdDcL_A"
      }
    },
    {
      "cell_type": "code",
      "source": [
        "result = {x: x ** 2 for x in range(10)}\n",
        "print(type(result), result)"
      ],
      "metadata": {
        "colab": {
          "base_uri": "https://localhost:8080/"
        },
        "id": "hMPIDMNXFfXY",
        "outputId": "726a3903-04b8-43bd-93bd-9da61e02b7c2"
      },
      "execution_count": null,
      "outputs": [
        {
          "output_type": "stream",
          "name": "stdout",
          "text": [
            "<class 'dict'> {0: 0, 1: 1, 2: 4, 3: 9, 4: 16, 5: 25, 6: 36, 7: 49, 8: 64, 9: 81}\n"
          ]
        }
      ]
    },
    {
      "cell_type": "code",
      "source": [
        "result = {x ** 2 for x in range(10)}\n",
        "print(type(result), result)"
      ],
      "metadata": {
        "colab": {
          "base_uri": "https://localhost:8080/"
        },
        "id": "e0Uf5G1KcUvx",
        "outputId": "4a3d8126-1811-46ee-def6-e0eb180a3ebd"
      },
      "execution_count": null,
      "outputs": [
        {
          "output_type": "stream",
          "name": "stdout",
          "text": [
            "<class 'set'> {0, 1, 64, 4, 36, 9, 16, 49, 81, 25}\n"
          ]
        }
      ]
    },
    {
      "cell_type": "code",
      "source": [
        "string = \"abc\"\n",
        "\n",
        "result = [string[i] for i in range(len(string)) if string[i] != 'c']\n",
        "''.join(result)"
      ],
      "metadata": {
        "colab": {
          "base_uri": "https://localhost:8080/",
          "height": 35
        },
        "id": "h23WcCFFbi_p",
        "outputId": "f123c2ac-5765-4d26-ae24-d739bb5ccfd2"
      },
      "execution_count": null,
      "outputs": [
        {
          "output_type": "execute_result",
          "data": {
            "text/plain": [
              "'ab'"
            ],
            "application/vnd.google.colaboratory.intrinsic+json": {
              "type": "string"
            }
          },
          "metadata": {},
          "execution_count": 117
        }
      ]
    },
    {
      "cell_type": "markdown",
      "source": [
        "Увы, tuple comprehension не существует. Вместо это круглые скобочки дают нам генераторное выражение (generator expression), которые мы рассмотрим подробнее на следующем занятии:"
      ],
      "metadata": {
        "id": "iOe32dAYg5hL"
      }
    },
    {
      "cell_type": "code",
      "source": [
        "result = [x if x != 7 else \"error\" for x in range(10)]\n",
        "print(type(result), result)"
      ],
      "metadata": {
        "colab": {
          "base_uri": "https://localhost:8080/"
        },
        "id": "gfWLWnh0Fot-",
        "outputId": "f8008ee4-932a-4331-d8f7-e89180fdd6e0"
      },
      "execution_count": null,
      "outputs": [
        {
          "output_type": "stream",
          "name": "stdout",
          "text": [
            "<class 'list'> [0, 1, 2, 3, 4, 5, 6, 'error', 8, 9]\n"
          ]
        }
      ]
    },
    {
      "cell_type": "markdown",
      "source": [
        "# itertools"
      ],
      "metadata": {
        "id": "iuX6uARXchGh"
      }
    },
    {
      "cell_type": "markdown",
      "source": [
        "В Python встрено огромное количество полезных модулей. В рамках нашего курса мы познакомимся с некоторыми из них.\n",
        "\n",
        "Один из часто используемых модулей - модуль [itertools](https://docs.python.org/3/library/itertools.html)."
      ],
      "metadata": {
        "id": "2oxPl_9Il1I_"
      }
    },
    {
      "cell_type": "markdown",
      "source": [
        "Для того, чтобы подключить модуль, можно воспользоваться оператором импорта:"
      ],
      "metadata": {
        "id": "ym01JjRem4Rk"
      }
    },
    {
      "cell_type": "code",
      "source": [
        "import itertools"
      ],
      "metadata": {
        "id": "COLQ266Vm1pY"
      },
      "execution_count": null,
      "outputs": []
    },
    {
      "cell_type": "markdown",
      "source": [
        "Одна из функций этого модуля - функция `product`. Она позволяет удобно и лакончно записывать вложенные циклы разной глубины (цикл-в-цикле):"
      ],
      "metadata": {
        "id": "zYZRSQTSmpAo"
      }
    },
    {
      "cell_type": "code",
      "source": [
        "for i, j in itertools.product(range(2), \"abc\"):\n",
        "    print(i, j)"
      ],
      "metadata": {
        "id": "mdgozOSGnE3M"
      },
      "execution_count": null,
      "outputs": []
    },
    {
      "cell_type": "markdown",
      "source": [
        "Этот код эквивалентен следующему:"
      ],
      "metadata": {
        "id": "lnNVHcDUnFWB"
      }
    },
    {
      "cell_type": "code",
      "source": [
        "for i in range(2):\n",
        "    for j in \"abc\":\n",
        "        print(i, j)"
      ],
      "metadata": {
        "id": "WFUhOM2enDYy"
      },
      "execution_count": null,
      "outputs": []
    },
    {
      "cell_type": "markdown",
      "source": [
        "Также можно применять для комбинаторики - перестановки, комбинации, комбинации с повторениями:"
      ],
      "metadata": {
        "id": "xjVvx2LIcpcw"
      }
    },
    {
      "cell_type": "code",
      "source": [
        "list(itertools.permutations([1, 2, 3]))"
      ],
      "metadata": {
        "colab": {
          "base_uri": "https://localhost:8080/"
        },
        "id": "B8s2H5cectct",
        "outputId": "bb0e0474-09c8-4653-ce98-c8f63499c445"
      },
      "execution_count": null,
      "outputs": [
        {
          "output_type": "execute_result",
          "data": {
            "text/plain": [
              "[(1, 2, 3), (1, 3, 2), (2, 1, 3), (2, 3, 1), (3, 1, 2), (3, 2, 1)]"
            ]
          },
          "metadata": {},
          "execution_count": 187
        }
      ]
    },
    {
      "cell_type": "code",
      "source": [
        "list(itertools.combinations([1, 2, 3], 2))"
      ],
      "metadata": {
        "colab": {
          "base_uri": "https://localhost:8080/"
        },
        "id": "nEQC9fjvcwM2",
        "outputId": "3de12f1e-4172-4288-d039-982ecaf7b66c"
      },
      "execution_count": null,
      "outputs": [
        {
          "output_type": "execute_result",
          "data": {
            "text/plain": [
              "[(1, 2), (1, 3), (2, 3)]"
            ]
          },
          "metadata": {},
          "execution_count": 188
        }
      ]
    },
    {
      "cell_type": "code",
      "source": [
        "list(itertools.combinations_with_replacement([1,2,3], 2))"
      ],
      "metadata": {
        "colab": {
          "base_uri": "https://localhost:8080/"
        },
        "id": "_QktzHxwc0EQ",
        "outputId": "f446a650-3d2e-4365-84b1-e5076ef8e0ae"
      },
      "execution_count": null,
      "outputs": [
        {
          "output_type": "execute_result",
          "data": {
            "text/plain": [
              "[(1, 1), (1, 2), (1, 3), (2, 2), (2, 3), (3, 3)]"
            ]
          },
          "metadata": {},
          "execution_count": 189
        }
      ]
    },
    {
      "cell_type": "markdown",
      "metadata": {
        "id": "n8aBIOrVKEtF"
      },
      "source": [
        "[Временная сложность операций](https://wiki.python.org/moin/TimeComplexity)"
      ]
    }
  ]
}