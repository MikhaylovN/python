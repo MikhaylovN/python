{
  "cells": [
    {
      "cell_type": "markdown",
      "metadata": {
        "pycharm": {
          "name": "#%% md\n"
        },
        "id": "P_bpT_NzquBB"
      },
      "source": [
        "# Python и инструменты машинного обучения\n",
        "\n",
        "\n",
        "<img src=\"https://www.python.org/static/community_logos/python-logo-master-v3-TM.png\" align=\"right\" style=\"height: 200px;\"/>"
      ]
    },
    {
      "cell_type": "markdown",
      "source": [
        "# Занятие 1. Знакомство с Python. Типы данных. Условия"
      ],
      "metadata": {
        "id": "g0m5EuCn3beL"
      }
    },
    {
      "cell_type": "markdown",
      "source": [
        "# Jupyter Notebook и Google Colab"
      ],
      "metadata": {
        "id": "xmlWj4ul3lGb"
      }
    },
    {
      "cell_type": "markdown",
      "source": [
        "Для работы мы будем использовать Jupyter Notebook'и.\n",
        "\n",
        "<img src=\"https://jupyter.org/assets/homepage/main-logo.svg\" width=200/>\n",
        "\n",
        "Название проекта Jupyter - это ссылка на три основных языка программирования, поддерживаемых Jupyter: Julia, Python и R, а также дань уважения записным книжкам Галилея, записывающим открытие лун Юпитера. Проект Jupyter разработал и поддержал интерактивные вычислительные продукты Jupyter Notebook, JupyterHub и JupyterLab, версию следующего поколения Jupyter Notebook. Философия проекта Jupyter заключается в поддержке интерактивной науки о данных.\n",
        "\n",
        "Чем удобен Jupyter Notebook? Блокнот (notebook) объединяет в себе:\n",
        "\n",
        "- код и его вывод\n",
        "- визуализации\n",
        "- повествовательный текст, математические уравнения и другие мультимедиа.\n",
        "\n",
        "Это свойство способствует итеративной и быстрой разработке, что делает ноутбуки все более популярным выбором для представления в данных и их анализа."
      ],
      "metadata": {
        "id": "dtm2nw3f3195"
      }
    },
    {
      "cell_type": "markdown",
      "source": [
        "С практической точки зрения, в ноутбуке есть два типа ячеек: ячейки с текстом (как эта) и ячейки с кодом (встретимся дальше). Текстовые ячейки поддерживают язык разметки [Markdown](https://paulradzkov.com/2014/markdown_cheatsheet/), что позволяет красиво оформлять текст!"
      ],
      "metadata": {
        "id": "7Q2u_BEb5rHb"
      }
    },
    {
      "cell_type": "markdown",
      "source": [
        "Сейчас мы находимся в ноутбуке, размещенном на сервисе Google Colab. Он позволяет без установки программ на ваш компьютер выполнять код на Python с использованием вычислительных мощностей Google. Имеется короткий [туториал от Google](https://colab.research.google.com/notebooks/welcome.ipynb#scrollTo=GJBs_flRovLc)."
      ],
      "metadata": {
        "id": "NU8pbvC16N0i"
      }
    },
    {
      "cell_type": "markdown",
      "metadata": {
        "pycharm": {
          "name": "#%% md\n"
        },
        "id": "uQ737pAiquBC"
      },
      "source": [
        "# Знакомство с Python\n",
        "\n",
        "# Историческая справка\n",
        "\n",
        "Язык Python разрабатывался Гвидо ван Россумом с 1989 г.\n",
        "\n",
        "![guido](https://upload.wikimedia.org/wikipedia/commons/thumb/6/66/Guido_van_Rossum_OSCON_2006.jpg/400px-Guido_van_Rossum_OSCON_2006.jpg)\n",
        "\n",
        "*Source: [Wikipedia](https://upload.wikimedia.org/wikipedia/commons/thumb/6/66/Guido_van_Rossum_OSCON_2006.jpg/400px-Guido_van_Rossum_OSCON_2006.jpg)*\n",
        "\n",
        "Назван в честь популярного британского комедийного телешоу 1970-х \"Летающий цирк Монти Пайтона\".\n",
        "\n",
        "**Основные (мажорные) версии:**\n",
        "* Python 1.0 — январь 1994\n",
        "* Python 2.0 — 16.10.2000\n",
        "  * Python 2.7.18 - 20.04.2020 (последний релиз, больше не поддерживается)\n",
        "* Python 3.0 — 3.12.2008\n",
        "  * Python 3.10.0 - 04.10.2021\n",
        "\n",
        "Python вобрал в себя множество удобных и полезных аспектов других языков программирования (ABC, Lisp, Haskell, C, C++).\n",
        "\n",
        "Благодаря своей нацеленности на ясный синтаксис, Python играл центральную роль в проекте \"Computer Programming for Everybody\", предназначенном сделать программирование доступным для большего числа людей, на основе получения базовой «компьютерной грамотности». \n",
        "\n",
        "\n",
        "\n"
      ]
    },
    {
      "cell_type": "markdown",
      "metadata": {
        "pycharm": {
          "name": "#%% md\n"
        },
        "id": "rHEp22C8quBD"
      },
      "source": [
        "# Основные свойства Python\n"
      ]
    },
    {
      "cell_type": "markdown",
      "metadata": {
        "pycharm": {
          "name": "#%% md\n"
        },
        "id": "QRazOGk2quBD"
      },
      "source": [
        "## Интерпретируемость"
      ]
    },
    {
      "cell_type": "markdown",
      "source": [
        "### Лирическое отступление. Чем отличаются компилируемые и интерпретируемые языки?\n",
        "\n",
        "Компьютер не понимает синтаксис языков программирования напрямую, ему нужно передавать *компьютерный код*.\n",
        "\n",
        "- В **компилируемых** используется специальная программа - **компилятор**, которая берет программу **целиком** и преобразует (компилирует) ее в исполняемый компьютерный код. После этого компьютер может исполнять скомпилиированную программу. Компилятор способен выполнять многие или даже все операции: предварительную обработку исходной программы, парсинг, семантический анализ, преобразование входных программ в промежуточное представление, оптимизацию и генерацию кода.\n",
        "\n",
        "    ![compiler](https://cdn-images-1.medium.com/max/533/0*OaEDlCa01FEDRIQ8)\n",
        "    \n",
        "    *Source: [NoP](https://nuancesprog.ru/p/12524/)*\n",
        "\n",
        "- В **интерпретируемых** преобразование осуществляется **интерпретатором** последовательно - оператор за оператором.\n",
        "\n",
        "    ![interpreter](https://cdn-images-1.medium.com/max/533/0*MddNw1pcH9OJiekl)\n",
        "\n",
        "    *Source: [NoP](https://nuancesprog.ru/p/12524/)*\n",
        "\n",
        "\n",
        "И **компилятор**, и **интерпретатор** выполняют одну и ту же работу  —  преобразовывают язык программирования высокого уровня в машинный код. Однако **компилятор** преобразовывает исходный материал в машинный код **перед запуском** программы. **Интерпретатор** выполняет эту функцию **при ее запуске**.\n",
        "\n",
        "Примеры компилируемых языков программирования - C, C++.\n",
        "\n",
        "Примеры интерпретируемых языков программирования - Perl, Python и Matlab."
      ],
      "metadata": {
        "id": "HlWQ32CRztja"
      }
    },
    {
      "cell_type": "markdown",
      "source": [
        "#### Преимущества и недостатки\n",
        "\n",
        "**Преимущества компилятора:**\n",
        "- Программный код переводится целиком - можно оптимизировать его на низком уровне, тем самым сделать **быстрее**\n",
        "- Объектные программы **лучше защищены от изменения** пользователем сложнее изменить, чем исходный код\n",
        "- Компилятор **проверяет исходный код** на наличие синтаксических ошибок во время компиляции\n",
        "\n",
        "**Недостатки компилятора:**\n",
        "- Поскольку переводится вся программа, она **использует гораздо больше памяти** компьютера\n",
        "- При работе с компилятором **невозможно\\* изменить программу**, не вернувшись к исходному коду\n",
        "- Компилирование может занимать **очень много времени**\n",
        "\n",
        "    ![compiling](https://xkcd.ru/i/303_v2.png)\n",
        "\n",
        "    *Source: [xkcd.ru](https://xkcd.ru/303/)*\n",
        "- Исходный код должен быть **на 100% верным** для создания исполняемого файла\n",
        "- Компилирование выполняется **только под определенную платформу** (x86, arm, ...)\n",
        "\n",
        "**Преимущества интерпретатора:**\n",
        "- С интерпретатором **проще работать с исходным кодом**\n",
        "- Перевод по одной инструкции за раз, поэтому использует **минимальный объем памяти**\n",
        "\n",
        "**Недостатки интерпретатора:**\n",
        "- Каждый раз, когда программа выполняется, тратится время на интерпретацию, из-за чего **затягивается время исполнения**\n",
        "- Для запуска интерпретируемой программы **необходим интерпретатор**"
      ],
      "metadata": {
        "id": "KvSuIxIzzwB_"
      }
    },
    {
      "cell_type": "markdown",
      "source": [
        "Python является **интерпретируемым** языком программирования. Его интепретатор называется `python`:"
      ],
      "metadata": {
        "id": "EWRLzK7b2fW-"
      }
    },
    {
      "cell_type": "code",
      "source": [
        "!python --version"
      ],
      "metadata": {
        "colab": {
          "base_uri": "https://localhost:8080/"
        },
        "id": "Mv4nQlnV2NlY",
        "outputId": "e2dfff01-2cd2-4b71-85f9-c40a02eecf6f"
      },
      "execution_count": null,
      "outputs": [
        {
          "output_type": "stream",
          "name": "stdout",
          "text": [
            "Python 3.7.13\n"
          ]
        }
      ]
    },
    {
      "cell_type": "markdown",
      "source": [
        "**Замечание 1:** вот мы и дошли до первой ячейки с кодом. Чтобы выполнить ее содержимое, есть несколько способов:\n",
        "*   ctrl + enter  (ячейка выполнится)\n",
        "*   shift + enter (ячейка выполнится + перейдем вниз)\n",
        "*   треугольничек в левой части строки\n",
        "\n",
        "**Замечание 2:** восклицательный знак перед `python` необходим, если вы хотите выполнить терминальную команду из Jupyter Notebook. Если вы запускаете интерпретатор из консоли, то восклицательный знак не нужен."
      ],
      "metadata": {
        "id": "yPFg4h5373W9"
      }
    },
    {
      "cell_type": "markdown",
      "source": [
        "По этой причине мы можем выполнять команды из языка Python поштучно и сразу наблюдать их результат, чем и будем пользоваться на занятиях."
      ],
      "metadata": {
        "id": "IdYmPVma5XNQ"
      }
    },
    {
      "cell_type": "markdown",
      "metadata": {
        "pycharm": {
          "name": "#%% md\n"
        },
        "id": "p6A21OdiquBE"
      },
      "source": [
        "## Сильная динамическая неявная типизация\n",
        "\n",
        "**Типизация** — это то, как язык распознаёт типы переменных.\n",
        "    "
      ]
    },
    {
      "cell_type": "markdown",
      "source": [
        "### Сильная / слабая типизации\n",
        "\n",
        "Также известны как строгая / нестрогая типизации. Показывает можно ли совершать операции с разными типами данных.\n",
        "\n",
        "В языках со слабой типизацией возможны операции типа: `число + строка`. Обычно это достигается за счет определенных правил приведения типов, которые применяются неявно. Это может быть как удобно, так и запутывающе:\n",
        "\n",
        "![weak_typo](http://sun9-41.userapi.com/impf/c852136/v852136356/1abb55/B-qZf_l-sQk.jpg?size=604x604&quality=96&sign=dd974c5903dc07517b1026f7f963dac8&type=album)\n",
        "\n",
        "*Source: [/dev/null](https://vk.com/wall-72495085_997870)*\n",
        "\n",
        "**Примеры:**\n",
        "- **Сильная:** Perl, Ruby, Python\n",
        "- **Слабая:** C, C++\n",
        "\n",
        "\n",
        "\n"
      ],
      "metadata": {
        "id": "0SlhZRRM3Pby"
      }
    },
    {
      "cell_type": "markdown",
      "metadata": {
        "pycharm": {
          "name": "#%% md\n"
        },
        "id": "L2SpauTxquBF"
      },
      "source": [
        "Пример сильной типизации в Python:"
      ]
    },
    {
      "cell_type": "code",
      "execution_count": null,
      "metadata": {
        "pycharm": {
          "name": "#%%\n"
        },
        "colab": {
          "base_uri": "https://localhost:8080/",
          "height": 171
        },
        "id": "M0otCUd0quBF",
        "outputId": "f665b99d-99ab-4572-be57-876db6855cf1"
      },
      "outputs": [
        {
          "output_type": "error",
          "ename": "TypeError",
          "evalue": "ignored",
          "traceback": [
            "\u001b[0;31m---------------------------------------------------------------------------\u001b[0m",
            "\u001b[0;31mTypeError\u001b[0m                                 Traceback (most recent call last)",
            "\u001b[0;32m<ipython-input-22-8bb5b5697963>\u001b[0m in \u001b[0;36m<module>\u001b[0;34m\u001b[0m\n\u001b[0;32m----> 1\u001b[0;31m \u001b[0;36m3\u001b[0m \u001b[0;34m+\u001b[0m \u001b[0;34m'string'\u001b[0m\u001b[0;34m\u001b[0m\u001b[0;34m\u001b[0m\u001b[0m\n\u001b[0m",
            "\u001b[0;31mTypeError\u001b[0m: unsupported operand type(s) for +: 'int' and 'str'"
          ]
        }
      ],
      "source": [
        "3 + 'string'"
      ]
    },
    {
      "cell_type": "markdown",
      "source": [
        "**Замечание 1:** мы с вами впервые столкнулись с ошибкой на Python. В большинстве случаев чтобы понять, что происходит не так, достаточно посмотреть на какую строчку ругается Python и перевести текст ошибки. Поэтому для программистов рекомендуется знать английский хотя бы на базовом уровне."
      ],
      "metadata": {
        "id": "HWj5XU7c8kGi"
      }
    },
    {
      "cell_type": "markdown",
      "source": [
        "**Замечание 2:** часто Python используют не столько как язык программирования, как продвинутый калькулятор, позволяющий удобно выполнять большие вычисления."
      ],
      "metadata": {
        "id": "PR8juZzb7Pvh"
      }
    },
    {
      "cell_type": "markdown",
      "metadata": {
        "pycharm": {
          "name": "#%% md\n"
        },
        "id": "KdDYb1h8quBH"
      },
      "source": [
        "### Статическая / динамическая\n",
        "\n",
        "При статической типизации конечные типы переменных устанавливаются до выполнения программы, обычно на этапе компиляции. Так, в динамически типизированном языке у одной и той же переменной могут быть разные типы в разных частях программы, а в статически типизированном, если вы задали переменной тип string, у неё будет только тип string.\n",
        "\n",
        "**Примеры:**\n",
        "- **Статическая:** C, Java, C#\n",
        "- **Динамическая:** Python, JavaScript, Ruby, Objective-C"
      ]
    },
    {
      "cell_type": "markdown",
      "metadata": {
        "pycharm": {
          "name": "#%% md\n"
        },
        "id": "POX_Pk2equBH"
      },
      "source": [
        "Пример динамической типизации в Python:"
      ]
    },
    {
      "cell_type": "code",
      "execution_count": null,
      "metadata": {
        "pycharm": {
          "name": "#%%\n"
        },
        "colab": {
          "base_uri": "https://localhost:8080/"
        },
        "id": "hTiVRyPoquBI",
        "outputId": "f9c942c2-787c-48a7-834d-6db5496794cd"
      },
      "outputs": [
        {
          "output_type": "execute_result",
          "data": {
            "text/plain": [
              "int"
            ]
          },
          "metadata": {},
          "execution_count": 27
        }
      ],
      "source": [
        "a = 3\n",
        "type(a)"
      ]
    },
    {
      "cell_type": "code",
      "source": [
        "a = 'hello'\n",
        "type(a)"
      ],
      "metadata": {
        "colab": {
          "base_uri": "https://localhost:8080/"
        },
        "id": "_MJ2Lf1U71Jl",
        "outputId": "71d90a0b-19a7-40d4-89d8-e3843d9807c2"
      },
      "execution_count": null,
      "outputs": [
        {
          "output_type": "execute_result",
          "data": {
            "text/plain": [
              "str"
            ]
          },
          "metadata": {},
          "execution_count": 28
        }
      ]
    },
    {
      "cell_type": "markdown",
      "source": [
        "**Замечание:** здесь мы сталкиваемся с незнакомой функцией `type`. Пока ее можно воспринимать как функцию, возвращающую тип переменной. Сегодняшнее занятие - во многом вводное в плане Python, и ко многим вещам мы впоследствии вернемся и рассмотрим подробнее."
      ],
      "metadata": {
        "id": "DThdGSPJ9Fyd"
      }
    },
    {
      "cell_type": "markdown",
      "metadata": {
        "pycharm": {
          "name": "#%% md\n"
        },
        "id": "U--jaPTCquBI"
      },
      "source": [
        "### Явная / неявная типизация\n",
        "\n",
        "Явно-типизированные языки отличаются тем, что тип новых переменных, функций и их аргументов нужно задавать явно. Языки с неявной типизацией перекладывают эту задачу на компилятор / интерпретатор.\n",
        "\n",
        "**Примеры:**\n",
        "- **Явная:** C++, C#, Rust\n",
        "- **Неявная:** Python, PHP, JavaScript"
      ]
    },
    {
      "cell_type": "markdown",
      "metadata": {
        "pycharm": {
          "name": "#%% md\n"
        },
        "id": "o1SOVZMdquBI"
      },
      "source": [
        "Пример неявной типизации в Python:"
      ]
    },
    {
      "cell_type": "code",
      "execution_count": null,
      "metadata": {
        "pycharm": {
          "name": "#%%\n"
        },
        "colab": {
          "base_uri": "https://localhost:8080/"
        },
        "id": "kvs_V961quBI",
        "outputId": "6f0ccd2a-47c9-4caf-fa97-9ff3dc1f457e"
      },
      "outputs": [
        {
          "output_type": "execute_result",
          "data": {
            "text/plain": [
              "int"
            ]
          },
          "metadata": {},
          "execution_count": 13
        }
      ],
      "source": [
        "a = 0\n",
        "type(a)"
      ]
    },
    {
      "cell_type": "markdown",
      "metadata": {
        "pycharm": {
          "name": "#%% md\n"
        },
        "id": "s333TdGwquBJ"
      },
      "source": [
        "## Управление памятью\n",
        "\n",
        "Выделение и освобождение памяти в Python происходит автоматически - не нужно следить за выделяемой памятью и чистить за собой. Тем не менее, забить память все еще можно.\n",
        "\n",
        "Подробности работы сбора мусора можно узнать [здесь](https://towardsdatascience.com/memory-management-and-garbage-collection-in-python-c1cb51d1612c)."
      ]
    },
    {
      "cell_type": "code",
      "source": [
        "a"
      ],
      "metadata": {
        "colab": {
          "base_uri": "https://localhost:8080/",
          "height": 34
        },
        "id": "qs7IH_QFjG--",
        "outputId": "b8f187dc-65af-4dca-ecb6-b729e92ef6da"
      },
      "execution_count": null,
      "outputs": [
        {
          "output_type": "execute_result",
          "data": {
            "text/plain": [
              "'hello'"
            ],
            "application/vnd.google.colaboratory.intrinsic+json": {
              "type": "string"
            }
          },
          "metadata": {},
          "execution_count": 29
        }
      ]
    },
    {
      "cell_type": "code",
      "source": [
        "del a"
      ],
      "metadata": {
        "id": "8iPUOz6XjIes"
      },
      "execution_count": null,
      "outputs": []
    },
    {
      "cell_type": "code",
      "source": [
        "a"
      ],
      "metadata": {
        "colab": {
          "base_uri": "https://localhost:8080/",
          "height": 168
        },
        "id": "RXCypepYjL9H",
        "outputId": "633ae8d2-c66e-48ea-9b09-07fc9bbfa665"
      },
      "execution_count": null,
      "outputs": [
        {
          "output_type": "error",
          "ename": "NameError",
          "evalue": "ignored",
          "traceback": [
            "\u001b[0;31m---------------------------------------------------------------------------\u001b[0m",
            "\u001b[0;31mNameError\u001b[0m                                 Traceback (most recent call last)",
            "\u001b[0;32m<ipython-input-31-3f786850e387>\u001b[0m in \u001b[0;36m<module>\u001b[0;34m\u001b[0m\n\u001b[0;32m----> 1\u001b[0;31m \u001b[0ma\u001b[0m\u001b[0;34m\u001b[0m\u001b[0;34m\u001b[0m\u001b[0m\n\u001b[0m",
            "\u001b[0;31mNameError\u001b[0m: name 'a' is not defined"
          ]
        }
      ]
    },
    {
      "cell_type": "markdown",
      "metadata": {
        "pycharm": {
          "name": "#%% md\n"
        },
        "id": "Tfqk5TWrquBJ"
      },
      "source": [
        "# Дзен Python\n",
        "\n",
        "**Дзен Python** — это набор из 19 «руководящих принципов» написания программ, влияющих на структуру языка программирования Python. "
      ]
    },
    {
      "cell_type": "code",
      "execution_count": null,
      "metadata": {
        "pycharm": {
          "name": "#%%\n"
        },
        "id": "aNUwIOO6quBJ",
        "outputId": "e8a7d714-50c1-4895-9291-814c5c8eb6c2"
      },
      "outputs": [
        {
          "name": "stdout",
          "output_type": "stream",
          "text": [
            "The Zen of Python, by Tim Peters\n",
            "\n",
            "Beautiful is better than ugly.\n",
            "Explicit is better than implicit.\n",
            "Simple is better than complex.\n",
            "Complex is better than complicated.\n",
            "Flat is better than nested.\n",
            "Sparse is better than dense.\n",
            "Readability counts.\n",
            "Special cases aren't special enough to break the rules.\n",
            "Although practicality beats purity.\n",
            "Errors should never pass silently.\n",
            "Unless explicitly silenced.\n",
            "In the face of ambiguity, refuse the temptation to guess.\n",
            "There should be one-- and preferably only one --obvious way to do it.\n",
            "Although that way may not be obvious at first unless you're Dutch.\n",
            "Now is better than never.\n",
            "Although never is often better than *right* now.\n",
            "If the implementation is hard to explain, it's a bad idea.\n",
            "If the implementation is easy to explain, it may be a good idea.\n",
            "Namespaces are one honking great idea -- let's do more of those!\n"
          ]
        }
      ],
      "source": [
        "import this"
      ]
    },
    {
      "cell_type": "markdown",
      "source": [
        "## Трудности перевода\n",
        "\n",
        "Как понять принцип: `Complex is better than complicated.`, ведь `complex`, и `complicated` переводятся как `сложный`?"
      ],
      "metadata": {
        "id": "rXDZkqB48vmM"
      }
    },
    {
      "cell_type": "markdown",
      "source": [
        "### Пояснение\n"
      ],
      "metadata": {
        "id": "bRZhfyDn9XH1"
      }
    },
    {
      "cell_type": "markdown",
      "source": [
        "*Source: [StackOverflow](https://stackoverflow.com/a/4568733)*\n",
        "\n",
        "**Complex:** Does a lot. Usually unavoidable.\n",
        "\n",
        "**Complicated:** Difficult to understand.\n",
        "\n",
        "I like this quote (source):\n",
        "\n",
        ">A complex person is like an iPod. That is to say that they are consistent, straightforward and ‘user friendly’ while also being rather sophisticated. Unlike the complicated person, interacting with a complex person does not require special knowledge of their complicated ways-because their ways are not complicated. When mistakes are made, they tend to be very forgiving because they understand that people are imperfect. In short, they are mature, sensible human beings."
      ],
      "metadata": {
        "id": "aJkzUu3s97ml"
      }
    },
    {
      "cell_type": "markdown",
      "source": [
        "# Основы Python"
      ],
      "metadata": {
        "id": "h6FfaA0aAmUo"
      }
    },
    {
      "cell_type": "markdown",
      "source": [
        "В Python создание переменной и присваивание\\* ей значения выполняется следующим образом: "
      ],
      "metadata": {
        "id": "AtK20cgLAzQt"
      }
    },
    {
      "cell_type": "code",
      "source": [
        "variable = 4"
      ],
      "metadata": {
        "id": "4O8_TLuSA-KX"
      },
      "execution_count": null,
      "outputs": []
    },
    {
      "cell_type": "markdown",
      "source": [
        "Чтобы вывести значение переменной, можно воспользоваться функцией `print` или просто написать имя этой переменной (только в интерактивном режиме!):"
      ],
      "metadata": {
        "id": "PyD0osPnBC3i"
      }
    },
    {
      "cell_type": "code",
      "source": [
        "print(variable)"
      ],
      "metadata": {
        "colab": {
          "base_uri": "https://localhost:8080/"
        },
        "id": "pvMx3NIBBfns",
        "outputId": "7f18dc09-a42f-4e86-e246-70d07e4ae1be"
      },
      "execution_count": null,
      "outputs": [
        {
          "output_type": "stream",
          "name": "stdout",
          "text": [
            "4\n"
          ]
        }
      ]
    },
    {
      "cell_type": "code",
      "source": [
        "variable"
      ],
      "metadata": {
        "colab": {
          "base_uri": "https://localhost:8080/"
        },
        "id": "WZesEn9kBimX",
        "outputId": "2c32a8c9-44c1-4902-831f-9521cbbdc27f"
      },
      "execution_count": null,
      "outputs": [
        {
          "output_type": "execute_result",
          "data": {
            "text/plain": [
              "4"
            ]
          },
          "metadata": {},
          "execution_count": 34
        }
      ]
    },
    {
      "cell_type": "markdown",
      "source": [
        "В Python еще можно делать так:"
      ],
      "metadata": {
        "id": "5v8VbOUCgYvA"
      }
    },
    {
      "cell_type": "code",
      "source": [
        "x = y = 500\n",
        "x, y, x is y"
      ],
      "metadata": {
        "colab": {
          "base_uri": "https://localhost:8080/"
        },
        "id": "JzRfyaEbgbXv",
        "outputId": "0c22dbd7-385d-4939-b41e-625464048c3b"
      },
      "execution_count": null,
      "outputs": [
        {
          "output_type": "execute_result",
          "data": {
            "text/plain": [
              "(500, 500, True)"
            ]
          },
          "metadata": {},
          "execution_count": 36
        }
      ]
    },
    {
      "cell_type": "code",
      "source": [
        "x, y = 100, 300\n",
        "x, y = y, x\n",
        "x, y"
      ],
      "metadata": {
        "colab": {
          "base_uri": "https://localhost:8080/"
        },
        "id": "sr0EaJzZgkH9",
        "outputId": "1c029cb8-d0ac-4588-f55c-d145e4061398"
      },
      "execution_count": null,
      "outputs": [
        {
          "output_type": "execute_result",
          "data": {
            "text/plain": [
              "(300, 100)"
            ]
          },
          "metadata": {},
          "execution_count": 37
        }
      ]
    },
    {
      "cell_type": "code",
      "source": [
        "print(x, y)\n",
        "z = x\n",
        "x = y\n",
        "y = z\n",
        "print(x, y)"
      ],
      "metadata": {
        "colab": {
          "base_uri": "https://localhost:8080/"
        },
        "id": "D9AVbc60osTI",
        "outputId": "316472e6-0065-4af7-c7c6-62b40158f404"
      },
      "execution_count": null,
      "outputs": [
        {
          "output_type": "stream",
          "name": "stdout",
          "text": [
            "300 100\n",
            "100 300\n"
          ]
        }
      ]
    },
    {
      "cell_type": "markdown",
      "source": [
        "Крайне полезная для вас функция - `help`. Она позволяет получить справку по разным объектам. Сейчас нам она полезна для того, чтобы получать документацию по функциям, например для функций `print` и `id`:"
      ],
      "metadata": {
        "id": "J3GMRd0QCEga"
      }
    },
    {
      "cell_type": "code",
      "source": [
        "help(print)"
      ],
      "metadata": {
        "colab": {
          "base_uri": "https://localhost:8080/"
        },
        "id": "pkT5k8pXJHnv",
        "outputId": "6127a019-eae7-4864-fc2c-a11a47126e6f"
      },
      "execution_count": null,
      "outputs": [
        {
          "output_type": "stream",
          "name": "stdout",
          "text": [
            "Help on built-in function print in module builtins:\n",
            "\n",
            "print(...)\n",
            "    print(value, ..., sep=' ', end='\\n', file=sys.stdout, flush=False)\n",
            "    \n",
            "    Prints the values to a stream, or to sys.stdout by default.\n",
            "    Optional keyword arguments:\n",
            "    file:  a file-like object (stream); defaults to the current sys.stdout.\n",
            "    sep:   string inserted between values, default a space.\n",
            "    end:   string appended after the last value, default a newline.\n",
            "    flush: whether to forcibly flush the stream.\n",
            "\n"
          ]
        }
      ]
    },
    {
      "cell_type": "code",
      "source": [
        "print(x, y, sep='\\n', end='test')"
      ],
      "metadata": {
        "colab": {
          "base_uri": "https://localhost:8080/"
        },
        "id": "iC40fTwtpLIZ",
        "outputId": "289ddf1f-c1a2-421c-8e2f-538929a3f4b7"
      },
      "execution_count": null,
      "outputs": [
        {
          "output_type": "stream",
          "name": "stdout",
          "text": [
            "100\n",
            "300test"
          ]
        }
      ]
    },
    {
      "cell_type": "code",
      "source": [
        "help(id)"
      ],
      "metadata": {
        "colab": {
          "base_uri": "https://localhost:8080/"
        },
        "id": "jZ2Fw0RBCRVb",
        "outputId": "d22c93b1-0dac-427f-d7c2-7ac65b5cc1c4"
      },
      "execution_count": null,
      "outputs": [
        {
          "output_type": "stream",
          "name": "stdout",
          "text": [
            "Help on built-in function id in module builtins:\n",
            "\n",
            "id(obj, /)\n",
            "    Return the identity of an object.\n",
            "    \n",
            "    This is guaranteed to be unique among simultaneously existing objects.\n",
            "    (CPython uses the object's memory address.)\n",
            "\n"
          ]
        }
      ]
    },
    {
      "cell_type": "code",
      "source": [
        "id(x)"
      ],
      "metadata": {
        "colab": {
          "base_uri": "https://localhost:8080/"
        },
        "id": "8dZ84Wm3p4NI",
        "outputId": "53339669-1ba5-4727-e536-aa3e0255862d"
      },
      "execution_count": null,
      "outputs": [
        {
          "output_type": "execute_result",
          "data": {
            "text/plain": [
              "11259232"
            ]
          },
          "metadata": {},
          "execution_count": 44
        }
      ]
    },
    {
      "cell_type": "markdown",
      "metadata": {
        "pycharm": {
          "name": "#%% md\n"
        },
        "id": "3D67e32squBK"
      },
      "source": [
        "# Базовая арифметика"
      ]
    },
    {
      "cell_type": "markdown",
      "source": [
        "Одна из основных задач языка программирования - выполнять арифметические операции над переменными. Само собой, Python тоже позволяет это делать:"
      ],
      "metadata": {
        "id": "Z1zPPgB1SH2E"
      }
    },
    {
      "cell_type": "markdown",
      "source": [
        "`+`, `-`, `*`, `/` - простейшие операции"
      ],
      "metadata": {
        "id": "pzTNDYEsTUUc"
      }
    },
    {
      "cell_type": "code",
      "source": [
        "(1 + 6) / 4 - 2 * 3"
      ],
      "metadata": {
        "colab": {
          "base_uri": "https://localhost:8080/"
        },
        "id": "fy29Z8xKTWcZ",
        "outputId": "c943992f-21a4-4697-a18a-79a730ec0ba6"
      },
      "execution_count": null,
      "outputs": [
        {
          "output_type": "execute_result",
          "data": {
            "text/plain": [
              "-4.25"
            ]
          },
          "metadata": {},
          "execution_count": 80
        }
      ]
    },
    {
      "cell_type": "markdown",
      "source": [
        "`//`, `%` - целочисленное деление и остаток от деления"
      ],
      "metadata": {
        "id": "05o3uWZfTgZL"
      }
    },
    {
      "cell_type": "code",
      "source": [
        "45 // 6, 45 % 6"
      ],
      "metadata": {
        "colab": {
          "base_uri": "https://localhost:8080/"
        },
        "id": "QRCvm8j0TkXr",
        "outputId": "50fb46bd-e35b-43a0-e614-2e9c5f0f38bf"
      },
      "execution_count": null,
      "outputs": [
        {
          "output_type": "execute_result",
          "data": {
            "text/plain": [
              "(7, 3)"
            ]
          },
          "metadata": {},
          "execution_count": 31
        }
      ]
    },
    {
      "cell_type": "markdown",
      "source": [
        "`**` - возведение в степень"
      ],
      "metadata": {
        "id": "U8_S79e6Tpi4"
      }
    },
    {
      "cell_type": "code",
      "execution_count": null,
      "metadata": {
        "pycharm": {
          "name": "#%%\n"
        },
        "colab": {
          "base_uri": "https://localhost:8080/"
        },
        "id": "-SaGO590quBK",
        "outputId": "ed0bb715-f776-4733-807c-05a89c38adfb"
      },
      "outputs": [
        {
          "output_type": "execute_result",
          "data": {
            "text/plain": [
              "1024"
            ]
          },
          "metadata": {},
          "execution_count": 45
        }
      ],
      "source": [
        "2 ** 10"
      ]
    },
    {
      "cell_type": "markdown",
      "metadata": {
        "pycharm": {
          "name": "#%% md\n"
        },
        "id": "zjWOgOzZquBK"
      },
      "source": [
        "Также в Python имеются специальные значения для бесконечностей и значения \"not a number\" aka `nan`:"
      ]
    },
    {
      "cell_type": "code",
      "execution_count": null,
      "metadata": {
        "pycharm": {
          "name": "#%%\n"
        },
        "colab": {
          "base_uri": "https://localhost:8080/"
        },
        "id": "JSvnW2jEquBK",
        "outputId": "f9450627-15b8-4526-ba3e-82b8d68c534d"
      },
      "outputs": [
        {
          "output_type": "execute_result",
          "data": {
            "text/plain": [
              "(inf, inf, inf)"
            ]
          },
          "metadata": {},
          "execution_count": 86
        }
      ],
      "source": [
        "float('inf'), 2 * float('inf'), float('inf') + 1000000"
      ]
    },
    {
      "cell_type": "code",
      "source": [
        "float('-inf'), 2 * float('-inf'), float('-inf') + 1000000"
      ],
      "metadata": {
        "colab": {
          "base_uri": "https://localhost:8080/"
        },
        "id": "fDQW1BfjUk-u",
        "outputId": "602fea85-4b90-437b-9900-b8031bf902fe"
      },
      "execution_count": null,
      "outputs": [
        {
          "output_type": "execute_result",
          "data": {
            "text/plain": [
              "(-inf, -inf, -inf)"
            ]
          },
          "metadata": {},
          "execution_count": 87
        }
      ]
    },
    {
      "cell_type": "code",
      "source": [
        "float('Inf') - float('Inf')"
      ],
      "metadata": {
        "colab": {
          "base_uri": "https://localhost:8080/"
        },
        "id": "5HWxiIloUmei",
        "outputId": "b28bd7fc-5088-452c-be1b-e895d83b6e47"
      },
      "execution_count": null,
      "outputs": [
        {
          "output_type": "execute_result",
          "data": {
            "text/plain": [
              "nan"
            ]
          },
          "metadata": {},
          "execution_count": 88
        }
      ]
    },
    {
      "cell_type": "code",
      "source": [
        "1 / 0"
      ],
      "metadata": {
        "colab": {
          "base_uri": "https://localhost:8080/",
          "height": 171
        },
        "id": "-5-ngQXQd3Ro",
        "outputId": "5fc40bcc-c011-4901-c34e-8ccedfd87410"
      },
      "execution_count": null,
      "outputs": [
        {
          "output_type": "error",
          "ename": "ZeroDivisionError",
          "evalue": "ignored",
          "traceback": [
            "\u001b[0;31m---------------------------------------------------------------------------\u001b[0m",
            "\u001b[0;31mZeroDivisionError\u001b[0m                         Traceback (most recent call last)",
            "\u001b[0;32m<ipython-input-33-bc757c3fda29>\u001b[0m in \u001b[0;36m<module>\u001b[0;34m\u001b[0m\n\u001b[0;32m----> 1\u001b[0;31m \u001b[0;36m1\u001b[0m \u001b[0;34m/\u001b[0m \u001b[0;36m0\u001b[0m\u001b[0;34m\u001b[0m\u001b[0;34m\u001b[0m\u001b[0m\n\u001b[0m",
            "\u001b[0;31mZeroDivisionError\u001b[0m: division by zero"
          ]
        }
      ]
    },
    {
      "cell_type": "markdown",
      "metadata": {
        "pycharm": {
          "name": "#%% md\n"
        },
        "id": "uhUpRZlGquBL"
      },
      "source": [
        "Кроме того, в Python есть такие небольшие удобства для записи чисел как разделители и экспоненциальная запись чисел:"
      ]
    },
    {
      "cell_type": "code",
      "execution_count": null,
      "metadata": {
        "pycharm": {
          "name": "#%%\n"
        },
        "colab": {
          "base_uri": "https://localhost:8080/"
        },
        "id": "hyttf-LsquBL",
        "outputId": "77c11f9c-f0c6-488e-b813-7ceb7282cdb6"
      },
      "outputs": [
        {
          "output_type": "execute_result",
          "data": {
            "text/plain": [
              "100000000"
            ]
          },
          "metadata": {},
          "execution_count": 90
        }
      ],
      "source": [
        "100_000_000"
      ]
    },
    {
      "cell_type": "code",
      "source": [
        "1.5e-2"
      ],
      "metadata": {
        "colab": {
          "base_uri": "https://localhost:8080/"
        },
        "id": "Y0HVwpn7U8Ui",
        "outputId": "c40096a5-fe52-4c36-c714-a04ca1a00590"
      },
      "execution_count": null,
      "outputs": [
        {
          "output_type": "execute_result",
          "data": {
            "text/plain": [
              "0.015"
            ]
          },
          "metadata": {},
          "execution_count": 46
        }
      ]
    },
    {
      "cell_type": "markdown",
      "source": [
        "Помимо стандартного оператора присваивания\\*, в Python есть вспомогательные операторы, которые перед присваиванием выполняют арифметическую операцию:"
      ],
      "metadata": {
        "id": "YeTm02SWfuLe"
      }
    },
    {
      "cell_type": "code",
      "source": [
        "a = 1900\n",
        "a += 1   # a = a + 1\n",
        "a -= 2   # a = a - 2\n",
        "a *= 3   # a = a * 3\n",
        "a /= 4   # a = a / 4\n",
        "a //= 2  # a = a // 2\n",
        "a **= 2  # a = a ** 2\n",
        "a %= 6   # a = a % 6"
      ],
      "metadata": {
        "id": "sjlmU5i3gCDB"
      },
      "execution_count": null,
      "outputs": []
    },
    {
      "cell_type": "markdown",
      "metadata": {
        "pycharm": {
          "name": "#%% md\n"
        },
        "id": "x5GZRycoquBJ"
      },
      "source": [
        "# Базовые типы данных"
      ]
    },
    {
      "cell_type": "markdown",
      "source": [
        "## int\n",
        "\n",
        "`int` - целочисленный тип данных:"
      ],
      "metadata": {
        "id": "wCqikhxsK5SM"
      }
    },
    {
      "cell_type": "code",
      "execution_count": null,
      "metadata": {
        "pycharm": {
          "name": "#%%\n"
        },
        "colab": {
          "base_uri": "https://localhost:8080/"
        },
        "id": "75S-s0zcquBK",
        "outputId": "dc938166-3a27-43f8-8160-9cb656ac35f4"
      },
      "outputs": [
        {
          "output_type": "execute_result",
          "data": {
            "text/plain": [
              "(42, int)"
            ]
          },
          "metadata": {},
          "execution_count": 43
        }
      ],
      "source": [
        "42, type(42)"
      ]
    },
    {
      "cell_type": "markdown",
      "source": [
        "Этот тип данных поддерживает длинную арифметику (подробнее [тут](https://www.codementor.io/@arpitbhayani/how-python-implements-super-long-integers-12icwon5vk)):"
      ],
      "metadata": {
        "id": "ixIAvJFpLa_i"
      }
    },
    {
      "cell_type": "code",
      "source": [
        "2 ** 10000"
      ],
      "metadata": {
        "id": "iJQ89T5qLhF5",
        "colab": {
          "base_uri": "https://localhost:8080/"
        },
        "outputId": "91bd8310-57a6-43b4-f2d5-ff6ffed5a56a"
      },
      "execution_count": null,
      "outputs": [
        {
          "output_type": "execute_result",
          "data": {
            "text/plain": [
              "19950631168807583848837421626835850838234968318861924548520089498529438830221946631919961684036194597899331129423209124271556491349413781117593785932096323957855730046793794526765246551266059895520550086918193311542508608460618104685509074866089624888090489894838009253941633257850621568309473902556912388065225096643874441046759871626985453222868538161694315775629640762836880760732228535091641476183956381458969463899410840960536267821064621427333394036525565649530603142680234969400335934316651459297773279665775606172582031407994198179607378245683762280037302885487251900834464581454650557929601414833921615734588139257095379769119277800826957735674444123062018757836325502728323789270710373802866393031428133241401624195671690574061419654342324638801248856147305207431992259611796250130992860241708340807605932320161268492288496255841312844061536738951487114256315111089745514203313820202931640957596464756010405845841566072044962867016515061920631004186422275908670900574606417856951911456055068251250406007519842261898059237118054444788072906395242548339221982707404473162376760846613033778706039803413197133493654622700563169937455508241780972810983291314403571877524768509857276937926433221599399876886660808368837838027643282775172273657572744784112294389733810861607423253291974813120197604178281965697475898164531258434135959862784130128185406283476649088690521047580882615823961985770122407044330583075869039319604603404973156583208672105913300903752823415539745394397715257455290510212310947321610753474825740775273986348298498340756937955646638621874569499279016572103701364433135817214311791398222983845847334440270964182851005072927748364550578634501100852987812389473928699540834346158807043959118985815145779177143619698728131459483783202081474982171858011389071228250905826817436220577475921417653715687725614904582904992461028630081535583308130101987675856234343538955409175623400844887526162643568648833519463720377293240094456246923254350400678027273837755376406726898636241037491410966718557050759098100246789880178271925953381282421954028302759408448955014676668389697996886241636313376393903373455801407636741877711055384225739499110186468219696581651485130494222369947714763069155468217682876200362777257723781365331611196811280792669481887201298643660768551639860534602297871557517947385246369446923087894265948217008051120322365496288169035739121368338393591756418733850510970271613915439590991598154654417336311656936031122249937969999226781732358023111862644575299135758175008199839236284615249881088960232244362173771618086357015468484058622329792853875623486556440536962622018963571028812361567512543338303270029097668650568557157505516727518899194129711337690149916181315171544007728650573189557450920330185304847113818315407324053319038462084036421763703911550639789000742853672196280903477974533320468368795868580237952218629120080742819551317948157624448298518461509704888027274721574688131594750409732115080498190455803416826949787141316063210686391511681774304792596709376"
            ]
          },
          "metadata": {},
          "execution_count": 52
        }
      ]
    },
    {
      "cell_type": "markdown",
      "source": [
        "## float"
      ],
      "metadata": {
        "id": "x2xbjSRvL1KH"
      }
    },
    {
      "cell_type": "markdown",
      "source": [
        "`float` - тип данных, хранящий число с плавающей точкой (дробное число). В качестве разделителя используется только точка `.`:\n"
      ],
      "metadata": {
        "id": "FqHuvmGNK68l"
      }
    },
    {
      "cell_type": "code",
      "source": [
        "42.42, type(42.42)"
      ],
      "metadata": {
        "colab": {
          "base_uri": "https://localhost:8080/"
        },
        "id": "Q0RGf6DgLE5q",
        "outputId": "fe8f641f-f599-478d-ae2c-5be1536f0e77"
      },
      "execution_count": null,
      "outputs": [
        {
          "output_type": "execute_result",
          "data": {
            "text/plain": [
              "(42.42, float)"
            ]
          },
          "metadata": {},
          "execution_count": 38
        }
      ]
    },
    {
      "cell_type": "markdown",
      "source": [
        "Тип `float` основан на `double` из C, поэтому поддерживает значения только в определенном диапазоне и с определенной точностью:"
      ],
      "metadata": {
        "id": "7O-UW7OmL4wR"
      }
    },
    {
      "cell_type": "code",
      "source": [
        "from sys import float_info\n",
        "\n",
        "precision = float_info.min * float_info.epsilon\n",
        "max_value = float_info.max"
      ],
      "metadata": {
        "id": "7Z8BRnThMnHf"
      },
      "execution_count": null,
      "outputs": []
    },
    {
      "cell_type": "code",
      "source": [
        "print(max_value, max_value * 2)"
      ],
      "metadata": {
        "colab": {
          "base_uri": "https://localhost:8080/"
        },
        "id": "1x58XjL8MDbw",
        "outputId": "c9117273-7723-4ae4-be89-37b8fdcdc756"
      },
      "execution_count": null,
      "outputs": [
        {
          "output_type": "stream",
          "name": "stdout",
          "text": [
            "1.7976931348623157e+308 inf\n"
          ]
        }
      ]
    },
    {
      "cell_type": "code",
      "source": [
        "print(precision, precision / 2)"
      ],
      "metadata": {
        "colab": {
          "base_uri": "https://localhost:8080/"
        },
        "id": "mM0dQIuEMTtU",
        "outputId": "8e6afa5c-4ace-4830-9b13-cf4f9e9f16a6"
      },
      "execution_count": null,
      "outputs": [
        {
          "output_type": "stream",
          "name": "stdout",
          "text": [
            "5e-324 0.0\n"
          ]
        }
      ]
    },
    {
      "cell_type": "markdown",
      "source": [
        "Для округления чисел с плавающей точкой в Python имеется функция `round`, работающая по правилу [\"округления банкира\"](https://ru.wikipedia.org/wiki/%D0%9E%D0%BA%D1%80%D1%83%D0%B3%D0%BB%D0%B5%D0%BD%D0%B8%D0%B5#:~:text=banker's%20rounding%20%E2%80%94%20%C2%AB%D0%BE%D0%BA%D1%80%D1%83%D0%B3%D0%BB%D0%B5%D0%BD%D0%B8%D0%B5%20%D0%B1%D0%B0%D0%BD%D0%BA%D0%B8%D1%80%D0%B0%C2%BB,(%D0%BC%D0%BE%D0%B6%D0%B5%D1%82%20%D0%B8%D1%81%D0%BF%D0%BE%D0%BB%D1%8C%D0%B7%D0%BE%D0%B2%D0%B0%D1%82%D1%8C%D1%81%D1%8F%20%D0%B2%20%D1%81%D1%82%D0%B0%D1%82%D0%B8%D1%81%D1%82%D0%B8%D0%BA%D0%B5)) (до ближайшего четного числа):"
      ],
      "metadata": {
        "id": "jdpYshXyB722"
      }
    },
    {
      "cell_type": "code",
      "source": [
        "round(0.3)"
      ],
      "metadata": {
        "colab": {
          "base_uri": "https://localhost:8080/"
        },
        "id": "h66lj6_TCBo7",
        "outputId": "009d2b0e-1c27-4f57-867c-412a1860da5e"
      },
      "execution_count": null,
      "outputs": [
        {
          "output_type": "execute_result",
          "data": {
            "text/plain": [
              "0"
            ]
          },
          "metadata": {},
          "execution_count": 5
        }
      ]
    },
    {
      "cell_type": "code",
      "source": [
        "round(0.5)"
      ],
      "metadata": {
        "colab": {
          "base_uri": "https://localhost:8080/"
        },
        "id": "U6aJIwzBCgqS",
        "outputId": "39a68970-d068-4294-9e23-9636c8313d8c"
      },
      "execution_count": null,
      "outputs": [
        {
          "output_type": "execute_result",
          "data": {
            "text/plain": [
              "0"
            ]
          },
          "metadata": {},
          "execution_count": 6
        }
      ]
    },
    {
      "cell_type": "code",
      "source": [
        "round(1.5)"
      ],
      "metadata": {
        "colab": {
          "base_uri": "https://localhost:8080/"
        },
        "id": "VIc6pvZ5Cica",
        "outputId": "48c1cc3b-7cea-4cdd-b6df-67a2a632ad57"
      },
      "execution_count": null,
      "outputs": [
        {
          "output_type": "execute_result",
          "data": {
            "text/plain": [
              "2"
            ]
          },
          "metadata": {},
          "execution_count": 7
        }
      ]
    },
    {
      "cell_type": "markdown",
      "source": [
        "Дополнительно можно указать до какого знака стоит округлять:"
      ],
      "metadata": {
        "id": "Rs8ZgYYaC7Ac"
      }
    },
    {
      "cell_type": "code",
      "source": [
        "round(3.1415, 1)"
      ],
      "metadata": {
        "colab": {
          "base_uri": "https://localhost:8080/"
        },
        "id": "drjsrHoZDAO0",
        "outputId": "09b48922-0bdc-4c06-a761-837b8b3c83f6"
      },
      "execution_count": null,
      "outputs": [
        {
          "output_type": "execute_result",
          "data": {
            "text/plain": [
              "3.1"
            ]
          },
          "metadata": {},
          "execution_count": 54
        }
      ]
    },
    {
      "cell_type": "markdown",
      "source": [
        "### Арифметика с плавающей точкой"
      ],
      "metadata": {
        "id": "ap_ZCw8e_xwH"
      }
    },
    {
      "cell_type": "code",
      "source": [
        "0.1 + 0.2"
      ],
      "metadata": {
        "colab": {
          "base_uri": "https://localhost:8080/"
        },
        "id": "ux6nVNJhfkSp",
        "outputId": "91df546d-2d5e-4191-978d-e689f272ae7f"
      },
      "execution_count": null,
      "outputs": [
        {
          "output_type": "execute_result",
          "data": {
            "text/plain": [
              "0.30000000000000004"
            ]
          },
          "metadata": {},
          "execution_count": 2
        }
      ]
    },
    {
      "cell_type": "markdown",
      "source": [
        "Подробнее про числа с плавающей точкой - https://habr.com/ru/post/112953/"
      ],
      "metadata": {
        "id": "CyrToMtw_nXu"
      }
    },
    {
      "cell_type": "markdown",
      "source": [
        "## complex"
      ],
      "metadata": {
        "id": "u1MBAEA3OGrk"
      }
    },
    {
      "cell_type": "markdown",
      "source": [
        "`complex` - тип для работы с комплексными числами. Мнимая часть описывается с помощью символа `j` (вместо `i` в математике): "
      ],
      "metadata": {
        "id": "ZObdoCD4K9Aw"
      }
    },
    {
      "cell_type": "code",
      "source": [
        "2 + 3j, type(2 + 3j)"
      ],
      "metadata": {
        "colab": {
          "base_uri": "https://localhost:8080/"
        },
        "id": "YqvJgBH-LGoL",
        "outputId": "a40795c9-6eb9-4b00-eac7-3bc23b21a377"
      },
      "execution_count": null,
      "outputs": [
        {
          "output_type": "execute_result",
          "data": {
            "text/plain": [
              "((2+3j), complex)"
            ]
          },
          "metadata": {},
          "execution_count": 74
        }
      ]
    },
    {
      "cell_type": "code",
      "source": [
        "(2 + 3j) * (2 + 3j)"
      ],
      "metadata": {
        "colab": {
          "base_uri": "https://localhost:8080/"
        },
        "id": "47CwQ_Z8fUGY",
        "outputId": "300a30fc-4496-4901-c9a3-ff9b15bc8489"
      },
      "execution_count": null,
      "outputs": [
        {
          "output_type": "execute_result",
          "data": {
            "text/plain": [
              "(-5+12j)"
            ]
          },
          "metadata": {},
          "execution_count": 3
        }
      ]
    },
    {
      "cell_type": "markdown",
      "source": [
        "## bool"
      ],
      "metadata": {
        "id": "4-cFglQgOhqe"
      }
    },
    {
      "cell_type": "markdown",
      "source": [
        "`bool` - логический тип данных. Может принимать лишь два значения - `True` и `False` (именно с заглавной буквы):"
      ],
      "metadata": {
        "id": "UZgFY0bNK-fz"
      }
    },
    {
      "cell_type": "code",
      "source": [
        "True, type(True)"
      ],
      "metadata": {
        "colab": {
          "base_uri": "https://localhost:8080/"
        },
        "id": "6sQYlsZdLHxn",
        "outputId": "66f32eca-f043-4ee6-ee2c-70faa4a62e1b"
      },
      "execution_count": null,
      "outputs": [
        {
          "output_type": "execute_result",
          "data": {
            "text/plain": [
              "(True, bool)"
            ]
          },
          "metadata": {},
          "execution_count": 55
        }
      ]
    },
    {
      "cell_type": "markdown",
      "source": [
        " Тип `bool` является подтипом `int`, поэтому между ними возможны операции сравнения без явного приведения типов:"
      ],
      "metadata": {
        "id": "HXyR22m7O1I2"
      }
    },
    {
      "cell_type": "code",
      "source": [
        "True == 1"
      ],
      "metadata": {
        "colab": {
          "base_uri": "https://localhost:8080/"
        },
        "id": "0UVhCf3CO5NA",
        "outputId": "2a2e891b-2cd5-4377-a56c-56c3a5cc0e0f"
      },
      "execution_count": null,
      "outputs": [
        {
          "output_type": "execute_result",
          "data": {
            "text/plain": [
              "True"
            ]
          },
          "metadata": {},
          "execution_count": 76
        }
      ]
    },
    {
      "cell_type": "code",
      "source": [
        "True > 2"
      ],
      "metadata": {
        "colab": {
          "base_uri": "https://localhost:8080/"
        },
        "id": "sjTom5QYPUY3",
        "outputId": "88126341-67c5-4fd1-9003-76a0adfc45fd"
      },
      "execution_count": null,
      "outputs": [
        {
          "output_type": "execute_result",
          "data": {
            "text/plain": [
              "False"
            ]
          },
          "metadata": {},
          "execution_count": 78
        }
      ]
    },
    {
      "cell_type": "markdown",
      "source": [
        "## str"
      ],
      "metadata": {
        "id": "Nn2y5XJnPbUc"
      }
    },
    {
      "cell_type": "markdown",
      "source": [
        "`str` - строковый тип данных, т.е. может хранить в себе символьные строки произвольной длины:"
      ],
      "metadata": {
        "id": "v4Tyy8VVLAGh"
      }
    },
    {
      "cell_type": "code",
      "source": [
        "\"abc\", type(\"abc\")"
      ],
      "metadata": {
        "colab": {
          "base_uri": "https://localhost:8080/"
        },
        "id": "1Ls-i1euLJrN",
        "outputId": "f9713553-6ea3-41b8-96bf-20d2958b7b0e"
      },
      "execution_count": null,
      "outputs": [
        {
          "output_type": "execute_result",
          "data": {
            "text/plain": [
              "('abc', str)"
            ]
          },
          "metadata": {},
          "execution_count": 93
        }
      ]
    },
    {
      "cell_type": "markdown",
      "source": [
        "Выделяется двойными или одинарными кавычками (открывающая и закрывающая должны быть одинаковы!):"
      ],
      "metadata": {
        "id": "fzNDbBtxWIpu"
      }
    },
    {
      "cell_type": "code",
      "source": [
        "'abc'"
      ],
      "metadata": {
        "colab": {
          "base_uri": "https://localhost:8080/",
          "height": 34
        },
        "id": "dYXjeidaWIOo",
        "outputId": "014f3d98-d634-4eae-a9ac-e5d24afc7e2a"
      },
      "execution_count": null,
      "outputs": [
        {
          "output_type": "execute_result",
          "data": {
            "text/plain": [
              "'abc'"
            ],
            "application/vnd.google.colaboratory.intrinsic+json": {
              "type": "string"
            }
          },
          "metadata": {},
          "execution_count": 56
        }
      ]
    },
    {
      "cell_type": "code",
      "source": [
        "'abc\""
      ],
      "metadata": {
        "colab": {
          "base_uri": "https://localhost:8080/",
          "height": 133
        },
        "id": "-AeA8_U8WLZl",
        "outputId": "058f97f7-b66e-4cc5-cff6-b07a7ddcabe6"
      },
      "execution_count": null,
      "outputs": [
        {
          "output_type": "error",
          "ename": "SyntaxError",
          "evalue": "ignored",
          "traceback": [
            "\u001b[0;36m  File \u001b[0;32m\"<ipython-input-63-2e69c44e7191>\"\u001b[0;36m, line \u001b[0;32m1\u001b[0m\n\u001b[0;31m    'abc\"\u001b[0m\n\u001b[0m         ^\u001b[0m\n\u001b[0;31mSyntaxError\u001b[0m\u001b[0;31m:\u001b[0m EOL while scanning string literal\n"
          ]
        }
      ]
    },
    {
      "cell_type": "markdown",
      "source": [
        "В Python также возможны многострочные строки:"
      ],
      "metadata": {
        "id": "5gtL4eHJV7Mc"
      }
    },
    {
      "cell_type": "code",
      "source": [
        "string = \"\"\"и \n",
        "я \n",
        "тоже\n",
        "строка\"\"\"\n",
        "print(string)"
      ],
      "metadata": {
        "colab": {
          "base_uri": "https://localhost:8080/",
          "height": 133
        },
        "id": "0ZbWqEXOV_2R",
        "outputId": "272e18a0-5e4c-4123-d260-28cda78512d1"
      },
      "execution_count": null,
      "outputs": [
        {
          "output_type": "error",
          "ename": "SyntaxError",
          "evalue": "ignored",
          "traceback": [
            "\u001b[0;36m  File \u001b[0;32m\"<ipython-input-60-4cd9630be257>\"\u001b[0;36m, line \u001b[0;32m1\u001b[0m\n\u001b[0;31m    string = \"и\u001b[0m\n\u001b[0m                ^\u001b[0m\n\u001b[0;31mSyntaxError\u001b[0m\u001b[0;31m:\u001b[0m EOL while scanning string literal\n"
          ]
        }
      ]
    },
    {
      "cell_type": "markdown",
      "source": [
        "Кроме того, в Python (как и во многих других ЯП) имеются комментарии - строки кода, которые игнорируются при запуске программы. Однострочные комменатарии начинаются с `#`:"
      ],
      "metadata": {
        "id": "j_1x2HohWRhW"
      }
    },
    {
      "cell_type": "code",
      "source": [
        "# Я однострочный комментарий"
      ],
      "metadata": {
        "id": "4vxTAlHEWmH-"
      },
      "execution_count": null,
      "outputs": []
    },
    {
      "cell_type": "code",
      "source": [
        "print('a')\n",
        "\"\"\"\n",
        "print('a')\n",
        "print('a')\n",
        "print('a')\n",
        "\"\"\"\n",
        "print('a')"
      ],
      "metadata": {
        "colab": {
          "base_uri": "https://localhost:8080/"
        },
        "id": "q0_WM97DxW3r",
        "outputId": "cded24f1-4282-492f-81f1-24c1cb84bc33"
      },
      "execution_count": null,
      "outputs": [
        {
          "output_type": "stream",
          "name": "stdout",
          "text": [
            "a\n",
            "a\n"
          ]
        }
      ]
    },
    {
      "cell_type": "markdown",
      "source": [
        "Строки можно складывать, строку можно домножать на целое число, можно проверять вхождение подстроки в строку:"
      ],
      "metadata": {
        "id": "MqI8MTWdW7BK"
      }
    },
    {
      "cell_type": "code",
      "source": [
        "s1 = \"very_big_string\"\n",
        "s2 = 'string'"
      ],
      "metadata": {
        "id": "4z0UnYB9W-2o"
      },
      "execution_count": null,
      "outputs": []
    },
    {
      "cell_type": "code",
      "source": [
        "s1 + s2"
      ],
      "metadata": {
        "colab": {
          "base_uri": "https://localhost:8080/",
          "height": 34
        },
        "id": "miCTj92iXFnL",
        "outputId": "368ea39a-c373-49b6-bdb8-a97fa6e75e1e"
      },
      "execution_count": null,
      "outputs": [
        {
          "output_type": "execute_result",
          "data": {
            "text/plain": [
              "'very_big_stringstring'"
            ],
            "application/vnd.google.colaboratory.intrinsic+json": {
              "type": "string"
            }
          },
          "metadata": {},
          "execution_count": 66
        }
      ]
    },
    {
      "cell_type": "code",
      "source": [
        "s2 * 4"
      ],
      "metadata": {
        "colab": {
          "base_uri": "https://localhost:8080/",
          "height": 34
        },
        "id": "J22ccffPXHUs",
        "outputId": "239ab621-1cc0-42cb-b6a3-2d7c3fa7927f"
      },
      "execution_count": null,
      "outputs": [
        {
          "output_type": "execute_result",
          "data": {
            "text/plain": [
              "'stringstringstringstring'"
            ],
            "application/vnd.google.colaboratory.intrinsic+json": {
              "type": "string"
            }
          },
          "metadata": {},
          "execution_count": 69
        }
      ]
    },
    {
      "cell_type": "markdown",
      "source": [
        "Несмотря на то, что по-умолчанию операции между разными типами данных запрещены, некоторые все-же возможны:"
      ],
      "metadata": {
        "id": "KXWRJhI_3Wxl"
      }
    },
    {
      "cell_type": "code",
      "source": [
        "'abc' * 4"
      ],
      "metadata": {
        "colab": {
          "base_uri": "https://localhost:8080/",
          "height": 34
        },
        "id": "469OsKtx3ZX9",
        "outputId": "9f838a31-3b7d-4b08-f9da-6f83054ac1b5"
      },
      "execution_count": null,
      "outputs": [
        {
          "output_type": "execute_result",
          "data": {
            "text/plain": [
              "'abcabcabcabc'"
            ],
            "application/vnd.google.colaboratory.intrinsic+json": {
              "type": "string"
            }
          },
          "metadata": {},
          "execution_count": 1
        }
      ]
    },
    {
      "cell_type": "markdown",
      "source": [
        "У строк в Python имеется огромное количество полезных методов (грубо, функций), которые вы найдете полезными в ходе работы. Подробнее мы остановимся на них позднее, а пока можете ознакомиться с ними в статье [по ссылке](https://pythonworld.ru/tipy-dannyx-v-python/stroki-funkcii-i-metody-strok.html)."
      ],
      "metadata": {
        "id": "mp8ig0t_XOws"
      }
    },
    {
      "cell_type": "markdown",
      "source": [
        "Сейчас же остановимся на одном из них - метод `split`. Он позволяет разбить строку по подстроке. Проще всего это понять на примере:"
      ],
      "metadata": {
        "id": "oYRtCn2gFS3y"
      }
    },
    {
      "cell_type": "code",
      "source": [
        "string = \"one two three two three four\"\n",
        "substring = \"two\"\n",
        "\n",
        "print(string.split(substring))"
      ],
      "metadata": {
        "colab": {
          "base_uri": "https://localhost:8080/"
        },
        "id": "78O4EHt6FdkQ",
        "outputId": "e471b69a-c25d-4ee2-b2b3-f16f739667ac"
      },
      "execution_count": null,
      "outputs": [
        {
          "output_type": "stream",
          "name": "stdout",
          "text": [
            "['one ', ' three ', ' three four']\n"
          ]
        }
      ]
    },
    {
      "cell_type": "code",
      "source": [
        "a = \"1 2 3\"\n",
        "a.split()"
      ],
      "metadata": {
        "colab": {
          "base_uri": "https://localhost:8080/"
        },
        "id": "wAn0NDR-yVNx",
        "outputId": "8b6100ec-b22f-4de8-d7f2-5c5ef496989d"
      },
      "execution_count": null,
      "outputs": [
        {
          "output_type": "execute_result",
          "data": {
            "text/plain": [
              "['1', '2', '3']"
            ]
          },
          "metadata": {},
          "execution_count": 71
        }
      ]
    },
    {
      "cell_type": "markdown",
      "source": [
        "**Замечание:** методы вызываются для переменных следующим образом - `variable.method(arguments)`."
      ],
      "metadata": {
        "id": "68mj2e0jFtId"
      }
    },
    {
      "cell_type": "markdown",
      "source": [
        "На выходе получаем список строк, которые были разделены между собой подстрокой `substring`."
      ],
      "metadata": {
        "id": "Wqq4H996F8lh"
      }
    },
    {
      "cell_type": "markdown",
      "source": [
        "К отдельным символам строки можно получить доступ по их индексу (порядковый номер). Как и во всех взрослых языках програмирования, Python использует 0-индексацию (самый первый элемент имеет индекс 0):"
      ],
      "metadata": {
        "id": "5W5_da0-IRuP"
      }
    },
    {
      "cell_type": "code",
      "source": [
        "string = \"hello world!\"\n",
        "print(string[0], string[1], string[5])"
      ],
      "metadata": {
        "colab": {
          "base_uri": "https://localhost:8080/"
        },
        "id": "zbjKEd7WIiZo",
        "outputId": "0d804277-ea28-441d-9d0e-c8973045bf60"
      },
      "execution_count": null,
      "outputs": [
        {
          "output_type": "stream",
          "name": "stdout",
          "text": [
            "h\n",
            "e\n",
            " \n"
          ]
        }
      ]
    },
    {
      "cell_type": "markdown",
      "source": [
        "Кроме того, Python поддерживает отрицательную индексацию, с помощью которой удобно брать элементы с конца строки:"
      ],
      "metadata": {
        "id": "Te3UbCmEI1Up"
      }
    },
    {
      "cell_type": "code",
      "source": [
        "print(string[-2])"
      ],
      "metadata": {
        "colab": {
          "base_uri": "https://localhost:8080/"
        },
        "id": "pRU071eKJq8N",
        "outputId": "1cccf418-7ec3-4712-832d-2997490a9917"
      },
      "execution_count": null,
      "outputs": [
        {
          "output_type": "stream",
          "name": "stdout",
          "text": [
            "d\n"
          ]
        }
      ]
    },
    {
      "cell_type": "markdown",
      "source": [
        "## NoneType"
      ],
      "metadata": {
        "id": "ZGiEswGhQeGL"
      }
    },
    {
      "cell_type": "markdown",
      "source": [
        "`NoneType` - специальный тип данных для объекта `None`:"
      ],
      "metadata": {
        "id": "wT1hHabmLBYg"
      }
    },
    {
      "cell_type": "code",
      "source": [
        "None, type(None)"
      ],
      "metadata": {
        "colab": {
          "base_uri": "https://localhost:8080/"
        },
        "id": "476Z_U2FLLX7",
        "outputId": "71b42acf-d51c-44b3-c9dd-00eb418282ef"
      },
      "execution_count": null,
      "outputs": [
        {
          "output_type": "execute_result",
          "data": {
            "text/plain": [
              "(None, NoneType)"
            ]
          },
          "metadata": {},
          "execution_count": 42
        }
      ]
    },
    {
      "cell_type": "markdown",
      "source": [
        "### Что такое `None`?"
      ],
      "metadata": {
        "id": "7E0bx3lwRZYE"
      }
    },
    {
      "cell_type": "markdown",
      "source": [
        "`None` - специальное значение переменной, означающее \"ничего\" или \"отсутствие значения\". Является аналогом `null` из других языков программирования.\n",
        "\n",
        "Существует много случаев, когда следует использовать None.\n",
        "\n",
        "Часто вы хотите выполнить действие, которое может работать либо завершиться неудачно. Используя `None`, вы можете проверить успех действия.\n",
        "\n",
        "**Пример:** в своей программе вы хотите подключиться к базе данных с помощью библиотеки и хотите проверить, создалась ли ваша база данных, вы можете осуществить эту проверку, сравнив переменную базы данных с None. Примерно так:\n",
        "\n",
        "```\n",
        "database = MyDatabase(db_host, db_user, db_password, db_database)\n",
        "\n",
        "if database is None:\n",
        "    print('Пусто')\n",
        "```"
      ],
      "metadata": {
        "id": "bQI8iZ7oRmap"
      }
    },
    {
      "cell_type": "markdown",
      "source": [
        "## Приведение базовых типов"
      ],
      "metadata": {
        "id": "DzNfL3WN5fG5"
      }
    },
    {
      "cell_type": "markdown",
      "source": [
        "Базовые типы данных часто можно преобразовывать из одного в другой следующим образом:"
      ],
      "metadata": {
        "id": "N2bmfcZK5jEP"
      }
    },
    {
      "cell_type": "code",
      "source": [
        "int('123')"
      ],
      "metadata": {
        "colab": {
          "base_uri": "https://localhost:8080/"
        },
        "id": "y77NBqp55ooB",
        "outputId": "985c8832-e9ab-46a7-c0db-fc226036609f"
      },
      "execution_count": null,
      "outputs": [
        {
          "output_type": "execute_result",
          "data": {
            "text/plain": [
              "123"
            ]
          },
          "metadata": {},
          "execution_count": 14
        }
      ]
    },
    {
      "cell_type": "code",
      "source": [
        "str(345)"
      ],
      "metadata": {
        "colab": {
          "base_uri": "https://localhost:8080/",
          "height": 34
        },
        "id": "8N8qX3Lm5uz3",
        "outputId": "176db989-ba09-4058-e6f6-c64f1a98f555"
      },
      "execution_count": null,
      "outputs": [
        {
          "output_type": "execute_result",
          "data": {
            "text/plain": [
              "'345'"
            ],
            "application/vnd.google.colaboratory.intrinsic+json": {
              "type": "string"
            }
          },
          "metadata": {},
          "execution_count": 15
        }
      ]
    },
    {
      "cell_type": "code",
      "source": [
        "float(5)"
      ],
      "metadata": {
        "colab": {
          "base_uri": "https://localhost:8080/"
        },
        "id": "bFBKKdcb7CM4",
        "outputId": "99d53db5-2832-4916-edbb-04d1c22db03e"
      },
      "execution_count": null,
      "outputs": [
        {
          "output_type": "execute_result",
          "data": {
            "text/plain": [
              "5.0"
            ]
          },
          "metadata": {},
          "execution_count": 12
        }
      ]
    },
    {
      "cell_type": "code",
      "source": [
        "int(234.5)"
      ],
      "metadata": {
        "colab": {
          "base_uri": "https://localhost:8080/"
        },
        "id": "PU5cD0tm7Dh3",
        "outputId": "ded1e56c-1a55-49af-98be-0b0d9def5074"
      },
      "execution_count": null,
      "outputs": [
        {
          "output_type": "execute_result",
          "data": {
            "text/plain": [
              "234"
            ]
          },
          "metadata": {},
          "execution_count": 77
        }
      ]
    },
    {
      "cell_type": "markdown",
      "source": [
        "**Замечание:** при преобразовании переменной из `float` в `int` дробная часть отбрасывается:"
      ],
      "metadata": {
        "id": "6sxqOLyrDNz1"
      }
    },
    {
      "cell_type": "code",
      "source": [
        "int(3.14)"
      ],
      "metadata": {
        "colab": {
          "base_uri": "https://localhost:8080/"
        },
        "id": "hsDTyrL5DUof",
        "outputId": "1de3ed8a-4ce6-4926-a9b4-3a6253840685"
      },
      "execution_count": null,
      "outputs": [
        {
          "output_type": "execute_result",
          "data": {
            "text/plain": [
              "3"
            ]
          },
          "metadata": {},
          "execution_count": 78
        }
      ]
    },
    {
      "cell_type": "code",
      "source": [
        "int(-3.14)"
      ],
      "metadata": {
        "colab": {
          "base_uri": "https://localhost:8080/"
        },
        "id": "rHPWUjrcDZma",
        "outputId": "964c7dd0-58af-4b8c-c9d7-598ed74a511a"
      },
      "execution_count": null,
      "outputs": [
        {
          "output_type": "execute_result",
          "data": {
            "text/plain": [
              "-3"
            ]
          },
          "metadata": {},
          "execution_count": 79
        }
      ]
    },
    {
      "cell_type": "code",
      "source": [
        "int(2.73)"
      ],
      "metadata": {
        "colab": {
          "base_uri": "https://localhost:8080/"
        },
        "id": "H345CqvQDXZ8",
        "outputId": "45dcb0de-7050-4cab-c6b0-8611d2b16598"
      },
      "execution_count": null,
      "outputs": [
        {
          "output_type": "execute_result",
          "data": {
            "text/plain": [
              "2"
            ]
          },
          "metadata": {},
          "execution_count": 80
        }
      ]
    },
    {
      "cell_type": "markdown",
      "source": [
        "Но преобразование не всегда возможно:"
      ],
      "metadata": {
        "id": "H9RyTfaL8M_y"
      }
    },
    {
      "cell_type": "code",
      "source": [
        "float('12.a')"
      ],
      "metadata": {
        "colab": {
          "base_uri": "https://localhost:8080/",
          "height": 168
        },
        "id": "K8gpN4pT7FSk",
        "outputId": "9f696b6c-fe8c-40e1-cda3-50c4762f21ad"
      },
      "execution_count": null,
      "outputs": [
        {
          "output_type": "error",
          "ename": "ValueError",
          "evalue": "ignored",
          "traceback": [
            "\u001b[0;31m---------------------------------------------------------------------------\u001b[0m",
            "\u001b[0;31mValueError\u001b[0m                                Traceback (most recent call last)",
            "\u001b[0;32m<ipython-input-82-9e100896e350>\u001b[0m in \u001b[0;36m<module>\u001b[0;34m\u001b[0m\n\u001b[0;32m----> 1\u001b[0;31m \u001b[0mfloat\u001b[0m\u001b[0;34m(\u001b[0m\u001b[0;34m'12.a'\u001b[0m\u001b[0;34m)\u001b[0m\u001b[0;34m\u001b[0m\u001b[0;34m\u001b[0m\u001b[0m\n\u001b[0m",
            "\u001b[0;31mValueError\u001b[0m: could not convert string to float: '12.a'"
          ]
        }
      ]
    },
    {
      "cell_type": "markdown",
      "source": [
        "### Приведение к bool"
      ],
      "metadata": {
        "id": "E9Kacduc8xw2"
      }
    },
    {
      "cell_type": "markdown",
      "source": [
        "Для `int` и `float`: `0` и `0.0` переводятся в `False`, все остальное - в `True`:"
      ],
      "metadata": {
        "id": "7E-q1jYH9AMl"
      }
    },
    {
      "cell_type": "code",
      "source": [
        "bool(0), bool(0.0)"
      ],
      "metadata": {
        "colab": {
          "base_uri": "https://localhost:8080/"
        },
        "id": "9vUlE2QM9DkW",
        "outputId": "6a6d942e-0700-4182-b418-3636948e2db2"
      },
      "execution_count": null,
      "outputs": [
        {
          "output_type": "execute_result",
          "data": {
            "text/plain": [
              "(False, False)"
            ]
          },
          "metadata": {},
          "execution_count": 20
        }
      ]
    },
    {
      "cell_type": "code",
      "source": [
        "bool(1), bool(24.1)"
      ],
      "metadata": {
        "colab": {
          "base_uri": "https://localhost:8080/"
        },
        "id": "ewRyEAyB9Fbf",
        "outputId": "310d5233-6e48-4951-b8e1-6d94119086fd"
      },
      "execution_count": null,
      "outputs": [
        {
          "output_type": "execute_result",
          "data": {
            "text/plain": [
              "(True, True)"
            ]
          },
          "metadata": {},
          "execution_count": 21
        }
      ]
    },
    {
      "cell_type": "code",
      "source": [
        "bool(-2), bool(-12.3)"
      ],
      "metadata": {
        "colab": {
          "base_uri": "https://localhost:8080/"
        },
        "id": "cl5aT5B39Gsx",
        "outputId": "43a50ce8-e466-4172-e280-afdb731816fc"
      },
      "execution_count": null,
      "outputs": [
        {
          "output_type": "execute_result",
          "data": {
            "text/plain": [
              "(True, True)"
            ]
          },
          "metadata": {},
          "execution_count": 22
        }
      ]
    },
    {
      "cell_type": "markdown",
      "source": [
        "Для `str`: пустые строки - в `False`, остальное - в `True`:"
      ],
      "metadata": {
        "id": "uxPh8Zt99LIr"
      }
    },
    {
      "cell_type": "code",
      "source": [
        "bool(''), bool('')"
      ],
      "metadata": {
        "colab": {
          "base_uri": "https://localhost:8080/"
        },
        "id": "TD-43Rhh9MF2",
        "outputId": "3a24a861-93f2-4af0-8e10-739c9903a7cb"
      },
      "execution_count": null,
      "outputs": [
        {
          "output_type": "execute_result",
          "data": {
            "text/plain": [
              "(False, False)"
            ]
          },
          "metadata": {},
          "execution_count": 85
        }
      ]
    },
    {
      "cell_type": "code",
      "source": [
        "bool(None)"
      ],
      "metadata": {
        "colab": {
          "base_uri": "https://localhost:8080/"
        },
        "id": "7KSVHDDJ1F-f",
        "outputId": "9372001f-394b-4995-8d2e-2542d5fbc483"
      },
      "execution_count": null,
      "outputs": [
        {
          "output_type": "execute_result",
          "data": {
            "text/plain": [
              "False"
            ]
          },
          "metadata": {},
          "execution_count": 83
        }
      ]
    },
    {
      "cell_type": "code",
      "source": [
        "bool(1+0j)"
      ],
      "metadata": {
        "colab": {
          "base_uri": "https://localhost:8080/"
        },
        "id": "jIw0OVzZ1a2G",
        "outputId": "58da67df-d67f-4c9e-febd-550b7c27c2b9"
      },
      "execution_count": null,
      "outputs": [
        {
          "output_type": "execute_result",
          "data": {
            "text/plain": [
              "True"
            ]
          },
          "metadata": {},
          "execution_count": 86
        }
      ]
    },
    {
      "cell_type": "code",
      "source": [
        "bool(0+1j)"
      ],
      "metadata": {
        "colab": {
          "base_uri": "https://localhost:8080/"
        },
        "id": "1GQHB-3i1dbD",
        "outputId": "bb605857-36f6-4aed-8a14-4285f606e076"
      },
      "execution_count": null,
      "outputs": [
        {
          "output_type": "execute_result",
          "data": {
            "text/plain": [
              "True"
            ]
          },
          "metadata": {},
          "execution_count": 87
        }
      ]
    },
    {
      "cell_type": "code",
      "source": [
        "bool(0+0j)"
      ],
      "metadata": {
        "colab": {
          "base_uri": "https://localhost:8080/"
        },
        "id": "I9K6I52u1gbs",
        "outputId": "61030dd6-8ae1-4f51-e9d3-60a28d5fc278"
      },
      "execution_count": null,
      "outputs": [
        {
          "output_type": "execute_result",
          "data": {
            "text/plain": [
              "False"
            ]
          },
          "metadata": {},
          "execution_count": 88
        }
      ]
    },
    {
      "cell_type": "markdown",
      "metadata": {
        "pycharm": {
          "name": "#%% md\n"
        },
        "id": "tcJAOa8tquBO"
      },
      "source": [
        "# Контейнеры"
      ]
    },
    {
      "cell_type": "markdown",
      "source": [
        "**Контейнеры** - типы данных, экземпляры которых содержат в себе один или несколько других элементов.\n",
        "\n",
        "- `list` - список\n",
        "- `tuple` - кортеж\n",
        "- `dict` - словарь\n",
        "- `set` - множество\n",
        "\n",
        "Сейчас лишь познакомимся с ними, а подробнее рассмотрим их на следующем занятии."
      ],
      "metadata": {
        "id": "83KP5J2zZn5V"
      }
    },
    {
      "cell_type": "markdown",
      "metadata": {
        "pycharm": {
          "name": "#%% md\n"
        },
        "id": "8PlE185BquBO"
      },
      "source": [
        "## list"
      ]
    },
    {
      "cell_type": "markdown",
      "source": [
        "**Список** аналогичен `vector` из C++, но может содержать элементы разных типов:"
      ],
      "metadata": {
        "id": "y8IPHTmuaEUF"
      }
    },
    {
      "cell_type": "code",
      "execution_count": null,
      "metadata": {
        "pycharm": {
          "name": "#%%\n"
        },
        "colab": {
          "base_uri": "https://localhost:8080/"
        },
        "id": "qgHqoI3AquBO",
        "outputId": "828cc693-4f3b-4a8e-c7c7-f93bfb580c83"
      },
      "outputs": [
        {
          "output_type": "execute_result",
          "data": {
            "text/plain": [
              "[1, 2.0, 'string!', None, True]"
            ]
          },
          "metadata": {},
          "execution_count": 91
        }
      ],
      "source": [
        "l = [1, 2.0, 'string!', None, True]  # или list(...)\n",
        "l"
      ]
    },
    {
      "cell_type": "markdown",
      "source": [
        "Доступ к элементам по индексу (0-индексация):"
      ],
      "metadata": {
        "id": "coFlITwkaMJo"
      }
    },
    {
      "cell_type": "code",
      "execution_count": null,
      "metadata": {
        "pycharm": {
          "name": "#%%\n"
        },
        "colab": {
          "base_uri": "https://localhost:8080/"
        },
        "id": "dJKDF28hquBO",
        "outputId": "a4fd0b81-a4b0-483d-b34c-af377c802fcc"
      },
      "outputs": [
        {
          "output_type": "execute_result",
          "data": {
            "text/plain": [
              "(1, 'string!')"
            ]
          },
          "metadata": {},
          "execution_count": 92
        }
      ],
      "source": [
        "l[0], l[2]"
      ]
    },
    {
      "cell_type": "markdown",
      "source": [
        "Поддерживает отрицательные индексы, позволяющие брать элементы с конца списка:"
      ],
      "metadata": {
        "id": "rxh3rpt5aPVL"
      }
    },
    {
      "cell_type": "code",
      "source": [
        "l[-1], l[-3]"
      ],
      "metadata": {
        "colab": {
          "base_uri": "https://localhost:8080/"
        },
        "id": "u4HsR5PkaqQy",
        "outputId": "36b4df58-071b-45b6-be58-0f2e94937b1c"
      },
      "execution_count": null,
      "outputs": [
        {
          "output_type": "execute_result",
          "data": {
            "text/plain": [
              "(True, 'string!')"
            ]
          },
          "metadata": {},
          "execution_count": 93
        }
      ]
    },
    {
      "cell_type": "markdown",
      "source": [
        "Можно добавлять, удалять и изменять элемента:"
      ],
      "metadata": {
        "id": "PCKNefrTaVgj"
      }
    },
    {
      "cell_type": "code",
      "execution_count": null,
      "metadata": {
        "pycharm": {
          "name": "#%%\n"
        },
        "colab": {
          "base_uri": "https://localhost:8080/"
        },
        "id": "oaa2ElzcquBO",
        "outputId": "1f1ec9fd-53e0-418f-b2df-e735eb4dadef"
      },
      "outputs": [
        {
          "output_type": "execute_result",
          "data": {
            "text/plain": [
              "[1, 2.0, 'string!', None, True, 'new_element']"
            ]
          },
          "metadata": {},
          "execution_count": 94
        }
      ],
      "source": [
        "l.append('new_element')\n",
        "l"
      ]
    },
    {
      "cell_type": "code",
      "execution_count": null,
      "metadata": {
        "pycharm": {
          "name": "#%%\n"
        },
        "colab": {
          "base_uri": "https://localhost:8080/"
        },
        "id": "kawQJ1nLquBP",
        "outputId": "991e44bf-e235-43d8-adcd-a82c7b921bbb"
      },
      "outputs": [
        {
          "output_type": "execute_result",
          "data": {
            "text/plain": [
              "[1, 'string!', None, True, 'new_element']"
            ]
          },
          "metadata": {},
          "execution_count": 95
        }
      ],
      "source": [
        "l.remove(2.0)\n",
        "l"
      ]
    },
    {
      "cell_type": "code",
      "execution_count": null,
      "metadata": {
        "pycharm": {
          "name": "#%%\n"
        },
        "colab": {
          "base_uri": "https://localhost:8080/"
        },
        "id": "YbsOOQXIquBO",
        "outputId": "ec5db204-6770-46db-8c58-8b820f62419f"
      },
      "outputs": [
        {
          "output_type": "execute_result",
          "data": {
            "text/plain": [
              "[122, 'string!', None, True, 'new_element']"
            ]
          },
          "metadata": {},
          "execution_count": 110
        }
      ],
      "source": [
        "l[0] = 122\n",
        "l"
      ]
    },
    {
      "cell_type": "code",
      "source": [
        "l1 = [0, 1, 2, 1, 3, 3]\n",
        "print(l1)\n",
        "l1.remove(1)\n",
        "print(l1)"
      ],
      "metadata": {
        "colab": {
          "base_uri": "https://localhost:8080/"
        },
        "id": "rBr0z9Gz4JaA",
        "outputId": "7faaf53f-f7f5-4404-ad5a-f69b09cb05ff"
      },
      "execution_count": null,
      "outputs": [
        {
          "output_type": "stream",
          "name": "stdout",
          "text": [
            "[0, 1, 2, 1, 3, 3]\n",
            "[0, 2, 1, 3, 3]\n"
          ]
        }
      ]
    },
    {
      "cell_type": "code",
      "source": [
        "help(l1.remove)"
      ],
      "metadata": {
        "colab": {
          "base_uri": "https://localhost:8080/"
        },
        "id": "WAHOGAN14azG",
        "outputId": "11430c44-67fe-4668-edb7-3f42e9c1aba5"
      },
      "execution_count": null,
      "outputs": [
        {
          "output_type": "stream",
          "name": "stdout",
          "text": [
            "Help on built-in function remove:\n",
            "\n",
            "remove(value, /) method of builtins.list instance\n",
            "    Remove first occurrence of value.\n",
            "    \n",
            "    Raises ValueError if the value is not present.\n",
            "\n"
          ]
        }
      ]
    },
    {
      "cell_type": "code",
      "source": [
        "l1.remove(1)"
      ],
      "metadata": {
        "id": "HJ7VDX2R4lIN"
      },
      "execution_count": null,
      "outputs": []
    },
    {
      "cell_type": "code",
      "source": [
        "l1.remove(1)"
      ],
      "metadata": {
        "colab": {
          "base_uri": "https://localhost:8080/",
          "height": 168
        },
        "id": "ZM3fl5Co4nPj",
        "outputId": "fd649a97-63b5-4bd5-f7a0-124298bf7775"
      },
      "execution_count": null,
      "outputs": [
        {
          "output_type": "error",
          "ename": "ValueError",
          "evalue": "ignored",
          "traceback": [
            "\u001b[0;31m---------------------------------------------------------------------------\u001b[0m",
            "\u001b[0;31mValueError\u001b[0m                                Traceback (most recent call last)",
            "\u001b[0;32m<ipython-input-102-284e576a3b6e>\u001b[0m in \u001b[0;36m<module>\u001b[0;34m\u001b[0m\n\u001b[0;32m----> 1\u001b[0;31m \u001b[0ml1\u001b[0m\u001b[0;34m.\u001b[0m\u001b[0mremove\u001b[0m\u001b[0;34m(\u001b[0m\u001b[0;36m1\u001b[0m\u001b[0;34m)\u001b[0m\u001b[0;34m\u001b[0m\u001b[0;34m\u001b[0m\u001b[0m\n\u001b[0m",
            "\u001b[0;31mValueError\u001b[0m: list.remove(x): x not in list"
          ]
        }
      ]
    },
    {
      "cell_type": "markdown",
      "source": [
        "Кроме того, списки можно соединять между собой с помощью операции сложения:"
      ],
      "metadata": {
        "id": "klnguX4C2zLs"
      }
    },
    {
      "cell_type": "code",
      "source": [
        "[1] + [2, 3]"
      ],
      "metadata": {
        "id": "wRkEm86s249z",
        "colab": {
          "base_uri": "https://localhost:8080/"
        },
        "outputId": "eb1b1e5a-0741-4060-f266-064e37684d97"
      },
      "execution_count": null,
      "outputs": [
        {
          "output_type": "execute_result",
          "data": {
            "text/plain": [
              "[1, 2, 3]"
            ]
          },
          "metadata": {},
          "execution_count": 96
        }
      ]
    },
    {
      "cell_type": "markdown",
      "source": [
        "Как и строки, списки можно домножать на целое число:"
      ],
      "metadata": {
        "id": "GiEwhxWV2-N7"
      }
    },
    {
      "cell_type": "code",
      "source": [
        "[2, 3, 4] * 3"
      ],
      "metadata": {
        "colab": {
          "base_uri": "https://localhost:8080/"
        },
        "id": "5mahyqZV4B0V",
        "outputId": "c2884052-8dd3-41b1-a804-f9d4bc633c8e"
      },
      "execution_count": null,
      "outputs": [
        {
          "output_type": "execute_result",
          "data": {
            "text/plain": [
              "[2, 3, 4, 2, 3, 4, 2, 3, 4]"
            ]
          },
          "metadata": {},
          "execution_count": 97
        }
      ]
    },
    {
      "cell_type": "markdown",
      "metadata": {
        "pycharm": {
          "name": "#%% md\n"
        },
        "id": "nDfq59QJquBP"
      },
      "source": [
        "## tuple"
      ]
    },
    {
      "cell_type": "markdown",
      "source": [
        "**Кортеж** так же является массивом элементов разных типов и во многом идентичен списку:"
      ],
      "metadata": {
        "id": "vE0MdhmHa1j2"
      }
    },
    {
      "cell_type": "code",
      "execution_count": null,
      "metadata": {
        "pycharm": {
          "name": "#%%\n"
        },
        "colab": {
          "base_uri": "https://localhost:8080/"
        },
        "id": "_OLH6LdWquBP",
        "outputId": "c492b919-2057-4e2e-bded-23937e1c5040"
      },
      "outputs": [
        {
          "output_type": "execute_result",
          "data": {
            "text/plain": [
              "(1, 2.0, 'string!', None, True)"
            ]
          },
          "metadata": {},
          "execution_count": 103
        }
      ],
      "source": [
        "t = (1, 2.0, 'string!', None, True)  # или tuple(...)\n",
        "t"
      ]
    },
    {
      "cell_type": "markdown",
      "source": [
        "Доступ к элементам кортежа так же осуществляется по индексу, так же поддерживаются отрицательные индексы:"
      ],
      "metadata": {
        "id": "NtE2FN5abzoD"
      }
    },
    {
      "cell_type": "code",
      "execution_count": null,
      "metadata": {
        "pycharm": {
          "name": "#%%\n"
        },
        "colab": {
          "base_uri": "https://localhost:8080/"
        },
        "id": "Y4vuptCRquBP",
        "outputId": "23255e0c-1883-4cdd-d51c-769743405219"
      },
      "outputs": [
        {
          "output_type": "execute_result",
          "data": {
            "text/plain": [
              "(1, True)"
            ]
          },
          "metadata": {},
          "execution_count": 104
        }
      ],
      "source": [
        "t[0], t[-1]"
      ]
    },
    {
      "cell_type": "markdown",
      "source": [
        "Кортежи так же можно складывать между собой и домножать на число:"
      ],
      "metadata": {
        "id": "euYTMu6y4NCo"
      }
    },
    {
      "cell_type": "code",
      "source": [
        "t + (1, 2, 3)"
      ],
      "metadata": {
        "colab": {
          "base_uri": "https://localhost:8080/"
        },
        "id": "HRtmKGF44HfR",
        "outputId": "9093859d-03eb-44bf-8632-b807bd7becd4"
      },
      "execution_count": null,
      "outputs": [
        {
          "output_type": "execute_result",
          "data": {
            "text/plain": [
              "(1, 2.0, 'string!', None, True, 1, 2, 3)"
            ]
          },
          "metadata": {},
          "execution_count": 105
        }
      ]
    },
    {
      "cell_type": "code",
      "source": [
        "2 * t"
      ],
      "metadata": {
        "colab": {
          "base_uri": "https://localhost:8080/"
        },
        "id": "fK4NQ2XI4Rlu",
        "outputId": "6028b39b-72a0-45b4-86f3-0f32e96afc18"
      },
      "execution_count": null,
      "outputs": [
        {
          "output_type": "execute_result",
          "data": {
            "text/plain": [
              "(1, 2.0, 'string!', None, True, 1, 2.0, 'string!', None, True)"
            ]
          },
          "metadata": {},
          "execution_count": 7
        }
      ]
    },
    {
      "cell_type": "markdown",
      "source": [
        "**Основное отличие** - кортеж в отличие от списка является **неизменяемым**, т.е. у него отсутствуют операции добавления, удаления и изменения элементов:\n"
      ],
      "metadata": {
        "id": "6nBTe0NTbiwT"
      }
    },
    {
      "cell_type": "code",
      "execution_count": null,
      "metadata": {
        "pycharm": {
          "name": "#%%\n"
        },
        "colab": {
          "base_uri": "https://localhost:8080/",
          "height": 186
        },
        "id": "mbFs0caRquBP",
        "outputId": "152a818d-d5e9-40c3-dd12-1765d145a4b7"
      },
      "outputs": [
        {
          "output_type": "error",
          "ename": "TypeError",
          "evalue": "ignored",
          "traceback": [
            "\u001b[0;31m---------------------------------------------------------------------------\u001b[0m",
            "\u001b[0;31mTypeError\u001b[0m                                 Traceback (most recent call last)",
            "\u001b[0;32m<ipython-input-106-fb541ec74118>\u001b[0m in \u001b[0;36m<module>\u001b[0;34m\u001b[0m\n\u001b[0;32m----> 1\u001b[0;31m \u001b[0mt\u001b[0m\u001b[0;34m[\u001b[0m\u001b[0;36m0\u001b[0m\u001b[0;34m]\u001b[0m \u001b[0;34m=\u001b[0m \u001b[0;36m122\u001b[0m\u001b[0;34m\u001b[0m\u001b[0;34m\u001b[0m\u001b[0m\n\u001b[0m\u001b[1;32m      2\u001b[0m \u001b[0mt\u001b[0m\u001b[0;34m\u001b[0m\u001b[0;34m\u001b[0m\u001b[0m\n",
            "\u001b[0;31mTypeError\u001b[0m: 'tuple' object does not support item assignment"
          ]
        }
      ],
      "source": [
        "t[0] = 122\n",
        "t"
      ]
    },
    {
      "cell_type": "code",
      "source": [
        "t.append(1)"
      ],
      "metadata": {
        "colab": {
          "base_uri": "https://localhost:8080/",
          "height": 168
        },
        "id": "jrDoRvwScCSG",
        "outputId": "c17f0668-e387-428b-baa1-5e4f527adaf8"
      },
      "execution_count": null,
      "outputs": [
        {
          "output_type": "error",
          "ename": "AttributeError",
          "evalue": "ignored",
          "traceback": [
            "\u001b[0;31m---------------------------------------------------------------------------\u001b[0m",
            "\u001b[0;31mAttributeError\u001b[0m                            Traceback (most recent call last)",
            "\u001b[0;32m<ipython-input-107-c860940312ad>\u001b[0m in \u001b[0;36m<module>\u001b[0;34m\u001b[0m\n\u001b[0;32m----> 1\u001b[0;31m \u001b[0mt\u001b[0m\u001b[0;34m.\u001b[0m\u001b[0mappend\u001b[0m\u001b[0;34m(\u001b[0m\u001b[0;36m1\u001b[0m\u001b[0;34m)\u001b[0m\u001b[0;34m\u001b[0m\u001b[0;34m\u001b[0m\u001b[0m\n\u001b[0m",
            "\u001b[0;31mAttributeError\u001b[0m: 'tuple' object has no attribute 'append'"
          ]
        }
      ]
    },
    {
      "cell_type": "code",
      "source": [
        "t.remove(1)"
      ],
      "metadata": {
        "colab": {
          "base_uri": "https://localhost:8080/",
          "height": 168
        },
        "id": "rZiNeV3wcEkZ",
        "outputId": "2f12ce04-03e6-48a1-e02d-f102b6f03f07"
      },
      "execution_count": null,
      "outputs": [
        {
          "output_type": "error",
          "ename": "AttributeError",
          "evalue": "ignored",
          "traceback": [
            "\u001b[0;31m---------------------------------------------------------------------------\u001b[0m",
            "\u001b[0;31mAttributeError\u001b[0m                            Traceback (most recent call last)",
            "\u001b[0;32m<ipython-input-108-9ef1b67eb073>\u001b[0m in \u001b[0;36m<module>\u001b[0;34m\u001b[0m\n\u001b[0;32m----> 1\u001b[0;31m \u001b[0mt\u001b[0m\u001b[0;34m.\u001b[0m\u001b[0mremove\u001b[0m\u001b[0;34m(\u001b[0m\u001b[0;36m1\u001b[0m\u001b[0;34m)\u001b[0m\u001b[0;34m\u001b[0m\u001b[0;34m\u001b[0m\u001b[0m\n\u001b[0m",
            "\u001b[0;31mAttributeError\u001b[0m: 'tuple' object has no attribute 'remove'"
          ]
        }
      ]
    },
    {
      "cell_type": "markdown",
      "metadata": {
        "pycharm": {
          "name": "#%% md\n"
        },
        "id": "tB4qnjJRquBP"
      },
      "source": [
        "Будьте осторожны при создании кортежа из одного элемента:"
      ]
    },
    {
      "cell_type": "code",
      "execution_count": null,
      "metadata": {
        "pycharm": {
          "name": "#%%\n"
        },
        "id": "41HMWLeQquBQ",
        "outputId": "b4aa1b78-43b6-4b5f-ce6c-3b224d4aaa0e",
        "colab": {
          "base_uri": "https://localhost:8080/"
        }
      },
      "outputs": [
        {
          "output_type": "stream",
          "name": "stdout",
          "text": [
            "1 <class 'int'>\n",
            "(1,) <class 'tuple'>\n"
          ]
        }
      ],
      "source": [
        "tup = (1)\n",
        "print(tup, type(tup))\n",
        "\n",
        "tup = (1, )\n",
        "print(tup, type(tup))"
      ]
    },
    {
      "cell_type": "code",
      "source": [
        "t1 = (1,2,[3])\n",
        "print(t1, type(t1))\n",
        "t1[2].append(4)\n",
        "print(t1)"
      ],
      "metadata": {
        "colab": {
          "base_uri": "https://localhost:8080/"
        },
        "id": "aAO1IzM66FCR",
        "outputId": "97a841fa-5956-43a4-90bf-a80f6019ea9a"
      },
      "execution_count": null,
      "outputs": [
        {
          "output_type": "stream",
          "name": "stdout",
          "text": [
            "(1, 2, [3]) <class 'tuple'>\n",
            "(1, 2, [3, 4])\n"
          ]
        }
      ]
    },
    {
      "cell_type": "markdown",
      "metadata": {
        "pycharm": {
          "name": "#%% md\n"
        },
        "id": "jC-7IMamquBQ"
      },
      "source": [
        "**Вопрос** - зачем нужен `tuple`, если есть более удобный в использовании `list`?"
      ]
    },
    {
      "cell_type": "markdown",
      "source": [
        "### Spoiler"
      ],
      "metadata": {
        "id": "4K_dUhcIcmqN"
      }
    },
    {
      "cell_type": "markdown",
      "metadata": {
        "pycharm": {
          "name": "#%% md\n"
        },
        "id": "4mNNoIonquBQ"
      },
      "source": [
        "**Преимущества кортежа:**\n",
        "1. **Кортежи работают быстрее списков.** Если нужен константный массив, то лучше использовать кортежи.\n",
        "2. **Защита данных от записи.** Кортежи позволяют явно защитить данные от изменений.\n",
        "3. **Могут быть использованы как ключи для словарей.** Некоторые кортежи являются хэшируемыми, и поэтому могут использоваться в качестве ключей для словарей."
      ]
    },
    {
      "cell_type": "markdown",
      "metadata": {
        "pycharm": {
          "name": "#%% md\n"
        },
        "id": "PXkdyjjmquBQ"
      },
      "source": [
        "## dict"
      ]
    },
    {
      "cell_type": "markdown",
      "source": [
        "**Словарь** - key-value хранилище (хранит пары \"ключ-значение\"), позволяет получать доступ к объектам не по целочисленному индексу, а по объекту-ключу. В качестве ключа может использоваться любой **хэшируемый** объект.\n",
        "\n",
        "Аналогичен `map` из C++, но может работать с несколькими типами данных в рамках одного хранилища."
      ],
      "metadata": {
        "id": "UBuwavAkdOkP"
      }
    },
    {
      "cell_type": "code",
      "execution_count": null,
      "metadata": {
        "pycharm": {
          "name": "#%%\n"
        },
        "colab": {
          "base_uri": "https://localhost:8080/"
        },
        "id": "kEBuaapLquBQ",
        "outputId": "ea2dba69-1e36-4729-f3dc-60c4b13df9f5"
      },
      "outputs": [
        {
          "output_type": "execute_result",
          "data": {
            "text/plain": [
              "{11: 'data', 2.3: 'more_data', True: 42}"
            ]
          },
          "metadata": {},
          "execution_count": 117
        }
      ],
      "source": [
        "d = {11: \"data\", 2.3: \"more_data\", True: 42}  # или dict(...)\n",
        "d"
      ]
    },
    {
      "cell_type": "markdown",
      "metadata": {
        "pycharm": {
          "name": "#%% md\n"
        },
        "id": "76VApjlAquBQ"
      },
      "source": [
        "Получение данных происходит либо с помощью $[$key$]$, либо с помощью метода `get()`:"
      ]
    },
    {
      "cell_type": "code",
      "execution_count": null,
      "metadata": {
        "pycharm": {
          "name": "#%%\n"
        },
        "colab": {
          "base_uri": "https://localhost:8080/"
        },
        "id": "GWM5G5bxquBQ",
        "outputId": "f1f8b242-955a-41b3-e641-c0ca2f9a740b"
      },
      "outputs": [
        {
          "output_type": "execute_result",
          "data": {
            "text/plain": [
              "('data', 'more_data')"
            ]
          },
          "metadata": {},
          "execution_count": 118
        }
      ],
      "source": [
        "d[11], d.get(2.3)"
      ]
    },
    {
      "cell_type": "markdown",
      "metadata": {
        "pycharm": {
          "name": "#%% md\n"
        },
        "id": "XA9vw5SEquBQ"
      },
      "source": [
        "Если в словаре нет запрашиваемого ключа, то первым способом получим ошибку, а вторым - `None`:"
      ]
    },
    {
      "cell_type": "code",
      "execution_count": null,
      "metadata": {
        "pycharm": {
          "name": "#%%\n"
        },
        "id": "CfQiN8fIquBR"
      },
      "outputs": [],
      "source": [
        "d.get(2)"
      ]
    },
    {
      "cell_type": "code",
      "source": [
        "d[2]"
      ],
      "metadata": {
        "colab": {
          "base_uri": "https://localhost:8080/",
          "height": 168
        },
        "id": "95JfaOk5ekA6",
        "outputId": "bce4ea8f-7241-48d0-e84c-3cd41c465061"
      },
      "execution_count": null,
      "outputs": [
        {
          "output_type": "error",
          "ename": "KeyError",
          "evalue": "ignored",
          "traceback": [
            "\u001b[0;31m---------------------------------------------------------------------------\u001b[0m",
            "\u001b[0;31mKeyError\u001b[0m                                  Traceback (most recent call last)",
            "\u001b[0;32m<ipython-input-121-b41cae771af5>\u001b[0m in \u001b[0;36m<module>\u001b[0;34m\u001b[0m\n\u001b[0;32m----> 1\u001b[0;31m \u001b[0md\u001b[0m\u001b[0;34m[\u001b[0m\u001b[0;36m2\u001b[0m\u001b[0;34m]\u001b[0m\u001b[0;34m\u001b[0m\u001b[0;34m\u001b[0m\u001b[0m\n\u001b[0m",
            "\u001b[0;31mKeyError\u001b[0m: 2"
          ]
        }
      ]
    },
    {
      "cell_type": "markdown",
      "metadata": {
        "pycharm": {
          "name": "#%% md\n"
        },
        "id": "pCMVPsLtquBR"
      },
      "source": [
        "Поскольку в качестве ключа может использоваться любой хэшируемый объект, то можем использовать некоторые (но не все) кортежи и не можем использовать списки:"
      ]
    },
    {
      "cell_type": "code",
      "execution_count": null,
      "metadata": {
        "pycharm": {
          "name": "#%%\n"
        },
        "id": "ItcxqpUkquBR",
        "outputId": "9f4a87e2-28ed-455d-9fa9-8db6fb7b9718"
      },
      "outputs": [
        {
          "data": {
            "text/plain": [
              "'success1!'"
            ]
          },
          "execution_count": 36,
          "metadata": {},
          "output_type": "execute_result"
        }
      ],
      "source": [
        "d[(1, 2, 3)] = 'success1!'\n",
        "d[(1, 2, 3)]"
      ]
    },
    {
      "cell_type": "code",
      "execution_count": null,
      "metadata": {
        "pycharm": {
          "name": "#%%\n"
        },
        "id": "17zOOSUlquBR",
        "outputId": "3a8f7757-a382-431f-9577-4fa6c95b30f1"
      },
      "outputs": [
        {
          "ename": "TypeError",
          "evalue": "unhashable type: 'list'",
          "output_type": "error",
          "traceback": [
            "\u001b[0;31m---------------------------------------------------------------------------\u001b[0m",
            "\u001b[0;31mTypeError\u001b[0m                                 Traceback (most recent call last)",
            "\u001b[0;32m/tmp/ipykernel_3198/2809968259.py\u001b[0m in \u001b[0;36m<module>\u001b[0;34m\u001b[0m\n\u001b[0;32m----> 1\u001b[0;31m \u001b[0md\u001b[0m\u001b[0;34m[\u001b[0m\u001b[0;34m(\u001b[0m\u001b[0;36m1\u001b[0m\u001b[0;34m,\u001b[0m \u001b[0;36m2\u001b[0m\u001b[0;34m,\u001b[0m \u001b[0;34m[\u001b[0m\u001b[0;36m3\u001b[0m\u001b[0;34m]\u001b[0m\u001b[0;34m)\u001b[0m\u001b[0;34m]\u001b[0m \u001b[0;34m=\u001b[0m \u001b[0;34m'success2!'\u001b[0m\u001b[0;34m\u001b[0m\u001b[0;34m\u001b[0m\u001b[0m\n\u001b[0m",
            "\u001b[0;31mTypeError\u001b[0m: unhashable type: 'list'"
          ]
        }
      ],
      "source": [
        "d[(1, 2, [3])] = 'success2!'"
      ]
    },
    {
      "cell_type": "code",
      "execution_count": null,
      "metadata": {
        "pycharm": {
          "name": "#%%\n"
        },
        "id": "WG62IE7zquBR",
        "outputId": "28cb6ccc-f60b-43c6-87b2-bde2c80a0189"
      },
      "outputs": [
        {
          "ename": "TypeError",
          "evalue": "unhashable type: 'list'",
          "output_type": "error",
          "traceback": [
            "\u001b[0;31m---------------------------------------------------------------------------\u001b[0m",
            "\u001b[0;31mTypeError\u001b[0m                                 Traceback (most recent call last)",
            "\u001b[0;32m/tmp/ipykernel_3198/2424507405.py\u001b[0m in \u001b[0;36m<module>\u001b[0;34m\u001b[0m\n\u001b[0;32m----> 1\u001b[0;31m \u001b[0md\u001b[0m\u001b[0;34m[\u001b[0m\u001b[0;34m[\u001b[0m\u001b[0;36m1\u001b[0m\u001b[0;34m,\u001b[0m \u001b[0;36m2\u001b[0m\u001b[0;34m,\u001b[0m \u001b[0;36m3\u001b[0m\u001b[0;34m]\u001b[0m\u001b[0;34m]\u001b[0m \u001b[0;34m=\u001b[0m \u001b[0;34m'success3!'\u001b[0m\u001b[0;34m\u001b[0m\u001b[0;34m\u001b[0m\u001b[0m\n\u001b[0m",
            "\u001b[0;31mTypeError\u001b[0m: unhashable type: 'list'"
          ]
        }
      ],
      "source": [
        "d[[1, 2, 3]] = 'success3!'"
      ]
    },
    {
      "cell_type": "markdown",
      "metadata": {
        "pycharm": {
          "name": "#%% md\n"
        },
        "id": "U6VtpnHjquBR"
      },
      "source": [
        "## set"
      ]
    },
    {
      "cell_type": "markdown",
      "source": [
        "**Множество** - набор уникальных объектов. Можем добавлять и удалять элементы из множества, а также проверять наличие элемента в множестве.\n",
        "\n",
        "Аналогичен `ordered_set` из C++, но может содержать объекты разных типов."
      ],
      "metadata": {
        "id": "0mSZrS6vez1C"
      }
    },
    {
      "cell_type": "code",
      "execution_count": null,
      "metadata": {
        "pycharm": {
          "name": "#%%\n"
        },
        "colab": {
          "base_uri": "https://localhost:8080/"
        },
        "id": "NIdQ5WQ4quBS",
        "outputId": "1ae72146-a1b7-45b4-9047-d826a3bc5af4"
      },
      "outputs": [
        {
          "output_type": "execute_result",
          "data": {
            "text/plain": [
              "{1, 2.0, '3', False, None}"
            ]
          },
          "metadata": {},
          "execution_count": 119
        }
      ],
      "source": [
        "s = {1, 2.0, \"3\", False, None}  # или set(...)\n",
        "s"
      ]
    },
    {
      "cell_type": "markdown",
      "metadata": {
        "pycharm": {
          "name": "#%% md\n"
        },
        "id": "EO_yE-0gquBS"
      },
      "source": [
        "**Замечание** - пустое множество создается только как `set()`, в случае `{}` создастся пустой словарь."
      ]
    },
    {
      "cell_type": "code",
      "execution_count": null,
      "metadata": {
        "pycharm": {
          "name": "#%%\n"
        },
        "id": "V8AJCJ9PquBS",
        "outputId": "86295f0e-ef50-4c4e-ddbc-eaec8952ef1b",
        "colab": {
          "base_uri": "https://localhost:8080/"
        }
      },
      "outputs": [
        {
          "output_type": "execute_result",
          "data": {
            "text/plain": [
              "dict"
            ]
          },
          "metadata": {},
          "execution_count": 111
        }
      ],
      "source": [
        "t = {}\n",
        "type(t)"
      ]
    },
    {
      "cell_type": "markdown",
      "metadata": {
        "pycharm": {
          "name": "#%% md\n"
        },
        "id": "irRd2brKquBS"
      },
      "source": [
        "Для добавления, удаления и проверки наличия элемента в множестве существуют методы `add` и `remove` и оператор `in`:"
      ]
    },
    {
      "cell_type": "code",
      "execution_count": null,
      "metadata": {
        "pycharm": {
          "name": "#%%\n"
        },
        "id": "9x-M8ZHUquBS",
        "outputId": "67ff31da-8b9e-49ee-dbad-2332ff8e9343",
        "colab": {
          "base_uri": "https://localhost:8080/"
        }
      },
      "outputs": [
        {
          "output_type": "execute_result",
          "data": {
            "text/plain": [
              "{-4, 1, 2.0, '3', False, None}"
            ]
          },
          "metadata": {},
          "execution_count": 120
        }
      ],
      "source": [
        "s.add(-4)\n",
        "s"
      ]
    },
    {
      "cell_type": "code",
      "execution_count": null,
      "metadata": {
        "pycharm": {
          "name": "#%%\n"
        },
        "id": "ANuMFgVuquBS",
        "outputId": "a4ea14af-7de6-4aa7-cf9e-875bb26f2654",
        "colab": {
          "base_uri": "https://localhost:8080/"
        }
      },
      "outputs": [
        {
          "output_type": "execute_result",
          "data": {
            "text/plain": [
              "{-4, 1, 2.0, False, None}"
            ]
          },
          "metadata": {},
          "execution_count": 114
        }
      ],
      "source": [
        "s.remove('3')\n",
        "s"
      ]
    },
    {
      "cell_type": "code",
      "execution_count": null,
      "metadata": {
        "pycharm": {
          "name": "#%%\n"
        },
        "id": "u4Ah5TRnquBS",
        "outputId": "b252f025-50e7-4298-9aed-20103393105d",
        "colab": {
          "base_uri": "https://localhost:8080/"
        }
      },
      "outputs": [
        {
          "output_type": "execute_result",
          "data": {
            "text/plain": [
              "True"
            ]
          },
          "metadata": {},
          "execution_count": 115
        }
      ],
      "source": [
        "1 in s"
      ]
    },
    {
      "cell_type": "markdown",
      "metadata": {
        "pycharm": {
          "name": "#%% md\n"
        },
        "id": "J9heAB84quBT"
      },
      "source": [
        "Поскольку множество содержит лишь **уникальные** элементы, то добавление одинаковых элементов не меняет множество: "
      ]
    },
    {
      "cell_type": "code",
      "execution_count": null,
      "metadata": {
        "pycharm": {
          "name": "#%%\n"
        },
        "id": "uJwTRqK4quBT",
        "outputId": "2446e63a-71a7-4e63-f5d3-fe8f85c3f3ce",
        "colab": {
          "base_uri": "https://localhost:8080/"
        }
      },
      "outputs": [
        {
          "output_type": "stream",
          "name": "stdout",
          "text": [
            "{False, 1, 2.0, None, -4}\n",
            "{False, 1, 2.0, None, -4}\n"
          ]
        }
      ],
      "source": [
        "print(s)\n",
        "s.add(1)\n",
        "s.add(1)\n",
        "s.add(2.0)\n",
        "s.add(2.0)\n",
        "print(s)"
      ]
    },
    {
      "cell_type": "markdown",
      "source": [
        "## Приведение контейнеров"
      ],
      "metadata": {
        "id": "vqeYJzkJ9pBL"
      }
    },
    {
      "cell_type": "markdown",
      "source": [
        "Можно изменить тип данных с помощью `set()`, `list()`, `tuple()`:"
      ],
      "metadata": {
        "id": "ToaS8ckM9r4l"
      }
    },
    {
      "cell_type": "code",
      "source": [
        "l = [1, 2, 1, 5, 5, 6]\n",
        "set(l)"
      ],
      "metadata": {
        "colab": {
          "base_uri": "https://localhost:8080/"
        },
        "id": "1_PLvX7w_OcH",
        "outputId": "25a1aaae-fd64-4e19-d418-bad7ee2fe4a6"
      },
      "execution_count": null,
      "outputs": [
        {
          "output_type": "execute_result",
          "data": {
            "text/plain": [
              "{1, 2, 5, 6}"
            ]
          },
          "metadata": {},
          "execution_count": 32
        }
      ]
    },
    {
      "cell_type": "code",
      "source": [
        "t = (1, 5)\n",
        "list(t)"
      ],
      "metadata": {
        "colab": {
          "base_uri": "https://localhost:8080/"
        },
        "id": "7TJkoymc_RSN",
        "outputId": "768b2a76-eb77-4023-9a0f-773b8b7f1ef6"
      },
      "execution_count": null,
      "outputs": [
        {
          "output_type": "execute_result",
          "data": {
            "text/plain": [
              "[1, 5]"
            ]
          },
          "metadata": {},
          "execution_count": 33
        }
      ]
    },
    {
      "cell_type": "code",
      "source": [
        "s = \"abab\"\n",
        "tuple(s)"
      ],
      "metadata": {
        "colab": {
          "base_uri": "https://localhost:8080/"
        },
        "id": "RBnmXnh-_T1-",
        "outputId": "773e8e87-6689-4a86-9607-f415bd30bba7"
      },
      "execution_count": null,
      "outputs": [
        {
          "output_type": "execute_result",
          "data": {
            "text/plain": [
              "('a', 'b', 'a', 'b')"
            ]
          },
          "metadata": {},
          "execution_count": 34
        }
      ]
    },
    {
      "cell_type": "markdown",
      "source": [
        "### Приведение к bool"
      ],
      "metadata": {
        "id": "fySLypeW9rxu"
      }
    },
    {
      "cell_type": "markdown",
      "source": [
        "Для `tuple`, `list`, `set`, `dict`: пустые контейнеры - в `False`, остальное - в `True`:"
      ],
      "metadata": {
        "id": "fRBNIZQt9u2Q"
      }
    },
    {
      "cell_type": "code",
      "source": [
        "bool((1, 2)), bool(())"
      ],
      "metadata": {
        "colab": {
          "base_uri": "https://localhost:8080/"
        },
        "id": "y_v07xzf9y_n",
        "outputId": "00a75724-6287-47ba-b0df-8c2118e4c49c"
      },
      "execution_count": null,
      "outputs": [
        {
          "output_type": "execute_result",
          "data": {
            "text/plain": [
              "(True, False)"
            ]
          },
          "metadata": {},
          "execution_count": 28
        }
      ]
    },
    {
      "cell_type": "code",
      "source": [
        "bool(['x', 'y',]), bool([])"
      ],
      "metadata": {
        "colab": {
          "base_uri": "https://localhost:8080/"
        },
        "id": "xjDE2zKt9y3W",
        "outputId": "abcba65c-1efe-4342-f30a-d917df96c87f"
      },
      "execution_count": null,
      "outputs": [
        {
          "output_type": "execute_result",
          "data": {
            "text/plain": [
              "(True, False)"
            ]
          },
          "metadata": {},
          "execution_count": 29
        }
      ]
    },
    {
      "cell_type": "code",
      "source": [
        "bool({12.5, 45.7}), bool(set())"
      ],
      "metadata": {
        "colab": {
          "base_uri": "https://localhost:8080/"
        },
        "id": "w-SFqBuN9ywC",
        "outputId": "702e0fd7-5ae1-4bd6-957a-131d37002879"
      },
      "execution_count": null,
      "outputs": [
        {
          "output_type": "execute_result",
          "data": {
            "text/plain": [
              "(True, False)"
            ]
          },
          "metadata": {},
          "execution_count": 30
        }
      ]
    },
    {
      "cell_type": "code",
      "source": [
        "bool({'1': 1, '2': '2'}), bool({})"
      ],
      "metadata": {
        "colab": {
          "base_uri": "https://localhost:8080/"
        },
        "id": "deUza58_9ynC",
        "outputId": "b1d3fe59-b89c-4dad-bc80-14d74fdea7f6"
      },
      "execution_count": null,
      "outputs": [
        {
          "output_type": "execute_result",
          "data": {
            "text/plain": [
              "(True, False)"
            ]
          },
          "metadata": {},
          "execution_count": 31
        }
      ]
    },
    {
      "cell_type": "markdown",
      "source": [
        "## Функция len"
      ],
      "metadata": {
        "id": "QuBC-ehMNxQz"
      }
    },
    {
      "cell_type": "markdown",
      "source": [
        "Поскольку контейнеры содержат в себе несколько элементов, хотелось бы узнавать точно это количество. Здесь на помощь приходит функция `len`:"
      ],
      "metadata": {
        "id": "46gMLm3SNzL2"
      }
    },
    {
      "cell_type": "code",
      "source": [
        "string = \"Hello, world!\"\n",
        "\n",
        "print(len(string))"
      ],
      "metadata": {
        "colab": {
          "base_uri": "https://localhost:8080/"
        },
        "id": "iYesjTzUOnHr",
        "outputId": "31459f6a-c189-4c20-85dc-19d6b66542bb"
      },
      "execution_count": null,
      "outputs": [
        {
          "output_type": "stream",
          "name": "stdout",
          "text": [
            "13\n"
          ]
        }
      ]
    },
    {
      "cell_type": "markdown",
      "source": [
        "# Срезы"
      ],
      "metadata": {
        "id": "gW6jadYjLNLV"
      }
    },
    {
      "cell_type": "markdown",
      "source": [
        "В Python имеется удобный способ выбирать диапазон элементов из строк, списков и кортежей. Он называется срез (slicing) и выглядит следующим образом:\n",
        "\n",
        "```python\n",
        "variable[start:stop:step]\n",
        "```\n",
        "где `start` - индекс начала выборки (включается), `stop` - индекс завершения выборки (исключается), `step` - шаг выборки. Если не указывать значения, то берутся значения по умолчанию: `start=0`, `end=len(...)`, `step=1`.\n",
        "\n",
        "Рассмотрим на примере:"
      ],
      "metadata": {
        "id": "woo413yILQic"
      }
    },
    {
      "cell_type": "code",
      "source": [
        "string = \"abcdefgh\"\n",
        "print(string[1:7:2])"
      ],
      "metadata": {
        "colab": {
          "base_uri": "https://localhost:8080/"
        },
        "id": "EVy5QxXBLrNk",
        "outputId": "99bef3e5-b0e4-4be6-d3a5-ad08ac58c9e1"
      },
      "execution_count": null,
      "outputs": [
        {
          "output_type": "stream",
          "name": "stdout",
          "text": [
            "bdf\n"
          ]
        }
      ]
    },
    {
      "cell_type": "markdown",
      "source": [
        "В итоге мы взяли все элементы, начиная с индекса `1` (b) до индекса `7` (h, исключая) с шагом 2.\n",
        "\n",
        "Аналогично срезы работают и для списков и кортежей:"
      ],
      "metadata": {
        "id": "TczNvOmPMGzj"
      }
    },
    {
      "cell_type": "code",
      "source": [
        "lst = [1, 2, 3, 4, 5.0]\n",
        "\n",
        "print(lst[::2])"
      ],
      "metadata": {
        "colab": {
          "base_uri": "https://localhost:8080/"
        },
        "id": "i0zaf-PaMWRN",
        "outputId": "403d31b6-da83-408b-b241-14fe4b726021"
      },
      "execution_count": null,
      "outputs": [
        {
          "output_type": "stream",
          "name": "stdout",
          "text": [
            "[1, 3, 5.0]\n"
          ]
        }
      ]
    },
    {
      "cell_type": "markdown",
      "source": [
        "Полученный срез часто удобно сохранять в отдельную переменную:"
      ],
      "metadata": {
        "id": "5Q7h6bzxOyy-"
      }
    },
    {
      "cell_type": "code",
      "source": [
        "sub_lst = lst[::3]\n",
        "print(sub_lst)"
      ],
      "metadata": {
        "colab": {
          "base_uri": "https://localhost:8080/"
        },
        "id": "bg10rXScOxl7",
        "outputId": "313c5443-9cb3-4f0a-d144-945297512011"
      },
      "execution_count": null,
      "outputs": [
        {
          "output_type": "stream",
          "name": "stdout",
          "text": [
            "[1, 4]\n"
          ]
        }
      ]
    },
    {
      "cell_type": "markdown",
      "source": [
        "Заметим, что шаг необязательно должен быть положительным:"
      ],
      "metadata": {
        "id": "d2EkuA3PPCjz"
      }
    },
    {
      "cell_type": "code",
      "source": [
        "print(lst[::-1])"
      ],
      "metadata": {
        "colab": {
          "base_uri": "https://localhost:8080/"
        },
        "id": "8ki5Sd92PB0l",
        "outputId": "c763fb4c-9291-4812-f300-f3b72581a40b"
      },
      "execution_count": null,
      "outputs": [
        {
          "output_type": "stream",
          "name": "stdout",
          "text": [
            "[5.0, 4, 3, 2, 1]\n"
          ]
        }
      ]
    },
    {
      "cell_type": "markdown",
      "source": [
        "# Оператор `in`"
      ],
      "metadata": {
        "id": "qBMRIVOL9h2v"
      }
    },
    {
      "cell_type": "markdown",
      "source": [
        "Для проверки вхождения объекта в контейнер в Python существует операторы `in` и `not in`:"
      ],
      "metadata": {
        "id": "fO90eRdE-J2W"
      }
    },
    {
      "cell_type": "code",
      "source": [
        "l = [1, 2, 3, 'check', 'mate']\n",
        "print(1 in l, 2 not in l, 'check' in l)"
      ],
      "metadata": {
        "colab": {
          "base_uri": "https://localhost:8080/"
        },
        "id": "5yoNSG1RBK4p",
        "outputId": "00d32830-adc9-44a8-e4c1-4f4d626746db"
      },
      "execution_count": null,
      "outputs": [
        {
          "output_type": "stream",
          "name": "stdout",
          "text": [
            "True False True\n"
          ]
        }
      ]
    },
    {
      "cell_type": "markdown",
      "source": [
        "Его же можно использовать и для проверки вхождения подстроки в строку:"
      ],
      "metadata": {
        "id": "Sd2yJNcMAN8-"
      }
    },
    {
      "cell_type": "code",
      "source": [
        "string = \"hello world\"\n",
        "substring = \"ell\"\n",
        "\n",
        "print(substring in string)"
      ],
      "metadata": {
        "colab": {
          "base_uri": "https://localhost:8080/"
        },
        "id": "pXGtEDbvASfC",
        "outputId": "cd5c7052-6243-4e15-aff5-a1ebe92360d3"
      },
      "execution_count": null,
      "outputs": [
        {
          "output_type": "stream",
          "name": "stdout",
          "text": [
            "True\n"
          ]
        }
      ]
    },
    {
      "cell_type": "markdown",
      "metadata": {
        "pycharm": {
          "name": "#%% md\n"
        },
        "id": "IdfqQgJwquBL"
      },
      "source": [
        "# Почему присваивание со звездочкой?\n",
        "\n",
        "\n"
      ]
    },
    {
      "cell_type": "markdown",
      "source": [
        "В Python по сути нет оператора присваивания в классическом понимании, т.е. оператора который всегда выделяет новую ячейку в памяти и записывает в нее значение. Вместо этого оператор `=` является оператор связывания, который связывает имя переменной с адресом объекта в пямяти."
      ],
      "metadata": {
        "id": "yvX9ORre7_Ph"
      }
    },
    {
      "cell_type": "markdown",
      "source": [
        "### Пример 1"
      ],
      "metadata": {
        "id": "lqdriJ4tDZOk"
      }
    },
    {
      "cell_type": "markdown",
      "source": [
        "Создадим произвольный список `x`:"
      ],
      "metadata": {
        "id": "zrn5vyhvH1t6"
      }
    },
    {
      "cell_type": "code",
      "execution_count": null,
      "metadata": {
        "pycharm": {
          "name": "#%%\n"
        },
        "id": "xNVqYXn5quBL"
      },
      "outputs": [],
      "source": [
        "x = [1, 2, 3]"
      ]
    },
    {
      "cell_type": "markdown",
      "source": [
        "Теперь создадим переменную `y` и присвоим ее `x`, а переменной `z` присвоим то же значение, что и у `x`:"
      ],
      "metadata": {
        "id": "HzBbkAZEIZ2M"
      }
    },
    {
      "cell_type": "code",
      "source": [
        "y = x\n",
        "z = [1, 2, 3]"
      ],
      "metadata": {
        "id": "079eW3WhIpi9"
      },
      "execution_count": null,
      "outputs": []
    },
    {
      "cell_type": "markdown",
      "source": [
        "Воспользуемся функцией `id` и проверим физические адреса в оперативной памяти переменных `x` и `y`:"
      ],
      "metadata": {
        "id": "_TGipUgQIw0n"
      }
    },
    {
      "cell_type": "code",
      "source": [
        "print(id(x), id(y), id(z))"
      ],
      "metadata": {
        "colab": {
          "base_uri": "https://localhost:8080/"
        },
        "id": "C7JAaIeiI4tA",
        "outputId": "e7d205e5-2ab0-48af-8a04-08bf7d808f0f"
      },
      "execution_count": null,
      "outputs": [
        {
          "output_type": "stream",
          "name": "stdout",
          "text": [
            "139644467485984 139644467485984 139644467161280\n"
          ]
        }
      ]
    },
    {
      "cell_type": "markdown",
      "source": [
        "Как видим, адреса у `x` и `y` одинаковые, т.е. они фактически указывают на один и тот же объект."
      ],
      "metadata": {
        "id": "1Uy4IXbUJS21"
      }
    },
    {
      "cell_type": "markdown",
      "source": [
        "Попробуем изменить список `x`:"
      ],
      "metadata": {
        "id": "7WsbxwAzctl0"
      }
    },
    {
      "cell_type": "code",
      "source": [
        "x.append(4)\n",
        "print(x, y, z)"
      ],
      "metadata": {
        "colab": {
          "base_uri": "https://localhost:8080/"
        },
        "id": "TeV_VVHSJeMv",
        "outputId": "42d67691-bc50-4c84-fc0d-53c142e6edd7"
      },
      "execution_count": null,
      "outputs": [
        {
          "output_type": "stream",
          "name": "stdout",
          "text": [
            "[1, 2, 3, 4] [1, 2, 3, 4] [1, 2, 3]\n"
          ]
        }
      ]
    },
    {
      "cell_type": "markdown",
      "metadata": {
        "pycharm": {
          "name": "#%% md\n"
        },
        "id": "bBXopCbGquBL"
      },
      "source": [
        "Как видим, изменилась и переменная `y`, т.к. ссылается на тот же самый участок памяти. "
      ]
    },
    {
      "cell_type": "markdown",
      "source": [
        "## Пример 2"
      ],
      "metadata": {
        "id": "Oib0RSTrdbgp"
      }
    },
    {
      "cell_type": "markdown",
      "source": [
        "Теперь мы поняли, что лучше явно указывать значения переменных, если хотим, чтобы они были независимы. Попробуем явно создать две переменные и посмотрим на их id:"
      ],
      "metadata": {
        "id": "OXr-14Mtddzb"
      }
    },
    {
      "cell_type": "code",
      "source": [
        "x = 13\n",
        "y = 13\n",
        "print(id(x), id(y))"
      ],
      "metadata": {
        "colab": {
          "base_uri": "https://localhost:8080/"
        },
        "id": "4RpFnvr8dvHB",
        "outputId": "225507c1-3931-4b5a-f480-42769ee11087"
      },
      "execution_count": null,
      "outputs": [
        {
          "output_type": "stream",
          "name": "stdout",
          "text": [
            "11256448 11256448\n"
          ]
        }
      ]
    },
    {
      "cell_type": "code",
      "source": [
        "x = -6\n",
        "id(x)"
      ],
      "metadata": {
        "colab": {
          "base_uri": "https://localhost:8080/"
        },
        "id": "XCxxEM4LlBNu",
        "outputId": "114f9406-10d0-4283-bb8a-91f741249e92"
      },
      "execution_count": null,
      "outputs": [
        {
          "output_type": "execute_result",
          "data": {
            "text/plain": [
              "140558737427408"
            ]
          },
          "metadata": {},
          "execution_count": 10
        }
      ]
    },
    {
      "cell_type": "code",
      "source": [
        "x -= 1\n",
        "id(x)"
      ],
      "metadata": {
        "colab": {
          "base_uri": "https://localhost:8080/"
        },
        "id": "xTSCykg0lFAe",
        "outputId": "17a734a1-c8b6-46c1-882a-4232d7675fac"
      },
      "execution_count": null,
      "outputs": [
        {
          "output_type": "execute_result",
          "data": {
            "text/plain": [
              "140558737427792"
            ]
          },
          "metadata": {},
          "execution_count": 11
        }
      ]
    },
    {
      "cell_type": "code",
      "source": [
        "y = -6\n",
        "id(y)"
      ],
      "metadata": {
        "colab": {
          "base_uri": "https://localhost:8080/"
        },
        "id": "qaLJUrdilT7T",
        "outputId": "20d84c7f-464a-4fcb-bde7-060660e2e30c"
      },
      "execution_count": null,
      "outputs": [
        {
          "output_type": "execute_result",
          "data": {
            "text/plain": [
              "140558726399344"
            ]
          },
          "metadata": {},
          "execution_count": 12
        }
      ]
    },
    {
      "cell_type": "markdown",
      "source": [
        "Странно, мы же создали переменные явно несвязанными, тогда почему у них одинаковый id?"
      ],
      "metadata": {
        "id": "vjNtPgb2dzTO"
      }
    },
    {
      "cell_type": "markdown",
      "source": [
        "Это связано с тем, что в Python целые числа от -5 до 256 являются *синглтонами*, т.е. существуют в памяти только в единственном экземпляре. При попытке создать переменную в этом диапазоне в итоге она будет всегда ссылаться на этот объект.\n",
        "\n",
        "Это же верно и для `True`, `False` и `None`."
      ],
      "metadata": {
        "id": "xvXxHBTHd6pD"
      }
    },
    {
      "cell_type": "markdown",
      "source": [
        "# Оператор `is`"
      ],
      "metadata": {
        "id": "epRv-ueKXYdM"
      }
    },
    {
      "cell_type": "markdown",
      "source": [
        "Оператор `is` позволяет сравнивать две переменные и возвращает `True`, если обе переменные ссылаются на одну и ту же область памяти.\n",
        "\n",
        "Другими словами, оператор `is` проверяет идентичность двух переменных."
      ],
      "metadata": {
        "id": "BGrZbbqY1g5p"
      }
    },
    {
      "cell_type": "code",
      "source": [
        "a = 13\n",
        "b = 13\n",
        "print(a is b)"
      ],
      "metadata": {
        "colab": {
          "base_uri": "https://localhost:8080/"
        },
        "id": "pimRgyRU1-cH",
        "outputId": "359c3e12-b170-4ae6-f355-3ed1560a5587"
      },
      "execution_count": null,
      "outputs": [
        {
          "output_type": "stream",
          "name": "stdout",
          "text": [
            "True\n"
          ]
        }
      ]
    },
    {
      "cell_type": "code",
      "source": [
        "a = 40000\n",
        "b = 40000\n",
        "print(a is b)"
      ],
      "metadata": {
        "colab": {
          "base_uri": "https://localhost:8080/"
        },
        "id": "nHjcEKIB2Djf",
        "outputId": "b61ecb01-cdaa-4ed1-e71a-0082280bc361"
      },
      "execution_count": null,
      "outputs": [
        {
          "output_type": "stream",
          "name": "stdout",
          "text": [
            "False\n"
          ]
        }
      ]
    },
    {
      "cell_type": "markdown",
      "metadata": {
        "pycharm": {
          "name": "#%% md\n"
        },
        "id": "_nyQDoisquBY"
      },
      "source": [
        "# Логические операторы"
      ]
    },
    {
      "cell_type": "markdown",
      "source": [
        "Python позволять логические операции:\n",
        "\n",
        "- `and` - логическое И, логическое произведение\n",
        "- `or` - логическое ИЛИ, логическая сумма\n",
        "- `not` - логическое НЕ"
      ],
      "metadata": {
        "id": "GmrGTRYf_rm3"
      }
    },
    {
      "cell_type": "code",
      "execution_count": null,
      "metadata": {
        "pycharm": {
          "name": "#%%\n"
        },
        "id": "XmdFzdRtquBY"
      },
      "outputs": [],
      "source": [
        "a, b = True, False"
      ]
    },
    {
      "cell_type": "code",
      "source": [
        "a and b"
      ],
      "metadata": {
        "colab": {
          "base_uri": "https://localhost:8080/"
        },
        "id": "D5SfOexHATPj",
        "outputId": "d183862c-f081-475f-a223-0c9de7144476"
      },
      "execution_count": null,
      "outputs": [
        {
          "output_type": "execute_result",
          "data": {
            "text/plain": [
              "False"
            ]
          },
          "metadata": {},
          "execution_count": 38
        }
      ]
    },
    {
      "cell_type": "code",
      "source": [
        "a or b"
      ],
      "metadata": {
        "colab": {
          "base_uri": "https://localhost:8080/"
        },
        "id": "hYKSDKRlAQie",
        "outputId": "221e9c2e-751a-4d6b-c766-c4d3a0a8be22"
      },
      "execution_count": null,
      "outputs": [
        {
          "output_type": "execute_result",
          "data": {
            "text/plain": [
              "True"
            ]
          },
          "metadata": {},
          "execution_count": 39
        }
      ]
    },
    {
      "cell_type": "code",
      "source": [
        "not b"
      ],
      "metadata": {
        "colab": {
          "base_uri": "https://localhost:8080/"
        },
        "id": "ID4Z83_gAP8T",
        "outputId": "ead10833-0e90-4be6-a102-e4f84ab56bc0"
      },
      "execution_count": null,
      "outputs": [
        {
          "output_type": "execute_result",
          "data": {
            "text/plain": [
              "True"
            ]
          },
          "metadata": {},
          "execution_count": 36
        }
      ]
    },
    {
      "cell_type": "markdown",
      "metadata": {
        "pycharm": {
          "name": "#%% md\n"
        },
        "id": "7j6pHZG0quBZ"
      },
      "source": [
        "# Операторы сравнения"
      ]
    },
    {
      "cell_type": "markdown",
      "source": [
        "- `<`, `<=` - \"меньше\", \"меньше или равно\"\n",
        "- `>`, `>=` - \"больше\", \"больше или равно\"\n",
        "- `==`, `!=` - \"равно\", \"не равно\""
      ],
      "metadata": {
        "id": "_-iRqumnEOEo"
      }
    },
    {
      "cell_type": "code",
      "execution_count": null,
      "metadata": {
        "pycharm": {
          "name": "#%%\n"
        },
        "id": "zDXk3vzXquBZ",
        "outputId": "3632c5d2-8bb3-4cf6-e58b-397f32d53178",
        "colab": {
          "base_uri": "https://localhost:8080/"
        }
      },
      "outputs": [
        {
          "output_type": "execute_result",
          "data": {
            "text/plain": [
              "True"
            ]
          },
          "metadata": {},
          "execution_count": 42
        }
      ],
      "source": [
        "4 < 5"
      ]
    },
    {
      "cell_type": "code",
      "source": [
        "3 >= 2"
      ],
      "metadata": {
        "colab": {
          "base_uri": "https://localhost:8080/"
        },
        "id": "k7n5RQWXEmcH",
        "outputId": "6556da9e-58c0-4cb1-d263-519aad3e4570"
      },
      "execution_count": null,
      "outputs": [
        {
          "output_type": "execute_result",
          "data": {
            "text/plain": [
              "True"
            ]
          },
          "metadata": {},
          "execution_count": 43
        }
      ]
    },
    {
      "cell_type": "code",
      "source": [
        "1 != 1"
      ],
      "metadata": {
        "colab": {
          "base_uri": "https://localhost:8080/"
        },
        "id": "ohEh-Dh_EnhT",
        "outputId": "9bb9ddc1-adc7-4b88-94d6-039553ceb0dc"
      },
      "execution_count": null,
      "outputs": [
        {
          "output_type": "execute_result",
          "data": {
            "text/plain": [
              "False"
            ]
          },
          "metadata": {},
          "execution_count": 44
        }
      ]
    },
    {
      "cell_type": "markdown",
      "metadata": {
        "pycharm": {
          "name": "#%% md\n"
        },
        "id": "lVO41WlLquBZ"
      },
      "source": [
        "Также можно сравнивать строки, списки и кортежи. Сравнение происходит лексикографически (как в словаре):"
      ]
    },
    {
      "cell_type": "code",
      "execution_count": null,
      "metadata": {
        "pycharm": {
          "name": "#%%\n"
        },
        "id": "nTMo-9HtquBZ",
        "outputId": "18756c84-ef72-4be9-b998-a513b8ef3c78",
        "colab": {
          "base_uri": "https://localhost:8080/"
        }
      },
      "outputs": [
        {
          "output_type": "execute_result",
          "data": {
            "text/plain": [
              "True"
            ]
          },
          "metadata": {},
          "execution_count": 45
        }
      ],
      "source": [
        "'a' < 'b'"
      ]
    },
    {
      "cell_type": "code",
      "source": [
        "'aa' < 'ab'"
      ],
      "metadata": {
        "colab": {
          "base_uri": "https://localhost:8080/"
        },
        "id": "uwYCFHc7Eum9",
        "outputId": "94d411b6-9895-4f4c-eed8-49eb18fb5cb2"
      },
      "execution_count": null,
      "outputs": [
        {
          "output_type": "execute_result",
          "data": {
            "text/plain": [
              "True"
            ]
          },
          "metadata": {},
          "execution_count": 46
        }
      ]
    },
    {
      "cell_type": "code",
      "source": [
        "'aaaa' < 'ab'"
      ],
      "metadata": {
        "colab": {
          "base_uri": "https://localhost:8080/"
        },
        "id": "W6KRrul0EwCB",
        "outputId": "6b35774e-a83a-43f5-d009-01c51cac1bdf"
      },
      "execution_count": null,
      "outputs": [
        {
          "output_type": "execute_result",
          "data": {
            "text/plain": [
              "True"
            ]
          },
          "metadata": {},
          "execution_count": 47
        }
      ]
    },
    {
      "cell_type": "code",
      "source": [
        "[2] < [1, 3]"
      ],
      "metadata": {
        "colab": {
          "base_uri": "https://localhost:8080/"
        },
        "id": "_5FhPw8gFPQZ",
        "outputId": "40788833-0d88-4c93-c569-6165445b8e0c"
      },
      "execution_count": null,
      "outputs": [
        {
          "output_type": "execute_result",
          "data": {
            "text/plain": [
              "False"
            ]
          },
          "metadata": {},
          "execution_count": 51
        }
      ]
    },
    {
      "cell_type": "code",
      "source": [
        "(2,) > (1, 3)"
      ],
      "metadata": {
        "colab": {
          "base_uri": "https://localhost:8080/"
        },
        "id": "sBBS5U2iFzdy",
        "outputId": "82da706b-66c6-4b8a-9c45-b16425464c28"
      },
      "execution_count": null,
      "outputs": [
        {
          "output_type": "execute_result",
          "data": {
            "text/plain": [
              "True"
            ]
          },
          "metadata": {},
          "execution_count": 59
        }
      ]
    },
    {
      "cell_type": "markdown",
      "metadata": {
        "pycharm": {
          "name": "#%% md\n"
        },
        "id": "tpH4ugowquBa"
      },
      "source": [
        "# Побитовые операторы"
      ]
    },
    {
      "cell_type": "markdown",
      "source": [
        "Python позволяет вполнять и побитовые операции:\n",
        "\n",
        "- `&` - побитовое И\n",
        "- `|` - побитовое ИЛИ\n",
        "- `^` - побитовое ИЛИ НЕ (исключающее ИЛИ)\n",
        "- `~` - побитовое НЕ (инвертирование)\n",
        "- `<<` - бинарный сдвиг влево\n",
        "- `>>` - бинарный сдвиг вправо"
      ],
      "metadata": {
        "id": "8OXDxpFTGm7b"
      }
    },
    {
      "cell_type": "code",
      "source": [
        "help(format)"
      ],
      "metadata": {
        "colab": {
          "base_uri": "https://localhost:8080/"
        },
        "id": "VGNj8-2AGvp4",
        "outputId": "ec190f52-a53b-4997-de20-80dfa0ed1044"
      },
      "execution_count": null,
      "outputs": [
        {
          "output_type": "stream",
          "name": "stdout",
          "text": [
            "Help on built-in function format in module builtins:\n",
            "\n",
            "format(value, format_spec='', /)\n",
            "    Return value.__format__(format_spec)\n",
            "    \n",
            "    format_spec defaults to the empty string.\n",
            "    See the Format Specification Mini-Language section of help('FORMATTING') for\n",
            "    details.\n",
            "\n"
          ]
        }
      ]
    },
    {
      "cell_type": "code",
      "execution_count": null,
      "metadata": {
        "pycharm": {
          "name": "#%%\n"
        },
        "id": "Z66ZLsQ3quBa",
        "outputId": "f6ca8188-0bf6-4b7d-851f-f9f6c816d89c",
        "colab": {
          "base_uri": "https://localhost:8080/"
        }
      },
      "outputs": [
        {
          "output_type": "stream",
          "name": "stdout",
          "text": [
            "60 00111100\n",
            "13 00001101\n"
          ]
        }
      ],
      "source": [
        "a, b = 60, 13\n",
        "print(a, format(a, \"08b\"))  # format(x, \"08b\") выдает битовое представление числа\n",
        "print(b, format(b, \"08b\"))"
      ]
    },
    {
      "cell_type": "code",
      "execution_count": null,
      "metadata": {
        "pycharm": {
          "name": "#%%\n"
        },
        "id": "WZXABMAHquBa",
        "outputId": "75bfed05-342d-442e-defa-80e768e5093e",
        "colab": {
          "base_uri": "https://localhost:8080/"
        }
      },
      "outputs": [
        {
          "output_type": "execute_result",
          "data": {
            "text/plain": [
              "(12, '00001100')"
            ]
          },
          "metadata": {},
          "execution_count": 63
        }
      ],
      "source": [
        "a & b, format(a & b, \"08b\")    # bitwise AND"
      ]
    },
    {
      "cell_type": "code",
      "source": [
        "a | b, format(a | b, \"08b\")    # bitwise OR"
      ],
      "metadata": {
        "colab": {
          "base_uri": "https://localhost:8080/"
        },
        "id": "GMQ9ikQjHIHd",
        "outputId": "7e85c566-67c9-4a1a-de42-595dc80da404"
      },
      "execution_count": null,
      "outputs": [
        {
          "output_type": "execute_result",
          "data": {
            "text/plain": [
              "(61, '00111101')"
            ]
          },
          "metadata": {},
          "execution_count": 64
        }
      ]
    },
    {
      "cell_type": "code",
      "source": [
        "a ^ b, format(a ^ b, \"08b\")    # bitwise XOR"
      ],
      "metadata": {
        "colab": {
          "base_uri": "https://localhost:8080/"
        },
        "id": "Btw0pXECHL5v",
        "outputId": "56b4fb66-dca3-4eb0-d5c8-07852e7cdd39"
      },
      "execution_count": null,
      "outputs": [
        {
          "output_type": "execute_result",
          "data": {
            "text/plain": [
              "(49, '00110001')"
            ]
          },
          "metadata": {},
          "execution_count": 65
        }
      ]
    },
    {
      "cell_type": "markdown",
      "metadata": {
        "pycharm": {
          "name": "#%% md\n"
        },
        "id": "lJaK5peIquBa"
      },
      "source": [
        "# Работа с вводом-выводом\n",
        "\n",
        "Для считывания данных из `stdin` (стандартный ввод) используется функция `input()`:"
      ]
    },
    {
      "cell_type": "code",
      "execution_count": null,
      "metadata": {
        "pycharm": {
          "name": "#%%\n"
        },
        "id": "Bm-LfKbwquBa",
        "outputId": "939d23c9-37ab-4742-881e-f549d2b7e16d",
        "colab": {
          "base_uri": "https://localhost:8080/",
          "height": 52
        }
      },
      "outputs": [
        {
          "name": "stdout",
          "output_type": "stream",
          "text": [
            "213567ываыва\n"
          ]
        },
        {
          "output_type": "execute_result",
          "data": {
            "text/plain": [
              "'213567ываыва'"
            ],
            "application/vnd.google.colaboratory.intrinsic+json": {
              "type": "string"
            }
          },
          "metadata": {},
          "execution_count": 125
        }
      ],
      "source": [
        "t = input()\n",
        "t"
      ]
    },
    {
      "cell_type": "code",
      "execution_count": null,
      "metadata": {
        "pycharm": {
          "name": "#%%\n"
        },
        "id": "yiu_rAxOquBa",
        "outputId": "c2ab94a8-8bab-4efb-bd87-5f42dec64aa1",
        "colab": {
          "base_uri": "https://localhost:8080/",
          "height": 52
        }
      },
      "outputs": [
        {
          "name": "stdout",
          "output_type": "stream",
          "text": [
            "Input here: йцукен\n"
          ]
        },
        {
          "output_type": "execute_result",
          "data": {
            "text/plain": [
              "'йцукен'"
            ],
            "application/vnd.google.colaboratory.intrinsic+json": {
              "type": "string"
            }
          },
          "metadata": {},
          "execution_count": 126
        }
      ],
      "source": [
        "s = input(\"Input here: \")\n",
        "s"
      ]
    },
    {
      "cell_type": "markdown",
      "metadata": {
        "pycharm": {
          "name": "#%% md\n"
        },
        "id": "UEMuMeBBquBa"
      },
      "source": [
        "Для вывода данных в `stdout` (стандартный вывод) используется `print()`:"
      ]
    },
    {
      "cell_type": "code",
      "execution_count": null,
      "metadata": {
        "pycharm": {
          "name": "#%%\n"
        },
        "id": "D4IKMP58quBb",
        "outputId": "0530e629-30f7-43ce-adec-d532ea30f1f4"
      },
      "outputs": [
        {
          "name": "stdout",
          "output_type": "stream",
          "text": [
            "spam_and_eggs!"
          ]
        }
      ],
      "source": [
        "print('spam', 'and', 'eggs', end='!', sep='_')"
      ]
    },
    {
      "cell_type": "code",
      "execution_count": null,
      "metadata": {
        "pycharm": {
          "name": "#%%\n"
        },
        "id": "7gTX2BDNquBb",
        "outputId": "f479f0e4-3eae-4504-8b27-6f7e4ac64eaf"
      },
      "outputs": [
        {
          "name": "stdout",
          "output_type": "stream",
          "text": [
            "end"
          ]
        }
      ],
      "source": [
        "print('e', end='')\n",
        "print('n', end='')\n",
        "print('d', end='')"
      ]
    },
    {
      "cell_type": "markdown",
      "metadata": {
        "id": "uBL_ZW1W6ODJ"
      },
      "source": [
        "# Условный оператор\n",
        "\n",
        "В программах часто приходится проверять выполнимость или невыполнимость каких-то условий. Синтаксис следующий\n",
        "\n",
        "```\n",
        "if <условие1 (булевское выражение)> :\n",
        "    <код, который выполнится, если условие верно>\n",
        "elif <условие2 (булевское выражение)>:\n",
        "    <код, который выполнится, если условие1 было неверно, а условие2 верно>\n",
        "else:\n",
        "    <код, который выполнится, если условие1 и условие2 были неверны>\n",
        "```\n",
        "\n",
        "Обратите внимание, что код, который должен выполняться внутри каждого условия, записывается с отступом в 4 пробела от уровня if, elif и else: в питоне области видимости переменных обозначаются отступами.\n",
        "\n",
        "*То есть, отступы позволяют понять, где начинается код, который должен выполняться при выполнении условия в if, и где заканчивается*\n",
        "\n",
        "Рассмотрим пример: пусть в нашем коде есть переменная x. Пусть мы хотим вывести на экран сообщение \"x отрицателен\", если x<0, \"x равен нулю\", если x=0 и \"x положителен\", если x>0. Код будет следующий:"
      ]
    },
    {
      "cell_type": "markdown",
      "metadata": {
        "id": "iCxk-sHJbLG5"
      },
      "source": [
        "вместо булевского выражения можно подставить любой объект, который может быть приведен к типу bool"
      ]
    },
    {
      "cell_type": "code",
      "metadata": {
        "id": "v7qN2EWBWRXJ",
        "colab": {
          "base_uri": "https://localhost:8080/"
        },
        "outputId": "cdee6430-c2c6-438a-db21-1f27e9b5dfc0"
      },
      "source": [
        "a = 1\n",
        "\n",
        "if a > 0:\n",
        "    print(a)\n",
        "\n",
        "\n",
        "\n",
        "\n",
        "    print('hello')"
      ],
      "execution_count": null,
      "outputs": [
        {
          "output_type": "stream",
          "name": "stdout",
          "text": [
            "1\n",
            "hello\n"
          ]
        }
      ]
    },
    {
      "cell_type": "code",
      "metadata": {
        "colab": {
          "base_uri": "https://localhost:8080/"
        },
        "id": "50_bx1UUYrR2",
        "outputId": "56afe1e1-ed86-4942-f65d-f0bd8ae0c3ff"
      },
      "source": [
        "a = 1\n",
        "\n",
        "if a > 0:\n",
        "    print(a)\n",
        "\n",
        "elif a == 0:\n",
        "    print(\"a eq 0\")"
      ],
      "execution_count": null,
      "outputs": [
        {
          "output_type": "stream",
          "name": "stdout",
          "text": [
            "1\n"
          ]
        }
      ]
    },
    {
      "cell_type": "code",
      "metadata": {
        "colab": {
          "base_uri": "https://localhost:8080/"
        },
        "id": "rZh61uULZ9Br",
        "outputId": "4c71facb-3065-4c91-eac8-b5240f911baf"
      },
      "source": [
        "a = 0\n",
        "\n",
        "if a > 0:\n",
        "    print(a)\n",
        "elif a == 0:\n",
        "    print(\"a eq 0\")\n",
        "elif a == -1:\n",
        "    print(\"a eq -1\")\n",
        "else:\n",
        "    print('else')"
      ],
      "execution_count": null,
      "outputs": [
        {
          "output_type": "stream",
          "name": "stdout",
          "text": [
            "a eq 0\n"
          ]
        }
      ]
    },
    {
      "cell_type": "code",
      "metadata": {
        "id": "klx-cmQL6KCR",
        "colab": {
          "base_uri": "https://localhost:8080/"
        },
        "outputId": "e9f3566c-ef36-4eb2-9858-e222d55c9cef"
      },
      "source": [
        "x = 0\n",
        "# определим знак числа\n",
        "\n",
        "if x < 0:\n",
        "    print(\"x отрицателен\")\n",
        "elif x == 0:\n",
        "    print(\"x равен нулю\")\n",
        "elif x > 0:\n",
        "    print(\"x положителен\")\n",
        "    \n",
        "# этот код уже не \"внутри\" else, потому что записан без отступа в 4 пробела. Поэтому он выполнится \n",
        "# в любом случае после отработки if-elif-else\n",
        "print(\"Done\")"
      ],
      "execution_count": null,
      "outputs": [
        {
          "output_type": "stream",
          "name": "stdout",
          "text": [
            "x равен нулю\n",
            "Done\n"
          ]
        }
      ]
    },
    {
      "cell_type": "markdown",
      "metadata": {
        "id": "IHrlrcoG6UJo"
      },
      "source": [
        "Но в `if` можно подставлять и более сложные булевские выражения:"
      ]
    },
    {
      "cell_type": "code",
      "metadata": {
        "id": "nr7PPqG-BSmG"
      },
      "source": [
        "bool(-42)"
      ],
      "execution_count": null,
      "outputs": []
    },
    {
      "cell_type": "code",
      "metadata": {
        "id": "KhF6ZMdjBKmU",
        "colab": {
          "base_uri": "https://localhost:8080/"
        },
        "outputId": "3b7265c6-4eca-4647-afee-9525c48c9151"
      },
      "source": [
        "if True or False:\n",
        "    print('odin')"
      ],
      "execution_count": null,
      "outputs": [
        {
          "output_type": "stream",
          "name": "stdout",
          "text": [
            "odin\n"
          ]
        }
      ]
    },
    {
      "cell_type": "code",
      "metadata": {
        "id": "5b5TPNYV6SJJ",
        "colab": {
          "base_uri": "https://localhost:8080/"
        },
        "outputId": "171f1397-4f7c-47bf-b4ae-b9c20f8edda0"
      },
      "source": [
        "x = 17\n",
        "if x > 14 and x < 21:\n",
        "    print(x)\n",
        "    # тоже выполнится при выполнения условия после if, так как этот код тоже записан с отступом в 4 пробела\n",
        "    print(\"nice\")\n",
        "else:\n",
        "    print(\"not teenager\")"
      ],
      "execution_count": null,
      "outputs": [
        {
          "output_type": "stream",
          "name": "stdout",
          "text": [
            "17\n",
            "nice\n"
          ]
        }
      ]
    },
    {
      "cell_type": "code",
      "source": [
        "x = 17\n",
        "if 14 < x < 21:\n",
        "    print(x)\n",
        "    # тоже выполнится при выполнения условия после if, так как этот код тоже записан с отступом в 4 пробела\n",
        "    print(\"nice\")\n",
        "else:\n",
        "    print(\"not teenager\")"
      ],
      "metadata": {
        "colab": {
          "base_uri": "https://localhost:8080/"
        },
        "id": "2NF2QEAtDFSN",
        "outputId": "73d8f099-6783-4731-9707-4ae1d846f2a5"
      },
      "execution_count": null,
      "outputs": [
        {
          "output_type": "stream",
          "name": "stdout",
          "text": [
            "17\n",
            "nice\n"
          ]
        }
      ]
    },
    {
      "cell_type": "code",
      "metadata": {
        "id": "qqdjB-kC6VeB",
        "colab": {
          "base_uri": "https://localhost:8080/"
        },
        "outputId": "2e8c9633-4ac4-403a-a255-1be698b9bb72"
      },
      "source": [
        "# if внутри if:\n",
        "x = 2\n",
        "y = 5\n",
        "\n",
        "if x == 3:\n",
        "    if y > 6:\n",
        "        # отступ в 4 пробела от внутреннего if\n",
        "        print(\"y greater than 6\")\n",
        "    else:\n",
        "        print(\"y not grater than 6\")\n",
        "        \n",
        "    # отступ в 4 пробела от внешнего if, поэтому код выполнится если x==3 \n",
        "    # и при любом значении y\n",
        "\n",
        "    print(\"x is equal to 3\")"
      ],
      "execution_count": null,
      "outputs": [
        {
          "output_type": "stream",
          "name": "stdout",
          "text": [
            "x is equal to 3\n"
          ]
        }
      ]
    },
    {
      "cell_type": "markdown",
      "metadata": {
        "pycharm": {
          "name": "#%% md\n"
        },
        "id": "MYXhqKPCquBb"
      },
      "source": [
        "# Как запустить программу на Python"
      ]
    },
    {
      "cell_type": "markdown",
      "source": [
        "Сначала нужно установить Python. Проще всего поставить его из магазинов приложений / менеджеров пакетов вашей ОС (Windows Store, App Store, apt, pacman etc)."
      ],
      "metadata": {
        "id": "LWW0k8fuMhg5"
      }
    },
    {
      "cell_type": "markdown",
      "source": [
        "Запустить программу на Python можно несколькими способами:"
      ],
      "metadata": {
        "id": "jtcQTwMHJy2w"
      }
    },
    {
      "cell_type": "markdown",
      "source": [
        "## Интерпретатор из командной строки\n",
        "\n",
        "Самый простой способ. Удобен для небольшой работы, например, когда нужно что-то быстро посчитать (Python как продвинутый научный калькулятор):\n",
        "\n",
        "```bash\n",
        "user@computer:~$ python3\n",
        "Python 3.8.10 (default, Nov 26 2021, 20:14:08)\n",
        "[GCC 9.3.0] on linux\n",
        "Type \"help\", \"copyright\", \"credits\" or \"license\" for more information.\n",
        ">>>   \n",
        "```"
      ],
      "metadata": {
        "id": "DEGaRW9gJXFS"
      }
    },
    {
      "cell_type": "markdown",
      "source": [
        "## Запуск интерпретации файла\n",
        "\n",
        "Второй вариант создания программ на Python - писат код в текстовом редакторе в файл, а затем запускать процесс его интерпретации командой: \n",
        "\n",
        "```bash\n",
        "python hello_world.py\n",
        "```"
      ],
      "metadata": {
        "id": "6cWHmr25JcSk"
      }
    },
    {
      "cell_type": "markdown",
      "source": [
        "## Продвинутые интерпретаторы командной строки\n",
        "\n",
        "Командная строка - не самая удобная среда для разработки. Проект [ipython](https://ipython.org/) улучшает работу в консоли с помощью разных [доработок](https://ipython.readthedocs.io/en/stable/interactive/python-ipython-diff.html), например, возможности дополнения кода (tab-completion).\n",
        "\n",
        "<div><img src=\"https://s3-us-west-1.amazonaws.com/plotly-tutorials/plotly-documentation/images/ipython-console.png\" height=300px/></div>\n",
        "\n",
        "*Source: [Plotly](https://plotly.com/python/ipython-vs-python/)*\n",
        "\n",
        "Дальнейшим развитием ipython стал [Jupyter Notebook](https://jupyter.org/), который по сути вы сейчас и используете. Он позволяет выполнять редактирование кода в окне браузера (в том числе на удаленном сервере) и вставлять не только ячейки с кодом на Python, но и с markdown (облегченный язык разметки текста, см. [туториал](https://www.markdownguide.org/cheat-sheet/))."
      ],
      "metadata": {
        "id": "eB5LjY0YLwJ2"
      }
    },
    {
      "cell_type": "markdown",
      "source": [
        "## Базовая среда разработка\n",
        "\n",
        "Одна из самых простых IDE (Integrated Development Environment, интегрированная среда разработки) - [IDLE](https://docs.python.org/3/library/idle.html). Название с одной стороны является искажением IDE (с добавлением Learning), а с другой - отсылка на комика из группы \"Монти Пайтон\" Эрика Айдла.\n",
        "\n",
        "<div><img src=\"https://upload.wikimedia.org/wikipedia/commons/4/45/IDLE_%D0%B4%D0%BB%D1%8F_windows.jpg\"></div>\n",
        "\n",
        "*Source: [Wiki](https://ru.wikipedia.org/wiki/IDLE#/media/%D0%A4%D0%B0%D0%B9%D0%BB:IDLE_%D0%B4%D0%BB%D1%8F_windows.jpg)*\n",
        "\n",
        "**Занимательный факт** - IDLE написан на Python с использованием библиотеки tkinter.\n",
        "\n"
      ],
      "metadata": {
        "id": "-KTItLFpJhNl"
      }
    },
    {
      "cell_type": "markdown",
      "source": [
        "## Продвинутые IDE\n",
        "\n",
        "Создавать большие продвинутые проекты на Python в командной строке, обычном текстовом редакторе и даже в IDLE не очень удобно - хотелось бы иметь многие инструменты, такие как поддердка VCS, продвинутое автодополнение, дебаггинг, возможности рефакторинга и т.д. Здесь на помощь приходит [PyCharm](https://www.jetbrains.com/ru-ru/pycharm/).\n",
        "\n",
        "<div><img src=\"https://www.jetbrains.com/lp/pycharm-pro/static/1-go-to-declaration-8637ad4640eeb0b1f807592885d7ffbf.png\"></div>\n",
        "\n",
        "*Source: [JetBrains](https://www.jetbrains.com/lp/pycharm-pro/static/1-go-to-declaration-8637ad4640eeb0b1f807592885d7ffbf.png)*\n",
        "\n",
        "У JetBrains имеется бесплатная версия PyCharm Community Edition, которой более чем хватит для обучения.\n",
        "\n"
      ],
      "metadata": {
        "id": "3iB7Dw3PJiRn"
      }
    }
  ],
  "metadata": {
    "celltoolbar": "Слайд-шоу",
    "kernelspec": {
      "display_name": "Python 3 (ipykernel)",
      "language": "python",
      "name": "python3"
    },
    "language_info": {
      "codemirror_mode": {
        "name": "ipython",
        "version": 3
      },
      "file_extension": ".py",
      "mimetype": "text/x-python",
      "name": "python",
      "nbconvert_exporter": "python",
      "pygments_lexer": "ipython3",
      "version": "3.9.5"
    },
    "colab": {
      "provenance": []
    }
  },
  "nbformat": 4,
  "nbformat_minor": 0
}